{
 "cells": [
  {
   "cell_type": "code",
   "execution_count": null,
   "metadata": {
    "collapsed": false,
    "slideshow": {
     "slide_type": "skip"
    }
   },
   "outputs": [],
   "source": [
    "%%HTML\n",
    "<style>\n",
    ".output_png {\n",
    "    display: table-cell;\n",
    "    text-align: center;\n",
    "    vertical-align: middle;\n",
    "}\n",
    "\n",
    "body:after {\n",
    "background-image: url('lincs.png');\n",
    "background-size: 200px 100px;\n",
    "position: fixed;\n",
    "bottom: 1em;\n",
    "right: 8em;\n",
    "width: 200px; \n",
    "height: 100px;\n",
    "content:\"\";\n",
    "}\n",
    "</style> "
   ]
  },
  {
   "cell_type": "code",
   "execution_count": null,
   "metadata": {
    "collapsed": false,
    "slideshow": {
     "slide_type": "skip"
    }
   },
   "outputs": [],
   "source": [
    "%pylab inline\n",
    "xkcd()\n",
    "rcParams['figure.facecolor'] = (0,0,0,0)"
   ]
  },
  {
   "cell_type": "markdown",
   "metadata": {
    "nbpresent": {
     "id": "4b2ef57f-1b33-4ac8-abd3-d98255e23229"
    },
    "slideshow": {
     "slide_type": "slide"
    }
   },
   "source": [
    "# Small-Worlds & Co\n",
    "\n",
    "## Céline Comte, Fabien Mathieu\n",
    "\n",
    "### ACN Master"
   ]
  },
  {
   "cell_type": "markdown",
   "metadata": {
    "nbpresent": {
     "id": "c8d009fc-bc3c-4ac5-be9e-84b62f84a295"
    },
    "slideshow": {
     "slide_type": "subslide"
    }
   },
   "source": [
    "# Roadmap\n",
    "\n",
    "## 1. Introduction\n",
    "\n",
    "## 2. Taxonomy\n",
    "\n",
    "## 3. Properties and models"
   ]
  },
  {
   "cell_type": "markdown",
   "metadata": {
    "nbpresent": {
     "id": "8dbeba17-fd12-4a8e-91c5-6353a232a28a"
    },
    "slideshow": {
     "slide_type": "slide"
    }
   },
   "source": [
    "# Introduction\n",
    "\n",
    "## It's a Small-World after all!"
   ]
  },
  {
   "cell_type": "markdown",
   "metadata": {
    "nbpresent": {
     "id": "f0696e84-cc8b-4c01-a11d-eaf77544ad5b"
    },
    "slideshow": {
     "slide_type": "slide"
    }
   },
   "source": [
    "# The Small-World Effect\n",
    "\n",
    "<center><img style=\"float:right; width:30vw; margin: 20px\" src=\"disney.jpg\"></center>\n",
    "## Two strangers meet somewhere...\n",
    "- As they talk they discover a mutual friend!\n",
    "- What are the odds?\n",
    "    - Small but memorable (cognitive bias)?\n",
    "    - Greater than you think? Why?\n",
    "\n"
   ]
  },
  {
   "cell_type": "markdown",
   "metadata": {
    "nbpresent": {
     "id": "89d26ec7-1c06-4aa3-9b6e-f3df184ea702"
    },
    "slideshow": {
     "slide_type": "subslide"
    }
   },
   "source": [
    "# The Small-World Effect: origins\n",
    "\n",
    "### *Chain-Links*, Frigyes Karinthy, 1929"
   ]
  },
  {
   "cell_type": "markdown",
   "metadata": {
    "nbpresent": {
     "id": "1b8d8254-37ec-40e5-b757-d978f1506b85"
    },
    "slideshow": {
     "slide_type": "-"
    }
   },
   "source": [
    "- Technology turns the world into a global village\n",
    "- First version of the *six degrees of separation*"
   ]
  },
  {
   "cell_type": "markdown",
   "metadata": {
    "nbpresent": {
     "id": "aa5d73e5-a889-4f78-8446-64f9e128f09f"
    },
    "slideshow": {
     "slide_type": "-"
    }
   },
   "source": [
    "<div style=\"position:relative; width:80vw; height:480px; margin:0 auto;\">\n",
    "<blockquote class=\"fragment fade-out\" data-fragment-index=\"0\" width=\"80vw\" height=\"300\" style=\"position:absolute;top:0;left:0;\" >\n",
    "Planet Earth has never been as *tiny* as it is now. It shrunk - relatively speaking of course - due to the quickening pulse of both physical and verbal communication. This topic has come up before, but we had never framed it quite this way. We never talked about the fact that anyone on Earth, at my or anyone's will, can now learn in just a few minutes what I think or do, and what I want or what I would like to do. If I wanted to convince myself of the above fact: in couple of days I could be - *Hocus pocus!* - where I want to be.\n",
    "</blockquote>  \n",
    "<blockquote class=\"fragment fade-in\" data-fragment-index=\"0\" width=\"80vw\" height=\"300\" style=\"position:absolute;top:0;left:0;\" >\n",
    "One of us suggested performing the following experiment to prove that the population of the Earth is closer together now than they have ever been before. We should select any person from the 1.5 billion inhabitants of the Earth - anyone, anywhere at all. He bet us that, using no more than five individuals, one of whom is a personal acquaintance, he could contact the selected individual using nothing except the network of personal acquaintances.\n",
    "</blockquote>\n",
    "</div>"
   ]
  },
  {
   "cell_type": "markdown",
   "metadata": {
    "nbpresent": {
     "id": "22ab30f7-415e-43a7-9af1-35ed77516975"
    },
    "slideshow": {
     "slide_type": "subslide"
    }
   },
   "source": [
    "# The Small-World Effect: origins\n",
    "\n",
    "### *Chain-Links*, Frigyes Karinthy, 1929\n",
    "\n",
    "- Technology turns the world into a global village\n",
    "- First version of the *six degrees of separation*\n",
    "- How should it work?\n",
    "\n",
    "### Finding a Nobel Prize\n",
    "\n",
    "1. I play tennis with *Béla Kehrling* who plays tennis with\n",
    "2. *King Gustav of Sweden* who gave the Nobel Prize to\n",
    "3. *Selma Lagerlöf*\n"
   ]
  },
  {
   "cell_type": "markdown",
   "metadata": {
    "nbpresent": {
     "id": "43a8d5cd-f86c-4b74-b9fe-28b21bb8023b"
    },
    "slideshow": {
     "slide_type": "subslide"
    }
   },
   "source": [
    "# The Small-World Effect: origins\n",
    "\n",
    "### *Chain-Links*, Frigyes Karinthy, 1929\n",
    "\n",
    "- Technology turns the world into a global village\n",
    "- First version of the *six degrees of separation*\n",
    "- How should it work?\n",
    "\n",
    "### Finding an anonymous riveter at the Ford Company\n",
    "\n",
    "1. I have a friend called *Árpád Páztor* who is friend with\n",
    "2. the *director of Hearst publishing* who plays tennis with\n",
    "3. *Henry Ford* who is the boss of\n",
    "4. the riveter's *foreman* who is the boss of\n",
    "5. the *riveter*.\n"
   ]
  },
  {
   "cell_type": "markdown",
   "metadata": {
    "nbpresent": {
     "id": "340855f5-29c3-4929-bfca-2eaf33e21d00"
    },
    "slideshow": {
     "slide_type": "slide"
    }
   },
   "source": [
    "# The Small-World Effect: scientists like that!\n",
    "\n",
    "\n",
    "### *Contacts and Influence*, Pool & Kochen, 1950's\n",
    "- Probability that two strangers have a mutual friend?\n",
    "- If none, how long would the *chain-link* be?\n",
    "- Can we understand underlying causes?"
   ]
  },
  {
   "cell_type": "markdown",
   "metadata": {
    "nbpresent": {
     "id": "a11eb82e-e9c4-40ca-8388-d6ba4c9ddb2a"
    },
    "slideshow": {
     "slide_type": "subslide"
    }
   },
   "source": [
    "# The Small-World Effect: experiments\n",
    "\n",
    "### Milgram #1 experiment: an interlude\n",
    "\n",
    "- Stanley Milgram (1933-1984): social psychologist\n",
    "- Known for experiments on obedience (1960-1963)\n",
    "    - 60% of *success* (average)\n",
    "    - Up to 92.5% (37/40) for some settings\n",
    "    - I as in Icarus (French Movie with Yves Montand)"
   ]
  },
  {
   "cell_type": "code",
   "execution_count": null,
   "metadata": {
    "collapsed": false,
    "hide_input": true,
    "slideshow": {
     "slide_type": "-"
    }
   },
   "outputs": [],
   "source": [
    "%%HTML\n",
    "<iframe width=\"560\" height=\"315\" src=\"https://www.dailymotion.com/embed/video/xak9gu\" frameborder=\"0\" allowfullscreen></iframe>'"
   ]
  },
  {
   "cell_type": "markdown",
   "metadata": {
    "slideshow": {
     "slide_type": "subslide"
    }
   },
   "source": [
    "# The Small-World Effect: experiments"
   ]
  },
  {
   "cell_type": "markdown",
   "metadata": {
    "cell_style": "split",
    "slideshow": {
     "slide_type": "-"
    }
   },
   "source": [
    "### Stanley Milgram's 1967 experiment\n",
    "- Goal: demonstrate *six degrees*\n",
    "- Protocol:\n",
    "    - A letter must reach *someone*\n",
    "        - name,\n",
    "        - profession,\n",
    "        - town (in the US)\n",
    "\t- Transmit it through acquaintances (known on a first-name basis)"
   ]
  },
  {
   "cell_type": "markdown",
   "metadata": {
    "cell_style": "split",
    "nbpresent": {
     "id": "33293cf0-0c19-4c9b-a935-23b834110ebf"
    },
    "slideshow": {
     "slide_type": "-"
    }
   },
   "source": [
    "    \n",
    "<center><img style=\"width:30vw; margin: 2px\" src=\"Six_degrees_of_separation_01.png\"/></center>"
   ]
  },
  {
   "cell_type": "markdown",
   "metadata": {
    "nbpresent": {
     "id": "248f6853-4618-401e-907e-92a2332bffc6"
    },
    "slideshow": {
     "slide_type": "subslide"
    }
   },
   "source": [
    "# The Small-World Effect: experiments\n",
    "\n",
    "\n",
    "### Mixed Results\n",
    "\n",
    "- One chain with 3 hops\n",
    "\n",
    "- Average length of 8 hops"
   ]
  },
  {
   "cell_type": "markdown",
   "metadata": {
    "nbpresent": {
     "id": "09b1f237-5659-4146-bc55-49de8f35987f"
    },
    "slideshow": {
     "slide_type": "fragment"
    }
   },
   "source": [
    "- 3 successes only (5%)"
   ]
  },
  {
   "cell_type": "markdown",
   "metadata": {
    "slideshow": {
     "slide_type": "subslide"
    }
   },
   "source": [
    "# The Small-World Effect: experiments"
   ]
  },
  {
   "cell_type": "markdown",
   "metadata": {
    "cell_style": "split",
    "slideshow": {
     "slide_type": "-"
    }
   },
   "source": [
    "### Mixed Results\n",
    "\n",
    "- Experiments \\#2 and \\#3: failures (unpublished)\n",
    "- Experiment \\#4: 44/160\n",
    "- Goes better and better (*An Experimental Study of the Small World Problem, 1969*)."
   ]
  },
  {
   "cell_type": "code",
   "execution_count": null,
   "metadata": {
    "cell_style": "split",
    "collapsed": false,
    "hide_input": true,
    "slideshow": {
     "slide_type": "-"
    }
   },
   "outputs": [],
   "source": [
    "    fig = figure(figsize=(7.0,5))\n",
    "    ax = axes()\n",
    "    ax.patch.set_alpha(0)\n",
    "    n = arange(12)\n",
    "    c = [0, 2, 3, 8, 14, 8, 16, 6, 2, 2, 3, 0]\n",
    "    plot(n, c, \"k-o\")\n",
    "    title(\"Travers & Milgram, 1969\")\n",
    "    xlabel(\"Number of Intermediaries\")\n",
    "    ylabel(\"Number of Chains\")\n",
    "    ylim([0, 20])\n",
    "    show()"
   ]
  },
  {
   "cell_type": "markdown",
   "metadata": {
    "slideshow": {
     "slide_type": "slide"
    }
   },
   "source": [
    "# The Small-World Effect: celebrity\n",
    "\n",
    "### *Six Degrees of Separation*, John Guare, 1990\n",
    "\n",
    "> I read somewhere that everybody on this planet is separated by only six other people. Six degrees of separation between us and everyone else on this planet. The President of the United States, a gondolier in Venice, just fill in the names. I find it\n",
    "- extremely comforting that we're so close\n",
    "- like Chinese water torture that we're so close because **you have to find** the right six people to make the right connection"
   ]
  },
  {
   "cell_type": "markdown",
   "metadata": {
    "slideshow": {
     "slide_type": "subslide"
    }
   },
   "source": [
    "# The Small-World Effect: games\n",
    "\n",
    "### The Erdös number\n",
    "\n",
    "- Paul Erdös (1913-1996), influential, *multidisciplinary*, *prolific* mathematician:\n",
    "    - More than 1500 papers,\n",
    "    - More than 500 co-authors\n",
    "- *And what is your Erdös number?*, Casper Goffman, 1969\n",
    "- Rule: co-authorship\n",
    "\n",
    "<img style=\"float:left; width:34vw; margin: 20px\" src=\"erdos.png\">\n",
    "<img style=\"float:center; width:34vw; margin: 20px\" src=\"myernumber.png\">"
   ]
  },
  {
   "cell_type": "markdown",
   "metadata": {
    "slideshow": {
     "slide_type": "subslide"
    }
   },
   "source": [
    "# The Small-World Effect: games\n",
    "\n",
    "### Six Degrees of Kevin Bacon\n",
    "\n",
    "- Kevin Bacon (1958?-), plays in lots of movies (79 credits)\n",
    "- *Kevin Bacon is the Center of the Universe*, 1994\n",
    "- Rule: play in the same movie\n",
    "\n",
    "<img style=\"float:left; width:37vw; margin: 2px\" src=\"bacon.jpg\">\n",
    "<img style=\"float:right; width:37vw; margin: 2px\" src=\"bacongame.png\">"
   ]
  },
  {
   "cell_type": "markdown",
   "metadata": {
    "slideshow": {
     "slide_type": "subslide"
    }
   },
   "source": [
    "# The Small-World Effect: games\n",
    "\n",
    "### The Erdös-Bacon-Sabbath game\n",
    "\n",
    "-  Rule: find People with low (finite) sum of\n",
    "    - Erdös number\n",
    "    - Kevin Bacon number\n",
    "    - Black Sabbath number (musical collaborations)\n",
    "\n",
    "<center><img style=\"width:40vw; margin: 20px\" src=\"ebs.jpg\"></center>"
   ]
  },
  {
   "cell_type": "markdown",
   "metadata": {
    "slideshow": {
     "slide_type": "subslide"
    }
   },
   "source": [
    "# The Small-World Effect: games\n",
    "\n",
    "### The Erdös-Bacon-Sabbath game\n",
    "\n",
    "-  Rule: find People with low (finite) sum of\n",
    "    - Erdös number\n",
    "    - Kevin Bacon number\n",
    "    - Black Sabbath number (musical collaborations)\n",
    "\n",
    "- Surprising results\n",
    "    - Albert Einstein (2+4+5)\n",
    "    - Condoleeza Rice (6+3+4)\n",
    "    - Natalie Portman (5+2+3)\n",
    "    - Stephen Hawking (4+2+2)\n",
    "    - Terry Pratchett (4+2+3)\n"
   ]
  },
  {
   "cell_type": "markdown",
   "metadata": {
    "slideshow": {
     "slide_type": "slide"
    }
   },
   "source": [
    "# The Small-World Effect: scientists love that!\n",
    "\n",
    "End of 90's, Watts & Strogatz revived small-world studies\n",
    "- Social networks easier to obtain\n",
    "    - IMDB (thanks to Kevin)\n",
    "    - Co-autorship (thanks to Paul)\n",
    "- Curiousity and Crickets\n",
    "- Computer Science / Maths approach\n",
    "- *Collective dynamics of small-world networks*, Nature, 1998\n",
    ">We hope that our work will stimulate further studies of small-world networks (...). Although small-world architecture has not received much attention, we suggest that it will probably turn out to be widespread in biological, social and made-made systems, often with important dynamical consequences."
   ]
  },
  {
   "cell_type": "markdown",
   "metadata": {
    "slideshow": {
     "slide_type": "subslide"
    }
   },
   "source": [
    "# The Small-World Effect: today\n",
    "\n",
    "- Acces to real, large, social networks\n",
    "    - Facebook\n",
    "    - Twitter\n",
    "    - ...\n",
    "- Big economic stakes\n",
    "- Very active research field for more than 15 years"
   ]
  },
  {
   "cell_type": "markdown",
   "metadata": {
    "slideshow": {
     "slide_type": "slide"
    }
   },
   "source": [
    "# Taxonomy"
   ]
  },
  {
   "cell_type": "markdown",
   "metadata": {
    "slideshow": {
     "slide_type": "slide"
    }
   },
   "source": [
    "# Three close worlds\n",
    "\n",
    "### Social Networks\n",
    "\n",
    "Graphs representing social interactions (local choices)\n",
    "\n",
    "### Real-World graphs\n",
    "\n",
    "Graphs from real networks (biology, infrastructures, CS)\n",
    "\n",
    "### Small-Worlds\n",
    "\n",
    "Graphs with properties that have been observed in most social networks (and in some real-world graphs)\n",
    "\n",
    "All graphs are not small-worlds\n",
    "- Family tree, organization chart\n",
    "- New-York streets"
   ]
  },
  {
   "cell_type": "markdown",
   "metadata": {
    "slideshow": {
     "slide_type": "slide"
    }
   },
   "source": [
    "# Examples of Small-Worlds\n",
    "\n",
    "### Social Networks\n",
    "\n",
    "- Facebook\n",
    "- Twitter\n",
    "- Specific communities\n",
    "    - actors\n",
    "    - researchers\n",
    "    - musicians\n",
    "- Web (to some extend)"
   ]
  },
  {
   "cell_type": "markdown",
   "metadata": {
    "slideshow": {
     "slide_type": "subslide"
    }
   },
   "source": [
    "# Examples of Small-Worlds\n",
    "\n",
    "### Real-World graphs\n",
    "\n",
    "- C. Elegans *brain* (302 neurons)\n",
    "- Electrical power grid\n",
    "- Airport network\n",
    "- Distributed Hash Tables"
   ]
  },
  {
   "cell_type": "markdown",
   "metadata": {
    "slideshow": {
     "slide_type": "subslide"
    }
   },
   "source": [
    "# Examples of Small-Worlds\n",
    "\n",
    "### Artificial models\n",
    "\n",
    "- Albert & Barabasi's preferential attachment\n",
    "- Watts & Strogatz' ring\n",
    "- Kleinberg's grid\n",
    "- etc..."
   ]
  },
  {
   "cell_type": "markdown",
   "metadata": {
    "slideshow": {
     "slide_type": "slide"
    }
   },
   "source": [
    "# Properties and models"
   ]
  },
  {
   "cell_type": "markdown",
   "metadata": {
    "slideshow": {
     "slide_type": "slide"
    }
   },
   "source": [
    "# Properties of Small-Worlds\n",
    "\n",
    "Six properties characterize small-worlds:\n",
    "- Large number of nodes \n",
    "- Low density\n",
    "- Short distances\n",
    "- Scale-free\n",
    "- High Clustering\n",
    "- Navigable"
   ]
  },
  {
   "cell_type": "markdown",
   "metadata": {
    "slideshow": {
     "slide_type": "subslide"
    }
   },
   "source": [
    "# Properties of Small-Worlds\n",
    "\n",
    "Six properties characterize small-worlds:\n",
    "- **Large number of nodes** \n",
    "- Low density\n",
    "- Short distances\n",
    "- Scale-free\n",
    "- High Clustering\n",
    "- Navigable\n",
    " \n",
    "Small-Worlds are **not** small!"
   ]
  },
  {
   "cell_type": "markdown",
   "metadata": {
    "slideshow": {
     "slide_type": "subslide"
    }
   },
   "source": [
    "# Properties of Small-Worlds\n",
    "\n",
    "Six properties characterize small-worlds:\n",
    "- Large number of nodes \n",
    "- **Low density**\n",
    "- Short distances\n",
    "- Scale-free\n",
    "- High Clustering\n",
    "- Navigable\n",
    "\n",
    "Average degree is low, $O(1)$ or $O(\\log(n))$"
   ]
  },
  {
   "cell_type": "markdown",
   "metadata": {
    "slideshow": {
     "slide_type": "subslide"
    }
   },
   "source": [
    "# Properties of Small-Worlds\n",
    "\n",
    "Six properties characterize small-worlds:\n",
    "- Large number of nodes \n",
    "- Low density\n",
    "- **Short distances**\n",
    "- Scale-free\n",
    "- High Clustering\n",
    "- Navigable\n",
    "\n",
    "Distance between nodes is low: $O(\\log n)$"
   ]
  },
  {
   "cell_type": "markdown",
   "metadata": {
    "slideshow": {
     "slide_type": "subslide"
    }
   },
   "source": [
    "# Properties of Small-Worlds\n",
    "\n",
    "Six properties characterize small-worlds:\n",
    "- Large number of nodes \n",
    "- Low density\n",
    "- Short distances\n",
    "- **Scale-free**\n",
    "- High Clustering\n",
    "- Navigable\n",
    "\n",
    "Degree distribution is Heavy-Tail:\n",
    "- A few nodes are far more connected than others\n",
    "- Example: Power Law ($ \\approx K \\frac{1}{d^\\alpha}$ nodes of degree $ d $)"
   ]
  },
  {
   "cell_type": "markdown",
   "metadata": {
    "slideshow": {
     "slide_type": "subslide"
    }
   },
   "source": [
    "# Properties of Small-Worlds\n",
    "\n",
    "Six properties characterize small-worlds:\n",
    "- Large number of nodes \n",
    "- Low density\n",
    "- Short distances\n",
    "- Scale-free\n",
    "- **High Clustering**\n",
    "- Navigable\n",
    "\n",
    "\n",
    "Clustering coefficient: probability of triangles in the graph\n",
    "- High: compared to equivalent graph with totally random edges\n",
    "- Indicator of the *mutual friend* paradox"
   ]
  },
  {
   "cell_type": "markdown",
   "metadata": {
    "slideshow": {
     "slide_type": "subslide"
    }
   },
   "source": [
    "# Properties of Small-Worlds\n",
    "\n",
    "Six properties characterize small-worlds:\n",
    "- Large number of nodes \n",
    "- Low density\n",
    "- Short distances\n",
    "- Scale-free\n",
    "- High Clustering\n",
    "- **Navigable**\n",
    "\n",
    "**you have to find** the right six people\n",
    "- Navigability: nodes successfully find short paths\n",
    "- Explains the Milgram experiment\n",
    " "
   ]
  },
  {
   "cell_type": "markdown",
   "metadata": {
    "slideshow": {
     "slide_type": "subslide"
    }
   },
   "source": [
    "# Properties of Small-Worlds\n",
    "\n",
    "Six properties characterize small-worlds:\n",
    "- Large number of nodes \n",
    "- Low density\n",
    "- Short distances\n",
    "- Scale-free\n",
    "- High Clustering\n",
    "- Navigable \n",
    " \n",
    "Not all are required to qualify as a small-world:\n",
    "- Minimum : size, density, distances, and one more\n",
    "- Most social networks have the first 5\n",
    "- Intuition: properties come from the way interactions are made."
   ]
  },
  {
   "cell_type": "markdown",
   "metadata": {
    "slideshow": {
     "slide_type": "slide"
    }
   },
   "source": [
    "# Heavy tail distribution: definition\n",
    "\n",
    "### Degree distribution\n",
    "\n",
    "Gives for each degree $ d $ the proportion $ P(d) $ of nodes (probability) that have degree $ d $."
   ]
  },
  {
   "cell_type": "markdown",
   "metadata": {
    "slideshow": {
     "slide_type": "fragment"
    }
   },
   "source": [
    "**Remark:** Average degree is $ D=\\sum_{d\\geq 1} dP(d) $"
   ]
  },
  {
   "cell_type": "markdown",
   "metadata": {
    "slideshow": {
     "slide_type": "fragment"
    }
   },
   "source": [
    "### Heavy tail distribution\n",
    "\n",
    "- There exist nodes with a very high degree compared to $ D $.\n",
    "- Not verified by usual random distributions: binomial, Poisson, geometric, ...\n",
    "- Verified by power law distribution : $ P(d)=\\frac{K}{d^\\alpha} $\n",
    "- Warning, it is very easy to tell stupid things when dealing with heavy tail distributions."
   ]
  },
  {
   "cell_type": "markdown",
   "metadata": {
    "slideshow": {
     "slide_type": "subslide"
    }
   },
   "source": [
    "# Heavy tail distribution: intuition\n",
    "\n",
    "### Algorithm (preferential attachment)\n",
    "\n",
    "- Start with two connected nodes (each has degree 1)\n",
    "- Add one (disconnected) new node\n",
    "- Choose an existing node at random *according to the degree distribution*\n",
    "- Connect the two nodes\n",
    "- Iterate...\n",
    "\n",
    "(Will be detailed in the Power Law course.)"
   ]
  },
  {
   "cell_type": "markdown",
   "metadata": {
    "slideshow": {
     "slide_type": "subslide"
    }
   },
   "source": [
    "# Heavy tail distribution: intuition\n",
    "\n",
    "### Preferential attachment\n",
    "- Was introduced by Albert and Barabasi to model the growth of a network.\n",
    "- Motivation: degree $ \\approx $ popularity"
   ]
  },
  {
   "cell_type": "markdown",
   "metadata": {
    "slideshow": {
     "slide_type": "fragment"
    }
   },
   "source": [
    "### Properties of the resulting graph:\n",
    "\n",
    "- Average popularity stays bounded: $ D \\rightarrow 2 $.\n",
    "- The popularity distribution converges to a power law."
   ]
  },
  {
   "cell_type": "markdown",
   "metadata": {
    "slideshow": {
     "slide_type": "fragment"
    }
   },
   "source": [
    "### Interpretation\n",
    "\n",
    "Models a snowball effect: *the rich get richer*."
   ]
  },
  {
   "cell_type": "markdown",
   "metadata": {
    "slideshow": {
     "slide_type": "subslide"
    }
   },
   "source": [
    "# Heavy-tail distribution: take-away\n",
    "\n",
    "### Preferential attachment\n",
    "\n",
    "- Models the growth of a network\n",
    "- Was introduced by Albert and Barabasi to explain Web degree distribution\n",
    "- Recipe: nodes are more attracted to nodes with high degree\n",
    "- Produces Heavy-tailed distributions\n",
    "\n",
    "### Similar SnowBall effects\n",
    "\n",
    "- Wealth (rich people get richer)\n",
    "- City sizes\n",
    "- Forest fires areas"
   ]
  },
  {
   "cell_type": "markdown",
   "metadata": {
    "slideshow": {
     "slide_type": "slide"
    }
   },
   "source": [
    "# Clustering: intuition\n",
    "\n",
    "Several probable causes for clustering have been proposed"
   ]
  },
  {
   "cell_type": "markdown",
   "metadata": {
    "slideshow": {
     "slide_type": "fragment"
    }
   },
   "source": [
    "- *Cloning*: Rookies try to make one friend and join his/her community\n",
    "- *LinkedIn*: Starting from existing network, reach friends of friends\n",
    "- *Space*: Close (spatially) people tend to be close (socially)\n",
    "- *Communities*: Edges correspond to small communities with high density\n",
    "    - Example: IMDB, each movie creates a small complete graph"
   ]
  },
  {
   "cell_type": "markdown",
   "metadata": {
    "slideshow": {
     "slide_type": "subslide"
    }
   },
   "source": [
    "# Clustering: Watts & Strogatz ring\n",
    "\n",
    "### Goal\n",
    "\n",
    "- Get a model for artificial random small-worlds\n",
    "- Focus on clustering and short distances\n",
    "\n",
    "### Assumptions\n",
    "\n",
    "- Clustering comes from order (space)\n",
    "- Short distances come from chaos (short-cuts)\n",
    "- Can we find a trade-off?"
   ]
  },
  {
   "cell_type": "markdown",
   "metadata": {
    "slideshow": {
     "slide_type": "subslide"
    }
   },
   "source": [
    "# Clustering: Watts & Strogatz ring\n",
    "\n",
    "- A large ring of nodes\n",
    "- Each node is connected to its  $ k $ closest neighbors (4-10)\n",
    "- Each edge is randomly rewired with probability $ p $\n",
    "- $ p=0 $: totally structured graph (high clustering, high distances)\n",
    "- $ p=1 $: totally random graph"
   ]
  },
  {
   "cell_type": "code",
   "execution_count": null,
   "metadata": {
    "collapsed": false,
    "slideshow": {
     "slide_type": "skip"
    }
   },
   "outputs": [],
   "source": [
    "%reload_ext tikzmagic"
   ]
  },
  {
   "cell_type": "code",
   "execution_count": null,
   "metadata": {
    "collapsed": false,
    "hide_input": true,
    "slideshow": {
     "slide_type": "-"
    }
   },
   "outputs": [],
   "source": [
    "%%tikz -l calc --scale 4 --size 1000,500\n",
    "\\tikzset{every node/.style={scale=4}}\n",
    "\\foreach \\an in {0,...,19}\n",
    "{\n",
    "\\draw let\n",
    "\\n1={int(mod(\\an+1,20))},\n",
    "\\n2={int(mod(\\an+2,20))}\n",
    "in \n",
    "(18*\\an:2) node[circle, fill, scale = .6]{}\n",
    "edge (18*\\n1:2)\n",
    "edge[bend left = 60] (18*\\n2:2);\n",
    "\n",
    "\\pgfmathtruncatemacro{\\nun}{ifthenelse(mod(\\an+2,9),int(mod(\\an+1,20)),int(mod(\\an+8,20)))}%\n",
    "\\pgfmathtruncatemacro{\\ndeux}{ifthenelse(mod(\\an,13),int(mod(\\an+2,20)),int(mod(\\an+5,20)))}%\n",
    "\\draw\n",
    "(5,0) +(18*\\an:2) node[circle, fill, scale = .6]{}\n",
    "edge +(18*\\nun:2)\n",
    "edge[bend left = 60] +(18*\\ndeux:2);\n",
    "\n",
    "\\draw let\n",
    "\\n1={int(mod(\\an * \\an,20))},\n",
    "\\n2={int(mod(\\an * \\an * \\an,20))}\n",
    "in \n",
    "(10,0) +(18*\\an:2) node[circle, fill, scale = .6]{}\n",
    "edge +(18*\\n1:2)\n",
    "edge[bend left = 10] +(18*\\n2:2);\n",
    "}\n",
    "\n",
    "\\draw (0,2.5) node {Regular}\n",
    "++(5,0) node {Small-World?}\n",
    "++(5,0) node {Random};\n",
    "\\node (p1) at (0,-2.5) {$ p = 0 $};\n",
    "\\node (p2) at (10,-2.5) {$ p = 1 $};\n",
    "\\draw (p1) edge[->,>=latex,thick] node[below] {Chaos} (p2);"
   ]
  },
  {
   "cell_type": "markdown",
   "metadata": {
    "slideshow": {
     "slide_type": "subslide"
    }
   },
   "source": [
    "# Clustering: Watts & Strogatz ring\n",
    "\n",
    "\n",
    "- Diameter collapses fast\n",
    "- Clustering lasts longer\n",
    "- Small $ p>0 $: Small-World!\n",
    "\n",
    "<center><img style=\"width:40vw; margin: 20px\" src=\"sw.png\"></center>"
   ]
  },
  {
   "cell_type": "markdown",
   "metadata": {
    "slideshow": {
     "slide_type": "subslide"
    }
   },
   "source": [
    "# Clustering: Watts & Strogatz ring\n",
    "\n",
    "Epidemic susceptibility close to diameter (practical if time)\n",
    "\n",
    "<center><img style=\"width:40vw; margin: 20px\" src=\"we.png\"></center>"
   ]
  },
  {
   "cell_type": "markdown",
   "metadata": {
    "collapsed": false,
    "hide_input": false,
    "slideshow": {
     "slide_type": "subslide"
    }
   },
   "source": [
    "# Clustering: Watts & Strogatz ring take-away\n",
    "\n",
    "- A small article (2.5 pages) in *Nature*\n",
    "- 15 years of research in maths, CS, social, eco...\n",
    "\n",
    "> We hope that our work will stimulate further studies of small-world networks (\\ldots). Although small-world architecture has not received much attention, we suggest that it will probably turn out to be widespread in biological, social and made-made systems, often with important dynamical consequences."
   ]
  },
  {
   "cell_type": "markdown",
   "metadata": {
    "slideshow": {
     "slide_type": "slide"
    }
   },
   "source": [
    "# Navigability: intuition"
   ]
  },
  {
   "cell_type": "markdown",
   "metadata": {
    "slideshow": {
     "slide_type": "fragment"
    }
   },
   "source": [
    "- **Hubs** All roads lead to Rome, so aim at Kevin Bacon"
   ]
  },
  {
   "cell_type": "markdown",
   "metadata": {
    "slideshow": {
     "slide_type": "fragment"
    }
   },
   "source": [
    "- **Hierarchy** Follow the chain of command"
   ]
  },
  {
   "cell_type": "markdown",
   "metadata": {
    "slideshow": {
     "slide_type": "fragment"
    }
   },
   "source": [
    "- **Chaos** Find useful random shortcuts (is it possible?)"
   ]
  },
  {
   "cell_type": "markdown",
   "metadata": {
    "slideshow": {
     "slide_type": "subslide"
    }
   },
   "source": [
    "# Nabigability: Kleinberg's grid\n",
    "\n",
    "### Goal\n",
    "\n",
    "- Understand Milgram\n",
    "- Prove navigability can emerge from randomness\n",
    "\n",
    "### Assumptions\n",
    "\n",
    "- Nodes only know their neighbors\n",
    "- They have a notion of *spatial* distance\n",
    "- Decentralized greedy routing: send the letter to the *nearest* neighbor "
   ]
  },
  {
   "cell_type": "markdown",
   "metadata": {
    "slideshow": {
     "slide_type": "subslide"
    }
   },
   "source": [
    "# Nabigability: Kleinberg's grid\n",
    "\n",
    "\n",
    "- A Manhattan $ nXn $ grid\n",
    "- Each node is connected to neighbors at distance  $ \\leq p $ ($ p=1 $)\n",
    "- Shortcuts: each node is connected to $ q $ *shortcuts* ($ q=1 $) chosen with probability $\\equiv \\frac{1}{d^r} $\n",
    "- Greedy routing\n",
    "- Can we find short routes?"
   ]
  },
  {
   "cell_type": "code",
   "execution_count": null,
   "metadata": {
    "collapsed": false,
    "hide_input": true,
    "slideshow": {
     "slide_type": "-"
    }
   },
   "outputs": [],
   "source": [
    "%%tikz -l calc,arrows,positioning --scale 4 --size 300,300\n",
    "\\tikzset{every node/.style={scale=4, thick}}\n",
    "\\foreach \\x in {0,...,5}\n",
    "\\foreach \\y in {0,...,5} \n",
    "{\\pgfmathtruncatemacro{\\label}{\\x - 5 *  \\y +21}\n",
    "\\node [draw, circle, fill, black] (\\x\\y) at (1.5*\\x,1.5*\\y) {};}%{\\label};} \n",
    "\n",
    "\\foreach \\x in {0,...,5}\n",
    "\\foreach \\y [count=\\yi] in {0,...,4}  \n",
    "\\draw (\\x\\y) edge[<->, line width=2mm] (\\x\\yi) (\\y\\x) edge[<->, line width=2mm] (\\yi\\x) ;\n",
    "\n",
    "\\node [draw, fill, circle, blue] (s) at (32) {};\n",
    "\\draw[->, thick, line width=2mm, blue] (s) edge (31)\n",
    "\n",
    "edge (33) edge (22) edge (42) edge[bend right] (04);  "
   ]
  },
  {
   "cell_type": "markdown",
   "metadata": {
    "slideshow": {
     "slide_type": "subslide"
    }
   },
   "source": [
    "# Nabigability: Kleinberg's grid\n",
    "\n",
    "- $ p=q=1$ (minimum), $r=2 $: greedy routing is $ O(\\log^2(n)) $\n",
    "- $0\\leq r <2 $: any decentralized algorithm takes $ \\Omega(f(p,q)n^{(2-r)/3}) $.\n",
    "- $r > 2 $ : any decentralized algorithm takes  $ \\Omega(f(p,q)n^{(r-2)/(r-1)}) $."
   ]
  },
  {
   "cell_type": "code",
   "execution_count": null,
   "metadata": {
    "collapsed": false,
    "hide_input": true,
    "slideshow": {
     "slide_type": "-"
    }
   },
   "outputs": [],
   "source": [
    "xl = linspace(0,2,100)\n",
    "xh = linspace(2, 4, 100)\n",
    "figure(1)\n",
    "clf()\n",
    "ax = axes()\n",
    "ax.patch.set_alpha(0)\n",
    "plot(xl, (2-xl)/3, 'b')\n",
    "plot(xh, (2-xh)/(1-xh), 'b')\n",
    "xlabel('$r$')\n",
    "ylabel('$\\\\alpha$')\n",
    "ylim([0,1 ])\n",
    "show()"
   ]
  },
  {
   "cell_type": "markdown",
   "metadata": {
    "slideshow": {
     "slide_type": "subslide"
    }
   },
   "source": [
    "# Nabigability: Kleinberg's grid\n",
    "\n",
    "### Take-Away\n",
    "\n",
    "- Proofs and simulations: final practical\n",
    "- Greedy routing finds short paths, i.e. $ O(\\log^2(n)) $\n",
    "- Requires a proper tuning of the randomness?"
   ]
  },
  {
   "cell_type": "code",
   "execution_count": null,
   "metadata": {
    "collapsed": false,
    "hide_input": true,
    "slideshow": {
     "slide_type": "-"
    }
   },
   "outputs": [],
   "source": [
    "xl = linspace(0,2,100)\n",
    "xh = linspace(2, 4, 100)\n",
    "figure(1)\n",
    "clf()\n",
    "ax = axes()\n",
    "ax.patch.set_alpha(0)\n",
    "plot(xl, (2-xl)/3, 'b')\n",
    "plot(xh, (2-xh)/(1-xh), 'b')\n",
    "xlabel('$r$')\n",
    "ylabel('$\\\\alpha$')\n",
    "ylim([0,1 ])\n",
    "show()"
   ]
  },
  {
   "cell_type": "markdown",
   "metadata": {
    "slideshow": {
     "slide_type": "slide"
    }
   },
   "source": [
    "# Small-World Take-Away\n",
    "\n",
    "\n",
    "- No unique model can explain how all connections are made\n",
    "- Most connections can be explained by (at least) one simple reason: locality, hierarchy, popularity$\\ldots$ and randomness!\n",
    "\n",
    "$\\rightarrow$ Most social networks are small-worlds, but most small-world simple models only focus on specific properties."
   ]
  }
 ],
 "metadata": {
  "language_info": {
   "name": "python",
   "pygments_lexer": "ipython3"
  }
 },
 "nbformat": 4,
 "nbformat_minor": 1
}
