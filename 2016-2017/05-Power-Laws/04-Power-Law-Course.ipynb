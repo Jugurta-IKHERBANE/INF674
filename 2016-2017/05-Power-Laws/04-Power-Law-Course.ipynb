{
 "cells": [
  {
   "cell_type": "code",
   "execution_count": 1,
   "metadata": {
    "collapsed": false,
    "hide_input": false,
    "slideshow": {
     "slide_type": "skip"
    }
   },
   "outputs": [
    {
     "data": {
      "text/html": [
       "<style>\n",
       "body:after {\n",
       "background-image: url('lincs.png');\n",
       "background-size: 200px 100px;\n",
       "position: fixed;\n",
       "bottom: 1em;\n",
       "right: 8em;\n",
       "width: 200px; \n",
       "height: 100px;\n",
       "content:\"\";\n",
       "/*box-shadow: 5px 5px 10px #000; */\n",
       "}\n",
       "</style> "
      ],
      "text/plain": [
       "<IPython.core.display.HTML object>"
      ]
     },
     "metadata": {},
     "output_type": "display_data"
    }
   ],
   "source": [
    "%%HTML\n",
    "<style>\n",
    "body:after {\n",
    "background-image: url('lincs.png');\n",
    "background-size: 200px 100px;\n",
    "position: fixed;\n",
    "bottom: 1em;\n",
    "right: 8em;\n",
    "width: 200px; \n",
    "height: 100px;\n",
    "content:\"\";\n",
    "/*box-shadow: 5px 5px 10px #000; */\n",
    "}\n",
    "</style> "
   ]
  },
  {
   "cell_type": "code",
   "execution_count": 2,
   "metadata": {
    "collapsed": false,
    "slideshow": {
     "slide_type": "skip"
    }
   },
   "outputs": [
    {
     "name": "stdout",
     "output_type": "stream",
     "text": [
      "Populating the interactive namespace from numpy and matplotlib\n"
     ]
    }
   ],
   "source": [
    "%pylab inline"
   ]
  },
  {
   "cell_type": "code",
   "execution_count": 3,
   "metadata": {
    "collapsed": false,
    "slideshow": {
     "slide_type": "skip"
    }
   },
   "outputs": [
    {
     "data": {
      "text/plain": [
       "{'height': 800,\n",
       " 'slideNumber': True,\n",
       " 'start_slideshow_at': 'selected',\n",
       " 'theme': 'Moon',\n",
       " 'transition': 'Slide',\n",
       " 'width': 1000}"
      ]
     },
     "execution_count": 3,
     "metadata": {},
     "output_type": "execute_result"
    }
   ],
   "source": [
    "from traitlets.config.manager import BaseJSONConfigManager\n",
    "path = \"/home/celine/Programmes/anaconda3/etc/jupyter/nbconfig\"\n",
    "myconf = BaseJSONConfigManager(config_dir=path)\n",
    "myconf.update('livereveal', {\n",
    "        'width': 1000,\n",
    "        'height': 800,\n",
    "        'theme': 'Moon',\n",
    "        'transition': 'Slide',\n",
    "        'slideNumber': True,\n",
    "        'start_slideshow_at': 'selected',\n",
    "    }\n",
    ")\n",
    "\n",
    "# 'width': 1024,\n",
    "# 'height': 768,\n",
    "# 'scroll': True,\n",
    "# 'theme': Black (default) - White - League - Sky - Beige\n",
    "#          - Simple - Serif - Blood - Night - Moon - Solarized)\n",
    "# 'transition': 'Concave', (None - Fade - Slide - Convex - Concave - Zoom)\n",
    "# 'slideNumber': False,\n",
    "# 'start_slideshow_at': 'selected',"
   ]
  },
  {
   "cell_type": "markdown",
   "metadata": {
    "nbpresent": {
     "id": "d8bd2d09-1ba9-4187-8372-0a42efc8fa9d"
    },
    "slideshow": {
     "slide_type": "slide"
    }
   },
   "source": [
    "# INF 674 S4: Power Laws"
   ]
  },
  {
   "cell_type": "markdown",
   "metadata": {
    "slideshow": {
     "slide_type": "-"
    }
   },
   "source": [
    "## Céline Comte & Fabien Mathieu"
   ]
  },
  {
   "cell_type": "markdown",
   "metadata": {
    "slideshow": {
     "slide_type": "-"
    }
   },
   "source": [
    "## 2016 - 2017"
   ]
  },
  {
   "cell_type": "markdown",
   "metadata": {
    "slideshow": {
     "slide_type": "subslide"
    }
   },
   "source": [
    "If you want to deepen your theoretical knowledge of power laws, you can read (this is **not** mandatory):\n",
    "- Chapter 7 from the book [Epidemics and Rumours in Complex Networks][massoulie].\n",
    "- MEJ Newman, **Power laws, Pareto distributions and Zipf's law**. Contemporary Physics Vol. 46 , Iss. 5, 2005.\n",
    "\n",
    "[massoulie]: http://www.lincs.fr/wp-content/uploads/2013/01/CUP_book_final.pdf \"Epidemics and Rumours in Complex Networks by Moez Draief and Laurent Massoulié\""
   ]
  },
  {
   "cell_type": "markdown",
   "metadata": {
    "slideshow": {
     "slide_type": "subslide"
    }
   },
   "source": [
    "Further readings:\n",
    "- M. Mitzenmacher, **A Brief History of Generative Models for Power Law and Lognormal Distributions**. Internet Mathematics 1.2, 226-251, 2004.\n",
    "- A. Broder, R. Kumar, F. Maghoul, P. Raghavan, S. Rajagopalan, R. Stata, A. Tomkins, and J. Wiener, **Graph structure in the Web**. Comput. Netw. 33, 1-6, 309-320, 2000."
   ]
  },
  {
   "cell_type": "markdown",
   "metadata": {
    "slideshow": {
     "slide_type": "subslide"
    }
   },
   "source": [
    "# Outline\n",
    "\n",
    "- Definition\n",
    "- Power Laws in the wilde\n",
    "- Generative models\n",
    "  - Barabási-Albert random graphs\n",
    "  - Yule process"
   ]
  },
  {
   "cell_type": "markdown",
   "metadata": {
    "slideshow": {
     "slide_type": "slide"
    }
   },
   "source": [
    "# Definition"
   ]
  },
  {
   "cell_type": "markdown",
   "metadata": {
    "slideshow": {
     "slide_type": "subslide"
    }
   },
   "source": [
    "## Heavy-tailed distribution"
   ]
  },
  {
   "cell_type": "markdown",
   "metadata": {
    "slideshow": {
     "slide_type": "-"
    }
   },
   "source": [
    "A continuous real random variable $X$ has a power-law distribution if its tail fails according to some power:\n",
    "$$\n",
    "\\mathbb{P}\\left\\{ X > x \\right\\}\n",
    "= \\left( \\frac{x_{min}}{x} \\right)^\\beta,\n",
    "\\quad \\forall x \\ge x_{min}.\n",
    "$$\n",
    "- $\\beta > 0$ is the *shape paremeter*\n",
    "- $x_{min} > 0$ is the *scale parameter*"
   ]
  },
  {
   "cell_type": "code",
   "execution_count": 4,
   "metadata": {
    "collapsed": false,
    "hide_input": false,
    "slideshow": {
     "slide_type": "subslide"
    }
   },
   "outputs": [
    {
     "data": {
      "image/png": "[encoded data removed]",
      "text/plain": [
       "<matplotlib.figure.Figure at 0x7f96b2f77d68>"
      ]
     },
     "metadata": {},
     "output_type": "display_data"
    }
   ],
   "source": [
    "# Power law arguments\n",
    "xmin = 1.\n",
    "t = arange(xmin, 20, 0.01)\n",
    "beta = 1.5\n",
    "\n",
    "# Geometric law arguments\n",
    "p = (beta - 1) / beta\n",
    "n = arange(0, 20, 1)\n",
    "\n",
    "# CCDF\n",
    "fig = figure(figsize=(16, 12))\n",
    "clf()\n",
    "\n",
    "plot(t, pow(xmin/t, beta), label = r'Power law ($\\beta = 3/2, x_{min} = 1$)', linewidth=2.0)\n",
    "fill_between(t, 0, pow(xmin/t, beta), alpha = .4)\n",
    "bar(n, pow(1-p, n), 1, color = \"sandybrown\", edgecolor = \"white\",\n",
    "    label = r'Geometric ($p = 1/3$)', linewidth=2.0)\n",
    "\n",
    "axis([0, 20, 0, 1.])\n",
    "xticks(fontsize = 20)\n",
    "yticks(fontsize = 20)\n",
    "xlabel(\"$x$\", fontsize = 20)\n",
    "ylabel(\"Survival function\", fontsize = 20)\n",
    "legend(fontsize = 20)\n",
    "show()"
   ]
  },
  {
   "cell_type": "code",
   "execution_count": 5,
   "metadata": {
    "collapsed": false,
    "hide_input": true,
    "slideshow": {
     "slide_type": "subslide"
    }
   },
   "outputs": [
    {
     "data": {
      "image/png": "[encoded data removed]",
      "text/plain": [
       "<matplotlib.figure.Figure at 0x7f96b00077f0>"
      ]
     },
     "metadata": {},
     "output_type": "display_data"
    }
   ],
   "source": [
    "# CCDF semilog\n",
    "t = arange(xmin, 100, 0.01)\n",
    "n = arange(0, 100, 1)\n",
    "\n",
    "fig = figure(figsize=(16, 12))\n",
    "ax = fig.add_subplot(111)\n",
    "\n",
    "ax.loglog(t, pow(xmin/t, beta), label = r'Power law ($\\beta = 3/2, x_{min} = 1$)', linewidth=2.0)\n",
    "fill_between(t, 0, pow(xmin/t, beta), alpha = .4)\n",
    "ax.bar(n, pow(1-p, n), 1, color = \"sandybrown\", edgecolor = \"white\",\n",
    "       label = r'Geometric ($p = 1/3$)', linewidth=2.0)\n",
    "\n",
    "ax.set_xscale(\"log\", nonposy='clip')\n",
    "ax.set_yscale(\"log\", nonposy='clip')\n",
    "axis([0, 100, 0, 1.])\n",
    "xticks(fontsize = 20)\n",
    "yticks(fontsize = 20)\n",
    "xlabel(\"$x$\", fontsize = 20)\n",
    "ylabel(\"Survival function\", fontsize = 20)\n",
    "legend(loc = 3, fontsize = 20)\n",
    "show()"
   ]
  },
  {
   "cell_type": "markdown",
   "metadata": {
    "slideshow": {
     "slide_type": "subslide"
    }
   },
   "source": [
    "## Distribution functions"
   ]
  },
  {
   "cell_type": "markdown",
   "metadata": {
    "hide_input": false,
    "slideshow": {
     "slide_type": "-"
    }
   },
   "source": [
    "- Probability distribution function\n",
    "$$\n",
    "f(t) = \\frac{\\beta {x_{min}}^\\beta}{t^{\\beta + 1}}, \\quad \\forall t \\ge x_{min}.\n",
    "$$\n",
    "- Cumulative distribution function\n",
    "$$\n",
    "\\mathbb{P}\\left\\{ X \\le x \\right\\}\n",
    "= 1 - \\left( \\frac{x_{min}}{x} \\right)^\\beta,\n",
    "\\quad \\forall x \\ge x_{min}.\n",
    "$$"
   ]
  },
  {
   "cell_type": "code",
   "execution_count": 13,
   "metadata": {
    "collapsed": false,
    "hide_input": true,
    "slideshow": {
     "slide_type": "subslide"
    }
   },
   "outputs": [
    {
     "data": {
      "image/png": "[encoded data removed]",
      "text/plain": [
       "<matplotlib.figure.Figure at 0x7f96afb0ec88>"
      ]
     },
     "metadata": {},
     "output_type": "display_data"
    }
   ],
   "source": [
    "t = arange(xmin, 50, 0.01)\n",
    "n = arange(1, 50, 1)\n",
    "s = arange(0, 50, 0.01)\n",
    "\n",
    "# PDF\n",
    "fig = figure(figsize=(16, 12))\n",
    "ax = fig.add_subplot(111)\n",
    "\n",
    "ax.loglog(t, beta * pow(xmin, beta) / pow(t, beta + 1),\n",
    "     label = r'Power law ($\\beta = 3/2, x_{min} = 1$)', linewidth=2.0)\n",
    "fill_between(t, 0, beta * pow(xmin, beta) / pow(t, beta + 1), alpha = .4)\n",
    "ax.bar(n, p * pow(1-p, n-1), 1, color = \"sandybrown\", edgecolor = \"white\",\n",
    "    label = r'Geometric ($p = 1/3$)', linewidth=2.0)\n",
    "\n",
    "ax.set_xscale(\"log\", nonposy='clip')\n",
    "ax.set_yscale(\"log\", nonposy='clip')\n",
    "axis([1, 50, 0, 1.5])\n",
    "xticks(fontsize = 20)\n",
    "yticks(fontsize = 20)\n",
    "xlabel(\"$t$\", fontsize = 20)\n",
    "ylabel(\"Probability distribution function (pdf)\", fontsize = 20)\n",
    "legend(fontsize = 20)\n",
    "show()"
   ]
  },
  {
   "cell_type": "code",
   "execution_count": 11,
   "metadata": {
    "collapsed": false,
    "hide_input": true,
    "slideshow": {
     "slide_type": "subslide"
    }
   },
   "outputs": [
    {
     "data": {
      "image/png": "[encoded data removed]",
      "text/plain": [
       "<matplotlib.figure.Figure at 0x7f96af71efd0>"
      ]
     },
     "metadata": {},
     "output_type": "display_data"
    }
   ],
   "source": [
    "t = arange(xmin, 50, 0.01)\n",
    "n = arange(1, 50, 1)\n",
    "\n",
    "#CDF\n",
    "fig = figure(figsize=(16, 12))\n",
    "ax = fig.add_subplot(111)\n",
    "\n",
    "ax.loglog(t, 1 - pow(xmin/t, beta), label = r'Power law ($\\beta = 3/2, x_{min} = 1$)', linewidth=2.0)\n",
    "fill_between(t, 0, 1 - pow(xmin/t, beta), alpha = .4)\n",
    "ax.bar(n, 1 - pow(1-p, n), 1, color = \"sandybrown\", edgecolor = \"white\",\n",
    "    label = r'Geometric ($p = 1/3$)', linewidth=2.0)\n",
    "\n",
    "ax.set_xscale(\"log\", nonposy='clip')\n",
    "ax.set_yscale(\"log\", nonposy='clip')\n",
    "axis([1, 50, 0, 1])\n",
    "xticks(fontsize = 20)\n",
    "yticks(fontsize = 20)\n",
    "xlabel(\"$x$\", fontsize = 20)\n",
    "ylabel(\"Cumulative distribution function (cdf)\", fontsize = 20)\n",
    "legend(loc = 4, fontsize = 20)\n",
    "show()"
   ]
  },
  {
   "cell_type": "markdown",
   "metadata": {
    "slideshow": {
     "slide_type": "subslide"
    }
   },
   "source": [
    "## How to recognize them?"
   ]
  },
  {
   "cell_type": "markdown",
   "metadata": {
    "slideshow": {
     "slide_type": "-"
    }
   },
   "source": [
    "- Probability distribution function\n",
    "$$\n",
    "f(t) = \\frac{\\beta {x_{min}}^\\beta}{t^{\\beta + 1}},\n",
    "\\quad \\forall t \\ge x_{min},\n",
    "$$\n",
    "can be rewritten as\n",
    "$$\n",
    "\\ln(f(t)) = \\ln(\\beta {x_{min}}^\\beta) - (\\beta + 1) \\ln(t),\n",
    "\\quad \\forall t \\ge x_{min}.\n",
    "$$\n",
    "\n",
    "\n",
    "- The graph of the probability distribution function\n",
    "of a random variable with a power law\n",
    "is a line on a log-log plot."
   ]
  },
  {
   "cell_type": "markdown",
   "metadata": {
    "slideshow": {
     "slide_type": "slide"
    }
   },
   "source": [
    "# Power Laws in the wilde"
   ]
  },
  {
   "cell_type": "markdown",
   "metadata": {
    "slideshow": {
     "slide_type": "subslide"
    }
   },
   "source": [
    "## Zipf's Law for rankings"
   ]
  },
  {
   "cell_type": "markdown",
   "metadata": {},
   "source": [
    "- Discrete version of the power law\n",
    "- A discrete random variable $X$ which takes its values in $\\{1,\\ldots,N\\}$ has a Zipf's distribution with parameter $\\tau > 0$ if\n",
    "  $$\n",
    "      \\mathbb{P}\\{ X = k \\}\n",
    "      = \\frac{ \\frac1{k^\\tau} }{ \\sum_{n=1}^N \\frac1{n^\\tau} },\n",
    "      \\quad \\forall k = 1,\\ldots,N.\n",
    "  $$"
   ]
  },
  {
   "cell_type": "markdown",
   "metadata": {
    "slideshow": {
     "slide_type": "subslide"
    }
   },
   "source": [
    "## Web graph"
   ]
  },
  {
   "cell_type": "markdown",
   "metadata": {
    "slideshow": {
     "slide_type": "-"
    }
   },
   "source": [
    "<div class=\"image123\">\n",
    "    <img style=\"float: middle; width:70vw;\" src=\"web-structure.png\">\n",
    "</div>\n",
    "\n",
    "A. Broder, R. Kumar, F. Maghoul, P. Raghavan, S. Rajagopalan, R. Stata, A. Tomkins, and J. Wiener, **Graph structure in the Web**. Comput. Netw. 33, 1-6, 309-320, 2000."
   ]
  },
  {
   "cell_type": "markdown",
   "metadata": {
    "slideshow": {
     "slide_type": "subslide"
    }
   },
   "source": [
    "## Web graph"
   ]
  },
  {
   "cell_type": "markdown",
   "metadata": {
    "slideshow": {
     "slide_type": "-"
    }
   },
   "source": [
    "Concretely:\n",
    "\n",
    "\"...  there are many small elements contained within the Web, but few  large  ones.  A  few  sites consist  of  millions of  pages,  but  millions  of  sites  only  contain a handful of pages. Few sites contain millions of links, but many sites have one or two. Millions of users flock to a few select sites, giving little attention to millions of others.\"\n",
    "\n",
    "L.A. Adamic and A.H. Bernardo, **Zipf’s law and the Internet**. Glottometrics 3.1, 143-150 2002."
   ]
  },
  {
   "cell_type": "markdown",
   "metadata": {
    "slideshow": {
     "slide_type": "subslide"
    }
   },
   "source": [
    "## Other examples"
   ]
  },
  {
   "cell_type": "markdown",
   "metadata": {
    "slideshow": {
     "slide_type": "-"
    }
   },
   "source": [
    "- Word frequency\n",
    "\n",
    "  \"Zipf's law states that given some corpus of natural language utterances, the frequency of any word is inversely proportional to its rank in the frequency table. Thus the most frequent word will occur approximately twice as often as the second most frequent word, three times as often as the third most frequent word, etc.: the rank-frequency distribution is an inverse relation.\" See <a href=\"https://en.wikipedia.org/wiki/Zipf's_law\">Wikipedia, Zipf's law</a>."
   ]
  },
  {
   "cell_type": "markdown",
   "metadata": {
    "slideshow": {
     "slide_type": "subslide"
    }
   },
   "source": [
    "## Other examples"
   ]
  },
  {
   "cell_type": "markdown",
   "metadata": {
    "slideshow": {
     "slide_type": "-"
    }
   },
   "source": [
    "- Number of telephone calls per user and per day\n",
    "- Content popularity"
   ]
  },
  {
   "cell_type": "markdown",
   "metadata": {
    "slideshow": {
     "slide_type": "slide"
    }
   },
   "source": [
    "# Generative models"
   ]
  },
  {
   "cell_type": "markdown",
   "metadata": {
    "slideshow": {
     "slide_type": "subslide"
    }
   },
   "source": [
    "## Barabási-Albert random graphs"
   ]
  },
  {
   "cell_type": "markdown",
   "metadata": {
    "slideshow": {
     "slide_type": "-"
    }
   },
   "source": [
    "A.-L. Barabasi and R. Albert, **Emergence of scaling in random networks**, Science, 286, 509–512, 1999."
   ]
  },
  {
   "cell_type": "markdown",
   "metadata": {
    "slideshow": {
     "slide_type": "subslide"
    }
   },
   "source": [
    "## (Undirected) Random graph model"
   ]
  },
  {
   "cell_type": "markdown",
   "metadata": {
    "slideshow": {
     "slide_type": "-"
    }
   },
   "source": [
    "- At time $t = 0$, we consider a deterministic initial (undirected) graph $G(0)$\n",
    "- At each step $t \\ge 1$, a new node is added to the graph and is attached to one existing node:\n",
    "  - With probability $0 \\le \\alpha < 1$, all existing nodes can be chosen with the same probability,"
   ]
  },
  {
   "cell_type": "markdown",
   "metadata": {
    "slideshow": {
     "slide_type": "subslide"
    }
   },
   "source": [
    "## (Undirected) Random graph model"
   ]
  },
  {
   "cell_type": "markdown",
   "metadata": {},
   "source": [
    "  - With probability $1 - \\alpha$, the probability of choosing a node is proportional to its degree."
   ]
  },
  {
   "cell_type": "markdown",
   "metadata": {
    "slideshow": {
     "slide_type": "subslide"
    }
   },
   "source": [
    "## (Undirected) Random graph model"
   ]
  },
  {
   "cell_type": "markdown",
   "metadata": {
    "slideshow": {
     "slide_type": "-"
    }
   },
   "source": [
    "- The graph obtained at the end of step $t$ is denoted by $G(t)$.\n",
    "\n",
    "\n",
    "- We consider the random variables <br />\n",
    "  $X_i(t) =$ Number of nodes with degree $i$ at time $t$,\n",
    "  for all $i \\ge 1$, $t \\ge 1$."
   ]
  },
  {
   "cell_type": "markdown",
   "metadata": {
    "slideshow": {
     "slide_type": "subslide"
    }
   },
   "source": [
    "## \"Law of large numbers\""
   ]
  },
  {
   "cell_type": "markdown",
   "metadata": {
    "slideshow": {
     "slide_type": "-"
    }
   },
   "source": [
    "- For all $i \\ge 1$, we have\n",
    "  $$\n",
    "  \\frac{X_i(t)}t \\to c_i \\text{ almost surely when } t \\to +\\infty,\n",
    "  $$\n",
    "  where the sequence $(c_i)_{i \\ge 1}$ satisfies\n",
    "  $$\n",
    "  c_i \\sim \\frac{C}{i^{\\beta + 1}} \\text{ as } i \\to +\\infty,\n",
    "  $$\n",
    "  for some constant $C > 0$, where\n",
    "  $$\n",
    "  \\beta\n",
    "  = \\frac{3-\\alpha}{1-\\alpha} - 1\n",
    "  = 2 + \\frac{2 \\alpha}{1 - \\alpha}\n",
    "  \\ge 2.\n",
    "  $$"
   ]
  },
  {
   "cell_type": "markdown",
   "metadata": {
    "slideshow": {
     "slide_type": "subslide"
    }
   },
   "source": [
    "## Intuition of the proof"
   ]
  },
  {
   "cell_type": "markdown",
   "metadata": {
    "slideshow": {
     "slide_type": "-"
    }
   },
   "source": [
    "- Let $c_1 = \\frac2{3 + \\alpha}$ and\n",
    "  $$\n",
    "      \\frac{c_i}{c_{i-1}} = \\frac{\\alpha + \\frac{1-\\alpha}2 (i-1)}{1 + \\alpha + \\frac{1-\\alpha}2 i},\n",
    "      \\quad \\forall i > 1.\n",
    "  $$\n",
    "- For all $i > 1$,\n",
    "  \\begin{align*}\n",
    "      \\frac{c_i}{c_{i-1}}\n",
    "      = 1 - \\frac{3 - \\alpha}{2 + 2 \\alpha + (1 - \\alpha)i}\n",
    "      = 1 - \\frac1i \\frac{3 - \\alpha}{1 - \\alpha} + O\\left( \\frac1{i^2} \\right).\n",
    "  \\end{align*}"
   ]
  },
  {
   "cell_type": "markdown",
   "metadata": {
    "slideshow": {
     "slide_type": "subslide"
    }
   },
   "source": [
    "## Intuition of the proof"
   ]
  },
  {
   "cell_type": "markdown",
   "metadata": {
    "slideshow": {
     "slide_type": "-"
    }
   },
   "source": [
    "- Consequently,\n",
    "  \\begin{align*}\n",
    "      c_i\n",
    "      &= c_1 \\prod_{j=2}^i \\left( 1 - \\frac\\beta{j} + O\\left( \\frac1{j^2} \\right) \\right).\n",
    "  \\end{align*}"
   ]
  },
  {
   "cell_type": "markdown",
   "metadata": {
    "slideshow": {
     "slide_type": "subslide"
    }
   },
   "source": [
    "## Intuition of the proof"
   ]
  },
  {
   "cell_type": "markdown",
   "metadata": {
    "slideshow": {
     "slide_type": "-"
    }
   },
   "source": [
    "\n",
    "- Then, we have intuitively\n",
    "  \\begin{align*}\n",
    "      &\\ln\\left( \\prod_{j=1}^i \\left( 1 - \\frac\\beta{j} \\right) \\right) \\\\\n",
    "      &= \\sum_{j=1}^i \\ln\\left( 1 - \\frac\\beta{j} \\right)\n",
    "      \\approx \\sum_{j=1}^i - \\frac\\beta{j}, \\\\\n",
    "      &= - \\beta \\sum_{j=1}^i \\frac1j\n",
    "      \\approx - \\beta \\ln(i).\n",
    "  \\end{align*}"
   ]
  },
  {
   "cell_type": "markdown",
   "metadata": {
    "slideshow": {
     "slide_type": "subslide"
    }
   },
   "source": [
    "## Yule process"
   ]
  },
  {
   "cell_type": "markdown",
   "metadata": {
    "slideshow": {
     "slide_type": "-"
    }
   },
   "source": [
    "G. U. Yule, **A mathematical theory of evolution based on the conclusions of Dr. J. C. Willis**, Philosophical Transactions of the Royal Society of London B, 213, 21–87, 1925."
   ]
  },
  {
   "cell_type": "markdown",
   "metadata": {
    "slideshow": {
     "slide_type": "subslide"
    }
   },
   "source": [
    "## Historical context"
   ]
  },
  {
   "cell_type": "markdown",
   "metadata": {
    "slideshow": {
     "slide_type": "-"
    }
   },
   "source": [
    "- Introduced by Yule in 1925 to study the evolution of the number of species in a genus.\n",
    "- (Wikipedia) \"A genus (/ˈdʒiːnəs/, pl. genera) is a taxonomic rank used in the biological classification of living and fossil organisms in biology. In the hierarchy of biological classification, genus comes above species and below family.\""
   ]
  },
  {
   "cell_type": "markdown",
   "metadata": {
    "slideshow": {
     "slide_type": "subslide"
    }
   },
   "source": [
    "## Definition"
   ]
  },
  {
   "cell_type": "markdown",
   "metadata": {
    "slideshow": {
     "slide_type": "-"
    }
   },
   "source": [
    "- At time $t = 0$, we consider a deterministic initial state of the species.\n",
    "- At each step $t \\ge 1$, an existing species chosen uniformly at random creates a new one by mutation:\n",
    "  - With probability $\\alpha$,\n",
    "  the new species is so different from the pre-existing ones that it defines a new genus,\n",
    "  - With probability $1 - \\alpha$,\n",
    "  it belongs to the same genus as the species that created it."
   ]
  },
  {
   "cell_type": "markdown",
   "metadata": {
    "slideshow": {
     "slide_type": "subslide"
    }
   },
   "source": [
    "## Equivalent (undirected) random graph model"
   ]
  },
  {
   "cell_type": "markdown",
   "metadata": {
    "slideshow": {
     "slide_type": "-"
    }
   },
   "source": [
    "- At time $t = 0$, we consider a deterministic initial (undirected) graph $G(0)$\n",
    "- At each step $t \\ge 1$, a new node is added to the graph and is attached to the older nodes as follows:\n",
    "  - With probability $0 \\le \\alpha < 1$, it is not attached to any node (thus creating a new connected component),\n",
    "  - With probability $1 - \\alpha$, it is attached to an existing node chosen uniformly at random."
   ]
  },
  {
   "cell_type": "markdown",
   "metadata": {},
   "source": []
  },
  {
   "cell_type": "markdown",
   "metadata": {
    "slideshow": {
     "slide_type": "subslide"
    }
   },
   "source": [
    "## Equivalent (undirected) random graph model"
   ]
  },
  {
   "cell_type": "markdown",
   "metadata": {
    "slideshow": {
     "slide_type": "-"
    }
   },
   "source": [
    "- The graph obtained at the end of step $t$ is denoted by $G(t)$.\n",
    "- One connected component = one genus.\n",
    "\n",
    "\n",
    "- We consider the random variables <br />\n",
    "  $X_i(t) =$ Number of connected components with $i$ nodes at time $t$,\n",
    "  for all $i \\ge 1$, $t \\ge 1$."
   ]
  },
  {
   "cell_type": "markdown",
   "metadata": {
    "slideshow": {
     "slide_type": "subslide"
    }
   },
   "source": [
    "## Asymptotic power law"
   ]
  },
  {
   "cell_type": "markdown",
   "metadata": {
    "slideshow": {
     "slide_type": "-"
    }
   },
   "source": [
    "- For all $i \\ge 1$, we have\n",
    "  $$\n",
    "  \\frac{X_i(t)}t \\to c_i \\text{ almost surely when } t \\to +\\infty,\n",
    "  $$\n",
    "  where the sequence $(c_i)_{i \\ge 1}$ satisfies\n",
    "  $$\n",
    "  c_i \\sim \\frac{C}{i^{\\beta + 1}} \\text{ as } i \\to +\\infty,\n",
    "  $$\n",
    "  for some constant $C > 0$, where\n",
    "  $$\n",
    "  \\beta\n",
    "  = \\frac{3-\\alpha}{1-\\alpha} - 1\n",
    "  = 2 + \\frac{2 \\alpha}{1 - \\alpha}\n",
    "  \\ge 2.\n",
    "  $$"
   ]
  }
 ],
 "metadata": {
  "anaconda-cloud": {},
  "celltoolbar": "Slideshow",
  "kernelspec": {
   "display_name": "Python [conda root]",
   "language": "python",
   "name": "conda-root-py"
  },
  "language_info": {
   "codemirror_mode": {
    "name": "ipython",
    "version": 3
   },
   "file_extension": ".py",
   "mimetype": "text/x-python",
   "name": "python",
   "nbconvert_exporter": "python",
   "pygments_lexer": "ipython3",
   "version": "3.5.2"
  },
  "nav_menu": {},
  "nbpresent": {
   "slides": {
    "6c542ec4-93fa-45dd-a70a-d6d7ad0bcfa8": {
     "id": "6c542ec4-93fa-45dd-a70a-d6d7ad0bcfa8",
     "prev": null,
     "regions": {
      "538f55b9-b084-43b3-af79-f6ccd92c0cdd": {
       "attrs": {
        "height": 0.2,
        "width": 0.4,
        "x": 0.1,
        "y": 0.7
       },
       "content": {
        "cell": "f26bba4d-f072-43a9-977c-57014a88a77b",
        "part": "source"
       },
       "id": "538f55b9-b084-43b3-af79-f6ccd92c0cdd"
      },
      "8f4c6790-94c9-47c7-90d2-3acfc3256ffc": {
       "attrs": {
        "height": 0.2,
        "width": 0.4,
        "x": 0.5,
        "y": 0.7
       },
       "content": {
        "cell": "3661d91b-ea28-42ec-8cd5-6db217772fe1",
        "part": "source"
       },
       "id": "8f4c6790-94c9-47c7-90d2-3acfc3256ffc"
      },
      "d9b1787c-d17c-4a94-821c-3d2cec2a1458": {
       "attrs": {
        "height": 0.6,
        "width": 0.8,
        "x": 0.1,
        "y": 0.1
       },
       "content": {
        "cell": "d8bd2d09-1ba9-4187-8372-0a42efc8fa9d",
        "part": "whole"
       },
       "id": "d9b1787c-d17c-4a94-821c-3d2cec2a1458"
      }
     }
    }
   },
   "themes": {
    "default": "4db8b58a-7e53-4780-8164-69926286a1c3",
    "theme": {
     "4db8b58a-7e53-4780-8164-69926286a1c3": {
      "backgrounds": {
       "dc7afa04-bf90-40b1-82a5-726e3cff5267": {
        "background-color": "31af15d2-7e15-44c5-ab5e-e04b16a89eff",
        "id": "dc7afa04-bf90-40b1-82a5-726e3cff5267"
       }
      },
      "id": "4db8b58a-7e53-4780-8164-69926286a1c3",
      "palette": {
       "19cc588f-0593-49c9-9f4b-e4d7cc113b1c": {
        "id": "19cc588f-0593-49c9-9f4b-e4d7cc113b1c",
        "rgb": [
         252,
         252,
         252
        ]
       },
       "31af15d2-7e15-44c5-ab5e-e04b16a89eff": {
        "id": "31af15d2-7e15-44c5-ab5e-e04b16a89eff",
        "rgb": [
         68,
         68,
         68
        ]
       },
       "50f92c45-a630-455b-aec3-788680ec7410": {
        "id": "50f92c45-a630-455b-aec3-788680ec7410",
        "rgb": [
         197,
         226,
         245
        ]
       },
       "c5cc3653-2ee1-402a-aba2-7caae1da4f6c": {
        "id": "c5cc3653-2ee1-402a-aba2-7caae1da4f6c",
        "rgb": [
         43,
         126,
         184
        ]
       },
       "efa7f048-9acb-414c-8b04-a26811511a21": {
        "id": "efa7f048-9acb-414c-8b04-a26811511a21",
        "rgb": [
         25.118061674008803,
         73.60176211453744,
         107.4819383259912
        ]
       }
      },
      "rules": {
       "a": {
        "color": "19cc588f-0593-49c9-9f4b-e4d7cc113b1c"
       },
       "blockquote": {
        "color": "50f92c45-a630-455b-aec3-788680ec7410",
        "font-size": 3
       },
       "code": {
        "font-family": "Anonymous Pro"
       },
       "h1": {
        "color": "19cc588f-0593-49c9-9f4b-e4d7cc113b1c",
        "font-family": "Merriweather",
        "font-size": 8
       },
       "h2": {
        "color": "19cc588f-0593-49c9-9f4b-e4d7cc113b1c",
        "font-family": "Merriweather",
        "font-size": 6
       },
       "h3": {
        "color": "50f92c45-a630-455b-aec3-788680ec7410",
        "font-family": "Lato",
        "font-size": 5.5
       },
       "h4": {
        "color": "c5cc3653-2ee1-402a-aba2-7caae1da4f6c",
        "font-family": "Lato",
        "font-size": 5
       },
       "h5": {
        "font-family": "Lato"
       },
       "h6": {
        "font-family": "Lato"
       },
       "h7": {
        "font-family": "Lato"
       },
       "li": {
        "color": "50f92c45-a630-455b-aec3-788680ec7410",
        "font-size": 3.25
       },
       "pre": {
        "font-family": "Anonymous Pro",
        "font-size": 4
       }
      },
      "text-base": {
       "color": "19cc588f-0593-49c9-9f4b-e4d7cc113b1c",
       "font-family": "Lato",
       "font-size": 4
      }
     },
     "fc262559-0833-4ef7-a306-1ee105da3487": {
      "id": "fc262559-0833-4ef7-a306-1ee105da3487",
      "palette": {
       "19cc588f-0593-49c9-9f4b-e4d7cc113b1c": {
        "id": "19cc588f-0593-49c9-9f4b-e4d7cc113b1c",
        "rgb": [
         252,
         252,
         252
        ]
       },
       "31af15d2-7e15-44c5-ab5e-e04b16a89eff": {
        "id": "31af15d2-7e15-44c5-ab5e-e04b16a89eff",
        "rgb": [
         68,
         68,
         68
        ]
       },
       "50f92c45-a630-455b-aec3-788680ec7410": {
        "id": "50f92c45-a630-455b-aec3-788680ec7410",
        "rgb": [
         155,
         177,
         192
        ]
       },
       "c5cc3653-2ee1-402a-aba2-7caae1da4f6c": {
        "id": "c5cc3653-2ee1-402a-aba2-7caae1da4f6c",
        "rgb": [
         43,
         126,
         184
        ]
       },
       "efa7f048-9acb-414c-8b04-a26811511a21": {
        "id": "efa7f048-9acb-414c-8b04-a26811511a21",
        "rgb": [
         25.118061674008803,
         73.60176211453744,
         107.4819383259912
        ]
       }
      },
      "rules": {
       "blockquote": {
        "color": "50f92c45-a630-455b-aec3-788680ec7410"
       },
       "code": {
        "font-family": "Anonymous Pro"
       },
       "h1": {
        "color": "c5cc3653-2ee1-402a-aba2-7caae1da4f6c",
        "font-family": "Lato",
        "font-size": 8
       },
       "h2": {
        "color": "c5cc3653-2ee1-402a-aba2-7caae1da4f6c",
        "font-family": "Lato",
        "font-size": 6
       },
       "h3": {
        "color": "50f92c45-a630-455b-aec3-788680ec7410",
        "font-family": "Lato",
        "font-size": 5.5
       },
       "h4": {
        "color": "c5cc3653-2ee1-402a-aba2-7caae1da4f6c",
        "font-family": "Lato",
        "font-size": 5
       },
       "h5": {
        "font-family": "Lato"
       },
       "h6": {
        "font-family": "Lato"
       },
       "h7": {
        "font-family": "Lato"
       },
       "pre": {
        "font-family": "Anonymous Pro",
        "font-size": 4
       }
      },
      "text-base": {
       "font-family": "Merriweather",
       "font-size": 4
      }
     }
    }
   }
  },
  "toc": {
   "navigate_menu": true,
   "number_sections": false,
   "sideBar": true,
   "threshold": 6,
   "toc_cell": false,
   "toc_section_display": "block",
   "toc_window_display": false
  }
 },
 "nbformat": 4,
 "nbformat_minor": 1
}
