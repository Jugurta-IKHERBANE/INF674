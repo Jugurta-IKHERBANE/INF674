{
 "cells": [
  {
   "cell_type": "markdown",
   "metadata": {
    "slideshow": {
     "slide_type": "-"
    }
   },
   "source": [
    "# INF674 S5: Power Laws\n",
    "\n",
    "## Céline Comte & Fabien Mathieu\n",
    "\n",
    "## 2016 - 2017"
   ]
  },
  {
   "cell_type": "markdown",
   "metadata": {
    "slideshow": {
     "slide_type": "-"
    }
   },
   "source": [
    "If you want to deepen your theoretical knowledge of power laws, you can read (this is **not** mandatory):\n",
    "- Chapter 7 from the book [Epidemics and Rumours in Complex Networks][massoulie].\n",
    "- MEJ Newman, **Power laws, Pareto distributions and Zipf's law**. Contemporary Physics Vol. 46 , Iss. 5, 2005.\n",
    "\n",
    "Other optional references are given in the course.\n",
    "\n",
    "[massoulie]: http://www.lincs.fr/wp-content/uploads/2013/01/CUP_book_final.pdf \"Epidemics and Rumours in Complex Networks by Moez Draief and Laurent Massoulié\""
   ]
  },
  {
   "cell_type": "code",
   "execution_count": 1,
   "metadata": {
    "ExecuteTime": {
     "end_time": "2016-11-13T14:43:14.551584",
     "start_time": "2016-11-13T14:43:12.004486"
    },
    "collapsed": false,
    "slideshow": {
     "slide_type": "-"
    }
   },
   "outputs": [
    {
     "name": "stdout",
     "output_type": "stream",
     "text": [
      "Populating the interactive namespace from numpy and matplotlib\n"
     ]
    }
   ],
   "source": [
    "%pylab inline"
   ]
  },
  {
   "cell_type": "markdown",
   "metadata": {
    "slideshow": {
     "slide_type": "-"
    }
   },
   "source": [
    "# 1. Power Law and log normal distribution"
   ]
  },
  {
   "cell_type": "markdown",
   "metadata": {
    "slideshow": {
     "slide_type": "-"
    }
   },
   "source": [
    "A random variable $X$ has a lognormal distribution\n",
    "if the random variable $Y = log(X)$ has a normal distribution.\n",
    "The normal distribution with mean $\\mu$ and standart deviation $\\sigma$\n",
    "is given by the density function\n",
    "$$\n",
    "f(y) = \\frac1{\\sqrt{2\\pi} \\sigma} e^{-(y - \\mu)^2 / 2 \\sigma^2},\n",
    "\\quad \\forall y \\in \\mathbb{R}.\n",
    "$$\n",
    "The density function of the corresponding log-normal distribution is then\n",
    "$$\n",
    "g(x) = \\frac1{\\sqrt{2\\pi} \\sigma x} e^{-(\\ln(x) - \\mu)^2 / 2 \\sigma^2},\n",
    "\\quad \\forall x > 0.\n",
    "$$\n",
    "\n",
    "On a log-log plot, plot the probability density function of\n",
    "a power law with parameters $\\beta = 1/2, 1$ and $x_{min} = 1$\n",
    "and a log-normal distribution with approximately the same slope.\n",
    "What can you observe?"
   ]
  },
  {
   "cell_type": "markdown",
   "metadata": {
    "slideshow": {
     "slide_type": "-"
    }
   },
   "source": [
    "**Answer:**\n",
    "For all $x > 0$, we have\n",
    "$$\n",
    "\\ln(g(x))\n",
    "= - \\left( 1 - \\frac\\mu{\\sigma^2} \\right) \\ln(x)\n",
    "- \\frac1{2 \\sigma^2} (\\ln(x))^2\n",
    "- \\left( \\ln(\\sqrt{2 \\pi} \\sigma) + \\frac{\\mu^2}{2 \\sigma^2} \\right).\n",
    "$$\n",
    "Approximately, the graph of this function has a slop\n",
    "$- \\left( 1 - \\frac\\mu{\\sigma^2} \\right)$.\n",
    "\n",
    "Recall that the probability density function of a power law with parameters $\\beta > 0$ and $x_{min} = 1$ is given by\n",
    "$$\n",
    "    f(x)\n",
    "    = \\frac\\beta{x^{\\beta + 1}},\n",
    "    \\quad \\forall x > 1.\n",
    "$$\n",
    "This yields\n",
    "$$\n",
    "    \\ln(f(x))\n",
    "    = \\ln(\\beta) - (\\beta + 1) \\ln(x),\n",
    "    \\quad \\forall x > 1,\n",
    "$$\n",
    "so that the slope is $\\beta + 1$.\n",
    "\n",
    "Hence, we can let $(\\mu = \\beta \\sigma^2,\\sigma)$ for any $\\sigma > 0$ (the corresponding log-normal distribution then has a mean $e^{\\mu + \\sigma^2/2} = e^{(1/2 - \\beta) \\sigma^2}$).\n",
    "We plot the curves for different values of $\\sigma$."
   ]
  },
  {
   "cell_type": "markdown",
   "metadata": {
    "slideshow": {
     "slide_type": "-"
    }
   },
   "source": [
    "# 2. Albert-Barabási Degree distribution"
   ]
  },
  {
   "cell_type": "markdown",
   "metadata": {
    "slideshow": {
     "slide_type": "-"
    }
   },
   "source": [
    "## Question 1"
   ]
  },
  {
   "cell_type": "markdown",
   "metadata": {
    "slideshow": {
     "slide_type": "-"
    }
   },
   "source": [
    "Write a function that gives, for given $\\alpha$ and $n$, the vector of node degrees of an Albert-Barabási graph of $n$ nodes built from a graph seed $G(0)$ of two nodes linked together. *Advice*: drawing proportionnally to degree may be a computational bottleneck. Noticing that the degrees of such an AB graph of size $n$ sum to $2n-2$, can you build an array of size $2n-2$ such that picking a node proportionnally to its degree corresponds to picking up a random uniform element of the array?"
   ]
  },
  {
   "cell_type": "markdown",
   "metadata": {},
   "source": [
    "**Answer:**\n",
    "The trick is to log the start and end nodes of added edges in some growing (pre-allocated ;) ) array, so at any time any node is present in the array with multiplicity equal to its current degree. The code can be made faster the numpy way, but it is not necessary (to do... or not)."
   ]
  },
  {
   "cell_type": "markdown",
   "metadata": {
    "slideshow": {
     "slide_type": "-"
    }
   },
   "source": [
    "## Question 2\n",
    "\n",
    "After choosing a value of $n$:\n",
    "- such that the code above runs reasonably fast (less than a dozen seconds),\n",
    "- as large as you can,\n",
    "\n",
    "Study the degree distribution (CCDF and number of nodes having specified degrees) for a few values of $\\alpha$ between $0$ and $1$. Compare the results to what you saw in course."
   ]
  },
  {
   "cell_type": "markdown",
   "metadata": {
    "slideshow": {
     "slide_type": "-"
    }
   },
   "source": [
    "**Answer:**"
   ]
  },
  {
   "cell_type": "markdown",
   "metadata": {},
   "source": [
    "## Question 3 (Bonus)\n",
    "\n",
    "What can you say specifically for the case $\\alpha = 1$ ?"
   ]
  },
  {
   "cell_type": "markdown",
   "metadata": {},
   "source": [
    "**Answer:**\n",
    "If you look at the formula from the course, you get $\\frac{c_{i+1}}{c_i}=\\frac 1 2$. In other words, you have a geometric distribution and the probability to have degree $i$ ($i\\geq 1$) is $\\frac{1}{2^i}$. You can see it by drawing the previous results on a semilog plot."
   ]
  },
  {
   "cell_type": "code",
   "execution_count": 7,
   "metadata": {
    "ExecuteTime": {
     "end_time": "2016-11-13T14:43:59.244639",
     "start_time": "2016-11-13T14:43:57.860877"
    },
    "collapsed": false
   },
   "outputs": [
    {
     "data": {
      "image/png": "[encoded data removed]",
      "text/plain": [
       "<matplotlib.figure.Figure at 0x20867aadba8>"
      ]
     },
     "metadata": {},
     "output_type": "display_data"
    }
   ],
   "source": [
    "figure()\n",
    "semilogy((arange(1, len(deg_dist3)+1)), deg_dist3, 'g.', label = \"$\\\\alpha = 1$\")\n",
    "xlabel(\"Degree\")\n",
    "ylabel(\"Number of nodes\")\n",
    "legend(loc = 1, numpoints = 1)\n",
    "show()"
   ]
  },
  {
   "cell_type": "markdown",
   "metadata": {},
   "source": [
    "# 3. Power Laws on Datasets"
   ]
  },
  {
   "cell_type": "markdown",
   "metadata": {},
   "source": [
    "When doing research, it is frequent to deal with some datasets. Sometimes, you will have to produce them yourself. This is not as easy as it seems and a full course would probably only scratch the surface of the required skills. Sometimes, others have done all the heavy lifting for you, and you just need to learn how to use existing datasets for your specific needs."
   ]
  },
  {
   "cell_type": "markdown",
   "metadata": {},
   "source": [
    "**File Format:** The datasets are provided with the following format:\n",
    "- **_dataset_.ids** contains the actual names of the nodes (one per line, $ n $ lines in total). By convention, each node is associated to its line number (from $ 0 $ to $ n-1 $). Actual names may contain special characters (e.g. *ç*, *é*), so it is encoded with *utf-8*.\n",
    "- **_dataset_.adja** contains the adjacency list of the graph: line $ i $ (from $ 0 $ to $ n-1 $) contains, in plain ASCII, the numbers of the nodes that are neighbors of $ i $. "
   ]
  },
  {
   "cell_type": "markdown",
   "metadata": {},
   "source": [
    "Datasets will be given on a USB key. This practical assumes they are stored in **../Datasets/** relatively to your working directory (adjust according to your own organization)."
   ]
  },
  {
   "cell_type": "markdown",
   "metadata": {},
   "source": [
    "## DBLP"
   ]
  },
  {
   "cell_type": "markdown",
   "metadata": {},
   "source": [
    "DBLP (*DataBase systems and Logic Programming* or *Digital Bibliography & Library Project*) is THE database that records CS publications. It records authors, conferences, journals... It is a good entry point to study a good example of undirected small-world: the co-authorship graph.\n",
    "\n",
    "There are multiple versions of the DBLP graph available. For this practical, we will focus on the one available in http://konect.uni-koblenz.de/networks/dblp_coauthor\n",
    "\n",
    "Let us begin with a simple example on how to compute the size of the Dataset."
   ]
  },
  {
   "cell_type": "code",
   "execution_count": 8,
   "metadata": {
    "ExecuteTime": {
     "end_time": "2016-11-13T14:43:59.266660",
     "start_time": "2016-11-13T14:43:59.249144"
    },
    "collapsed": true
   },
   "outputs": [],
   "source": [
    "import codecs\n",
    "directory = \"../Datasets/\"\n",
    "def get_size_from_dataset(prefix = \"dblp\"):\n",
    "    n = 0\n",
    "    m = 0\n",
    "    with codecs.open(directory+prefix+\".adja\", \"r\", \"utf-8\") as f:\n",
    "        for line in f:\n",
    "            n += 1\n",
    "            m += len([int(s) for s in line.split()])\n",
    "    return n, m"
   ]
  },
  {
   "cell_type": "markdown",
   "metadata": {},
   "source": [
    "Note: the use of **codecs** is to prepare you to using **.ids** files, which may have special characters."
   ]
  },
  {
   "cell_type": "markdown",
   "metadata": {},
   "source": [
    "## Question 1\n",
    "\n",
    "What does the code above returns?\n",
    "\n",
    "Give the number of nodes and edges of the DBLP dataset (warning, there may be a trap)."
   ]
  },
  {
   "cell_type": "markdown",
   "metadata": {},
   "source": [
    "**Answer:**"
   ]
  },
  {
   "cell_type": "markdown",
   "metadata": {},
   "source": [
    "## Question 2"
   ]
  },
  {
   "cell_type": "markdown",
   "metadata": {},
   "source": [
    "Hum, this takes quite a while just to get such simple information. Let us try the following approach:"
   ]
  },
  {
   "cell_type": "code",
   "execution_count": 10,
   "metadata": {
    "ExecuteTime": {
     "end_time": "2016-11-13T14:44:26.516570",
     "start_time": "2016-11-13T14:44:26.504559"
    },
    "collapsed": true
   },
   "outputs": [],
   "source": [
    "def get_size(prefix = \"dblp\"):\n",
    "    try:\n",
    "        return np.load(directory+prefix+\"-size.npy\")\n",
    "    except IOError:\n",
    "        np.save(directory+prefix+\"-size\", get_size_from_dataset(prefix))\n",
    "        return get_size(prefix)"
   ]
  },
  {
   "cell_type": "markdown",
   "metadata": {},
   "source": [
    "Test and explain the interest of using the **get_size** function (remark: you are **very strongly** encouraged to re-use this technique)."
   ]
  },
  {
   "cell_type": "markdown",
   "metadata": {},
   "source": [
    "**Answer:**"
   ]
  },
  {
   "cell_type": "markdown",
   "metadata": {},
   "source": [
    "## Question 3\n",
    "\n",
    "Write a function that gives the degree distribution. For example, it may return an array *deg_dist* such that the number of nodes that have degree $i$ is *deg_dist[i-1]*. Display the degree distribution in a loglog scale. Also display the Complentary Cumulative Distribution Function of the degree. Comment the results in view of the previous parts of this practical."
   ]
  },
  {
   "cell_type": "markdown",
   "metadata": {},
   "source": [
    "**Answer:**"
   ]
  },
  {
   "cell_type": "markdown",
   "metadata": {},
   "source": [
    "## Wikipedia\n",
    "\n",
    "We now play with French and English crawls of Wikipedia made in 2013 and available on http://webgraph.di.unimi.it/. The graphs have been *cleaned*: only links from one article to another article are kept.\n",
    "\n",
    "Two main differences with the DBLP database you just dealt with:\n",
    "- The graphs are now *oriented*: a link from $i$ to $j$ does not mean there is a link from $j$ to $i$.\n",
    "- The graphs are bigger. If you didn't optimize your code for DBLP, you probably will have to here. \n",
    "\n",
    "The French crawl is made of three files:\n",
    "- **frwiki-2013.ids** contains the article titles (one per line, $ n $ lines in total). By convention, each article is associated to its line number (from $ 0 $ to $ n-1 $).\n",
    "- **frwiki-2013.adja** contains the adjacency list of the graph: line $ i $ (from $ 0 $ to $ n-1 $) contains, in plain ASCII, the numbers of the articles that are linked by $ i $. \n",
    "- **frwiki-2013-t.adja** contains the adjacency list of the transposed graph: line $ i $ (from $ 0 $ to $ n-1 $) contains the numbers of the articles that have a link to $ i $.\n",
    "\n",
    "The English crawl is provided in a similar way, with the prefix **enwiki-2013** instead of **frwiki-2013**. Note that it is roughly three times bigger than the French crawl. Feel free to use the dataset(s) you want.\n",
    "\n",
    "The questions are essentially the same than for the DBLP dataset.\n",
    "\n",
    "## Question 4\n",
    "\n",
    "Give the number of nodes and edges of the dataset(s)."
   ]
  },
  {
   "cell_type": "markdown",
   "metadata": {},
   "source": [
    "**Answer:**"
   ]
  },
  {
   "cell_type": "markdown",
   "metadata": {},
   "source": [
    "## Question 5"
   ]
  },
  {
   "cell_type": "markdown",
   "metadata": {},
   "source": [
    "Display in a loglog scale the degree distribution(s). Comment the results."
   ]
  },
  {
   "cell_type": "markdown",
   "metadata": {},
   "source": [
    "**Answer:**"
   ]
  }
 ],
 "metadata": {
  "anaconda-cloud": {},
  "kernelspec": {
   "display_name": "Python [conda root]",
   "language": "python",
   "name": "conda-root-py"
  },
  "language_info": {
   "codemirror_mode": {
    "name": "ipython",
    "version": 3
   },
   "file_extension": ".py",
   "mimetype": "text/x-python",
   "name": "python",
   "nbconvert_exporter": "python",
   "pygments_lexer": "ipython3",
   "version": "3.5.2"
  },
  "nav_menu": {},
  "toc": {
   "navigate_menu": true,
   "number_sections": false,
   "sideBar": true,
   "threshold": 6,
   "toc_cell": false,
   "toc_section_display": "block",
   "toc_window_display": false
  }
 },
 "nbformat": 4,
 "nbformat_minor": 0
}
