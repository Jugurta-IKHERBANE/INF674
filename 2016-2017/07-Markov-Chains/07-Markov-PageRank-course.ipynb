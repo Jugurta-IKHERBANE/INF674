{
 "cells": [
  {
   "cell_type": "code",
   "execution_count": 1,
   "metadata": {
    "ExecuteTime": {
     "end_time": "2016-10-25T16:16:27.988233",
     "start_time": "2016-10-25T16:16:27.968205"
    },
    "collapsed": false,
    "slideshow": {
     "slide_type": "skip"
    }
   },
   "outputs": [
    {
     "data": {
      "text/html": [
       "<style>\n",
       ".output_png {\n",
       "    display: table-cell;\n",
       "    text-align: center;\n",
       "    vertical-align: middle;\n",
       "}\n",
       "\n",
       "body:after {\n",
       "background-image: url('../04-Small-Worlds/lincs.png');\n",
       "background-size: 200px 100px;\n",
       "position: fixed;\n",
       "bottom: 1em;\n",
       "right: 8em;\n",
       "width: 200px; \n",
       "height: 100px;\n",
       "content:\"\";\n",
       "}\n",
       "</style> "
      ],
      "text/plain": [
       "<IPython.core.display.HTML object>"
      ]
     },
     "metadata": {},
     "output_type": "display_data"
    }
   ],
   "source": [
    "%%HTML\n",
    "<style>\n",
    ".output_png {\n",
    "    display: table-cell;\n",
    "    text-align: center;\n",
    "    vertical-align: middle;\n",
    "}\n",
    "\n",
    "body:after {\n",
    "background-image: url('../04-Small-Worlds/lincs.png');\n",
    "background-size: 200px 100px;\n",
    "position: fixed;\n",
    "bottom: 1em;\n",
    "right: 8em;\n",
    "width: 200px; \n",
    "height: 100px;\n",
    "content:\"\";\n",
    "}\n",
    "</style> "
   ]
  },
  {
   "cell_type": "markdown",
   "metadata": {
    "nbpresent": {
     "id": "4b2ef57f-1b33-4ac8-abd3-d98255e23229"
    },
    "slideshow": {
     "slide_type": "slide"
    }
   },
   "source": [
    "# Markov Chains & PageRank\n",
    "\n",
    "## Céline Comte, Fabien Mathieu\n",
    "\n",
    "### ACN Master"
   ]
  },
  {
   "cell_type": "markdown",
   "metadata": {
    "nbpresent": {
     "id": "c8d009fc-bc3c-4ac5-be9e-84b62f84a295"
    },
    "slideshow": {
     "slide_type": "subslide"
    }
   },
   "source": [
    "# Roadmap\n",
    "\n",
    "## 1. Introduction\n",
    "\n",
    "## 2. Markov Chains\n",
    "\n",
    "## 3. PageRank"
   ]
  },
  {
   "cell_type": "markdown",
   "metadata": {
    "slideshow": {
     "slide_type": "slide"
    }
   },
   "source": [
    "# Introduction"
   ]
  },
  {
   "cell_type": "markdown",
   "metadata": {
    "slideshow": {
     "slide_type": "slide"
    }
   },
   "source": [
    "# Online resources\n",
    "\n",
    "For theoretical background, look at\n",
    "- [Web Graphs, PageRank-like Measurements](https://tel.archives-ouvertes.fr/tel-00667563) (in French)\n",
    "- [Extension of PageRank and application to social networks](https://tel.archives-ouvertes.fr/tel-01187929)"
   ]
  },
  {
   "cell_type": "markdown",
   "metadata": {
    "slideshow": {
     "slide_type": "subslide"
    }
   },
   "source": [
    "# How to find the page I am looking for?\n",
    "\n",
    "- I know it already (bookmark...)\n",
    "- I surf from page to page\n",
    "- I use a **search engine**"
   ]
  },
  {
   "cell_type": "markdown",
   "metadata": {
    "slideshow": {
     "slide_type": "subslide"
    }
   },
   "source": [
    "# Ranking: A Big Issue\n",
    "\n",
    "- One request, lot of answers:\n",
    "    - Google : 11 billions results\n",
    "    - Algorithm: 128 millions results\n",
    "    - Platypus: 9 millions results\n",
    "- Humans seldom read past the first page (10 results)\n",
    "- How to select relevant pages?"
   ]
  },
  {
   "cell_type": "markdown",
   "metadata": {
    "slideshow": {
     "slide_type": "subslide"
    }
   },
   "source": [
    "# An Old Issue\n",
    "\n",
    "\n",
    "- Find a relevant research paper\n",
    "- $ \\rightarrow $ Scientometrics (middle of 20th century)\n",
    "- http://www.andreasaltelli.eu/file/repository/Little_science_big_science_and_beyond.pdf"
   ]
  },
  {
   "cell_type": "markdown",
   "metadata": {
    "slideshow": {
     "slide_type": "subslide"
    }
   },
   "source": [
    "# Solutions\n",
    "\n",
    "- Content of pages (pertinence)\n",
    "- Study the URL\n",
    "- Number of incoming links\n",
    "- **Hyperlinks**"
   ]
  },
  {
   "cell_type": "markdown",
   "metadata": {
    "slideshow": {
     "slide_type": "slide"
    }
   },
   "source": [
    "# Markov Chains"
   ]
  },
  {
   "cell_type": "markdown",
   "metadata": {
    "slideshow": {
     "slide_type": "slide"
    }
   },
   "source": [
    "# Definitions\n",
    "\n",
    "- $ V $: a set of state\n",
    "- *Random process* $ X_k, k\\in \\mathbb{N} $: set of random variables on $ V $\n",
    "- *Markov chain*: $\\forall k$,\n",
    "$$P(X_k=j|X_{k-1} = i_{k-1}, \\ldots, X_0 = i_0) = P(X_k=j | X_{k-1} = i_{k-1})$$\n",
    "- Transition coefficients: $ p^k_{i,j} = P(X_k = j | X_{k-1} = i) $\n",
    "- Homogeneous chain: $ p^k_{i,j} \\rightarrow p_{i,j} $."
   ]
  },
  {
   "cell_type": "markdown",
   "metadata": {
    "slideshow": {
     "slide_type": "subslide"
    }
   },
   "source": [
    "# Stochastic matrix\n",
    "\n",
    "- $ A = (p_{i,j}) $: right stochastic matrix (each line sums to $1$.\n",
    "- If $ x_k $ (row vector) represents state distribution at step $ k $, then $ x_k = x_0 A^k $.\n",
    "- Interpretation : multiply by $ A $ $\\Rightarrow$ move one step.\n",
    "- Proof: just write it."
   ]
  },
  {
   "cell_type": "markdown",
   "metadata": {
    "slideshow": {
     "slide_type": "subslide"
    }
   },
   "source": [
    "# Transition Graph\n",
    "\n",
    "A Markov chain can be represented by a weighted oriented graph $ G = (V,E,m) $\n",
    "- $ V $: states\n",
    "- $ E $: non zero transitions\n",
    "- $ m(e) $: probability of transition $ e $"
   ]
  },
  {
   "cell_type": "markdown",
   "metadata": {
    "slideshow": {
     "slide_type": "fragment"
    }
   },
   "source": [
    "*Spoiler : PageRank interprets a Web Graph as a transition graph*"
   ]
  },
  {
   "cell_type": "markdown",
   "metadata": {
    "slideshow": {
     "slide_type": "subslide"
    }
   },
   "source": [
    "# Aperiodic, Irreducible\n",
    "\n",
    "- Aperiodic: all nodes have period 1\n",
    "- Irreducible: $ \\forall i,j, \\exists k, (A^k)_{i,j} > 0 $\n",
    "- Irreducibility is linked to connectivity"
   ]
  },
  {
   "cell_type": "markdown",
   "metadata": {
    "slideshow": {
     "slide_type": "slide"
    }
   },
   "source": [
    "# Stochastic Perron-Frobenius"
   ]
  },
  {
   "cell_type": "markdown",
   "metadata": {
    "slideshow": {
     "slide_type": "subslide"
    }
   },
   "source": [
    "# Main Theorem\n",
    "\n",
    "Let $A$ be a stochastic matrix\n",
    "1. The spectral radius of $ A $ is $1$, (it is an eigenvalue)\n",
    "2. If $ A $ is irreducible, there is a unique probability $P$ that is left eigenvector. $ P > 0 $.\n",
    "3. If $ A $ is also aperiodic, all eigenvalues but $1$ have modulus < 1.\n",
    "\n",
    "Proof of 1. as exercise"
   ]
  },
  {
   "cell_type": "markdown",
   "metadata": {
    "slideshow": {
     "slide_type": "subslide"
    }
   },
   "source": [
    "# Convergence of $A$\n",
    "\n",
    "Let $ A $ be stochastic, irreducible, aperiodic, $ P $ the corresponding probability eigenvalue.\n",
    "\n",
    "Then $ A^k \\underset{k\\to \\infty}{\\longrightarrow} \\mathbf{1}.P $\n",
    "\n",
    "Proof: $ A^k $ converges to $ A^\\infty $, stochastic rank 1 projection over $ P $."
   ]
  },
  {
   "cell_type": "markdown",
   "metadata": {
    "slideshow": {
     "slide_type": "subslide"
    }
   },
   "source": [
    "# Corollary\n",
    "\n",
    "Let $ P_0 $ be a probability distribution over $ V $. Then $ P_k := P_0 A^k \\underset{k\\to \\infty}{\\longrightarrow} P $.\n",
    "\n",
    "Proof: straightforward"
   ]
  },
  {
   "cell_type": "markdown",
   "metadata": {
    "slideshow": {
     "slide_type": "subslide"
    }
   },
   "source": [
    "# Interpretation\n",
    "\n",
    "- An irreducible, aperiodic, Markov Chain *forgets* its starting point.\n",
    "- $ P $: stationary distribution.\n",
    "- $ P > 0 $: all states are visited infinitely often"
   ]
  },
  {
   "cell_type": "markdown",
   "metadata": {
    "slideshow": {
     "slide_type": "slide"
    }
   },
   "source": [
    "# Removing hypothesis\n",
    "\n",
    "Perron-Frobenius conditions are not always met:\n",
    "- reducible matrices\n",
    "- periodic graphs\n",
    "- sub-stochastic matrices"
   ]
  },
  {
   "cell_type": "markdown",
   "metadata": {
    "slideshow": {
     "slide_type": "subslide"
    }
   },
   "source": [
    "# Reducible matrices\n",
    "\n",
    "Any directed graph can be split into strongly connected components (SCCs)\n",
    "If $A$ is reducible, $G$ possesses more than one SCC:\n",
    "- At least one *recurrent* SCC\n",
    "- Possibly transient SCC's"
   ]
  },
  {
   "cell_type": "markdown",
   "metadata": {
    "slideshow": {
     "slide_type": "subslide"
    }
   },
   "source": [
    "# Reducible matrices\n",
    "\n",
    "Up to a permutation of states we have:\n",
    "$$A =\n",
    "\\begin{pmatrix}\n",
    "T & E \\\\\n",
    "0 &  R\n",
    "\\end{pmatrix}\\text{, with } R = \n",
    "\\begin{pmatrix}\n",
    "R_1 & 0 & \\cdots & 0 \\\\\n",
    "0 & \\ddots & \\ddots & \\vdots \\\\\n",
    "\\vdots & \\ddots & \\ddots & 0 \\\\\n",
    "0 & \\cdots & 0 & R_d\n",
    "\\end{pmatrix} $$"
   ]
  },
  {
   "cell_type": "markdown",
   "metadata": {
    "slideshow": {
     "slide_type": "subslide"
    }
   },
   "source": [
    "# Reducible matrices\n",
    "\n",
    "If the recurrent SCC's are ap. ir.\n",
    "$$A^k \\underset{k\\to \\infty}{\\longrightarrow}\n",
    "\\begin{pmatrix}\n",
    "0 & F \\\\\n",
    "0 &  R^\\infty\n",
    "\\end{pmatrix}\\text{, with }\n",
    "\\left\\{\n",
    "\t\\begin{array}{l}\n",
    "R^\\infty = \n",
    "\\begin{pmatrix}\n",
    "R^\\infty_1 & 0 & \\cdots & 0 \\\\\n",
    "0 & \\ddots & \\ddots & \\vdots \\\\\n",
    "\\vdots & \\ddots & \\ddots & 0 \\\\\n",
    "0 & \\cdots & 0 & R^\\infty_d\n",
    "\\end{pmatrix} \\\\\n",
    "\\text{ and }\\\\\n",
    "F = (\\mathbf{1}-T)^{-1}ER^\\infty \n",
    "\\end{array}\n",
    "\\right.\n",
    "$$"
   ]
  },
  {
   "cell_type": "markdown",
   "metadata": {
    "slideshow": {
     "slide_type": "subslide"
    }
   },
   "source": [
    "# Interpretation\n",
    "\n",
    "- $ R^\\infty $: cannot escape a recurrent SCC.\n",
    "- $ T^k \\to 0 $: probability of been in transient state goes to $0$.\n",
    "- $ F $ describes the dispatch from transient to recurrent:\n",
    "    - $ (1-T)^{-1} = \\sum T^k $: walk in transient SCC's;\n",
    "    - $ E $: transient/recurrent transition;\n",
    "    - $ R^\\infty $: stationary state."
   ]
  },
  {
   "cell_type": "markdown",
   "metadata": {
    "slideshow": {
     "slide_type": "subslide"
    }
   },
   "source": [
    "# Periodic Matrices\n",
    "\n",
    "- Cycles\n",
    "- Bipartite graphs\n",
    "\n",
    "If irreducible:\n",
    "- Keep existence of a unique eigenprobability.\n",
    "- Lose standard convergence (keep Cesàro convergence)"
   ]
  },
  {
   "cell_type": "markdown",
   "metadata": {
    "slideshow": {
     "slide_type": "subslide"
    }
   },
   "source": [
    "# Periodic Matrices\n",
    "\n",
    "Let $ A $ be stochastic, irreducible, associated to probability $ P $. Let $B = (\\alpha A) + (1-\\alpha \\mathbf{1}) $, for $ \\alpha \\in ]0,1[ $, $ P_0 $ a probability. Then\n",
    "$$P_0 B^k\\underset{k\\to \\infty}{\\longrightarrow} P$$\n",
    "\n",
    "Interpretation: uniform loops preserve $P$ and suppress periodicity."
   ]
  },
  {
   "cell_type": "markdown",
   "metadata": {
    "slideshow": {
     "slide_type": "subslide"
    }
   },
   "source": [
    "# Substochastic matrices\n",
    "\n",
    "$ A $ sub-stochastic: $ 0\\leq A \\lneq B $, with $ B $ stochastic.\n",
    "\n",
    "$ A $ sub-irreducible: $ 0\\leq A \\lneq B $, with $ B $ stochastic irreducible.\n",
    "\t\n",
    "Theorem: if $ A $ sub-irreducible, $ A^k \\to 0 $\n",
    "\n",
    "Interpretation: leak (aka incomplete Markov Chain)"
   ]
  },
  {
   "cell_type": "markdown",
   "metadata": {
    "slideshow": {
     "slide_type": "subslide"
    }
   },
   "source": [
    "# Pseudo-Recurrent Component\n",
    "\n",
    "Let $ A $ be non-negative, associated to $G$. A SCC is pseudo-recurrent iff:\n",
    "- Its spectral radius is maximal (compared to other SCCs);\n",
    "- Any SCC reachable from it has a strictly smaller spectral radius"
   ]
  },
  {
   "cell_type": "markdown",
   "metadata": {
    "slideshow": {
     "slide_type": "subslide"
    }
   },
   "source": [
    "# Theorem\n",
    "- The spectral radius of $A$ is the one of PR SCC's;\n",
    "- There is a positive maximal eigenvalue (unique if aperiodicity), with multiplicity equal to the number of PR SCC's;\n",
    "- To each PR SCC $ C $ is associated a non-negative eigenvalue with support $ \\uparrow C $."
   ]
  },
  {
   "cell_type": "markdown",
   "metadata": {
    "slideshow": {
     "slide_type": "subslide"
    }
   },
   "source": [
    "# Interpretation\n",
    "\n",
    "If $ A $ is sub-irreducible, $ A^k $ goes to $ 0 $, but:\n",
    "- Convergence is not uniform.\n",
    "- Pseudo-recurrent components are the slowest $ \\rightarrow $ they will prevail in $ A^k $.\n",
    "- If one unique pseudo-recurrent $ C $ and $ \\uparrow C = V $, $ A $ is *pseudo-irreducible*."
   ]
  },
  {
   "cell_type": "markdown",
   "metadata": {
    "ExecuteTime": {
     "end_time": "2016-10-24T22:25:19.040555",
     "start_time": "2016-10-24T22:25:18.952488"
    },
    "slideshow": {
     "slide_type": "subslide"
    }
   },
   "source": [
    "# Take-Away\n",
    "\n",
    "- Markov Chain $ \\Leftrightarrow $ random walk in a graph.\n",
    "- Perfect case (fully defined, irreducible, aperiodic) $ \\Rightarrow $ convergence to a unique stationary distribution.\n",
    "- Otherwise, workarounds are required"
   ]
  },
  {
   "cell_type": "markdown",
   "metadata": {
    "slideshow": {
     "slide_type": "slide"
    }
   },
   "source": [
    "# PageRank Basics"
   ]
  },
  {
   "cell_type": "markdown",
   "metadata": {
    "slideshow": {
     "slide_type": "slide"
    }
   },
   "source": [
    "# Use hyperlinks\n",
    "\n",
    "- Simple method: Indegree\n",
    "- Problem: robustness\n",
    "- Brin & Page: a page is important if referenced by important pages\n",
    "    - *Recursive* indegree\n",
    "    - Must be turned into equation"
   ]
  },
  {
   "cell_type": "markdown",
   "metadata": {
    "slideshow": {
     "slide_type": "subslide"
    }
   },
   "source": [
    "# Random surfer\t\n",
    "\n",
    "- Assumes important pages are easily found thanks to structure\n",
    "- Model: user randomly clicks from page to page\n",
    "- Importance $ \\Leftrightarrow $ probability\n",
    "- A few details to check"
   ]
  },
  {
   "cell_type": "markdown",
   "metadata": {
    "slideshow": {
     "slide_type": "subslide"
    }
   },
   "source": [
    "# Web graph transition matrix\n",
    "\n",
    "$ A = (a_{ij}) $, with $ a_{i,j} = 1 / d(i) $ if $ i \\rightarrow j $, 0 otherwise.\n",
    "- $ A $ is substochastic.\n",
    "- $ A $ stochastic $ \\Leftrightarrow $ no leaf."
   ]
  },
  {
   "cell_type": "markdown",
   "metadata": {
    "slideshow": {
     "slide_type": "subslide"
    }
   },
   "source": [
    "# PageRank: simple definition\n",
    "\n",
    "- Build $A$ from Web Graph, assume PF conditions are met\n",
    "- Choose some $P_0$ over $V$\n",
    "- Do $P_{n+1} = P_n A$ as long as necessary\n",
    "- PR on simple graph?\n"
   ]
  },
  {
   "cell_type": "markdown",
   "metadata": {
    "slideshow": {
     "slide_type": "slide"
    }
   },
   "source": [
    "# Coping with Web Graph Reality\n",
    "\n",
    "- ~~Stochastic~~\n",
    "- ~~Irreducible~~\n",
    "- ~~Fit in memory~~"
   ]
  },
  {
   "cell_type": "markdown",
   "metadata": {
    "slideshow": {
     "slide_type": "subslide"
    }
   },
   "source": [
    "# Stochasticity of a Web graph\n",
    "\n",
    "A web graph possesses many leaves:\n",
    "- Pages with no *href*s\n",
    "- Unexplored pages (pages are crawled)\n",
    "\n",
    "As a result, probability leaks."
   ]
  },
  {
   "cell_type": "markdown",
   "metadata": {
    "slideshow": {
     "slide_type": "subslide"
    }
   },
   "source": [
    "# Normalized PageRank\n",
    "\n",
    "Simple workaround for leaves: $P_{n+1} = P_n A / ||P_n A||_1$\n",
    "- Simple, leaks are compensated\n",
    "- Only works for pseudo-irreducible matrices\n",
    "- Appeared in [What can you do with a Web in your Pocket?](http://citeseerx.ist.psu.edu/viewdoc/download?doi=10.1.1.36.2806&rep=rep1&type=pdf)"
   ]
  },
  {
   "cell_type": "markdown",
   "metadata": {
    "slideshow": {
     "slide_type": "subslide"
    }
   },
   "source": [
    "# PageRank with damping\n",
    "\n",
    "- Actual class of PageRank to use\n",
    "- $P_{n+1} = \\alpha P_n A +(1-\\alpha) Z$\n",
    "    - $Z$: zapping distribution\n",
    "    - $\\alpha$: damping factor"
   ]
  },
  {
   "cell_type": "markdown",
   "metadata": {
    "slideshow": {
     "slide_type": "subslide"
    }
   },
   "source": [
    "# Interpretations\n",
    "\n",
    "- Random walk with reset\n",
    "- Propagation of vanishing fluid injected from $Z$\n",
    "- Fixed point equation"
   ]
  },
  {
   "cell_type": "markdown",
   "metadata": {
    "slideshow": {
     "slide_type": "subslide"
    }
   },
   "source": [
    "# Memory footprint\n",
    "\n",
    "Usually, $A$ does not fit into memory.\n",
    "\n",
    "Solution: cf Wikipedia practical"
   ]
  },
  {
   "cell_type": "markdown",
   "metadata": {
    "slideshow": {
     "slide_type": "slide"
    }
   },
   "source": [
    "# Customization\n",
    "\n",
    "In practice, ranking corresponds to a *request*.\n",
    "- Mix PR with other metrics\n",
    "- Customize PR itself"
   ]
  },
  {
   "cell_type": "markdown",
   "metadata": {
    "slideshow": {
     "slide_type": "subslide"
    }
   },
   "source": [
    "# Customization\n",
    "\n",
    "Three ways to customize $A$:\n",
    "- $\\alpha$\n",
    "- $A$\n",
    "- $Z$ (cf practical)"
   ]
  }
 ],
 "metadata": {
  "anaconda-cloud": {},
  "kernelspec": {
   "display_name": "Python [default]",
   "language": "python",
   "name": "python3"
  },
  "language_info": {
   "codemirror_mode": {
    "name": "ipython",
    "version": 3
   },
   "file_extension": ".py",
   "mimetype": "text/x-python",
   "name": "python",
   "nbconvert_exporter": "python",
   "pygments_lexer": "ipython3",
   "version": "3.5.2"
  },
  "livereveal": {
   "font-size": "40%",
   "height": "100%",
   "margin": 0,
   "maxScale": "10",
   "minScale": ".1",
   "start_slideshow_at": "selected",
   "theme": "sky",
   "transition": "page",
   "width": "100%"
  },
  "nav_menu": {
   "height": "422px",
   "width": "457px"
  },
  "nbpresent": {
   "slides": {},
   "themes": {}
  },
  "toc": {
   "navigate_menu": true,
   "number_sections": false,
   "sideBar": true,
   "threshold": 6,
   "toc_cell": false,
   "toc_section_display": "block",
   "toc_window_display": false
  }
 },
 "nbformat": 4,
 "nbformat_minor": 1
}
