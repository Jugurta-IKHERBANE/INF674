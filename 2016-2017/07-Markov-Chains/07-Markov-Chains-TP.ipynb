{
 "cells": [
  {
   "cell_type": "markdown",
   "metadata": {},
   "source": [
    "# INF 674 S7: Markov Chains\n",
    "\n",
    "## Céline Comte & Fabien Mathieu\n",
    "\n",
    "### 2016-2017"
   ]
  },
  {
   "cell_type": "markdown",
   "metadata": {},
   "source": [
    "**Remark**: the number of this Session is 7, and not 6, because the sessions numbers have been renumbered:\n",
    "- S0 Python Introduction\n",
    "- S1 Galton-Watson\n",
    "- S2 Erdös-Rényi\n",
    "- S3 Competitive Epidemics\n",
    "- S4 Small-Worlds\n",
    "- S5 Power Laws\n",
    "- S6 Distances and Clustering\n",
    "- S7 Markov Chains\n",
    "- S8 PageRank on a real dataset\n",
    "- S9 Navigability"
   ]
  },
  {
   "cell_type": "markdown",
   "metadata": {},
   "source": [
    "The objective of this practical is to make you *see* a Markov chain in action. In particular, you will observe what happens if the conditions of the Perron-Frobenius theorem are not met."
   ]
  },
  {
   "cell_type": "markdown",
   "metadata": {},
   "source": [
    "# Things to know"
   ]
  },
  {
   "cell_type": "markdown",
   "metadata": {},
   "source": [
    "** Right stochastic matrix**\n",
    "Let $A = (a_{i,j})$ be a $n\\times n$ matrix. We say that $A$ is a *right* stochastic matrix if:\n",
    "- The coefficients of $A$ are non-negative: $\\forall i, j, a_{i,j}\\geq 0$.\n",
    "- Each row sums to 1: $\\forall i, \\sum_j a_{i,j} = 1$.\n",
    "\n",
    "\n",
    "**Homogeneous Markov chain:** A right stochastic matrix $A$ can define a *Markov Chain* that describes the evolution of a distribution over $n$ states as follows: if one is in state $i$ at step $k$ of the process, the probability to be in state $j$ at step $k+1$ is $a_{i,j}$.\n",
    "\n",
    "With this notation, the evolution of a Markov chain is easy to study: if $P_k$ is the probability distribution at step $k$ ($P_k\\geq 0, \\sum_{i}P_k[i]=1$), then if have\n",
    "\n",
    "$$P_{k+1}=P_k A$$\n",
    "\n",
    "**irreducibility:**  Let $A$ be a *non-negative* matrix $A$ ($\\forall i,j, A[i,j]\\geq 0$). Let $G=(V,E)$ be the oriented graph associated to $A$: $(i,j)\\in E$ if, and only if $A[i,j]>0$. The following propositions are equivalent:\n",
    "- $A$ is *irreducible*\n",
    "- $\\forall i,j, \\exists k>0, A^k[i,j]>0$\n",
    "- $G$ is *strongly connected*: $\\forall (i,j)\\in V^2$, there exists an oriented path in $G$ from $i$ to $j$.\n",
    "Intuitively, the irreducibility property indicates that starting from any state, any state can be reached with a positive (e.g. >0) probability after some steps.\n",
    "\n",
    "**aperiodicity:** (*from wikipedia*) For an index $i$, the period of $i$ is the greatest common divisor of all natural numbers $k$ such that $A^k[i,i]>0$. When $A$ is irreducible, the period of every index is the same and is called the period of $A$. \n",
    "\n",
    "If the period is 1, $A$ is *aperiodic*.\n",
    "\n",
    "Intuitively, a period $k>1$ indicates that the length of any cycle must be a multiple of $k$.\n",
    "\n",
    "\n",
    "**Perron-Frobenius Theorem** (a variant, actually)\n",
    "If $A$ is right stochastic, irreducible and aperiodic, then $A^k\\xrightarrow[k\\to \\infty]{} B$, where $B$ is the right stochastic matrix having all its rows equal to the same row vector $Q$ defined as the unique normalized solution to the equation $QA = Q$.\n",
    "\n",
    "**Interpretation:** when the condition of the Perron-Frobenius theorem are met, the process will eventually converge to a unique distribution, which does not depend of its initial state, which is *forgotten*."
   ]
  },
  {
   "cell_type": "markdown",
   "metadata": {},
   "source": [
    "# Markov chains animations "
   ]
  },
  {
   "cell_type": "markdown",
   "metadata": {},
   "source": [
    "To start with, a small experiment that plays with the assumptions of Perron-Frobenius theorem.\n",
    "\n",
    "Consider the following game: you have a circular game board made of $ n = 36 $ squares numbered from $ 0 $ to $ 35 $. At (discrete) turn $ t=0 $, a player stands on square $ 0 $. Between two turns, the player moves from a certain number of squares. Remember that the board is circular: if the player is in square $35$ and moves one square forward, she lands in square $0$. We propose to visualize the evolution of the (probabilistic) position of the player on the board."
   ]
  },
  {
   "cell_type": "markdown",
   "metadata": {},
   "source": [
    "We give you the code to visualize the game where at each turn, the player moves one square forward."
   ]
  },
  {
   "cell_type": "markdown",
   "metadata": {
    "collapsed": true
   },
   "source": [
    "First, evaluate the following cells. Note that you should install ffmpeg if it is not available in your system (https://ffmpeg.org/ ). If you are on a TPT machine, ffmpeg is not available, use the writer *avconv* instead."
   ]
  },
  {
   "cell_type": "code",
   "execution_count": 1,
   "metadata": {
    "ExecuteTime": {
     "end_time": "2016-11-14T11:56:49.030447",
     "start_time": "2016-11-14T11:56:48.228660"
    },
    "collapsed": false
   },
   "outputs": [
    {
     "name": "stdout",
     "output_type": "stream",
     "text": [
      "Populating the interactive namespace from numpy and matplotlib\n"
     ]
    }
   ],
   "source": [
    "%pylab inline"
   ]
  },
  {
   "cell_type": "code",
   "execution_count": 2,
   "metadata": {
    "ExecuteTime": {
     "end_time": "2016-11-14T11:56:49.328727",
     "start_time": "2016-11-14T11:56:49.034450"
    },
    "collapsed": false
   },
   "outputs": [],
   "source": [
    "from matplotlib import animation, rc\n",
    "from IPython.display import HTML\n",
    "\n",
    "# use writer = 'avconv' on TPT computers\n",
    "rc('animation', html='html5', writer = 'ffmpeg')\n",
    "\n",
    "xkcd()\n",
    "\n",
    "n = 36"
   ]
  },
  {
   "cell_type": "markdown",
   "metadata": {},
   "source": [
    "Remark: the use of xkcd() is just to have funny movies. You can remove it."
   ]
  },
  {
   "cell_type": "markdown",
   "metadata": {},
   "source": [
    "The following function will be used to display the evolution of a distribution. It takes two arguments:\n",
    "- *next_step* is a function that takes a distribution as input and ouputs the resulting distribution after one step of the Markov process.\n",
    "- *k_max* indicates the number of steps you want to watch."
   ]
  },
  {
   "cell_type": "code",
   "execution_count": 3,
   "metadata": {
    "ExecuteTime": {
     "end_time": "2016-11-14T11:56:49.362778",
     "start_time": "2016-11-14T11:56:49.333732"
    },
    "collapsed": true
   },
   "outputs": [],
   "source": [
    "def evolution(next_step, k_max):\n",
    "    # Turn interactive plotting off\n",
    "    fig, ax = subplots()\n",
    "    # Initiate probability distribution: the position of the player is known.\n",
    "    P = zeros(n)\n",
    "    P[0] = 1\n",
    "    # Display probability\n",
    "    pbar = ax.bar(range(n),P,1)\n",
    "    xlim([0,n])\n",
    "    #Init only required for blitting to give a clean slate.\n",
    "    def init():\n",
    "        for rect, y in zip(pbar, P):\n",
    "            rect.set_height(y)        \n",
    "        return pbar\n",
    "    def animate(i):\n",
    "        P[:] = next_step(P) # Update the values using the next_step function\n",
    "        for rect, y in zip(pbar, P):\n",
    "            rect.set_height(y)        \n",
    "        return pbar\n",
    "    ani = animation.FuncAnimation(fig, animate, frames = k_max, init_func=init,\n",
    "    interval=25, blit=True)\n",
    "    return ani"
   ]
  },
  {
   "cell_type": "markdown",
   "metadata": {},
   "source": [
    "The rule for the toy example is to move one case forward. This can be easily done with the **np.roll** function."
   ]
  },
  {
   "cell_type": "code",
   "execution_count": 4,
   "metadata": {
    "ExecuteTime": {
     "end_time": "2016-11-14T11:56:49.522932",
     "start_time": "2016-11-14T11:56:49.367780"
    },
    "collapsed": true
   },
   "outputs": [],
   "source": [
    "def next_step(P):\n",
    "    # Roll, baby!\n",
    "    return roll(P, 1)\n",
    "    "
   ]
  },
  {
   "cell_type": "markdown",
   "metadata": {},
   "source": [
    "We now call evolution. The %%capture command hides a static picture that would be shown otherwise."
   ]
  },
  {
   "cell_type": "code",
   "execution_count": 5,
   "metadata": {
    "ExecuteTime": {
     "end_time": "2016-11-14T11:56:50.366808",
     "start_time": "2016-11-14T11:56:49.526936"
    },
    "collapsed": false
   },
   "outputs": [],
   "source": [
    "%%capture\n",
    "ani = evolution(next_step,180)"
   ]
  },
  {
   "cell_type": "markdown",
   "metadata": {},
   "source": [
    "And... Showtime (can take a few seconds to initiate, depending on the tmax you set)"
   ]
  },
  {
   "cell_type": "code",
   "execution_count": 6,
   "metadata": {
    "ExecuteTime": {
     "end_time": "2016-11-14T11:57:34.213979",
     "start_time": "2016-11-14T11:56:50.370813"
    },
    "collapsed": false
   },
   "outputs": [
    {
     "data": {
      "text/html": [
       "<video width=\"600.0\" height=\"400.0\" controls autoplay loop>\n",
       "  <source type=\"video/mp4\" src=\"data:video/mp4;base64,AAAAHGZ0eXBNNFYgAAACAGlzb21pc28yYXZjMQAAAAhmcmVlAADTGW1kYXQAAAKuBgX//6rcRem9\n",
       "5tlIt5Ys2CDZI+7veDI2NCAtIGNvcmUgMTQ4IHIyNzIxIDcyZDUzYWIgLSBILjI2NC9NUEVHLTQg\n",
       "QVZDIGNvZGVjIC0gQ29weWxlZnQgMjAwMy0yMDE2IC0gaHR0cDovL3d3dy52aWRlb2xhbi5vcmcv\n",
       "eDI2NC5odG1sIC0gb3B0aW9uczogY2FiYWM9MSByZWY9MyBkZWJsb2NrPTE6MDowIGFuYWx5c2U9\n",
       "MHgzOjB4MTEzIG1lPWhleCBzdWJtZT03IHBzeT0xIHBzeV9yZD0xLjAwOjAuMDAgbWl4ZWRfcmVm\n",
       "PTEgbWVfcmFuZ2U9MTYgY2hyb21hX21lPTEgdHJlbGxpcz0xIDh4OGRjdD0xIGNxbT0wIGRlYWR6\n",
       "b25lPTIxLDExIGZhc3RfcHNraXA9MSBjaHJvbWFfcXBfb2Zmc2V0PS0yIHRocmVhZHM9NiBsb29r\n",
       "YWhlYWRfdGhyZWFkcz0xIHNsaWNlZF90aHJlYWRzPTAgbnI9MCBkZWNpbWF0ZT0xIGludGVybGFj\n",
       "ZWQ9MCBibHVyYXlfY29tcGF0PTAgY29uc3RyYWluZWRfaW50cmE9MCBiZnJhbWVzPTMgYl9weXJh\n",
       "bWlkPTIgYl9hZGFwdD0xIGJfYmlhcz0wIGRpcmVjdD0xIHdlaWdodGI9MSBvcGVuX2dvcD0wIHdl\n",
       "aWdodHA9MiBrZXlpbnQ9MjUwIGtleWludF9taW49MjUgc2NlbmVjdXQ9NDAgaW50cmFfcmVmcmVz\n",
       "aD0wIHJjX2xvb2thaGVhZD00MCByYz1jcmYgbWJ0cmVlPTEgY3JmPTIzLjAgcWNvbXA9MC42MCBx\n",
       "cG1pbj0wIHFwbWF4PTY5IHFwc3RlcD00IGlwX3JhdGlvPTEuNDAgYXE9MToxLjAwAIAAABiJZYiE\n",
       "ACv//vZzfAprRzOVLgV292aj5dCS5fsQYPrQAAADAAADAABNxX+cCP/wEqBYCwS9P8ZXBPEC/wGc\n",
       "fnewtE7ud/kEbbiYNphBKgpmdqzNgh8cKTu0sWfyhO6Gve6t8A4sVuUnQAAAAwAG2+n0p6lu/7mT\n",
       "d2PgzFLfnUN6z7khfMPumTsMFkueTYEVbEpL+eoQEi/4jK2PqWHeXF1PiYovx/QnA3kn6jBUa85h\n",
       "/qzy78nNneer6/m8ZJdJGg6RWEMPQjXf96zvStTANv3dQKrHLtKLMVIjyJTdsIp9rWOh/g+0DZ8k\n",
       "ua6dV3RBzhGvu3/t8Lu2HEm+xUBjrH3nYHUanp0M3+RFYHzisn7isa7Bgnz7TBLnl/h9ABW4FZY7\n",
       "s7tjOJvkTFNvkmg87Fmbw8N6q2zzOuUxmcvKQJjYPKhCWyFKt7Og8XOVMsp52jqUXkP6Rs3m2qJd\n",
       "zHPGQqIbnW9Q5nfPwRJ/4eOJ7aiNtsTF3J5NLf0f535XQGbH3ZG0z88k6d4zKxwNmVE5LL6GpTAe\n",
       "SLpwYuIy9n3wHTAGFmHP6XaBLrh2YlOG4AWzeT/8IBveexwtIAzhkTjqN6Mxx3AhvdBjIZjbUucR\n",
       "o5uqIHF1mcq0IF4JGO5tODRUtgSWMp+vXIgpfSJnJ+WTbK8jdekDh/GLy7gllPgrzEMzUHm01vTw\n",
       "C6uWJI8bypRFY3WE1nYRYeOASQebsH+sTmqITj633Kd0cfFS2DmfulEaP7/qpiX0iF0pWuwWj365\n",
       "XgNgcJEjO96HbcUDUdKTf5YsNXwbpDzvwRpEwLZYTnFrX5AuXt9cSQW2Z6yVDlXpYoNdJ4yUVwMf\n",
       "FfUhoZiFAqmADFYbxiHcXv4CHqQs8f8pgJ2lLo0srahr8PJki7r5L+Pmja3wcXxaI4VrpMtRY5FO\n",
       "wk7OD67ZZtJ1HUctD+9vYJ3Kty8wacuffH/j8D4oO+xyD7YPTflfkSLi59YHUog69qfnqGeCww4k\n",
       "3V00SaOPNCm9pwDgip6IzkGUUmLo+sIFwxOSJwS1fBPAs6vZfEinmJvbDMvU6OKlAo7imqI/4nle\n",
       "DgDA5S5EBJ5XjZSOpi312LtyPoKiVEiS4Z7Dh+H/ln/vHSUSPRRPGwq0+5OsFj0oxZ9tVFoymnvH\n",
       "rUW/n8dsAv15bJFVygDCt/ih6igQqeF6+Z9+dHNgGDOYtu3rWQqIyx1KaAL7325Kvpsy1wqroaSl\n",
       "opLwS0Hr1vEF5fQ79kORqE/OHO9cewwZP45zom2pWzlLMaVWbZZGR8MKRwh3/1xSCVBPG2PUIAY5\n",
       "KHEzto9ikO1R89bU+5x/lqTBaWhgBUhk7oGYX8xqr0o0Oj7pA5ZUbpOXryd5Lrb2ShXWpZU3J3e5\n",
       "qBt5aGYzHCsdv1q57jX9SnorjZbtu8KHvhUxmEeQhTNHaGW5vSqI0lmlmur5RplnPYdwMQof5r4D\n",
       "zp9UoPiKSB1XUSwPtK4iyAnynUC8Ap6Kj7FuUBj9GuzQ9V2fTxJd/oMmry7rtb9zUu/kwNzDAo3+\n",
       "Ksl4dJ5nty34TSs98IV6Mpb4Sn1V7BXIMmXE6SypFKruckHNX9xdGKY5IojxnZvyVZ3veXuEpiD1\n",
       "85pGTzxKfydGPpNQELcP45x7Y+0ZvLtn9EokBbe3i1KeUrgat8vO9gBitf/qV8Lcppk76j+aUvPw\n",
       "9GII60hB4QZ2A7gmi5YR2zBq1TcH+/QGhmussQEyJi9NU6w6ktOXTzYeHoDvDJap/zS/jGvbusbT\n",
       "41uJ6bz4OA15oEDr0UB/k2TUs/xrpxGdnDIlrzGJlFYN97OTnr0EeTMaJxRguRHjfHxxYWgedS2j\n",
       "qZVWWgrqmNatv0OCd1t37b+J3ko/ltZWUtjOlk5HFpLp41aFOqlWjFIvQsm+hlgceZUxOnstpheE\n",
       "glmZJk/tlQmiyi87C7krF0XoD8K20ZESV7LcRw9cscamdjSQTP8WDnkvZmZbW4vfj8J2m8ughfWM\n",
       "IskA9eOo7SPIjhKt+Bwgh+nljT5oVaOEn3ziRkaijzsiXGtPTSMVMdUTL2ZjqCyc2JNhWnoHUWHf\n",
       "Pz4mxc5tL9V7hQ3YFpgflXDDycF99aR21yGsfMUVPy1UCuyWDGfnaTKHeXyVzzLB9u97/mUV+zL3\n",
       "oKY3QiYeqMXIWkpeNGIJ0rmfiNjJ151osFxKLQDbaTg2k/h9vz8XSmr5klxPcqnRBcqb7IyxbFbN\n",
       "PPflV2x8Q5mnOMRqJ+2li8sCWIBR7XGwRUuupoDJ0JM4Q5FX7+1FCzacvq3XPbSClCIc8ARRpq9v\n",
       "nTwuCIVaq1P/+H06Tb0q2bKlhUCwNbbafCdRI+U7Nz0yooKNI7n18GnB/CMEwDjOEOcaZ5JSlVuN\n",
       "q/NYzgvrVn3FOgucbbaAKZc7+YwR0DfwuAnGp/FVaCfxjujSJo6gBfBMcP3A/jViSTa5wImv+Woz\n",
       "GkjQKUtkDWOXk3oQZ7JEsqE3i6OG4t8YIC9CBtrkgwl3f5CnLR/odKogTODQNe85g06HD/UKo7kY\n",
       "Dya6QRzE+6X0HjgxjLXyAbUbwOujbxnamSnRap668dxTDhnmq5TCfj58akdDhIvkwMMEbCPZV26i\n",
       "/DtqvAnrsDkphi0u39ggE7JC7g8Ae0gxXUmMX8nd0OCYk4N1cazcPNKmE5k3y0oW57Yo3Azxis5U\n",
       "VORqoo8VDcrxku6e84yRPoH7eNkZMO2ubhvIRcrPKjN+8k3Z6DubbZcE5Httto+eDPyUVrEJrt4h\n",
       "JF7rZJsUf6z7wL5Hvg0tjuOTVnQF2XYOcj9sHtG5GXNQILPVxE9v8AoexQKie6WNS+agW2cW5VaC\n",
       "e6u4ghcvjfddtR4jofueZXWFXUDGlwfsR8qR1bTUxlB0ZCH3UjSd3Dahoa8lmUxifSAU1VfYczMH\n",
       "eiUnwP+i01LUymWnMN//emmy8c62BPrdU110FONb7JqKXOZmd5Obe26tzFEnKkaGlGR/y4nRwYgT\n",
       "T3b5m2kQ/P4qD609qw3r/1v5ix/Uqdv98e4KEJPFprJgcVbJiEULunbkc7Uhb//2102EVUGx1Yco\n",
       "6ozhx8Aw52+qyGSFzYEW6h4siM8FbMzmuUEDjWvGHLwjdHdxRaN9ivRAl954roKg1UIriBSSgbG8\n",
       "Tb7o855eKaXMQPIsaoIZc5KUFiobKwbzJhflRhdIJTBM5lCiaXxuNvxQLdv2/6IAK+Osb8y6mwXg\n",
       "3zL///+NyhdAy4Diyk26upaRY/5oQvsr3YmvdHvUzxnmvgXYo08zxAdmeB95zrzg9hs29F4kQ/tF\n",
       "HQ+sfSSOv/0d17OXrgus7xDb6EEKy+syVIyR8Md4If6bheDA7EI8L3rVEZ8Fspa88zWtPTqFmEFR\n",
       "gDdN3XiAvf7g1chFJPmLXxEzzXg1rpMKPh/1qoHxZLXB1t7fbemzCV+CmSRvTMRQgWnx0qXQV6do\n",
       "cavg/4vyRSLnyam1stnV4Lo+UEh0FIU+WvL5cXIq0y8oSiFrNE/lBa5sEtxfKIIRMJaQgrwqiwom\n",
       "ycSAKxeVTbdeU0hoUGgKJv1eYNYJTi9JMS3HrQQIs+DrGu0wyFuFMy84kT1/kgX17MsHGCFeND2m\n",
       "kOBHqEFwIViadc4Ybp6S8HvYh+nvJpuWjv9g8WKdRvc+YAzDF4xpKG6fBxnxziG0sl2G6P0AGu8r\n",
       "rNJiHB957bmVrOROXVnESzpc4CtbbLo5HHtxCg4n1U0n7cA/0SpUTt7vv2hp1+d7e45gt7ys9A1J\n",
       "2cA+HbLmctpkEbdP+ZYoErkDO3xS+j4rXZKT/U0J9SZk5duHqOeXRSv7F3YGF2gpqRYOtuKS/vZq\n",
       "SwMDiwtfZilDoyuAYLIG/nVo9+aEy62BouVBRzdd0/auIU7FQ6r4lxL95HgLDMCqRNoVfvsoVDCS\n",
       "Fm10Z08D+8amG6usjyg0eyVqAO9ubdWyCJutd37vE4XBoXsQJwO3y1qRW+Ptq/+mKBIQ5tx0jXVp\n",
       "hV8SauyPyrdbIWCR0R52c1FlwK83RSMhDCpal3yNDCVRHbdXFmeJ6zXilz3r2y9vr/uextWYBMuh\n",
       "ib3fkdRpQe4Ne2/rp9nw+eGXvK2jTwEcSs1l1DqjXs2prBy5L0zx5JQVs/Yt5m4yclsqBHPbnie/\n",
       "wr0LpM9vqBdgZxi/wcX6X7o9KPeO0MxkdFdD8gi2vinvA8HTbwlirQF52f3HxhzfkRXBmZKzFpKF\n",
       "s8BkvL+VZaHWG1GvonnYTTUjhBI0pvekbxX8vJMr5fKPQeNH7ST2X8IaSqQkynx3xb6mcQcWLCv1\n",
       "HJqcwxuAPzEltOYdVZuuUFDz6Isv8q+ci1m02JaOsyRDlC+w8dd+/94iBcAQoK/2we6STV6GQ+Xi\n",
       "jqUCQcbSeWk5DuaFnzQKaL5aEJYyaX3WJGXoHIY2QCX8Ah61zgAk6aCmVjHBaUY8875SHW93nOWP\n",
       "gWKOjTdlfkmFgQZ1arofe7kah1G+0Gle7IzffFOzuIntPeUWDlZsf5i7hjKmBnuwq1D9J4QEiYJx\n",
       "KoQcPoMoylyt/IxlcTGVQyx6pY7qJ75QTE5i5jwqXceJfLVl0+qpP87SGKNgZlWYuiBCNFjceKQV\n",
       "0yq2U9oiSlqPCzq4jrbxXV3YSVwUXkb1hMFD0dGy4j1u2YVG3DFyt9940LPsHN1lfc+sdaMDWHd7\n",
       "5qzb1b40BcGvzNcJpzKO8yx9NOlVqyonDHC+eLX3cbTq4tEWCuTP1e4uGVRyYvFr/N7VRWqnXGtg\n",
       "0PFokiXQUc9YW/Tzxb8mUNW95MWJOBtfPRF581v5QDZdSuw9rh+rfA+vc2L7uEal7n+a86NdouvB\n",
       "5nEK/jCtds72QBzpDFhNVkGlnHMpeJB35i6gi7OFXCpBRCugO1RN9XJIiYmpDd4uI3KJoYT2vdK3\n",
       "EXd3EkdW33tSTnrpqngBnOE7LqkyiGWfZDMTwYt/9F5NVcpZiMRSXlb/rmdUkzfX5GuicjvxR4Ii\n",
       "dJcB5fEx+pQWP5Msq4E/3BSA2zKC/InVhZTEqSv4xB8FoTBV49cWgNlTIkbAozo/CfFse3L5ln50\n",
       "ydisthlJhEZpjJ2P0d2fmAZZh0/uA2YxIq3mVMmzWYcwMTl7xssAkP0KdzJ+R155/a6iPgaiL7C9\n",
       "S1QzdmkAbpcm+pMc5r3nRIi7KnI9EslXtN+06ku4xkQO1vA0ttnrn8bwNbvqeVJddMLKE5BQpCnA\n",
       "g528gA+VFffOrsf1KoxbCSIMAhcQIBHy3RnBb75L24tw1DxSLcJlMCry3r2H3IAm6cQbu+x+h2aO\n",
       "GWsisPTwFtAIasDD1GURFmgJpZshT3NmHvCD6sxTDB8Tx4W7xolRv2egl6UX+SJZhh1f61nKY0hZ\n",
       "f1HuYb/IRFQKRB/KpFI6qxtd93rnzWnCYRZhT3BfO41kz3uiIcNpZWCDprJCMmUYMNvn9iu5dZbr\n",
       "Y7lJs2VzkVR89JVm7+LuxcFmfmDYFmhx6GFX4nVQuGZJFAwPOZYSm5Bm/qLFJlbhvNjrf3hr1O6Z\n",
       "ZUUgDano49gnYH54itgFJUeZVFQI/ffc+iGSFWkeZg8ojBssm4sWZxRT5gmRftlyMQlGIK46nQwo\n",
       "lolnd/F08mzRv6iES8uRH9GsBQAMJ0CclLEbwUDPLVNLETiEq9V6TsUZ1igOuQRTdO4Xr2Na1eD5\n",
       "8Vbmlo4BjYBPIkcLSnJReN4uQVeZLjNQIRK8HtxJHOL19+d1E06Np//krn+QW8l7VAZ50iddhShz\n",
       "bQUHhR1kM5oinfHvTmi2D4+qLxU86+UwOP0F6cTsazdhPRVcPzQRurHzOxK2AyJZj5X06ZBWs02T\n",
       "9s7SHfVJpvDtUbK+Pf+1/Q92DmZA6p9di3fYEU8ZJFRGIkQm71gDKqwvqrTFP/b31bdOdsgvzdDd\n",
       "V9a31Us2Z3sKH9qHqpbahq0/T577aU+euPnOCypGijv/9ZdCDS45mWkcQXgJqX1YBPXHwuj1sD7j\n",
       "z0669OX54JePk43V6PlUzy0aFJqrkwDkt4EJ2ri570dGMtkrGvRFOXbtg3LHBhNu64ZFnve4N8jt\n",
       "nb2MBW64Z3l6wjBNtJkMtYp6Vqg4vx63N9TnStHYhcd7G/CRtXe6dnSYXKH55y/J+4jpNUyc1hVU\n",
       "pEC7aOn/iPlGl5pUHabLiBR4zIv4s9SW5ALb6Jp+it2pY4eAF5BPOKeoorcKdky4lZNz7tatman9\n",
       "HsbAcsAj2/jKfcva+dOH4HdowfGdkXG+H9U1abRg1SVOXAPL6e/M90ZJyACboSOPsfzrVxoeQVcv\n",
       "OjatoZ7jhpI6dm3cEYKZTszQbnti/d223zsiGLwq2JHZSwtUh5amfvL8MDlCVfMcxZHSkeeDWua/\n",
       "7A83/shr6IfsvDI0LlQOcmtordLloeIoduXBSZYVKXeWdMZPFbEU1OMJG4Ql0/Eo1He9nxQZig6/\n",
       "lsiMgYvbIwfLA55AvTlPtA/kYtl7FQTm32oA8YeIIjSkVu7xWaR6aVGPAY0wPNmHHgF2H5HowDd3\n",
       "uN5j6j/6yDCnjXPx41vrlKWw9Bik+GRWG3dESRDTqfSQuB4F97rs74n23XlVYETRybANzEoM/gdc\n",
       "ePYABdSyovtckc50DDVAoQGwNuBsDUuY3JD0O0fP+qnBd3Dd0SbPDtRwEzsXxSlo7AqV4KjA54jS\n",
       "/8vtfVLxWhMsQ2Ry+Jjyl7B6f90hgxVo1HKpniFuEGVlEyqb4OecOsEEjVOkOO/+NfMKHegLUH7S\n",
       "qAJd1OZRZ4/hhMTMaVFNG9xfXJFwfb6TvOELZWhbc1GfvfB1tkMaSWJvRaSt1jXYj+UOHybGTHnq\n",
       "vaqDASRhwAQU/5xBbipJ0OdxnoyUgPMG7JAS1OgfoPL+H1IBVok/tIrHu0upnC/c4PbO09B4yTa7\n",
       "jt3J83ynBOcAwq/M80mMONMrMonKRNZq7xr0NLleVQpZGR8ulDOno8sy/ks7ZrE+hRx0nM/Rq4iR\n",
       "EwEVOj4FccPo0ZmHqBdpR/fwuRLXhUpDM1V5OWT8M3MsNO8T84qcm5CaC/WSMumDYjvGDf9TzUFg\n",
       "py//vL2ej+imgkpHvKJeOtoFCtikphVUMbLVoIwbT+so4b3vxWRgJPhDmm1W84m7WzAKQyfeiEp2\n",
       "t34YBB+wpE2jOTI5Wj080kZMEN3f0fOuNQGPmxtfz1JRaARl/+sStRc6bUFwaQeK3XH8U2CunsWr\n",
       "/5XuOUFIbCPLqpbjIr5VQtK6Su2LrZ41RIE59MpINjSy1AiyNoAma6DkmtJnW8tobbTqFf7HQe5P\n",
       "p/4KdY3LeHY6xYiQ4XrvCMR5BsAsZANAZNamT+9hkWG7WTnO9pGkxlt6wK2gCBoqvmqFUeTyc+mo\n",
       "QA/5dG3npGeZhfqDr5RuHSSxgL5sgT31aq2YtzeWSDzb4ix9agVk0VqRRDw/Zu18tLCi5UG1lAbL\n",
       "HFBOXFubxsSWyfxB70ExW/4BMBv3StGwh3UigJZzIJXBlI12bdMAoo27O3ChWq1Vdd/lu+4QH6nc\n",
       "QNridUmWVe9UGXU5oq/93aZQqolC/agjjfrWcn6+zJo/Ah82pHYL6R7c1FziyVEgjR+GAAttI10+\n",
       "5vbe33inalMTQsZbKzBXoNPgfCTpQNZKTaOZQkgaKMh7W2gT8YoVxJOtk4j8EAYTw5pdfmttE8qj\n",
       "Hdf/pWEnkQ2EohWBiAFP5ao/INt/7N5o1F40RmCa26rrL1MsupHFTHm4wFFJdiLWR6D+53dwrZYq\n",
       "2PTpsz+p/y3aIV9iO3XYOuka8JQJsTSFBf1ld6vZY0eOPoa5m2+8VhrKQPfKPtIT4XHdo5Lfo8+j\n",
       "2lDBJmQzQWBguxJxKP7hefe2bRqVBBaM64sakEBfiMvh7tUtjmY5480o2qlMun7G7kCMrRuwZv+R\n",
       "8d0tiPCyITX34mi2IvDGdGtfEn+V8c0svimKgScBOR4An2rW9H94k649RX5Yy/lzuLQW3avkupW8\n",
       "plLAaT3l0JQUcgT3zSmyOJA/UiX/H9bHD1zddb9fs8v5eWgrgpanJSPJB9XevYMXQAuyjSCT+j39\n",
       "PhPTNBABPwgeRx1jKcCviIiIBw2PrksqC3l7fWD0XUEwZKW6NWmhTdlkEAvo1uI/RWq2umydPmOZ\n",
       "j329SPI0iCBT0U9uuN3byLuEEND+xKT89WS5bS6/e2rBcc10nnYzuzh3dqOu5Rknt0Y3KA/oAGAm\n",
       "zeMeXxCJVu41397VvpbTrkxm0UYxntzO9L6dGvUMDzBN07j0d2DJ5i80ElFNDWlAHUoa6Ap/dgms\n",
       "LMmG1pcT3ah6ClKUwdauzaH9W8pf70Kb9dJyFGQVjEMlPIuSIy/RHDh1gaJ0Rytbe0QaOLw5cK/C\n",
       "1jyHT4cxFp0CSC/GDwO9Xj8Yy96uI0GAxGloxQ7KOGKT1z4GBrS+QytK9i732mos5R/UGOTtJRdU\n",
       "RzhuUMTIG/EAAALyQZohbEK//jhADxoAEDJ82QMwydJH5PjMjhff8tjEqRxXLfBvjb8Gc6B1Sh0x\n",
       "pmEUVUQ6/B62z6MCfzSOnxAEkQZBsYO9bSU3qcz6BlMNWnf2ybqPNzUBzVC33sudoYXjrHaUE9yA\n",
       "sdWviFkmSvwzL93L4PCjGDLAwP0wax6vyuaZd2i0gO7YeFRclUZoCTncMDnanZh+/tOtZOvrKw99\n",
       "8bWPlX4M/1GxDf8E6Thev1eZjoCQQbqO7h+n2SBY9t2rxmbhztSZ/XNvvw2WfySqHregdbiZCZym\n",
       "a86eWBgVZrJXwkngiGguexXvCCT41F6B9a+hzbLruxlQKJ5Ua5zwTOcYx+XzuDhU26EYwSEEc2/D\n",
       "Fvyj/vll46Or3FTAuZw/wtps4f8J86/Jo49J6YwXmFKzM8OPcMRKtchx6j3dHJDWj/TZ5OdC50jL\n",
       "DY9fKyqIH9FUvQbSTUWnmpgoL3CaJWgfbSaPQ1fi9h2+Kim8vcvsGeqN1TK7wpBaMitsALivca0f\n",
       "LbbGdmUpHUB/zlN2ypr4oeuZkYdBvIkjXeVX9lwpDfPf74/Hgv5auepDic4DgJLKLvVl/IJysyop\n",
       "HU4BW46CspooNHFXmj5QEgVXyk+kiMWcpc0nvx3PC0ZAGP2AEGcn5w9RCZKiMrDCWZQBJL282LVg\n",
       "VygcaB62aN0Bimlh4OdNeOf1pet0zRDkS8tkBYO0X7lOpzDqCJfJmy4M96qUuJ0Eq2uGEXst7ytS\n",
       "q6JOSu9xGg5jD6PMwLiK6d2+6oh0e1RBzK1UzP3/YLiUtOIXYrItvFgeYxpNKi+JvG+Q/ZqcVL31\n",
       "4Q3Ks+eqvaBfx449SvmG0t9yogqwR10fBWsQNSqPC5Z5jrBo4gjH4lX1SjteVCyk4YhNBVMWdvRQ\n",
       "M90j5QB8CAGFZeffhjArR2Y3rswLF4tyFZdV5YJrANWuv6FdXk7Oc0S+hhpslYUj74LODe5ZL30V\n",
       "DFtO66MFQJB8l9XVKKA6sutU+Y7f0VtTPgAAAaJBmkI8IZMphCv//jhADsH68AA5wENO6hOq8PZp\n",
       "iTCp3DaVtyDKiAClWovyx+kwvd9XgU+Pminb1G3ZVkTnZeP133gLuBumiGs5FKGjVUPhxzn8qMeO\n",
       "psWRoOO9uGVqamNdFwEy1aKc4WXlpOg99cF2aS3zCppJvHunGYuGvRWutAXEmTfn/CFyibdsaKCD\n",
       "5Ot5xDRp1bWq1zA/6rvrOFSMl4VadOceBUIGPdy8o1Ss9YAuHYRM3R7DK6YtWvgiVbqpoFJzsPGU\n",
       "0T/jWRNotK9P3gTq8PIuET2ctiy8ZWxhRC1r1imVJxoBnjchJwOXqsc+CG4KKVd5p9ZaFXglczUz\n",
       "tF1ZgetxkTfC1G9uB2xW4KIRCipqHlBxPVYTRxTH3hNS3qXJ+CjOb6beddT3Jy7Hcs6ltmPShXyX\n",
       "Zl4kt19pU5aX7Cgjei3Hi55kRIy5WMO6s3c7svVYqm5q7YPlYn1t3cjxyBi7SRj2RXsRRzJgFF5J\n",
       "R51OuD+YrnCUtXYLFnrrRAao8qte9AIuZDYSvkIOfz4ZhUDOVqAi1gOxdHzPgD/BAAABeEGaY0nh\n",
       "DyZTAhX//jhADsKgmAAc4CGndQkcSqFf1a9GXIrtagrah5dtyuboTLHAsGGMvQSE8KmO9jl0tEe6\n",
       "SkhpTecddUjROaAbrXVMH52XCSsLX0zFGWxJetMj45Vry7ZFEyUrfAzO4/3JFb/gZ0YtOLMhJ6VB\n",
       "Yv3uVvY7250MBOS+eVngf5syoRBlJnXiMC/oXIW9ZZBo0DQNZ0PhDzAYUi+cZZN63kIIR9wA7YIm\n",
       "3wT86VRx3xcAHSWHAh1OiuKZHwxH5oWHkuMoIKhM4L5y1AM1e5ujL/3yWfuaWGyyvIawt+UF7fg0\n",
       "tqfBR/1xAdMY4I4jhe/xzKcSByRNiAv6kKm7aH3ATifh/oApISYLMnVsuezXoFNfdZsWTrkT0vPO\n",
       "symgt6lZ2u1xMjUb/tBhAr4tkVOgQmL1n7eopKqgh2e0vuh7rzXICmytk5myR+1HJBAzz3kjfbXX\n",
       "IB1L/ZAZGGJ4q2ySPIWTDT8hv/2wwp9gALILKLgAAAFbQZqESeEPJlMCFf/+OEAOv7NIA5MTib1/\n",
       "M0TjrsU7a4lRENOx5V5MD1HkjLdxDPUcicpXh9hdVzK3fQBgABAE+W2J+wleqbGaYWDKKu04XZtI\n",
       "01xEWKDkOmSyk7YyRyxlVaUc1+oIAcf9uD7RHnsH4KDmg1zLHOXQMlzzSkagtwY8qWSqzMgpOrxN\n",
       "pS5dB3ZFhnTX97+rHkJy/7QqCu8M3JhlmmvnO8MAyRAL03CSb4R/hCFNs+GOVNyGTWZlpj0PnHK/\n",
       "kyxekyJb1lwqfjD6EhEspbeVogd4gfRe4mvZyVy0j1dlRqp6MMRC6VQGqjSu4uZFeucLR3o6/sJ/\n",
       "73y+vgrTbjcdqrMEQFXm9hRDXwpXnVRv4UyjTJpdE+P10lVVg1uWaMa17RMwDCTJJAp3MpP8UOZ3\n",
       "tSma6ZMYCKG2nnO4KaF89/r67rKRkY4GU1R15Zgy+LPDffCmBD0AAAFwQZqlSeEPJlMCFf/+OEAO\n",
       "v8fAAOfFxDnqQK7t1Gb5y4ENGK6eKFcnDtHZnzjnKtIfN3UIi7+B1aM/d82OI0xoTzLwgSKeNBwq\n",
       "kCwNC6T7wVnd+MioQ7mayLQHqOeSrXaqDqG2/LF26nCsgaZGraCnb8u3YsNpdQdoV3905PzCDhPc\n",
       "G+n64mqOE9Ov6dmfUGJvzEOagJE2yo/lQmz+JEwELqcnQFffTUnZidZoK+miQqgqJMStWFx9AiUo\n",
       "1aWbxoBEb41lDcGvWEk9W6Z4tkbRIC6MWcYr8wU16pcXgNRjz8eOYxIFlL02GCPMFHlDVYCEq5PE\n",
       "YxRVgPOhPaCUgVqVmSrPFiEXg+TMF9MawzP1GaiiNvd3li8WiF908sgnYfTAemcdwS+mGDRDj+g2\n",
       "fvBmHmPFoqPP1DNRzxhOCxoSf+imG9Ny0VUYPDqowHIt1sA5nduCEFsdLEy54UpfVeVd7gswxsbV\n",
       "OsYxIFWJZio5AfMAAAETQZrGSeEPJlMCF//+jLADZQBWAB0Ai4rOaf5i2DZlWLn1IpGP0Esva6yO\n",
       "yMGDLnpcRyyhHtHFlX4KmNX5RQg+ScOfg5Lg8Ct5zlzAL2lF+M0QcxpluTKMbKTefShTE68xFeNb\n",
       "wbMSfLZ3vyqB/1Zifc02EmLNDqnPfR2q5PEdh4o8Ak2SlfgT1TwRVZSfjh6qxmjIPl+Gcfy2sY8/\n",
       "x+kuYamoC/clcU84fN8tFgZfMOYm8R6mR9799/9EZQTuMHExtnaKppNmppqoBO0ljj35StTL32k2\n",
       "zDF+gzaM35hHyjwS9yjuTW7wEgSTH5y7LJ0SFI+SlEDr2agy6Q477JX2fx7VDFxPivaRAKFUjjnG\n",
       "CzngCbkAAAFVQZrnSeEPJlMCF//+jLADPW5+LIbaKxW8TqwgAzfySFnYikp9arzz+MXatq234hdX\n",
       "C4Xinvw9ZpiAJHJdJfvRXHrIOpKidMAeppgnBz8jgOdkoX3Cukw2+K5/x/ZVpCIGJqj/i4g7Zu7r\n",
       "wtAzMfoDTO06pb/Mu1p7kWyVjNHR0hTCr6FrKYfMNQsFYjCci0M6VEB67bLB093vwN1KqigipMjt\n",
       "cYrDf69ASHto5MkO9bKxWK2vrnhqqjS0hgVW7SronVUUf1W8eU4Z4N9177oLzUf9hpmFwk1UfoGU\n",
       "XVwQGCwELmPTWW90APEHLbi8tbMk3zhHXj5ZnNBElSCqPh77B5QqgOwO6Wyktq0/BNVc27s6Dfka\n",
       "zJgRWygFlHnYXJ99utSw+A9UXxdJPpT6FMRUVJapqL+zeROTU6OaJMWGLsCsl5md6ZKysWHBJUj9\n",
       "N/nvpWfgPSEAAADpQZsISeEPJlMCF//+jLAD0IyfLWpd4aAL/LsN3V9/cpmIA2VYPr+uvb3wJkom\n",
       "ywME1fPaQ9VJkwNie+7dDtrLVxtjwAyu/TjLx7isEhvW7EfFBW//4frE/pIzoJY4p0N5XxwY9+t0\n",
       "ntZZdm/7EFtFCW/+jAlKWijAgJytAQRh/vu0dSr/n8otZuDF95EW5f0iIYL3iCaPVO9BlTOpdjLf\n",
       "pvKRc48CwSLbPQcnQERKiArNOopy4c+f+qYl3HtLogX4riEDoMZfdx4tC3plkvNky2i7ghhORtLJ\n",
       "ufEOQ343kLWhRSNvh6F8G9AAAAFsQZsqSeEPJlMFETwr//44QA7ClDyM3p8mPIBjUAoO1mGQjQtQ\n",
       "oE7N3hjHn7nvJDm3FtV70smNNyig/LvbhPEojntMBVjz4Vx5226DNQunQkLfI0+mu27eP1LrP/4d\n",
       "2NAmciD//UtrlvWlg9eGDi1nEJpTwGaywfx8SOXNuLlqHwGQrxZ/RAV1r881oZVhqR8l2sUBogrd\n",
       "iKxDuE8P2qhUAz8L191so4KnTVxrBTnuRSKbRgRS/zHBL5DVHl8xe+6cjVxDBlWgHYBi1Iy0P+ID\n",
       "dG1Iq9hSFb1lx0K0KSCpXLKgdlA8ner30f5QncPLaS1x/RkM4DlCf0zK7kHOjxP6xq6cLQxMRtHY\n",
       "VLdc1V6wQVCUjwP4eHPNJUfKslC1dWJUcKIT+WkZEpfsvxi4hEkYNtja9W6jpsag48WL/ZA7iA2B\n",
       "LY8Ev1igaH0UQSyODmlx1yot5p+Z95DhygIFtO2AgD2pIpxALvNBE+AEnAAAAQcBn0lqQj8A/f9Z\n",
       "PoAOU57ggGHussjHbAPFGUUvWl/4p9QFEe2CpaVsFa/WYQI5r4pk7zUhwpR4Ho1PlljPQEbHXIf0\n",
       "OarQUtODVAEbc1Ohfo7wUUsb7khrvQ/Jk4zcdxJ6nnToXp1XRIBiArdEDYE9lLC+xfpWP11/tcum\n",
       "ACxSZ74xJfy6O83EyW1ppA+ds1FghDPnOZ9H7byti4H6VkLpIKkp7uUpWska1mQ6tJAGMizsLr2a\n",
       "65mHXAHdRHntwSKxsMTyicmD/y2PldXMolqJMnKIigadeitCQe95yTq9cvfPkRtEU7tHb3RdtyA+\n",
       "whEqyo/vAjRTvC0Q++NAWeN0J1TWLxXtkQAAAN9Bm0tJ4Q8mUwIX//6MsAMDItGnDoa7nABtCuNm\n",
       "//zFbgIdelOLYF8v/iBwTa4oMMFsg8HR4/vWDWoju1mWcYEpx5651lyxKHW1inVc7mSLXvTk8Ldx\n",
       "eQn6b/r7xmueNEF/JuUMR771w1W6UIrd02v86eu4/gPa0iOrMZwXA0wjpAKbCfxFvmKJyBzuOIcB\n",
       "t2rcJfxBo1aqXzl8U0ltZwI0ETB+Z7FtHRiqnIZwJvvosScnAO5z3KSnRJFHMe956O6vNhtwBBIa\n",
       "jHvCqie5Xpegjm/ecIAKvLqoQmIw5x+QAAAA3kGbbEnhDyZTAhf//oywAu4Ofw5nekG1+3haABR3\n",
       "xV94m4gZ9wsST9Wg/PIDS8zU5ltdUrTAsSqo7QwKvYuWbHJWl8OEO3XQRG3535YdjEIWPWaCy87l\n",
       "PNb2bIUm9IwShQvTKrQxBpZImccKoOXqqQr13duObRx+gL5aNGow0ivbmK3Kw9K446NxzyPM91aA\n",
       "ZBuUd+4jJmlVbhpxOWC5BYk/qHmzJIjcTJe/7Rkb37/MNc5p2NItPdbkDhxokxALUPKeL3yv6bkT\n",
       "b31QYMg0w6PG+9ZvwMd2N7MweO7uOAAAATJBm41J4Q8mUwIX//6MsALcE7yKAs+hXdoqm20xfgZ8\n",
       "hVmK1+VTOAXzKlHUqOpdKDbgSzOxt7K9bil5HoWWAhCF/VbL0S4HRYe37v8HHseASvCrc3sgr/QK\n",
       "fm8goW2YpR+UE65izZzdTtUCJ+9Ez2AnQeQnXou/3KRjV3ZMc2Wt6MMQy+7A4VZUVWu+odEaznIL\n",
       "tlDnPDTFBKGi6UjmWyU33hzWqv/gg+A2qypYr3M12xUZzYLxx/OOfMlg6QiA1HwDKvu1CiveMLrZ\n",
       "hUss0ASqdJ1bv1+bzP8TRk4+5beCkE/oBUV1Bmtyz85E3nIX1CXAy4GUt6/mku3IpRf8k5DyKNIx\n",
       "4qkP2GL/tFzXl7FVP3sTL74qAo7EWgjtJz8TWxFDLmSz6q6Q41bLvd4onojoAccAAADWQZuvSeEP\n",
       "JlMFETwr//44QAq6T8SE2FgCmBrIlfNqLEe07wBqRlv/hIWYAMBTsPm9NM0cjOgixOiOcisv7Sl5\n",
       "4lxQsTo/Xa5cyGCAyWaarue3vhQxdGEtrC7VJOnEqzinBKd0Lpd08Xu6zr7AHBAVVpcI40/rCtH9\n",
       "yGCH5pq0a2aQshmDqUgGHDExHSNhA0JtwRuJjsMzxUAeODXGYGfwGFwhyP1eEBx+fSsGM6aA16n/\n",
       "hXNPhJJ9GcndwVnCW4jExGPZNIKiuLLcpKuONyTTf84UEWAFbQAAANIBn85qQj8CbFQIRC8AAOJC\n",
       "Aq/Rb76m48l+yLqwKSPhnq8yCF50jtATTwxyeLw2ty77aUASjKygTYoRgUqGpy0EXn9I8oV2OQne\n",
       "UH17lA30D0pWbZfAd+w2VhyGMsDUCHYzNwl53cLCChjKZJNzbOLKQOjBAVr3Mk6pceqqv4PuCbuI\n",
       "4PyRgRxwAzP6doHzuCNij9dxD2vVpcFjvjPOGTbqcDkILIcsLW/QVslwekxAe+W53KpaVxi8pYxM\n",
       "si1AN0L2zJWpcfi5BxuIDa+TkagPLMEAAAD5QZvQSeEPJlMCFf/+OEAKd3GrkYR6sAQiUx8P/koA\n",
       "LqO9eTpxMJrrhSMDZrBnsZtyAdvNoQ71/h3/gkhm3EVRg6iDWSbNBpuPnUCA2LAB9B+54fClxkyV\n",
       "ejaS3IHMDrhIGmq9cNKz2C3LuuZ+J+Cx6clim95e2WVm4/C+Npcew6Qdul+TPEpG5m2jFnihT6a7\n",
       "WhK0AgkielUBhcvbM8Bl7YdhOzetzyMsU0VaK/aVEjjMAaWInl1ek4+Fa9HbRHur3Q6raypsJrpC\n",
       "so5WximyZuovS/W3jSteNdl7wGwKhX5YHcnvQfysWTy8JQF+4i7bNMq7iT7wYAGLAAAAwkGb8Unh\n",
       "DyZTAhf//oywAqYaSf3j0C5wAY4xDL6FoKJLRpnemRT1HG+47vHywVHC5zctdOU7Vth+J5wUb4Wb\n",
       "MTN8r5wjbwETw9IX1uAqyQoVcFSSdxc7Nt7kayc6nAd4bl2HxbJ4kNbeFBErg7iCPFYbd3t4pDaM\n",
       "WaNho5Ud7xScbXom/s8YumtatQDEQ6z4kMw6qYYQXOjbElzk90eC9/EGgA+vFgDA4BKCaPuy5IrX\n",
       "AABex6nueVarkYqYwYuRTOdMAAABKEGaEknhDyZTAhf//oywApQaCwiN0zHiQAbRTM6K0yRLrhNK\n",
       "Uzh5AL2uVKCXcBBlq0sfmVKK5ZZ4TNw3B+TYJBrukxY4mR2F9e5/FZqWZuTDC5kfTZbHEZKJOz4I\n",
       "xX/CuvX7reZYfHBCOQ7TiITchzjvSNrJoeLSe5prJZu3GfIfRmXbCGxatc8TpJOE/DQ3K4EUObfD\n",
       "ODwKeJwOC3Hxrfwe+ytDLRTPpax0mPVDjOzoULyJuMM14Ng0nUyYWTuP4mMoCyXhx6jPMWYG2YFc\n",
       "tMn5MiUkDCC71sntooIaK9Rnf0v5WT7P8hRloYiKHz3Ap6MucR+WBtN9LFT6pMbsmAC5KV/zBsWf\n",
       "FOaOBQhHkzyngaZE0k8NERNFeFblLqmZ6yjII86rOMLbAAAAskGaNEnhDyZTBRE8K//+OEAJqohR\n",
       "86Zd4zrAG2pPsGkge5XEJB1hroO24qGot1zKadLNvXdVs5RbcUTUeGrXZ9JtipKPZDqRKXNQK4RT\n",
       "hz8FWwxV5gywFnpZywJx/kZagi9mN3ES3ik5Bwv7idqkaGbHJnJjA6DPUkGgWFkgayU7fIM2JUZF\n",
       "O5hmbzBezlWFmfnQOiYVrZt7ioIAEkTMXx86qD7cGm4NIWbOzVxMXCIAm4AAAAC9AZ5TakI/AM4b\n",
       "jkAG6segM/ZCkSLh5jDb3sTRdBBdXnwV8cHqowUKpygTYoRifjGqxQRExRKNXQcWmYNO82sdW/Wu\n",
       "RYWNwlg0W5azXm875gOSUsNcF6GT/TJUnIp06xvOyjWMv3yw9H+PEPpGzIDNXyRJT1rqpS47GIME\n",
       "by+ZAWiFT3Bvx91tTqXows6fUyFlqVq7g6JmwKCKq/FIti4Y60if/AQ9SyDvteC3s+Lq+/gJjEGo\n",
       "xyewWxTgnXnAAAAA8EGaVUnhDyZTAhX//jhACWn5h7tsA+kANtotAqzYF76po/RAHj98v/3Uc16J\n",
       "FMoKHwdvb4okDWDefHNee9p5l7Y89Ld/KTz2qGaPVjSGx3TeAhBowHTpOgVSO93AHDQiENcYH62V\n",
       "b9tkLQpIZtEKger/f0nlM2iI15P5YCEOshiM2idW5Ub4wORY4U4SlWQYcBYKQVyEz6+thXdE7NsB\n",
       "swoSvS8ApMp+xESokAyjC20S0a/tSFS4OC4wyiYHQewvR/zBkqaxsm1ZT6DOgBxfN/dIpq0dEndq\n",
       "XC9bG3Xo+ZeNg3/ON9amnnhs8yu+V2p8LQAAAKFBmnZJ4Q8mUwIV//44QAkqZ6Qpx2K50XkbngBY\n",
       "TzqxMaGLhlmUhSsVH+ndV2f4TpuXL8TgTYi39LhQwwhNq7I3UA5AxoFxLOA9m4DBC3gLRkrV+8IT\n",
       "Ks6D6tzEGs3jOVQd5FlSpxCMf33S/yTwlpC7/rXXC1GswIwcxxndwzsSesbqWeY8uXLxSbUTSUkE\n",
       "x3eJ5HDQ6yHjeX8paFVOx/XOfAAAASpBmpdJ4Q8mUwIV//44QAjqWgR+cZ/lrdgARZav6SuDm0pZ\n",
       "uEkvp4PPz7/S4IRyTbXciytF80gsXUx1rZF/ta3/gm3h5aAqPMcb2nGIuMPvSrfIauM9teGMcBm5\n",
       "sWRCDOR+zv7/laMoT7N70z2Fi6k9Oa3csSL2EfCZrea+SB0lwG6pcKS+iRqztXRD7sCqOq8kgxAR\n",
       "WqlpUSk2mLEqAV0INBAvjK7QupF2KIIs7EZtSgEjReFHfwZzCsfVngX2KmwJ9ejpUlPStykWRL2C\n",
       "SI55D+cX2x3H83IZH+pocXI7SUYU/JceUzJFbPxDO657DD7xg1p189/RZBLRwMnAVDEBbg3n8o9I\n",
       "YRq6+B0iFwKqnoaBSGmXl1vHzqQTD7N6uXpZrSBfTMx5ol2BAAAA4UGauEnhDyZTAhX//jhACKqI\n",
       "Uf3einmhyywAFzcpLUoyjDI7ynuLj2PIOakBGzOfkI0/pUK2gDMDzXEHWs7UrBtQI6tOWATQjLGG\n",
       "Ig0PrL2G3NBwdyISvWqmzf4iuy9JDklw+FRbj+4H9pBpvRwmNTOwu3gpXwkxyB1S0VR0ZBqxBmPy\n",
       "S4S2srwqJzIQERMwQocvKSFSPzmF6F2D2Z+SC8tRvsAyqpJSHCEXsz6WnA9JfNVVo8P8ndnnCTX+\n",
       "AWLp0NWNJ9JaIROFNTVpBWHdEOxArUMgZc4QWVT1FIcCcjoy7wAAAMFBmtlJ4Q8mUwIV//44QAhl\n",
       "snbwyn5GAKZQlsf1pr3N95RIrgo909BfyADAU7HQn86GZLn3xXkgdDNQTLBeV9H5CKWKNGOk0moH\n",
       "7a27az4mTqTdOu2DMbfO+W4vASZR7avEd+d9yHE8dECCvUSL2eCwyPvrYsOWrC5DdKNU1/YVXWLq\n",
       "uhZ1mkAPEAeWNU3L49b+PJjtiwlN+mOcY0N45YG7dy6TaWDDYIBgbdoMc4Cdwt/LUFd+rt7CEjzV\n",
       "L3PyGpfyAAAAt0Ga+knhDyZTAhX//jhACGqIT570ARVYgBBkYCO+oyjQmDj/yLTjvVyOrrEdHo7Y\n",
       "5EuKE747xdvRqysR2Lz25Lz2/hB3fsJVT990nfQd1CVZ3+mol4y8NR7/0Kle2TNMgwJNaOnk2nmN\n",
       "BlMN60Iy2nDForOyu2VeXUiQJhzrcvsAsQ6sJVz8OfZHWsjhNeWi9/8hdBly1DD65QyLbLTH1nWa\n",
       "RpEdZWSlfd12lKM+Xv/Qhfw766n0gQAAAJdBmxtJ4Q8mUwIV//44QAgl3Rcm3FG/6CK8AKyKl4CV\n",
       "ElTWaftsz15HUeyIdv9Cpezsudsxg+RLfzekk07u2sVe1O62r6p1X9C74+63s5qcRaoZS9LCH73R\n",
       "az7ITVhdF4fBSGa1yer0EWKUxBzZtElDi4CNslhxvjzHWXE2tqcyb+8IlF0AWj9J3sfenpnY/W2Z\n",
       "35vQJ3DHAAAA4EGbPEnhDyZTAhX//jhAB+nQ1Vg3GV7bgm7AAjPLfCe7MRiJxfS5/+HyEY2oP3Is\n",
       "GxZInc+bRF1sEIMfI7ZCNNQNb/4W/FC0mj+7zUiCRRNF5wgwPnyAaAwexeF9myZudMH5CO80QBh8\n",
       "GMFrh5HVVvXEkPGUqev6idInVXD1sGzh6qwKp7VcLTQSp6rnTwTwHLJ0H/GveFuxobO06MH5V6n5\n",
       "HVt8LDdlngLCNWzQQS9LPKPlRVDENjd9n0aH/qdkCcbpm75hTvzXfXIw/pHFddaX9RoWS3T5HnE5\n",
       "0JkQBaNhAAAA9UGbXUnhDyZTAhX//jhAB8FImla8IO9VgBLbwOOnjnpYrV4VfX/8W0au1/JccCkU\n",
       "QIYE4wLQbrSeb8xKdTU0on//DZCNNGEjJ2mQG4eq0IguOt/MuAX5kXtwgFizIG1Pjb/HtgQP90ri\n",
       "6azV1pMvG9DfopKCDPftJucBkPXUnwl8TSOB1YuduN+TamG7m9fmU6OSEKKwZq764qKtLxXgaXxf\n",
       "7EayCRghhrhyhYa9FN9qNHbhT98r7GzIMsyfOKSnocHrcHAmZPLozg4siG673qNsrI39y7IprqFW\n",
       "aHRNfbGbvtuQDOXkKRW25pF00GS96Y7h90TBAAAAvkGbfknhDyZTAhX//jhAB5w+9PQBasR4FRIf\n",
       "8xhFuFh6xRQ0n06Urr/QfUtJn9BuTbSLKZb0MLOlm1V5xy9H5gsNsToxf0vih0laiv0j1MCyP4Lh\n",
       "bpzcw7CB8kvBp/W0KaoNxezAmjvKg2TCwMlgyKkQzZINg5QoSyQEjtkPWQiACvYENkMM9L7/C/5j\n",
       "fhmdeslOwW5IPL2MtYnxuVoO3TUzHU2qUgr2SUrq2SFAcwG9DJnkzzaFhpZgmFUr/SAAAACzQZuf\n",
       "SeEPJlMCF//+jLAB9BchaGGYdoVWAFXSyOyrFpHSW1WL9CZiVPfz2QOAjRoPRZ61j+xMtJ9bcxwF\n",
       "J6P+7k4ea7BAu7yC9Ds9/oyyqDCnaeqN5PclgDxuKOVWEHVR3WoixKemhF31XJfhPy4PJLi6yjD+\n",
       "MnLr/G7j8XOFoLGI4ASr2+aA9htD/hSx5f82QQR2fgoi6mltXnEH8oLJXk2R9S9h8VaLDhQ+11lW\n",
       "WZnuXxQAAACpQZugSeEPJlMCF//+jLAB54147aM4/bbxwAldoq84Mw1os7YaP7bi76KfOyM4oiIq\n",
       "ngz/BFbP/nJCohyPKdqu9No+6VoihJ1T/t2ngD/oAezMf48vBFtd76EuYoXJewwzHbjPlWpmnmPM\n",
       "n01btp6D2mBGJcxnVVnUjPchlakmZiJyWUMZjVHQRQaimbeOwtyyc3MoFo5lMH9vxrxqYxCwgLZA\n",
       "h0PEz/HngQAAAQ9Bm8FJ4Q8mUwIX//6MsAHcoSwxFX/UCg84E85lgh/Wmp1zsv8ujQWfjaMKWOA+\n",
       "V0/h98yDBKIL3ib71dUj2622xL4xb8pVBx8cHbEpG5FdA8v1HOxJcL+dOvud+qS4UjL8xQPTNCPf\n",
       "ogMzilrWuwNF149X3RWP77qdfZCryN7jewM8UjRrPnywEqArDze9bnWv804O7XIVGdbc55VX05/T\n",
       "yZaqdAGhOzfdS38eHrdbfIdXf06TTNknDZaZ9CGn3k6iNn8/ablvfJqhT1a1WqiA02cNx/7RTN2a\n",
       "hx8EWw8he/4f9RXtiGgT6I3QnqEpaEsN5aDTfDEHJ+hgdJQGuL56YmCu3db5nduuRzh8EWPgAAAC\n",
       "7UGb5EnhDyZTAhX//jhADg+hjABwUdxYuDPWjRdRdA/HP/4c+/33evzLbyeCnu3wGyL4uW2N5vvJ\n",
       "NiB/XWi9re3MtzPvnSE/KTqUJWSE2mNn7dc0OE4fcQjMmAdgYLDcTqpySC+qIKjZgfZkZ5DusZS5\n",
       "RM7MBsKw84ksuQshaZ9UlomYTcYmRaXHxEfSVTVqCPg9fMjGFvGtMaV7BpYDPox/Igr3TzKAdI30\n",
       "SMCtiZbjmGhJm4/Wl6vp+ENvWnAbRuKRY+4xuw9FkM1R3stKfA3JzFSI1lzqZcvwxQMlWrMiPg4U\n",
       "XdOjs5GVRWOtajIQI6lJrP5vlbkY/Dv/VTk3mDNPV5Ia4nKNkO7wFh/EWrchkIQcvzy7S/vBh9Bw\n",
       "69FmLNeUpo3v3pnCrujRyRA9a46IEeo77QKzH/KdIr8R0UpERaOLTRXrSHj2NZIUAoPyj+MrAs6C\n",
       "kXMs4QOz8YBzp2M1P9cqo0/Sep1E2z1LhKvJOnvRhMKSeuRhQa+ZaTqMaDk6dc57JCMPlL6XR57X\n",
       "GozLLBQu3GHlNxZfqbfZE2qidoBDn6rD1Gkz4V6a1CnehvlFuwqD/OdPhPXeGiyZVghsLQsn8tOx\n",
       "q19z3Z+HaB4HFm/4H/+UhfVEGhlKYn7AP9i2/Ksh+fDGhrjiLv40Ws2LheNnXIaaNYZA/GL4Gf5v\n",
       "MKKD9pAu3wknQ210lteUAo1V3ZNTRyTm+pfVpeZ/6m93jM2jdUq9/wogktCkN/9HMSaQJ1cfVYYI\n",
       "hxOPTwAszIg6dtW2dH/6bXOQ/Ww3NQ/qUM7pQnwPAIhR8gGxkYqzdsf46YcR3jTobeLhFL3aBkWA\n",
       "IPICiwQCVcKF6TLHzmPLKWUeaw6uB6ts6Fzqma+6DheEwDH5raxwnROp73mo7I4Q92J78W3sNzqU\n",
       "4VxKBNrSjUSP50iRmcu362/7GT/rJRxwII/iUZydJTeSuIPedYJ3+m888KtX99O00A5nTZCu/2yT\n",
       "yyeuc+Nn8EvNAAACfkGeAkURPCf/APi8BTx7jfOABSr2R5pjoRLfj3lrgut//xishZxd2sJuD+k3\n",
       "hXbqqyl6j7dKfHGOOWDnhvid/3IfhhbnmDrQPdveBvhb4SFYqjwNYp3mYWMwciy5AQS35Nu2pZTy\n",
       "/OHtg6Rp+6C/nwfZJseusZWLd4/GDvEtzhh3kjNe50kta/vW6JZFZKMVrChp34DnP5HKOBmgnneT\n",
       "zjh32dFzNG9j+wyPDqzfpd7wuCE3KRhnfyQJVzM/WP94rbDGYodZbbqH+iC6+F4eHm4z7Om+2eux\n",
       "r/AhHKwtKSmoLkghbVYxqDPs8KUiPJIvCf2VX1mFYexJkkXuKiw5pXiGN66WFCDDQVXVThKKmiJs\n",
       "IlVJLGoyXGRObeD5z1O/SAAkd0yGCChN1v/ZlOljQJLHajmXWpVt++lrhCpctiRb+lvsmZvGPe6J\n",
       "0zg5yMbg2m18vDBlk/DVqjXQG/UJ4rbpFFvv1dAA42OYLkSpDi5M7RIt3w8tl7IU15GBsduX7RsM\n",
       "Li/WfOCd13xLKTgjlGkccuy+77b1Cydx2QBG8gHxtRY4HUmal393E6mI3WEvS/JzZ/DoYo5HXw/S\n",
       "trh8cbpeQIw5GIZztKNn2Gq2ZQqwZzA1tHc53lQitahonglggZHHlUNsel0Z0isgC3031x+/qOCZ\n",
       "+XT+3hWrSRKywQ4RKf6M7oT+OJETw+kYFQmLBL2zeIcL9gLGLpy0VzI7ZvnxIAASbDopFQX/ho+0\n",
       "04dh7FiuoUtdN5BBvCFUNwa+SC0T1L/tsxaLxKY+3joT2oGZDv7Dkg16hWzvwzKzHWxLq0Ug+fio\n",
       "/nKEi3mcqkIzg4pLabLI+6YFh5ElDa1rAAACowGeI2pCPwE2mkYAOU3f9WxoME3OU767JcJ6r9ik\n",
       "Zlp6C9EEJGsmmBgmBsrCDsbey10pwORPxg7ufQIk3yr6SwSRgjLpIkaalm4x6IRJxWRaz/C2UImb\n",
       "NLI/vfI08+ch2Lxeomq5bWkEXJX8As2Pr1QkmkoFHFeLiIMm4B4BUmJEV2j34gWy/oRr0jevl7wq\n",
       "6twvgUtnWTwocOPl8EBFIZ/TnKyyLqTU+ow89bT/k4XbTG13NhTdEpl+LWWf9bIMCRT3gjvkYIy6\n",
       "PJ9XqDA9GTR6XkORFvlx/dm59+n0vAvp5qgqPy9SDOhfUL83w+foZq7Gnpe+nNKxvBKk16TXPG0w\n",
       "Byos7iaJqIXj7BMab3Wxc7XhXIOwSJNwTQC2LDtlTx4iTIuQ86U63aaKmk1C3tkwhh44UzWtbqkw\n",
       "nPGf11nubZXVvvfFDGDzFV+uC/2iBW9BLg/BU9TBDK8xIvx6dkN+qtV1FPW1ZPcHSqoOuKzeyFAp\n",
       "Dw7hqOMd4QuN/uuyKugNTxmiPPOCQBcbnEnoaW8XsvG2fPTPYKiTxBPmZB6EhWZAz03sr3wGo9JE\n",
       "Vm31o3NB88ELjwjfDgP6uce0ouFdvtZbonFu7FMUyLRyFhaC2rj8RziUn7Oq3VBSeOo9BTIONGEn\n",
       "ZVHYX/iMO5wHDigW0jQVvwk+H1p+oZkglaYaslN6Q4OR5vIoWp2/RlYTmZBLTQcQp8zrDYdjmrsA\n",
       "k7ZINy5mf+zKWary1jzeIQWHrX1h4kBD/+/9n4iFpmI3PMuSCsWRWHIY11dC3etk5RNwE6QuIpDd\n",
       "CLYP4BH/7AkEmK1zxWr1WCEXT1+F07Aku+diOp7NPa/zWuHSrZTAiGX2XvBAdIqcEe6obv2w/AHD\n",
       "tKa32fRTBzXU4OZy2NnOHFB8wQAAATxBmiVJqEFomUwIV//+OEAOEd+rIxbrQArZGfgxwmAlnyzo\n",
       "bu+HL2+pBAkn1o8B/lDt/48iE6VHoW+9lztDIz+AnOpsWoIIeuh5YMsCyyYzsfTG9VyxDqFv4KC9\n",
       "RpX78wIHKDwoO8QVqliUZ2tlBQwzSxztID2HiZUQsFt9yjpLBh6EjvS3idCWN5MbSP9BSTuuDq/P\n",
       "j537j8PAM5/3pgy6UL4ZsIKfmyKeIY/mTgrQ4Y4aV4mUMfVXyif2qoFY8TcfNALahzrHuBVUArun\n",
       "mjITTiGWm05B5X+LyeTm7dWwVahurpDPmUhEUJcJ9oviKJBBjfXH5vZysBFoHc+cicToVB3elPMl\n",
       "SX/wfJ5A5URN2bKFe4n85U2kQ1fH6uY7MvdZDC+t6VnZzrq4YLaqmX5Mw1y79WzGMRSLvKSBAAAB\n",
       "E0GaRknhClJlMCFf/jhADb16g7AFl8pf5jmzz+TtKREX5Jd6aYvvqOd8GWEj6tDLP2U7pLm41Oiz\n",
       "NzfczmHHSrXuQ9ArwNaE6i0bIt5rvfm+Pqny5EmQkEnQY7eu4jNCrKdxtVTn+GeAShYQZzOv489m\n",
       "YZEXlSsemWgkrz8VMZigGhqvwtSngU2cJvANBHuFl1SOXyFXMCQqa19W0J5e9u5cle1+YciLoDIn\n",
       "7unpSVvD1yzrKacAYpNPP3dvYafD4FzBGRn9GYPOieg/+5rIA77XA1tssuKR58HGdOkrZksAuxjM\n",
       "WSb0OKSLErGUBK5nPdrtAwfe58Vk69DjJjZgUiKzBR2PUyKR1a3ayC0gCAuHDuIvAAABN0GaZ0nh\n",
       "DomUwIV//jhADXnqEiAaMlDZjMnqLT5Fj0rZIEzpYC3B98+xchqhgMhl/QUCnya1R7WuqRonNAN1\n",
       "sJa2z7jnHc+IR5ToFohWAY3ZmRlZ5ZsqRwOlBxA62fNXo2yo+k5m5W2MBeBY2gZnZju81b/aDyVT\n",
       "1dsyR/iaaXMTnnBnzP/GeZ4dxNqQlm7z0LyAIqQ/Rk1CNRSLsIoJP52oWv3ZQIlCUrL65UUOGRSQ\n",
       "0cK8sGCsaMexQUtL84FX4z6QyW6FH+Sr/4MMXY5IdwFJUTZA8BRaRGj8ihbyl7jDS4k9zk70YN8s\n",
       "MSTzZpQQ61L8/miR/ORhb9ms4aMExT5aHbRTa8gohtZiPNkuWdnmK/zL716vNfhqEk+FrVTiaLI2\n",
       "NWkq9ufMeWEAQJsE7AbtgfR+aknBAAABF0GaiEnhDyZTAhX//jhADWc1c6lgAyv9UX9zeWuSZeOH\n",
       "atHNEsS/2kwAAyX8tyVXgeu6mxrh0eZFc6dQ/Sn9yQJzDJtXqcy1B9bT19r7Qqmtv64HJDGhSCya\n",
       "8RNEcLD8rpOQgPWVs6ArnN5TtXk5nMthZZzG6ii11csqFFp5TrMSmmTVXHBZSivzacpSJ0AVJ1DJ\n",
       "aWJi4k/SL1RD4BzUTOmI8hSskb/0dwNNc6kbnKB1PbCXDRlrdSwIRDL/tGYD6+Fl1tilzfJls+T9\n",
       "8MGsPzfnFJL30qfyIwL79D9oQAvwcik5E3E0GZGokrLTZr6zD7pR1qiczeu2dQp43bQh5e8P8dv0\n",
       "V096PkPXqG8wUD4Ay+Z9ZwDAgAAAAO9BmqlJ4Q8mUwIV//44QA0dmMBG0AIz08okuiLhlezGmWAw\n",
       "IyZJ0ZT9Fsd3HEoba6YsRtMaE8y8IEipqTWMhsUDfNT7yu2DfVxvqbE8AAXZXBsEAZE8DEdQqH4E\n",
       "BLpCwVFAnlsHdkmzjN55lcyuHNRiaKnQgrdNEGoIjX7anCDkTNREHF+xAmWS9OMXzZDQkzg2ohCw\n",
       "bItApCjReNeysy4ZrkzLKw8xBqxTukibeRNQSS+WvmEtjboAW8/fyPp/B02FYdiKhO+0a3OL/ilA\n",
       "LhgsxYHbT/zIojh3Hz9sYjGSBLLYK9pVOE4KWLeGLJWe6AAAAN1BmspJ4Q8mUwIX//6MsANRekn9\n",
       "z+BVsAEHgamKRMFEHCAIbWi52wXZQEyD+ek+CbUK5hl3rui5wUGIOLlwvhHzwnJmWPoXaMAb1sKo\n",
       "EmcizP5tWLzNAgT0ISqo+zZP2IG3tEce6YwSorEQOAUegEXjofSRENAGjLZopG0m/vUAFw3GfMBa\n",
       "50++HpA2PNe/zO+c6tr+Lz66iO0YIiGRPnugkr1aC7LQ6i3KLIJgg6Cc7PuPHRsyuXCIK8PxjdWm\n",
       "8nLx9ccK6Ak4MiNiBlrscj35r8ULJ/7gamNM3xci4QAAATpBmutJ4Q8mUwIX//6MsAM9b75iAY8T\n",
       "ecG2isVvFbLlrb3AwKHdeYEAO8XqJ2Br/XkNv21WcMfBmww5XW53pug09Fk0F8jnK+vD+jieMJIF\n",
       "ScyExH5i9JjQTYw5OY5dX+3edHeEHaUID9cFtSJimL4UXNNVeD/ZkZjCW5YWtCv/47taoHsua3py\n",
       "q7NHzHsprihIscsb1SYJBAwqbFj5n8r67cBjAl8cCXfDP1PKLYgWQ1aQ/Tky71DJj5Xio0rrivpj\n",
       "wJPYkHtWNbrde4DaffJMDIAENg7dgeMeLPf0VnDgeuuMW+HHCrD06c8qauqblAGOQp+Vj8nICdSB\n",
       "qptopvNEDGHVs/Fuxi7Ner15FMpdJ8vt52HKUcq9Sgj/BnUtgppkVlVsyyGTvnQrnbPUrFgwX13w\n",
       "al5kTsyBOAAAAP1BmwxJ4Q8mUwIX//6MsA2XE5t7XX+QAX+XYbur8rCIrssC5Qn3ZKMj7sihm5sf\n",
       "S4GBuVgj60PLFmfbyIInbVsGYMTBiz2QUq12av/letiq0gZND3O9PxQuitZA/nkchS/7KzBghI4y\n",
       "arFq99S6mG+IsZ5YJ3218U1TsMiW6oV5pey6exgwVNMU0ufxEsPSVvp2rz8XKc6u6zwjatEcF5y7\n",
       "JNhedesjxfTyA99LhhL63NlejRL5X14G1Sf98ffMrghI+QMk97Dj/171IQJu5I1Qz5T2/7tM0nFn\n",
       "DPDEPflsQOrzNvOeSVlglF19SqdTh/MYpORznwfT0dsQoBqQAAABB0GbLknhDyZTBRE8K//+OEAM\n",
       "JzVtDdbaFAAEAIZtZKVGF3++7ZVQfl3twniURz2mAqx58K487bdBt030r6FvkafTXbdvH6l1n/8O\n",
       "7GgTORB//qW1y3rSwevDBxazjALj3x7qbDxvDagXbp4zK7eLAu5AHDsx6WgiWGpHyXaxQGiCOcEY\n",
       "2lH9kO5J3nNb9MvK62UcFTpq41gOJ18c9FwW5YiTG2n8NEjHpxVUFkwDTE9i2zlTsLpGSAjErYlF\n",
       "og2mmRGuI79471iTkxWSQvd5oF0auR5oaH/abiohQOhFTwnvblJhMlwdPD5ypfPJSMGdaLiPITkV\n",
       "CgcSvDc9SGgxKEHnkbE1Q2ZVAAABCQGfTWpCPwD9/1k+gA5TnuCAYe6yyMdsA8UZRS9aX/rqGfjt\n",
       "rcI5JLwhUXKgqflcI0TR4IhQ80q7aYXZzXG7aczKOG/01eRBt1kvVM2FRUFCinGrg4Kiu5fe/JVn\n",
       "8XoFjEKA0d4Xni1JA8+liHydbZJYQy1KYEMlTE/HH/5CN+54dtewsbvDABv3o4fJbdOBjBgdJTZ0\n",
       "N6y13FTE0OHY7llYmpURNMMbBqQu67HXkjIJ/nKsk4ABHu9O4m7tWjwLlnKqCFq0g31MzY+iEsDa\n",
       "xE7zpqFkDSUn2Thi6zbE3tFgqJbdxs0PQubQU2Cn2C4vmSmyJJORi6k8cKvkeFQJO/hnOUNUVjPZ\n",
       "r6EAAADXQZtPSeEPJlMCF//+jLADAVZF3r9CEgA2hXGzf/5itwEOvSnRvYNOkCT0bX8RYxBdvRaB\n",
       "guL9drBvMSFyPZftrTqYiSwqMofvLF88HVL8H6BQ8/jZcALFtw6mKrrcjmK0IUjUQCU1SplzQaOO\n",
       "DEjr8CC8DatvL3Bqsk7mTgnphrpoYTDdUr6TKkW5vgCEcUjibMBZyBR5mosI2K1495daSuEmJb8K\n",
       "jlrQWC8gtt3/qszsOnEhZUJK68F/8Bf24AtAeI3RHEhqEDDo25nGLaUDbgo7AyZo2YEAAAC2QZtw\n",
       "SeEPJlMCF//+jLAC7hHnCzk82Br8AS0ACjvir7xNxAz7hYkn6tB+eQGl5mpzLbCaLv47inPPH2Ic\n",
       "zHme4wuIcnbwm82oRN4Zg22OKRkG32sXn6ilETfiF8tXEwROiRVFfyKgpAvmj953ux+7nHLKlJyL\n",
       "bFUQfOabaQNrb76xaN+dIt3HmYayvoqKj9no679t1HAlIpo/M49JYI/vqOkmxX+8w/tbWM2A3QBE\n",
       "NIqpMm8WVMAAAAEMQZuRSeEPJlMCF//+jLAC3A5/W5HHsEsSAElHRFazRC+kh6d7OpUdS0UG7Alm\n",
       "djb2V6/FBMNnvwE//AybL07XnGID5q3utNhPmZi7yWt6auYG2Og1IsFSqxJHnbpZ94tSFc9RHiIY\n",
       "gxeEkaLXpo/uYZe4vfDVJYVpWBr01EjtiDdPG72BkKeWVs7JQi89Hnc2IKMrhl0NcOLB5hMOW3qA\n",
       "BNqkewgTL893ny/bJAibUAz5MX0Pt4a0slVEGEie1LP0rK5PHA7rqW7eqiedcoJhCi7zEpmsuFC+\n",
       "tv6aXmhRcdscxpFf8PnflBXwPpvhOwfdYeaih9RrY8z+VO75pm49KBBJ8neIKEU5YVcbUAAAAMZB\n",
       "m7NJ4Q8mUwURPCv//jhACsAZZ+iAFSDWRK+bUWI9p3gDUjLf/CQswAYCnYfN6aZo5GdBFqin/Uis\n",
       "v7Sl54lxQsTo/Xa5cyGCAyWaarue3vhQxvqbT3MvMrDVIbgEqx7GYOKTf5PwyawzkhiBcGkktK8h\n",
       "THoBNaji+cryS0WPt27Gz0rSKvOlymr9nIrxsN15gTzkcyqkEHKtYFNGKHi6lNNaVMNLb98htWIp\n",
       "s11orBFoQqjf0Q9HyGp1YyVXy1gpXzfoXcEAAAC1AZ/SakI/AOKJKIALbyAtgAlCVVa8NkHF1YFJ\n",
       "HzkwAfkMCg6SgoTHaPRyeLw2ty77aUAS8VjILShGBRMLXLQRehVGFjCKfvvmOjBbyERr4BKMQ/vN\n",
       "GQavUGT8DCdE2sd5He8cWqiezZ7nL6j1BYYWjHw4nKb2mA+TQP3gneexDZClqQlkJ6/oPJeyl4wB\n",
       "N/oVnmwVgUs6ybtFJOkQm3LrWGndiZUu2+mWoXIWOP2BVmVDldUGfAAAAMxBm9RJ4Q8mUwIV//44\n",
       "QAp3cauRhHqwBCJTHw/+SgAuo715OnEwmuuFIwNmsGexm3IB282hDvX+Hf+CSGbcRVGDqINZJs0G\n",
       "m4+dHxJzjHmOLsA2SAzthhgtj9uY/XXPpALv+vEQM7pttdWPyNoclJuCMi3ifCJ7K4C3DV8ido9b\n",
       "B7wzy4oambq5ls1ejEqW8y1aj8X2ZxdEPC+rE4nR4r2znkbws+BZ44JeDUYO3YSQtIEhnDMAMKLb\n",
       "xGqxl8wjr7NOEju77taQ5jd6JzQAAACzQZv1SeEPJlMCF//+jLACphoI3hPtqomB4RIAMcYifsH7\n",
       "g2G4dZvwIiDZtrgIqkFV2zNONf7p20WJyOL1UKECltzTof2W3jJVqxPV5bHum7YcVAkg3v70vneZ\n",
       "3tDCLJrb50XOuEdCjgM2OKI/hLDSglXimWDoSjjHqZbRKAaY/rrjkLcOTjoSwfn0Rbp1Ua2u1idb\n",
       "zLYexz2B7rlW0w5D+YUbDH7jfCmkPqQ1HTQGHi7bu4EAAAEHQZoWSeEPJlMCF//+jLAClBoK/yNG\n",
       "zHiQAbRTM7qQn11b5pSmcPIBe1ypQS7gIMtWlj8ypRXLLPCZuG38uqX7WZ3d4kBr8KiY0wXZNM7D\n",
       "jpa7pCZ0wFEXl9jUviSE2DoB5ClJyJBH+KCNB2qsJPbiH487U/wrr1+63mXHKlzsi1aASI4N2DEb\n",
       "PzYnqu4AXfCusZk6440yVBmO7bSp/g8k961biXjzHw0hUR8ZFbKYKUlxcUwGqxw6XRqNJaK7AcGc\n",
       "CZEwwvRRylWZFgrxTxN6Kb8FH94GQPbi8VbZp4qeKoiW/rPnnSYW+GOkQayQDLX6B4muxWou2w1c\n",
       "awp8EZRL4aVH9Jh2bMAAAAClQZo4SeEPJlMFETwr//44QAmqiFHSJNH4pIAN5SfYNJAbnOo0iGu9\n",
       "HiiT6LmUymGUZ0gKbYQBiiaiE9y8LuooaLXvIRqroTB5Nbx3qbm094S6IcMrCfa2zXEaPdNNxkDz\n",
       "qZe5QAC2V3BMOh02gpgJkzh0wC6tR64Cda8dofI5MMyHdlim32gNLqUxowlwhpM7klUWnY6ix9po\n",
       "K538W9/z2+gM70oFAAAAngGeV2pCPwDOG45ABurHoDP2QABoB60KASjEuub444DrVubz4K+OD1UY\n",
       "KWKxkFpQjDwDsHUKpwt5qFuc6qPvb/Lw1xQdZc9Aiq0PyroyoeADHeASkoP8nWvLvWN1ZMbl1sal\n",
       "zlfdbNfdKAQtSiKu3Pcec2q8qcUtRIx/R7gloBaLCZsCgiqvoyPNgDbjUHb1oPgKXNk/ItEwd698\n",
       "1iqXAAAA6EGaWUnhDyZTAhX//jhACWn6YuM6DdIAaMJECsJYu82NCQpuHH7wKfuo5r0SKZQUPg7e\n",
       "3vRBvaTFoeIPl171HN+AHwSEnxnHCqEQf5NzFxm0Pyqc8rdSZ1AphxGrSYh9TInAQuRl2od24Lek\n",
       "294bEcBHYvr3S/nF4qtd3KMO2iUocWPgo9v1OGVOm3tS2HAg3Uz8OqZ+heRcbzQTmnWOEUOtAeAn\n",
       "I0qaXWURhM2EhKdYjrADjrFNqzv1XaTO2ox1vfWpiLwogMJe2pb0MDrx/2Z2kMAz3bVwv5uqapa3\n",
       "y9Skddul37WueBwAAACjQZp6SeEPJlMCFf/+OEAJKloEJa0TsSkIThACwnnViY0MX2//WlfUZCBm\n",
       "rTs9frX4ePjGJwFyZi2eFDEeptDefbUPSKgUbqPxC2TlVh/H7b70Fy8dN2+WQ6QKj0WT1QUV9l3W\n",
       "eiGrSl01osdEGNXoSyhuHyI4/Dh7ITSOtCWgK3+EF3BNwVMTXIhZVkK4sv5q2R4wRjVCw47Vba0Q\n",
       "xu54Wg9XsQAAASFBmptJ4Q8mUwIV//44QAjqiEkXw2dLW7AAizFRcrUr1XRvKTgmUrz8+/0uCEck\n",
       "213IswPQpqXnzLdUCQ/6Mc6MB2H8f1m4mP03+oiJX3YxFxh96TSR9k/QWhoJmAJx2Kwjn9mqa4En\n",
       "6fv+VP0Nt7ZvemewsXVYm1J98O/7F7wlYvbUvuvTpQHFebl/8HYxThcSTyd0HUMsUkNKSYkW9Q7T\n",
       "jHK0JKVmr3jS1e7ZFHgBXaba8RDjuzihbkos3bPZv9bAY5mHwFS4MxmlXsmQdoTu/f5T+XM1Kmx8\n",
       "0bvkY6xm8AGMaBODkl4PMwXoUSt1znPvMS3YKWRt+brVeoa+3FJBtf/uRy6HUrJCrR42Tgp8N6K5\n",
       "oGldqb+TJR+s81dQ4MGAAAAA40GavEnhDyZTAhX//jhACKqIUf3einmhyywAFzcpLUoyjDI7ynuN\n",
       "KH0HwYNun0UvZTvGrXsdtIpbQySQ81xB1rO1KwcPgAOENZKTAJoRljQb0l/w4YuXYVdnIw3Cb39g\n",
       "+wOIMFu3TCWwCdRtvNpdFmlNfAs12oqyfJAz06f5GgvLajJc2uYhfSH/iT2W6aIMZCIBIeldF0WZ\n",
       "1LC+7j1MOszQbuBlVSSkOEyJjIrahBtpTo9fabDR0gnYTsuODBDMaAL4tyZDd/tDmJJwpo9jdNcD\n",
       "bMaxmSIVN92oZ+yrLIDq9HdBAAAAu0Ga3UnhDyZTAhX//jhACGWudgGU/IwBTKEtj+tNe5vvKJFc\n",
       "FHunoL+QAYCnY6E/nQzJc++K8kDoZqCZYLyvo/IRSxRoxzjIm8VhzhHSpC1VqznVlER+IAKffeBM\n",
       "4qCujPWXYEkFXX/PjFMCMRc+nd82DN8pgM9zYWC3pdIgoYikxMBYOmcWG6XibzJ3pcbORG/IW83P\n",
       "dN3dG2O+bnuIksfHLTarefUFgBfgHB0zg24MjaU4IgF6uzf3TNkAAADDQZr+SeEPJlMCFf/+OEAI\n",
       "aohPzoG2zBgAaTppFg0ZRoRMugDarFVWH66xHR6O2ORLe0qtXud3NfzPLfcuTaK+e3dP64n5u/mN\n",
       "imnHTxF89HQhWOwb5LXX/7X3m38GDZ7rijmEWHuK4X8ho1m5ZZRQ3ZYNyHn7843pZ2mLe9VBjXVB\n",
       "xmNaINRtgXdxUV9E5QToGN397JZgBxVmWLeItIBgSCXIcdzE2KSP0zHXzut/7AwONlTgs174sL8L\n",
       "BxSXhEz3znloAAAAkkGbH0nhDyZTAhX//jhACCqJtpGdC68AKyKl4CVElTLgrHmwrUrRegk9P6FS\n",
       "9nZc7ZjB8iXA7LdaPwbS+0q8TRjB6uNcwRXbr3QfYUv5KlPniSGCQSplWTQ21ho4MZ9NgT8A6bKx\n",
       "pnXcysX/Py8aIOlQKS00D/5ed5AOQDPNuv2H3Pjau9qrYKgbBWgJaKXM9O1gAAAAz0GbIEnhDyZT\n",
       "AhX//jhAB+1ImtsNnYJuwAIzy3wnrIZiJxfy5//jvqMbUH7kWC9+7jcwCEQughBmNHbIRnSRapOR\n",
       "zYFDBaTR/d5qRBIomi84SluzdUGbxIddfy/5m50wfkJygS+LQlS2TEM3BdOnXiFLGSmYkf84Rh4D\n",
       "8qjnEzlj3bVY8BONwQ+3Nv3SbBjfIhKeKglE8mYpAb/jDG3wsN2YBU3jwNrt8QGgGUwcKoCRYmiJ\n",
       "X72DvpYZVkFp4zc7NOzz5dhyMvsUjlpBR6nvQQAAAO9Bm0FJ4Q8mUwIV//44QAfBSJphzddeqwAl\n",
       "t4HHTxz0sVq8Kvr/+LaNXa/kuOBSKIEMCcYFoN1pPN+YeK6aDrEf/DllPBPIlmC0W2dETHnlqC96\n",
       "rQiC4637mTzr+XsthALFmQNqfGtyNG/wiXRd8t3tFjYtHgePcxx7oh3bPQXpxzcvjbgcG3X/ChBP\n",
       "5+9AZcs0CBpFt9IAv6ZgxiFzRJrNQ0IVFpzUJgRq7U/V1yxjKZoMBGl95WDMEGOoB/37t174dE8+\n",
       "BGiwujVqfD3fvUgQbbQDouObJE00Rp3o7ZT82YPncV77WRQuJTp0RXguDAAAAL5Bm2JJ4Q8mUwIV\n",
       "//44QAeSCZbuxj1oAbyL7oDhRFlmUUkFHjbBGeiBFW5kGjYGAp2Og3JyUWjZb0OKwAOZg6TEng6N\n",
       "NrQExowwGwtn3I4F1pPGzvHP5uP6el1zTquk5pueBJtymSqcQUEPCJN6NFzx3Sxfm9XD01dAcXm4\n",
       "KXT6ZhTGeyVGFnyYPSZ8fvVD3V3j4aaS0LFsZwm8Yws/BpF1pP6MKRsdNdF/QYUockNWGHao+ScR\n",
       "OuSHHf7mPqCPAAAAn0Gbg0nhDyZTAhf//oywAfNbFJyE7bBdwAK6nIV9aCrm03MPEABjr/GGvP0c\n",
       "h0Vwe02zb8TJXXp6SyLjhsVMF7WrlQ5WuTIlgCW/mvfP+l605OSlObstCjmNlexXbc7L2Ac+yqmy\n",
       "gDNf95u2BgU23mAHcZSY45gv2HFrVKUFT2FspR66K/m9tHZukBOtkx3GVzJf/Ga4dJiKkv+mnPhY\n",
       "gAAAAJ1Bm6RJ4Q8mUwIX//6MsAHoW0ZJUfK2+ABMbRV62SmvC9t/ZwMXtlu5umz3Mq39sqHS1DHg\n",
       "shnKeEfv7KdoHK29TCAm4ni88kG0nuOpgwT+33L/wtj21yYOYu40jnX6dqZv0CE/vUC5bhG7TAR/\n",
       "hQ2ZfrK9nGVw2o6dC3K0+sBAVhQ1+ReD3ff07D4NJHnjhcOqEotwaFtt2B50tAFtAAABDUGbxUnh\n",
       "DyZTAhf//oywAd1bSEPX2nEgBLbIzrrnZa5VFrP5lJMMNOA+V0/h98yDBKIJ7m1kM8q15jePfzte\n",
       "39zarD4tcLMkgRQ6a7f6mNPV+kKVUpCiTuRcxnuQhowHc6CtK088GwWzLcaspQ7/So1TqUD8Rb3g\n",
       "0E1W6VUe8EMxHG8Gfetsx48Pn3aaOOkP/lZj1IZcaClpSg9niBdMjPjv+/zmtob0K3drkySSPamY\n",
       "NV3RUqLmOoZSxKTj8qSQSv842lEloPpkgKnnT4z5H/Dn3FFw+PNGgBTDkIQSVI9EbAqpZZYzeRKB\n",
       "8DQGJlnd4gKbECt5iuBmt0iud5ElT1MYdCrjQ5tE6o+CvnjBAAAC5EGb6EnhDyZTAhX//jhADg+h\n",
       "jABwUdxYuDPWjRdRdA/HP/4c+/33evzLbyeCntWeQz1RVIaceb7yTYgf11ova3tzLi+1flJzeQaG\n",
       "9xJ86qt/uEK1ljAehncbP265ocJw+4hGZMA7AwWG4nVTkoCqDD6jZgfZkZ5DusZS5RM7MBsKw84k\n",
       "suQ1nirFtESqDuMTItLj4iPpKpq1BHwevmRjC3jWmNK7ARfQgwPfysijeZlAOkHRn9jIQwj++xxP\n",
       "MPU4P5Ewu2O5y0BOND+5dJllXcmATV92y0pAd5VGSC/DGRVNuX9b1IvAyI+DWUJT14V3Ch1YziVg\n",
       "F02X5WB3soyHqXE4hmkr0GSXEKj6q4iGiw+h2or3mmguWqXyUgr7buzpWoQc/s/bse4JdbntVoEB\n",
       "wa+qwYM1Wo1e+ZUuVlKHszkKCZuUgw9JHTDZghHQVklfQWhSETS69Kwjjc7MdUTibPvv2mL47hQd\n",
       "OWODQpNbhVdq9yMIgq9Kh0jWh4s06LHvL8vKk8yogMPzoYic1ccgFRTR8ZD1KwSJnrDgwi/i5UCZ\n",
       "fSQTSPeALr5ImH/uwpApxrXag5IGXBEW5adwm2E2qSZm48HIByEFAoYHYH1dWYCQajDoJQ459AWd\n",
       "rYklvFAfczTKHZNU8/VtVDS20Z85kjeavKE4fQxFDE9ckG+EmqeT6QqJh154lbWPYOpv7NXoOsjg\n",
       "lYEIHmI2MiTrT/swSXh9HuqoRe2JixF15jNZYMPV0BkjHHhLCt2XuLQBkkEb52cdO9tC3fnvsD8b\n",
       "xLJMgSwr7g5tEKl4CIJJ7mYJHAQr8M7jQe3+FWma1ilPFgfRw4tgtoJ4RJEW5aFYHMQ8VDWGSlxt\n",
       "qKTF5Sy2tcjLlnkvlN7m7lCMjqzUSeSQ19mHQ6ia8ZQ1K9K3pPY/gyeK6eNXhpHTxsko5fexo/UG\n",
       "sv6QDkId0XHUubgDrZvJ/FeHPg09AdivW9eyu+5TBc2IVMerOG3BAAACh0GeBkURPCf/APi79xMf\n",
       "JHzgAUq9keaY6ES3495a4Lrf/8YrIWcXdrCbg/pN4V26qspeo+3SnxxjloSCTIelJ5XVKzgongeu\n",
       "ubqrZHGT+HY+facBTaWzr2+7SqcB1T3zxcXi9yRpt21LKeaqvPL4XMU6FC6x5pPg+bpcd1G8MGtZ\n",
       "4wd4ldJHBUfDfCdfPGoTaVqViKyV7zPfOXYX4NdBYTc93uqZQP4wWlAYfF6b/Ro3sjfi1la5zZ/D\n",
       "8epeOXEjBvNIEq5mdcCt9fQ2G3GD9BUFyNdlUh1GHFgRxJwxC9EYm0jkBws1fjWguaKy4HB+M3uQ\n",
       "XvWEG5E1g9WD4wQHqGPIF0PF0sehIShEM9CAAfTdTvt+Fb0tLYX9MIBug9yjbaN8Ei6DRt0iK6vf\n",
       "R3cNGTRLvydeuSx/x0m3zQ6996QyJ3Wt2nS1h1xxMf7JvD1BPd5N2cAUIx8cRUE+MdlwEmd4sIK7\n",
       "tXUy3gbrLaHuxfU7Q+DszJeN3Bc4V9hxcmhvDlEobD0XyrEQWfyjqHx8dCZN2OWx2VxlsnkWNrr1\n",
       "jix4Ve5NYAjUNU9pIv/+l6jZ0k8xWmQYFVuVL1o4Te4R2XelgfdHiGaeOVfvRx8Mdk5yJkT0+igp\n",
       "DLzaB//BQ/MbpXNeN28aQ2NmR8jZXUxVOuAJpRlFrU7xYfmY6JiKhFSE40QyoxB40n8MycW0AtrI\n",
       "8ti1MI4cg1U3+nYoBRivGIvzAP7nTnTKAWYaC4cA7NZFcAPzHlgaY0faacOsv1Gzn+KplUbc7LS+\n",
       "hbTdDebFpruwuMdr8ihFUlgCYKkjoKXYb2vmjBb7DfZpX7GMwACVZGNwQVv1HjPjfBKwGrN+RZid\n",
       "z+RNC7xbAAACoQGeJ2pCPwE2mkYAOU3f9WxoME3OU767JcJ6r9ikZlp6C9EEJGsmmBgmBsrCDsbe\n",
       "y9eHmJGWZBkh9zYnfqLUwbLjJ8eSl4yxQ4fKc48ciwP50IGwPJmAqGtnbM4U5iwiVe/wBgNB0H5H\n",
       "QTpq+OZUWAoq9m8tvlUHuqxUPmifGGXtLX0yr9G5aI4aVMGogxKKYARMou0hYUS8luAY5hxhIf7m\n",
       "i46330WB64hgt2z1vC9o9nxumOsGcfd7C630Ir0ROYPJ2EHLkHtNWQUoC304fCz2VggMVfRsEjcs\n",
       "iBXHgI2Yp7JdJs05Ccb7g8fYlinDJtnKZFG0IOjF+Nlurswx8NFutA6LWNKF/37j/6e6toER0Onf\n",
       "wjQX46A8ul6OX3YluvI9J2wvPwE6p7wRXgSyjmw3xoy/yitbTTW6pSB+Dsy2CbF8Xii/G36+7mi/\n",
       "jYkwT4AF+muIyJFXbVZyfj3q7TGBc07IhNe34NuzsTlwUOq8FpGFbtzo0I0Br8c3hgWD0ah6+Tat\n",
       "TdA/LsIy3ns9rhJBjvMIWIgvbW8jteHCdFImRvomDE77JLz603ViShZKdmpAPyDdjI09fd+1FGAk\n",
       "aw+yDdIDhclllIXLk4fjiJQU2Q8o+vs2Ik/yBYnsfuykZH/JYsjjRc79CJDUxEm+307zVWMVroTT\n",
       "VckERUVy2sS6wkkyNoudpbyih2LC4uaISqFMmSTTtIi7SoDNOteTlkfclAKUvmSy7B1h/Jt5w1HO\n",
       "OyYRU34XT/lqzaU/pabLDtUqk4mlCdOaMpEhvke2bK8I8nOURbcbYcLE05pmgMj5BCNzSykI5px4\n",
       "O/sOgeq831c8/7ieB2pWBMoSs9lOZ9IcEcKY3UQrbXuOAzDEs/SlBZ4lMgoatUwdogOIbwj+yYAA\n",
       "AAEpQZopSahBaJlMCFf//jhADhHfqyMW60AK2Rn4McJgJZ8s6G7vhy9vqQQJJ9aPAf5Q7f+PIhOl\n",
       "R6FvvZc7QyM/gJ0jJWlyvmgcPwaXXlNmFJowqYUp2GsNv+P1K9ZrmOAM03YCnmsVzrSDoXhRgjWd\n",
       "UNRSkK4X7ZEXCRcQyR5TgO8rTJDO3wTNL+VHoSiZyIRmaKptRzodUHsYMsaWn8oXIT+a8eDbxDBf\n",
       "R0P9JqsNzAeq7d8ba6YA8R5PwGOCmdPGNB9HoUA8VIJOQETC/8XO//QPb5PQpY8JMWlJ49wyb51q\n",
       "f6/zmiwigyPXjm+vFGv+lrTOPn44ssu31ysBf+5G7mtXQUq4u23hS+h0YaM5CO0iSSkH8dFejsnF\n",
       "zLM8xBdmMd0Zsjt7AcXAAAAA+0GaSknhClJlMCFf/jhADb2au7trkdIAJnJhWYFr0l3ppki/eB+v\n",
       "eZVTohaFHPjwEW4BxPfSn/5dLVpqHbYW1qxSf1546tpjwVstQ46mfrMUmdUNirM0tmbpjb9bo1vj\n",
       "2MeAOq7biz9Wq2kI2AgaALju/bP2I+tX79zzGKwJbWshiHUFaVhsMQkItfZ5yPmikBINWlEF+Uq7\n",
       "eYeCiKqfWT0Sj3NwMUru9dy+9K3aRtLA0w5V23bRSpaenhYYEE+z+USsex2f/0/8kUezOeoMAVE2\n",
       "LL62ddafRcicnOhHgcdpeFTZiki9bq2i3YzMrr4B5N4qEuBAKPK8HEnBAAABHkGaa0nhDomUwIV/\n",
       "/jhADW2gvACx5IfAC+QqKv2Zy82qA2dLAW4P0UoOfvqGAwhYYXQGfJRINGHFSNE5oButhLW2fhGX\n",
       "saxzy026TVszgW3RPzo9XdMnaWCmAJI2jOzHd5q3+0HQq8zH/aHWX8Z5nA4RTaqi1Moqu90KBEWc\n",
       "EamXqB2Pe4YPwcDWv2GX6AjClxKlhMntRy0tsydFjTvcF2RUNY4xOMEOIhh1NfFKBgF7jG1y14QF\n",
       "4truc4X3rwbppJe25IU3/51CR/RMXei7jnnrnUAFojACf+xQMcOrFR0Q9Kcv7CE4pRManMZluOYG\n",
       "pUj5TSJkq5YXL55xf5CvbsJxQUDb3V8GNZai+ba/gzP4gH7xxTe8LTUn+N2SNsAAAAEFQZqMSeEP\n",
       "JlMCFf/+OEANZzWDKBAMwulqa8tcky8cO1aOaJYl/tJgABkv5bkqvA9d1NjXDo8yG8E6h+lP7kgT\n",
       "mGTavU5lqD62nr7bUua2/rgckIaEJTsu7WtEcLD8rpOQgPWVs6ArnN5Tryg5nPezJHfN+AaTu6D6\n",
       "nOD+uwgAmaOJrZI+vMoES8Zv7rMwOwKAivCf4hEn3Om85pDWWq/AHw2eZAJOARI/FpqYWs1txRNv\n",
       "ph3SEtUvyI/4OEx40JfBBkUJXQLoi2ty+l38Pp+0oYQT5lzKZJlHtYZBCOzThYc5DyHkPuB+WXa1\n",
       "3jdstFaJeO34/Two70RHa9lSsN63b+Sap5NuAAAA6UGarUnhDyZTAhX//jhADR2YwEbQAjPTyiS6\n",
       "IuGV7MaZYDAjJknRlP0Wx3ccShtrpixG0xoTzLwgSKmpNYyGxQN81PvK7YN9XF5xiCa+M8dtLoEl\n",
       "E2SvFDhxpY39VJJxZS0DKn36p5kwLBm3TRvsHEu3sA549o1q1ced550jr/yUrQ1syklOyhxgl0xU\n",
       "esN+SUv6QWZnQ0uWRbIl56c2dn0AKPQjLwj6uBRYpdN7b0llEig02djpCE9HrV8WyLZD1B1oFn9T\n",
       "TIlxcEID6UiY18Y5GTWQSvwm9b5Yez5HXxCnFMyn/rzX4IPBAAAAwUGazknhDyZTAhf//oywA1F6\n",
       "Sf3P4FWwAQeBqYpEwUQcIAhu62laDonCYR/PSfD9rTKyXS2kzYI7ntTXcL7QLzedaGYmNUxpfjyp\n",
       "0MezDSqJ8/f7rqeWMi1B1F5BLXlmkSwJmQKpPP/mKoukGYFt5xxOOheHl4TDlLZFmdn5CX1SHW6/\n",
       "8a0h3pOjwCqI/TpR+wdi4TVi9Bk1sOEopOD/rajNY7WP18SJP7VgeXgF6MC+Xt9z1z89K3unuWk2\n",
       "+RZ4i4EAAADVQZrvSeEPJlMCF//+jLADPXoI2Qzttf415whABtTKXAoRA36qIAd4vUThmqHryG4U\n",
       "WLlJlZH71KL5GbMoPissszHj/Qa7oakp7zM/iRCH6t0KqukXyMox0tVP6a+RIPUkltv2+1lOkCkr\n",
       "Op3rUKSQI7fOs5vbtHJRLS6+3wLyAhkvVisphSvE9x9VoZp6OAUj3To4+9jgAkbPD2m7XpJiYEXZ\n",
       "nGJ8dtcxHFgj52uyuVZo9KcD/R9DmfXqcN4ycnnWDvo+iQAiE0fUlO3xn+ZXQuwOWfZ9AAAAzkGb\n",
       "EEnhDyZTAhf//oywAyl7VOAOYLedBb+wCIrssC5Qn3ZKMj7sihm5sfS4GBty4w9WGv97oM7YKOm5\n",
       "Lh6sIp+WVUV6/8r16oV9DsmiQR+Pa57ym6ZavxxZlIPLpP7If0GBV2eakio+LW96GzbcZSIh3oEe\n",
       "xi/VuiN/s+paimDV75dkkVDBQ+FwM4nAuPmc+znFmj3k2Pkm6Uacz6TiUKcKjeM4l5z4FFSOfbeo\n",
       "I5veV2EfB+uM7GswQa9Fkx0coGyTfN2oGFMSyEZEmgekAAABAEGbMknhDyZTBRE8K//+OEAMJzVt\n",
       "YrAGYUjehDG2IXoTMvJSowu/33bKqD8u9uE8SiOe0wFWPPhXHnbboNoq53iC3yI4RdAP4qeKuT//\n",
       "DuSkUzkQf/6ltct60sHrwwcWs4wC5CNR8liOWkU8Y8aMvAu0CZT0x59qs7DUj5LtYoDRBHOB4yej\n",
       "+yHck7zmt+mXldbKOCp01cazq5Bsj4FHxQUtQBISaiFE9DPCijENoWGjGhnzAYNT5KTn6SkaATAf\n",
       "elm9kBsaa13nN8wPX/UVqNohKsmugnZYs9KVX8xyKlsWPD37BJ4xbsD4qUD3UJWQjq30D9Egctdf\n",
       "WliYMXR69qAAAADOAZ9RakI/AP3/WT6ADlOe4IBh7rLIx2wDxRlFL1pf+uoZ+O2twjklhX74v/gp\n",
       "eVwjRNHgiFDzSrtphdnNcadR54BrfTg8Lz65+alFnDLfkpYWpK+1QFmkVC9WgfoUmqTBV6clRM66\n",
       "ZjlIqBUa2lYj7ZnO8zIdIOvF/713hO/F+9Mtky9Pa+qbqZUHIKqZ7c4xXDoTrDZlmm29Xs7Xh2FC\n",
       "w8idPojSOhPqW6S3+RreksMCJE3uymnQODHZLywmiWf5GQPx62rMszXq3a9Fpg8AAAC4QZtTSeEP\n",
       "JlMCF//+jLADAVZF3r9CEgA2hXGzf/5itwEOvSnRvYNOkCT0bY6cM9iIF/f4Yeu1g3mJC5HOW7a0\n",
       "73Ev/MDU6fw6ijbeQFpab6z2wr9QcJpANmsuqfQ5W5INsFxWJ2TbwjI/WVb90A+KxpODSW04DF1z\n",
       "3scWD05RKderjjE4Z8X+FGxJZcS/P0g0Ti5JHG6EuSHMRFN+ykqJyKZxarTVlnTtADpKoMbk3Ag2\n",
       "7jHP1n4LgAAAAKlBm3RJ4Q8mUwIX//6MsALuGgqWcXZw9amXWgAUd8VfeJuIGfcLEk/VoPzyA0vM\n",
       "1OZbXU0nukYCQs0fbUYL3/Rw+Y1Ahjz9Xhsqb0FGOq6NB4uFaFKYmF2XfZNYlF/yoFzxRzEQsdTm\n",
       "1b43ON/9tsb+2N/Lt/DCOX6PJExfJ8R70NqvwVpQnhpj0ceo28D1KEdrvcIlbiQW16ugeo7PXpdY\n",
       "p/8NCMpZ5HnwAAABFUGblUnhDyZTAhf//oywAtwR51uRx7BLEgBJR0RWs0QvpIenezqVHUtFBuwJ\n",
       "ZnY29letxSqvcBAT3/wMmy9O2EcZQ0RlN60vMzF3ktb01cwNsdBqRYKlViSPRb87OyohXYcMsmAZ\n",
       "NwbItnhmeqD0DumnnV1x75oqXzc6k3f8f+MTsrczcZ+AJaWO1aTn04uvH2Yj52G5HVUlxqXSt7so\n",
       "GdeW4rUEMIhF77xH1OrvzjXArib20Nz6IVSDnK4ic7pEapf1MIILJSsy+4K844ADzqlNpgqwPWNF\n",
       "H8iWfw0014/6YzbtaLix3mNTr/4tFPvbJUaeK3l2B+Q20shcVXxQn7uZ5v505oHcJk4E5cx0gtu6\n",
       "UArr9YEAAAC1QZu3SeEPJlMFETwr//44QArAGWfogBUg1kSvm1FiPad4A1Iy3/wkLMAGAp2Hzemm\n",
       "aORnQRaop/1IrL+0peeJcULE6P12uXMhggMlmmq7nt74UMXRhLYlpqkBMqVY9bgictUVKq6IEkcy\n",
       "csTNZkzcsyYnwKZRqH+CPjl60n9VE/0Ufj18t3YTl4x0DN5uXEBKMHtZbZ/eCMZeokKbrcGlXAea\n",
       "dY/zTzb4un/Fbi+sxjijmii03AAAALUBn9ZqQj8A4okogAtvICBRYj+pN+ysciyN54fdH95nFLzh\n",
       "zYMFxk2AVd68PhcjSbu6GRR6EBNihGKPjxS5aCL1R7NQekYY18x6Pxw9Hd9WjjoAL7G6g/PJksuL\n",
       "NrAHH+H/6UNR9swOP2CGz0g9+p/6iHiT1TVtYQ2fCoH8Onll1o38fX9tHxqofdZf18SfcOjWMEE8\n",
       "9rqbp39jqjq71uT4+i75Ao9zGzK65lXUJvekrzOrB3kfAAAAuEGb2EnhDyZTAhX//jhACndxq5GE\n",
       "erAEIlMfD/5KAC6jvXk6cTCa64UjA2awZ7GbcgHbzaEO9f4d/4JIZtxFUYOog1kmzQabj51Aetlg\n",
       "CD1/60zkuLv7p3hka25liqpHPzkDUT5GmZdDpA7txHmfyzGszg8I9HJ7anjOIo+Gs14wXrTqr9r3\n",
       "ATR7LX4B92cvRahQnepySAslTIYJpaCVeAh8VUe4ZntCNUHt99OqVVZ0wWwc5h/+Ix8AAACsQZv5\n",
       "SeEPJlMCF//+jLACphoI3hPtqomB4RIAMcYifsH7g2GC/gZ/BEQbNtcBFUgqu2Zpxr/dO2rFJTRH\n",
       "DQSRxv8kDRC1zibxfj2oYMCXSzXtN8wBKn4Sh3ZgPgkEM4KLYX+r9Ees5ck2ktLh8jPyYU6CmVfk\n",
       "sHe8TzIZ311PGHPYQN4pgxM2u81gkG2O3g9OxXdhjpHyP6/nFqzdcnoiOBacKIk/TtsiXqrv4AAA\n",
       "APRBmhpJ4Q8mUwIX//6MsAKUGgr/IPhuOAA5/k79h9AwKfmd832H159gMU7/YrxViduiS89RR0Ww\n",
       "HoUacAljMhWzwmbhuEPrcBdWSbKN1K4vGKg5yvu8IZme8qBeuzj+lj2dAKKNo37QmlSjg4raiczG\n",
       "uTmQkFtGghxuxfLQy9pNFFsnn2bi3SEPhzQyk9Gvb/cJPkRnFSYEdVUtZvk9eeQNUgR74ngCBQHg\n",
       "Lr4T8cdyfoZCmZb+7Xyye/ECyqVnWoK2/KhKE3bMfvtPe+aoyUzrP11qt7GsTe8LpGB3tq3lXge8\n",
       "0VIxSaeDsCcRFTV9AQu/nlxRAAAAokGaPEnhDyZTBRE8K//+OEAJqohR86Zd4zrAG2X/fJgx8Z4R\n",
       "uMVPlGxRZ24qGot1zKZTDKM6QFNsLPz2MXCNWsIKdbFSUeyHUiUuagVwinDn4KthiryFF39cYz5T\n",
       "FlEwrqP9AbunihRC/mlqdi+prSAXft/IG3ecYDGHswDCQqFy/HTMsaGUkMYY0Brj/bSHD2v9KWFI\n",
       "FQ5YjzmH+y9gCONbdwAAAKYBnltqQj8AzhuOQAbqx6Az9kK36e5qS50o7Bm1bm8+Cvjg9VGCgeMo\n",
       "C0oRipcfdxQRExuNDQBypCzfy6hwMHftMDSV50AEYZZ0flNFFvOGks/pAEf+H7OYu+NcyKo5z+5q\n",
       "4yLkEoJ0cYVVjiPtiJmV3ZcXzKxEVo7kxD557FuqfZ71e5xb1OeSTunoo0mI/MLOLJP8Imc/pZEE\n",
       "WDwqbtJJns+8kXrbAAAA7UGaXUnhDyZTAhX//jhACWn5m/tsAngAsak9oVbDkg9ApOfF4yvezxiv\n",
       "dnIB0R5H4CdVAsMqiOdNDB9I0skjdtJYmSTFl1FEXcS8+TB+8EEeKigWaKq0URffRbBYQK7U2yWl\n",
       "k95d/i/U014zpYOXzL59xLLwxIec26n3XDuTLotieW1fkmncyMx/RPKWhPEkmeAvMTWM/G4aHje1\n",
       "lAGWcMy5T25KI0tNy/3BsIS/CECG+H91N3SZX0PrUe2/8NdZOnreAiAjGizjjBnHZgjKlNlA7yoE\n",
       "wTpZsTyT5HY4mgeXV6WH3xjBFtYet1R3wQAAAKZBmn5J4Q8mUwIV//44QAkqiEgZCZd48oEHgBYg\n",
       "j39Zbvt5q4jSM0VX5qbcd9/X6rF8mAzrsevkmeFDDCE2uk6szqMYVVh0uFy2j82LhDvJqPz1B9oF\n",
       "Ly1I/kxtP6hbtK/bPOaU4FW6BAN4unISJ666RXIzWRX9V8JjIvsGBSDA4LoWVMl3zWhrjHhUhtVm\n",
       "lkM4Ru/SOd9+v0DmJNIH/C6J2UbE2fJgAAABJ0Gan0nhDyZTAhX//jhACOqISRfDZ0tbsACQGyk2\n",
       "VDDyusLHsJhegWoqvkTduo+//ciytF80gsXUx1rZF/ta3/gm3fLAnqGcFLR0WTUCj61b7f2GFMWz\n",
       "T5aUzc2LIhCSTVJD6s+eEEt/3pnsLF1M6xa8W9/SefpmGZrsMgubJuG43Ano8LC9mRuKVYzCeJhU\n",
       "imstPwmmNMFlQSkzqVSV4aGzZQjxYdFct8MSp2GHMG1WA9cjFbKSzBTxJi8rKBf+4wi53Wc/C1TT\n",
       "4Z6eMBQF7kN7uv25XF5724s9oBUWGoXqwDd2TgSw5fMD0xmw4Yz6zFlXegWnjvRHe3+TNCD7a0I7\n",
       "dix8lBivZOaHJrSHRC/nTLda89OTe2jhgYtWFfg84F13wLxtFIAAAADSQZqgSeEPJlMCFf/+OEAI\n",
       "qohR/d6KeaHLLAAXNyktSjKMMjvKe4uPY8hANxbpIfkI097LFGTqQu8fav6EeVDalAKtl9PoXydr\n",
       "72+r9fNLCXHHDQyTfaATVcQW095dHnHlKcPrWmM4mfrUZ3a2BhcdcxnVK7sILEYguVtXtfdClw4/\n",
       "AVhz+9IHoDwYJKUb2+ca2w3vy09POUgAfgEyMzxSf8dGFmAfI09yaj329VLvxjB02Y2lixwkbRZO\n",
       "p3dkP2Ceb3tHqHfvzf0s0rFdu+wbwy7BAAAArUGawUnhDyZTAhX//jhACGWudgGU/IwBTKEtj+tN\n",
       "e5vvKJFcFHunoL+QAYCnY6E/nQzJc+9/dCX6q01BMsF5X0fkIpYo0Y6TSfmWVaSTLTL9FpXSU1mK\n",
       "k1FM3taCoavq2WsaN/EMRkXV0UKqjymk8qn6gBgVwbZJgbJFVE/qxu0vti7YcNNoLAA2Ta12qsug\n",
       "pn1Ngnw5/g4qvHdSDU077lTmIGJ8K6ahIAt/A8HwAAAAoEGa4knhDyZTAhX//jhACGqIUC5TZ6qx\n",
       "ACDNm+yhnIY9MHH/kWnD/HV+kC7gxRxTHIRqH+msPE+Y7agx+xpDdM1HA0IxSfNXwqffDng6aSOo\n",
       "n9KXJHOPL7QeRDkktmYdRoPwOSX5u5eyH8MI6cVkhTGB+7Gf2rY/61pMhI/ulTg0/YXBs4vygyi9\n",
       "eOiOvr83FHNiQHn79dq4+rTTjr6F/W0AAACWQZsDSeEPJlMCFf/+OEAIKom2kZ0FeACNeTrzQkTD\n",
       "D10SKcl9Lb5LfBelk9P6WV9nZc7ZjB8iXC3v2yPVWlt0Ubd/vFv8xrqsmgLurDjUbc1Ox2/5kGqu\n",
       "aqDaYtmUR4xb7F5lG9aZ8RIQiLtY3ffCwXcH7NW2dmSKoiCSXTyInxlouGle2rt+sT8v9/EJ1JJ/\n",
       "1+OgCIMwAAAAzUGbJEnhDyZTAhX//jhAB+1ImVAbOwTdgARnlvhPdn4irdnr/f/w+c8xuUTxzO7m\n",
       "MkTufNoi62CEGPkdshGmoGteCqn4FpNH91F8NzmkX/T+GAKKFlV8QwG2XARn3XqbjvM/jct0QVT2\n",
       "7chS2mMB7dko3TvhPwI7Mf9YfUuaNGCRbCcFoZzYlsvswHLRDS3c6MNlVr7Ys0Bx5WVt8LDmHKMW\n",
       "NtmCt7/WARNRGGTos08Sfgkz/Gw7+gdg7c2MEccovSEnS9gRxwbxIFMPw6MAAAD8QZtFSeEPJlMC\n",
       "Ff/+OEAHwUiaYc3XXqsAJbeBx08c9LFsENybf/xbRq7CtAjgjxGBngTg9FB4dJ5vzEp1NTSif/8N\n",
       "kI00Zxfer8umQCN198ayOt/MrN55VcIE9dydobbBEO6/6FsL3lUbGsOx3QqYdNRwmWtJ7kZyIHE+\n",
       "jbT4nkmabiRMsuubGwoLueQqVpQHEz4vNAaPuuuRT9TE9wjtr5fZ5cfoyiGRrfjNBub1/v4uM9dI\n",
       "k2pdk0swRJlbFaGZnIBsCL7nlxa3c8qH61A2GoChcJYSyBiWHwQNFZzIk7NbYrRfJ6HBSkVGo0ZO\n",
       "hANqT9QIivs9TbnMbO6BAAAAp0GbZknhDyZTAhX//jhAB5IK44exj1oAbyL7oDhRFlmUUkFHjbBG\n",
       "eiBFW5kGjYGAp2Og3IIrZ+UXvqIXevZuXhEng6aJnqMyq/x86StV3fZqiljeUvhEDj6L7r8Vmhgg\n",
       "BcRNGE9FoZOxUsrmF1F5l4pCLJAbsXkk05T1GLLfeFAVXuKt5RltOJbmq2LfDw2Om4UEX+MqDN72\n",
       "PShNtJZ9HKpcoYB0AuI5AAAAnkGbh0nhDyZTAhf//oywAfNbFJyE7bBdwAK6nIVg6yjEHuYeIADH\n",
       "X+MNef2RRMpe8Z2LWK7E03eoWmE3pHHPYeC6yPgVkFnx2l8T+pUTKtF9k6xg1hMjiGRT0axppnaY\n",
       "dLTrkWcNGky+D7Tlu+I+Su4y2pKcekkice863rO/W5QJufeuqOvGXMegbRMZJjuJcUcPvqOTKDLq\n",
       "0F/d0MLBAAAAi0GbqEnhDyZTAhf//oywAehbRklR8rb4AExtFXrZKa8L239nAxe2W7m6TYSKS+Mq\n",
       "HS1DHgshnKeEfv7Kdqu9NoKX2tyO2QCKhWTQnqA3hse8qfsjqBrkALcxZqSymg0ELmM6gpjbbYoQ\n",
       "z3qEujS87uLcOMsxD4fmzBo2+qLxphPtHOMJCdhWf73fHNgAAAEAQZvJSeEPJlMCF//+jLAB3Vs+\n",
       "zePgOOAEtsjOuudlrlUWs/mUkww04D5XT+H3zIMEoeijIpqrhWt4rJNqbLuDtcplKRtMlHDa4NJ+\n",
       "H2BDuZ+4YA1rfYc3JkeGoeCZj1GYk7Qs0oObU0k01AMIhTduwlzGa71hVFgXPlCoVrrSFeAZA6e9\n",
       "bnW69dfeLXIU/f+j3Ag+aln+n4fW9lXUmpUgmqDc0RPyRHVRp9lRqb6e23AOZCWJCw1aIInNN3Qc\n",
       "pkpLyPoSR5Xdsip29IlYT7YfrC/MNN9btsSyUh0RGGsFmtNNorfZwj6DTfvqH7gDhpc9Rh9ugvUr\n",
       "pd2QCxz15vVqJQAAAt9Bm+xJ4Q8mUwIV//44QA4PoYwAcFHcWLgz1o0XUXQPxz/+HPv993r8y28n\n",
       "gp7t8Bsi+Lltjeb7yTYgf11ova3tzLi9eflJ1KEhft56Y2ft1zQ4Th9xCMyYB2BgsNxOqnJLQm6U\n",
       "FhmB9mRnkO6xlLlEzswGwrDziSy5CxQ/9EUDet3GJkWlVfFSk8LhUEWTaPtg6N+lrTGkdgIxQM+j\n",
       "H8iCvdkN8DpG2fN8qX0Kv0at3MAT2vV9Plfw3LYJWWtYIz9AdNX2Cb3K+7ZaU/nIijJEazKY2/Io\n",
       "qoG+9N8k3wer73zprOJ2uF+HaCMIMmqPy1sHWw3cvE4hMAGhndMxJ5DafmhauVin7IBdC4A5bfsK\n",
       "m0DwuC712TF6K8TsspTRvfWTOFXdBPxnzCbVajV8DhM0LMf+ap+mYgy4eV++QFiGOOwFlklfQWPb\n",
       "JLH+MnaSJVUhyZVUbU0bOzkDUlSwKjWF7c2GCsQrV55DJxt8ZDwSSUhsroPgXep1bzaGghnd6Qi9\n",
       "SznFR+fiOHNxXsR5j+55fThYy28xLtqorm1mDx37OakmeuVAshlaS8KRgPj2P8P8sfIGKCVYHTA3\n",
       "DYieutFZ72tg4UWVJlfqCY9RCKgP9f64fqbWOCWrXuKVQKH0sLvezJZ72qUUNTLbpQbci4mo6q6Z\n",
       "94q0qUfZVAkmeSK0NG5pCJ1u5aWtcG0R28/gCdW5d/4GBCOW9DeNmwJM+PX+1d1tkJ2zdLB7pdpU\n",
       "///vAoOeVvf7aq1ZXusJG4UY4kXZzhHtsZeWgwzvhQD3yhG+JPW4gPn5eG786/rUvv8AQbrGIHbd\n",
       "h7B+S4j29FDkh0JO0U+s4v2e79wJRUQfYRnXYsG516PxdsHI07xDLj2Wn3CBg7mPvPY5GRqX1hE7\n",
       "9epxgJ+6hND//XbMMmrL0U4gRkwdyUcXq9fx5LF9SMh+Ojo+4rmfQHr2z3Sdz1wZAA/P2QwYVmUj\n",
       "aMrnvyqYHF0AAAJqQZ4KRRE8J/8A+LwFPHuN84AFKvZHmmOhEt+PeWuC63//GKyFnF3awm4P6TeF\n",
       "duqrKXqPt0p8cY45XRVQheswu0TDrQPdveBvaGXAWXwWvgaxTvMwsZg5FlyAglvybdtSynkc3b9B\n",
       "otgwtjq/q7nwfZJseusZWLd4/GDvErp1VHxStojQ//XJZcwjizeNEwQUI56XbbyeGlDabW5X3Hfc\n",
       "jLlxw77Oi5mjexocSWaa0OK5x4ANnpcRqnidiAI2W28hpX0G5x69VzpyoMGaqwvSZMSIzW1J0Rib\n",
       "509eDCkkK331Rhnkw7uB8yR0rSnDw1iJTqOh9Znc4w77R6Bc7SVhvRF/BwBRDx6TXnzEIt9bXzya\n",
       "57ZSLoNG3SIrq99Hdw0ZNEu/J165LH/HSEy1+LAwVsWkzub8d0woiOr1qULg1Qp+rnAQHR0bilOW\n",
       "POoilZJuXhMyZv6z6tgqSJxgaIXlySJes40qQBar8GOBuMOJUz8qYhHPCAmM4UiGAem1UULiL9jA\n",
       "AvRY5daXXFSs3jxKQTC93XCVKQf4DEM+uR9I2IsSMOV0AOyX8e0ZYCJBNOqq8qfDC7kPlGfN+oa5\n",
       "v8mgg81r4Nh9Ter/NNkdLRiPG1f6ktRyIx3B3lPBtK6m2OISJl251OYEIidGsCvlnpe5ltVBPm/u\n",
       "rs1/Kg4YTlGx/6lXbkitpPsIIPyHIHPqze6vEShOScZawAJDogWicONH2mnDql3c3cUrI7JRWt/3\n",
       "HEguLRO16y1lrUyCGY0KFZnwOGiL/YJR2EiAqtnIcLW7m8iz6ypUWwjKfd90KKNBQi9KaJykuk/T\n",
       "QquAAAACmAGeK2pCPwE2mkYAOU3f9WxoME3OU767JcJ6r9ikZlp6C9EEJGsmmBgmBsrCDsbez615\n",
       "g5E/GDbwEiMDq7ZEpCj0VjzmkSNNSd109EIisMqwiXduby0Ln508qVtJOEdrYLFeomq5bWkEXBgm\n",
       "aZVBYN7hWwc+OfeCIyCedk6g512zoePvxAtlvx6XpG9dAWPBYjIT9D6VBAsKHDwnZSYNT1LsN1Qc\n",
       "i6k1PqWjWg+wT/WmvFucsLXL+EnO8ZI3LRsgwJFPeCO+RgjLry2R6RAhhp8bTQwos3UupsX6Nlwi\n",
       "pU08zdc44J2w8B+8BsAOMh65XymW0NWt5pC+aw99IP++8NbtrvvUIhnZpmsSBKC/DcMs0EvX6az+\n",
       "Z4Aei/vtqy1ZZLBsh50p1u01pccWLe2TCGHjhTNa1uqTCc8Z/XWe5tldYPjWuIoPMVX65qfl2iOz\n",
       "JuQYybmmDIyn6T2MgWc/tr6rpINXYYYEcme2dUh52J0hQkqg2fVlVldZ3wshSJu6RAQlfjMwu0G5\n",
       "w+EtMzmjLbqKGNJUY3xlLlljq2PHLTF2yXtOTVOWuXdUYkg7zQfPBC4vQXq/l31r45yZAKTtXdTY\n",
       "gCf4kpwnemFoRGmlrvcXdRtiNfBQbjR3qh0gQdK+zQyuxDtkVg8MHw1ZF9PSx+LBKu9ky07waOZi\n",
       "oOq5HvT3IoWUO/RlYKArlXpyqRLAoyQcS9hYTsAlHxnBMLqt9mXQXDnFXm9Agge89xusPEdP7/5a\n",
       "vR8hxKEY3uyQr1JKdZFYchjWrYLd62UBqXDQhswQPFIEWzYwshsvx3g52EK7IR8OAU5WcgJYNoAV\n",
       "suemC95J8SDk3o27vj59dlhuzeEwNilpYtleAuQt05t1CToNjVX6huLK70AAAAEtQZotSahBaJlM\n",
       "CFf//jhADhHfqyMW60AK2Rn4McJgJZ8s6G7vhy8o0qZvfWjwH+UO3/jyITpVNu2Q+TsXARn8BOdT\n",
       "Y0lSnSRWdwXD5YMsCw1fFS0GVCaiI4dlx+PFM2T2ngUfbffznqyWhtIPjIUABvu8TPVd9CwITslI\n",
       "+5ZicZ+neB3NSdL9BWs1QIpgHgfoc5Co4naxDrj/3VoWH8KzrENkkZvdJBCUVbzEq/TzS9qCzeoR\n",
       "JlohQUQVrCSNORHnM7wmL7pv207hkARaNXFd96PNB9GSxJvfJUx9HP28Hy0reXZ2jk30u0RRxp6d\n",
       "r8BvoDbiG1yEORf0jR3JIeR/l816i6Ou2CMnxY7b49bgmtcftui3Zv8e1Dq3eL3samqPZaqkXXFa\n",
       "LrPtDJDxgQAAAQ1Bmk5J4QpSZTAhX/44QA29mru7a5HSACZyYVmBa9Jd6aZIv3gfr3mVU6IWhRz4\n",
       "7lyWmy0qL7L3cVSxN9NZ+nmEWSF/DCg5Kd1bUB82dRkVlghroaw1P0IKsvZjH6FK33IQZxC2aQI7\n",
       "HnR8aq+28F0M9ZKbCdKIAMSpNna/h/c1a+ra0Y3EV4n0gVhFpvX0ySCMSZGMsw13zwkq6PfkMQ1f\n",
       "KCQ1VpCDZhft+Ptjz12L+Hrj5lHH6MRvcOtX3n9uznk/9DoW7ToJnwZ+TxK7mvhO89XaXvtkbK9O\n",
       "B9YcL2vhnITqg+05tibM/6gI4WY5384G7G0+wjgnoGr0semO1I9RDFvABNBeZr4w/kIYEQAAAURB\n",
       "mm9J4Q6JlMCFf/44QA1toLwAsgAiXc5GSlBF2s/64dQGzpYC27ylAFJwQTYyGc9AbfxqcxFy42yi\n",
       "WTjYXWwlrbPwjzThKW99fBLmbw5CLJndcoIxlvRx5KWNi+OyRW/2g43FfvTO/dQ1htBPdwafnFtc\n",
       "smBZOQzC7XwcCg8qpdhZSTdVEvc2hf4OmFGdtGOAcEvU/3R4xi9Aroc90ZGRNNZbgkvYkoHp9QUa\n",
       "hBKiY3FDDAVl/bubIIxhs5UJj9CcBx3Ip9hJZq7ykH08Ya/ASQavFd1RsxoOGFNB4GSQB+n/e5HC\n",
       "4BhIe8gk1seXiUQd5HSbIpEZgmSSMAV3tOCZDt47c+Ok11dwwCTTNWSMelujOCV9qIVP/mf6JDyf\n",
       "Q72/1qC3l/ie+m7RYHysgC+bMQNDjDri2luyxIasa+t9vXvJccEAAAEYQZqQSeEPJlMCFf/+OEAN\n",
       "ZzWDEQAoHMqSe/3CcbANVmV8GrRzRLI9e0mAAGS/luSq8D13U2NcOjzIbwVP7ITfe+jkZkwhvBtT\n",
       "GKCJkjO2gX2XhQzlW7Sydd7v4XW+CGorXpAes6jiStlN20N2ClpXIoU7a5gLoK4pS/vNK8k4I0Jt\n",
       "oY4UoayQpFdWsyQ+j+U2IPiEaxNYShLm8LM7YwWs7nH/+iBHYv+7vTiCM1/rJa/U4kjgXxzuKVKx\n",
       "i3yVT6GjbdlXMvgQBrqqkt4zn0TmgGbdL7OPSRRiwvpd+hdbqr4LqDjSDFE7V/xarZLnCRqiZojr\n",
       "6J0S4Nv21rvG7ZaK0ny+tfaNsZDaIs9xSuDogjn80JvqSTO2YAAAAOlBmrFJ4Q8mUwIV//44QA0d\n",
       "mMBG0AIz08okuiLhlezGmWAwIyZJ0ZT9Fsd3HEoba6YsRtMaE8y8IEipqTWMhsUDfNT7yu2DfVxv\n",
       "qbDBEb5ZZADus4WUm8Vay26zpCyRBUBy24spZAkyJnSCEVuPz/C7yibBu9npY/FZLvPNnCRQ2vD4\n",
       "fIks2bxwrEAKa8L1yh/m7H3ZGz03Fj/TxW1y3t2qZo3HQ73iXn4zELcAbs52dVf25El/1CqSUVNB\n",
       "T95zoQhWsYiYgUXM+i29zEWmXfQ4syljdm0jT5Ty7DBTcFQhpzc9X/Kwxd6FgAAAANRBmtJJ4Q8m\n",
       "UwIX//6MsANRelf3f7UsIANR82aSUD+IOEAQ2tR2j2kINKP56T4ftAegHFVeJDXAxqggxrNF4KgA\n",
       "NCvmUvv72946MgwI3jQ20JzvlqBY6DV3JITyjGhoDPmGYkWtH5L8C8Y+o2gYvLMiMpiPDhjGoGr3\n",
       "lvVoqs9WdEvwQIYcgDialpNy9G/AfoXvxmn+1qJle30JwF4Acy7lkaffn2UHquCdp+7QpQimoSdj\n",
       "PfKtSI9CYyOBM+PKCPy4LJYCrKhOSZDpQuI9soR2oooBlQAAAM1BmvNJ4Q8mUwIX//6MsAM9egjZ\n",
       "DO21/jXnCEAG1MpcChEDfqogB3i9RN/IX3tW2EhmhnR6I1B9ld3yNGdMfJObwQqe5yTbwE07atiC\n",
       "LrDNx8ysMuGx8UJ0BRdAy0ilj3QwaymSJE1+e0pD1qvAL0A2M2j/Lh5py9LapwPLHovm49UprVOc\n",
       "E7Dn4taAhoksjMzi5Sku6OolZnP23iAvgwSpyvF8Lh9UeUrdqvxgxxBt4jD3b1uyq/uYA9FRVujN\n",
       "3LhGI/Ufq4GjD2YzN4QQAAAAxEGbFEnhDyZTAhf//oywAyl7VOAOYLedBb+wCIrssC5Qn3ZKMj7s\n",
       "ihm5sfS4GBuVgj60P+8VamsIK/7kuJui7vIGFvvsdTyi3wLBIBbxXGV6VMmah+P54ym5DnfHD4Qs\n",
       "Rmpofv7rcYviC4qpHnqRHtQeLHYEAL2Sd9SnKpAvAvRLkFvo5WAiTQ1AuxhOWHa2pL2Fll1HV/FB\n",
       "//MpWj9+2oNTNCKvrBKww1HCRswnhmKAkNjl9x8jD8xjq0dQf8UL9KEL4RcAAAD0QZs2SeEPJlMF\n",
       "ETwr//44QAwnNXL3rbQoAAgBDNrJSowu/33bKqD8u9uE8SiOe0wFWPPhXHnbboNum+lfQt8jT6a7\n",
       "bt4/Uus//h3Y0CZyIP/9S2uW9aWD14YOLWcYBce97dtuudpIp4zK7eLAu5AHDsx6WgiWGpHyXaxQ\n",
       "GiCOcEY2lH9kO5J3nNb9MvK62UcFTpq41oy/7jMLuzewKbPsuRD8UaH72Z8wTElzmfiMAjZWUYeP\n",
       "a+jxJTFYj/0l4JJ1R20lTTDTzW1giWkDzjqwcSp2BKtxVf2X+IcoJCU1UFR0SBKX4SP+ucgm2Cfp\n",
       "QyK3jb9WUQAAAOUBn1VqQj8A/f9ZPoAOU57ggGHussjHbAPFGUUvWl/66hn47a3COSR2G4EU+y3E\n",
       "BGiaPBEKHmlXbTC7Oa43bVTCA37VRZQdI5545q2ttflaiN6po1ehtE7wfaNMDsjF1eujAAj/g5Gq\n",
       "CMx2UwLx5KJWNj5oCl4uph7VVvySvWiEU3ptKWYP1IA5lH3IgNHgYALmsraOp4Yg7dUs46lj/d0I\n",
       "HQWy46T8npx2E84HK0FB9baytIx9A9ruCciUtOFOdPrsO3WRRtcV7ouVZDIN6iTPA2gtStIXmhyT\n",
       "2LjVVe5zA95Ea9JsAAAAq0GbV0nhDyZTAhf//oywAwFWRd6/QhIANoVxs3/+YrcBDr0p0b2DTpAk\n",
       "9G2QtTXyl9NhwX9/sX67WDeYkLkP8HtrQoNKCR9F3fRPDqKNxoZZVlyWgabg3H78dbhRjblYAZ00\n",
       "vU70CcoHMrcZp55zyIYUmKQBPSBQ0I2W5D/XdY78cc32gEiPZoGLxK8v9vMtBtJVhmvFDAzYbGxj\n",
       "zM74FwgN/mDyPIy0VafaHwAAAKBBm3hJ4Q8mUwIX//6MsALuGgqWcXZw9amXWgAUd8VfeJuIGfcL\n",
       "Ek/VoPzyA0vM1OZbSIjGnXIs5fYvccZZKRpSoLu7JxeN+Ptk42foizL3xM9mILzpl8iOyww1R4i+\n",
       "B0KBIfI4TuOzbbpoVZzU//AO/1cag7xw/qSc7/px71oa3e9wJ1XBYVcbZijs0VzYbFICCh965az4\n",
       "qcGtM7dn/c2BAAABDUGbmUnhDyZTAhf//oywAtwOf1uRx7BLEgBJR0RWs0QvpIenezqVHUtFBuwJ\n",
       "ZnY29levxQTDZ78BP/wMmy9O2Gei72SEjRS3jUJezMXeS1vTVzA2x0GpFgqVWSjg3bpZ94s6Ska6\n",
       "SNbthoNWwYNdliy2/nqeeOEaZFo/dZpabT/GRXk8l8Y5owo/xZp43aEZU/MepmLNP1Csy5Ff5csl\n",
       "rg3cZ1qWNVbKpSnzkJLds+wWzzNCAkRgCMNs/edY1IWUaEhzGln2SpxbnIuouYeN1eCYJN+YrpOQ\n",
       "JgA983GwWo+iDB/4Yhuy8TOzM5ZESYOMCJA2aLnDP5SohoG70VZ1/043yPRTsJzH5vKbVq+kAAAA\n",
       "rUGbu0nhDyZTBRE8K//+OEAKwBln6IAVINZEr5tRYj2neANSMt/8JCzABgKdh83ppmjkZ0EWqKf9\n",
       "SKy/tKXniXFCxOj9drlzIYIDJZpqu57e+FC9RHqZN+AJlhAipVj59BmXXRcJKgKqTR9nfqX/aaXw\n",
       "TL7/MQZDpJagh6AqUI+Rryle22cD0q+AgMqK4Gi/ysvr5ro64QzJR4RmerjmHah9q9uUonpyTTf8\n",
       "4qqnAAAAsAGf2mpCPwDiiSiAC28gIFFiP6k37KxyLI3nh90f3mcUvMhJTYVDmgjeu9eHwuRpN3dD\n",
       "IoHjKAtKEYjsE9rloIvQpDlF0hvpStlI3jXvqUG+pd94UvtwsqpYVwAQ1Grpy1FWa6upruKSll5d\n",
       "L8Y5OymqhESqH2qQ/o0QQPZ14N7YTkUCiw7+bmJ93YR2sPPWWMEE89rqbp11k+sGqNXCNorw2vqi\n",
       "miXCqE/vflAnOiAwAAAAzEGb3EnhDyZTAhX//jhACndxq5GEerAEIlMfD/5KAC6jvXk6cTCa64Uj\n",
       "A2awZ7GbcgHbzaEO9f4d/4JIZtxFUYOog1kmzQabj51RIYE+1K5dlp+0F95aFAcNinLgaeGDmgGt\n",
       "WV/Jz4fB08ZUCYWToD8HSJC4sq3jrOpLKh0yCxF6GfPswqvmMIQYAMtYwlKeGGTV2rRUQSfqVwuh\n",
       "WPhNwHDL8xTzKtvZ0tghjX3R6P7jqn2P4df5VWQxq4Ihqf+lF75251f3KlXvT4VWoQAAAKFBm/1J\n",
       "4Q8mUwIX//6MsAKmGgjeE+2qiYHhEgAxxiJ+wfuDYbh1m/AiINm2uAiqQVXbM041/unbVikpojhm\n",
       "/zlSVIHR2cJvSXIn7PSIhB0IcQwtOy20fhhdb9bUjpLktXRLyfIlDjoVgE6tIVUA3CV0u8Rgko+i\n",
       "dJLTZVVk5e0Z1iiWeeu96u5/lJOr4qHI2TDk6LgH/f/gaRuOgVlkS2DggQAAAN1Bmh5J4Q8mUwIX\n",
       "//6MsAKUGgr/I0bMeJABtFMzupCfXVvmlKZw8gF7XKlBLuAgy1aWPzKlFcss8Jm4bhD63AXVkm9L\n",
       "b7b0ydjr3/1cOub5Vmf5oEmvo9Tj8EBQFBuZYd0xX/CuvX7reZgWMylUiZBVEqXnkfNM0olqdRlU\n",
       "Ao0i42RSNn3neT+4kP1QEIn53hgYXw888DsNCPdTWM5WQj5QFWpiyhrB9XOTKHNQ61dis7p2PFK5\n",
       "T0sOlbnRu26JX6ifkwEzCVNT5GC/Uwg/e5EyJkG50ZKBacAHTbse/wAAAJxBmiBJ4Q8mUwURPCv/\n",
       "/jhACaqIUfOmXeKSADeUn2DSQG5zqNIhuetSNRbrmUymGUZ0gKbYQBiiaiE9y8LuooaLXvIRqRKX\n",
       "NQK4RTNni9CYQLgDdwfrS35++2tMKFjkvgTMvZz882Gdm1oDSXD1MUCu+9y2sYvUGtmq3NTwECD9\n",
       "0UtP2AqT/7TfUUfJlum4an/wtML6/57fQrAhSi8AAACmAZ5fakI/AM4bjkAG6segM/ZCt+nuakh9\n",
       "5n8KLiC6vPgr44PVRgoVTlAmxQjFc4+7igiJkFkfKuhWW+3+XunJn0OU0AJd/UKFnPovj/nYlwLS\n",
       "AIydrUxaQbxLUITTUcLxFQlt/azsziLKsJHqp+900NGCtDZX26ZazVa+aFnQG5Ukoi0JxpSR2EKa\n",
       "bEJIDBPQuf7ZHW1h1XiMDG1JPSzPu+5At+rVnwAAAORBmkFJ4Q8mUwIV//44QAlpbUnYSEbpADRh\n",
       "IgVhLF3mxoSFNw4/eBdZ5KNeiRTKCh8Hb2+Jojd/NPBDsoAfSNLJUVNmc/qPQirlctsOvtC1DSzq\n",
       "wqo667jXn9YQVDjB5SKS22rMY0YR57PQBWYW9UxS81EQYwwK66ju0cQd91w7mAwOCtjDDslheydi\n",
       "Px3xG1+8NJoGJ6VAE/OEGHcFBg2ayQ6Tq80SMPeAf0ch7IqYHx0p3A2Pza9OIZw7z5U3NW/c9+a1\n",
       "acuYf+XTgpatHxDat7UTcBHcrIck+oEIHlRdovfsAcAAAACbQZpiSeEPJlMCFf/+OEAJKohIS1lf\n",
       "eRFknCAFhPOrExoYvt/+tK+oyEDNWnZ6/Wvw8fGMTgLkzFs8KGGEJD4YCverDiRZL/9JEBs0dmwI\n",
       "Q82Li5Ujm7t4IRZ2uisK2E4Ea7VIMbTiCvmdg0QXuLjqEQ8UK+JZruOF/e1eaKbCjQ52dwguFyTa\n",
       "u9VsGjUhTpTuaOknmMJVpZcLzRcAAAEYQZqDSeEPJlMCFf/+OEAI6ohJF8NnS1uwAIstX9JXBzaU\n",
       "s3CSX08Hn59/pcEI5JtruRZgehTUvPmW6oEh/0Y6bTyucSBw6lH5jje04xFxh96Vb5DVdLQyoLHA\n",
       "Jx2Kwc1+zWXmvIMAodlaOKY7qaq1q95aMej6MgmtHd3rdrKm9tvKm2mTuVfCrpKDhTVUmQY9B2ji\n",
       "9OcKbXgECjbXihGxNIioBbePxlkKCwiSJkrP4SGqpvdQEOtQd8aS5WUC/9sNQ7ZNL5TwbmAN177k\n",
       "RNI7hVtGfbBuYlExa/RIB2WWWxnc+w4BMC0DP94KLpi2PVM6d8borlhNb+zsdt/7ifRk5icLZzSk\n",
       "NRElj2e8eW1952bKm+ni2p0iwAAAAN5BmqRJ4Q8mUwIV//44QAiqiFH93op5ocssABc3KS1KMowy\n",
       "O8p7jSh9B8GDbp9FL2U8Kr2vyyCNC7x9q/oR5UN1/AsDqz2H5j7IVxKA9zN5skahFx9OGMD8Cm8d\n",
       "zeTn1he9Vescl9cVjt1JsaKwZwvSqE9yWCjXoHhknix6wNywILpDin9G2uFrg/ZCVSQWVS7bxMty\n",
       "WCN3uj9gLkHR1+JYt9Mwy11Rr/QdCG42mOIBLU9zRm2VQDLZyCw4FVZ5d/8zElxlahda8V4dJGE2\n",
       "n2jIn/3yEhNr89knqLwrIOEAAACqQZrFSeEPJlMCFf/+OEAIZa52AZT8jAFMoS2P6017m+8okVwU\n",
       "e6egv5ABgKdjoT+dDMmDr/byQOhmoJlgvK+j8hIbcr7Ot+8NMp47QdHgIpSC1XOu2DMcIxxkrHuY\n",
       "Lv3dPV57kOBenQ0g7dFty9YGWgHG4DVxDlm9RUk9FOx09epQTNW68Aij5cDsRksLkXCg7RGFyLPm\n",
       "DkZ9bEW9EtHpuXTx2PWYLCwc+EcAAACmQZrmSeEPJlMCFf/+OEAIaohQLlNnqrEAIMjAR31GUZnG\n",
       "ANqsVVuvY5AeIPt5GpbdVQe97NNdm4n06z8dX8LGIF61A6GTEbN5yAJQEg80nJr/WJzxElWhuVwf\n",
       "CvVgiiXUQFYvGP0mS3rUvpHX5kmxfbHRd+1hTmVR/rGIqFoy9GL3JpkyS6zL9xutm8r7qhVOPnLQ\n",
       "vDN8Z7iKG/bbuBR6rRdiplXVpQAAAJZBmwdJ4Q8mUwIV//44QAgqibaRnQuvACsipeAlRJUy4Kx5\n",
       "sK1K0XoJPT+hUvZ2XO2YwfIlv5vSSD0di26Z5mFP937BEEHUklVTP+QfrAdOwWzo/n/ZuG0FfiL7\n",
       "IHzjFUxEdC4QNes2vOjZVu/+MOuHPX/4IwrvBSwcvK1kBysYBhx7NwGdbDgILZ1s6nrj6VDyDMYL\n",
       "Rm0AAADOQZsoSeEPJlMCFf/+OEAH7Uia2w2dgm7AAjPLfCeshmInF/Ln/+O+oxtQfuRZge75Inc+\n",
       "bRF1sEIMfI7ZCNNQNbxqihwHqaP7vNSIJFFQWhYCwENs0g9aUXrQ2y4CNG+50nLV7rQ2Eb54Xpyj\n",
       "8dnltS8uzla/wvPDi6qbALQC4W7zxYGH5HGWVqajt13nfchxxEyDOVVTvDUnrvGBx4WHJMOOlvp0\n",
       "wXVyEvP/26Xy2GOFTTEHhE/0jZuWjgW0t7XGITmifHaJ2g7jpOvjWjAAAAEHQZtJSeEPJlMCFf/+\n",
       "OEAHwUiaYc3XXqsAJbeBx08c9LFavCr6//i2jV2v5LjgUiiBDAnGBaDdaTzfmJTqamlE//4bIRpo\n",
       "zi+9XyFMfYxl5CTyW/rhNChEfkHXIBxcVjanxrafCASuHobKZD+rh2RvBDs7ER9Xe/QtlFq1dbz9\n",
       "vdZ+DuatMgfxicb8u8jmDQWmWeYe1P6ChjOBoDToalsvkoEbHTFzuaEeVf4E+2NB+SblVY8T3vlb\n",
       "EAsTFn5Yw/ND6E4JVHRLgB4AIpYMyT3EFn60cYsyyercpQoH+QLKv+UsoxECKEy2ZLhhJi0SmL3S\n",
       "h174B1nNG6L/IJ3GMFnaUau6CsyfboAAAAC9QZtqSeEPJlMCFf/+OEAHkgmW7sY9aAG8i+6A4URZ\n",
       "ZlFJBR42wRnogRVuZBo13HHd64qQlJs/KL31ELvaigH+lxv8P8VoCZVf4+dJW4UA4Up27TYRbpZR\n",
       "Ql0Z3WZsV7vfGihrM6bQbhJWLnuE7YO/2kqCjikK+V0uXmNH5b5edBNai0vSukrD2QKTe3Prmdnp\n",
       "5QNKRh7svyn46zmrdXEuGExSl3cLDJUfYC0smrZM9LXoHv2a0fKGRTw5d04ZAAAAlEGbi0nhDyZT\n",
       "Ahf//oywAfNbFIagr6IQQAq6chX1oKubTcw8ScUMLAW3VE/RxkaNB6LPWsV2JpvtQtMJvLqgxDBQ\n",
       "Em189sa4I/7WNkZ05ZhKgjjwUCCjCuk4X0Pz4hWlz+uWb34IhkBqaj2j+ZIp7SrQh+H4EZiTdwBY\n",
       "rxuJzvjN4szg/PUCYL5OXbUpPUgmBqy9/bIAAACHQZusSeEPJlMCF//+jLAB6FtGSVHytvgATG0V\n",
       "etkprwvbf2cDF7ZbubpNhI1RgbdDpahjwWQzkxcntXCtibpskt0qmBsUKbOETnQSImWutR6V5z6X\n",
       "pIZ4IZwfdExZMbTtM/a2TQoLZDmZX0smLDSXZq1U8Kkb9o9lX0oextcniy7PrIxM2y3oAAABA0Gb\n",
       "zUnhDyZTAhf//oywAd1bSjvHwHHACW2RnXXOy1yqLWfzKSYYacB8rp/D75kGCUQXvExyWmUBvrJN\n",
       "qbLuDtc2nHRtMlHDa4NJ+H2BDsage/AZSPgFChGy5luRjAaK6OnZ/0T8knWmNMzQ/R33aK6NBClN\n",
       "Vi+ScRVyxMgdNXRptqTRreAhA6e9bnbfZZr+BoQq9Iop9cxfnJicuuI7ebezgKivmmMWFp79bHDI\n",
       "EQYywtHJpRV41SD/IwORhueb2tdaW+xxt++V3bI/5ZA4gThw/17/pin/1sC2CgCrpPrfNvOmvJgk\n",
       "jfUwBsQZG7Efj36dMThsYLAo/JMhTuv5nDKoP/cAAALdQZvwSeEPJlMCFf/+OEAOD6GMAHBR3Fi4\n",
       "M9aNF1F0D8c//hz7/fd6/MtvJ4Ke7fAbIvi5bY3m+8k2IH9daL2t7cy4vXn5SdShIX7eemNn7dc0\n",
       "OE4fcQjMmAdgYLDcTqpyS0JulBYZgfZkZ5DusZS5RM7MBsKw84ksuQsUP59hV461OWSK2ZFpcfER\n",
       "9JVNWoI+D18yDo36WtMaABAjFAz6MfyIK92Q3wOkXQkhcX50refeYaEnsgxCTkTAPkXz04DaNxSL\n",
       "H3GN2HotMBqO9lpbfJhXE5RGrnUy5fhigZKxHpEeqUou6dHZyMqiro7VSsCE5pnUca9EN3LxOITp\n",
       "K9BjzMSeQ2n5nnTu4qLD+ItWAOWezx7+djCEDLP5i9D+KNeUpo3v3pnCrujRv5oPLVajV8VKb7+1\n",
       "8xP0ivxHRSkRFv1y+w3HYCyySvoeOuvldVsQXXTiro5Y0Tj3fBzs5A1JVcqo1he3NjFNSL/fYmam\n",
       "bnGR0EklIbK6D4FF+d0U24qwHIBsGhO3JxUfn4dlDcx7D+Zwk6X04WMtuqJ3uJSzazB47IDUaTPO\n",
       "JxWQytJd5IxB0KD/K/LHy5lCVYHTA2USqPOxFw72tg4UFdl7j0xJUsU1z/X+uHttw+qRg51r1eyg\n",
       "cPvYXe9mSz3tO2NitrCyffYm00NOcoYvpU0qG1eD7mhCH9uvHdST6VFCbgoyT3n74s75AyPqIsjl\n",
       "vQ3ub2etLZB/QLnLdbbiQrZgHpacgH6T2nuueZvf7aqz11dShogQfxaZgllHyAYFvowzvhSQBucl\n",
       "0H6aogV9fnXHqllDufOON3f25tgPkU7zlQXmAKRQ949g/uwYjMvdBGZANzOUH2EZ12LDOTV3ityc\n",
       "xKuCgpcey0+3aY4BWdyaYsadhUusA6gDctD2b/7gKeqraeJAjJg7ko4v16/mBh3eKSMc6SKfCVgO\n",
       "EEvw9O39/73ssnv+yGDCsykbRlc9gNwsaQAAAnRBng5FETwn/wD4vAU8e43zgAUq9keaY6ES3495\n",
       "a4Sjf/4xWQs4u7WE3B/Sbwrt1VZS9R9ulPjjHHK6KqEL1mF2iYdaB7t7wN7Qy4Cinwk/HMCw2oLP\n",
       "ldN9w77/gQS35Nu2pZTx9uoVFWKdOMs04tQiZcZbUIlGsW3L8mBoiu7NtxSqwcCMkA8F+7HXooEV\n",
       "kYgUHcmXNbTmA0YG6Xqr7VH6DCUYJ2d0DhEEb2OaDPAT7d+pPPE6oTczG+yX1+hGy2N4D4rbTdeY\n",
       "J2stoQ9LAj/L4ecTPs6f6IxVjIoOFk0xw30gCFRuEO4a3SpE3MVuMNL0O56WS1NHGG7SjFtxMWD1\n",
       "b0HY+UECo+0lbhv6kdFAr/VluiaN8Ei6DRt0iK6vfR3cNGTRLvydeuSx/x0iHpAhPQa91n1GPqf0\n",
       "wJMobU/04IfNi6gTZt4Z8n5M2ZD1ppslEiRr9Ra3Ogrsy1qFW1pIFtD2CKCsvlBkZMqJ/ThMiS00\n",
       "++gr5uhe3Qx6IwiGptxlKqbLTXDLlWOWx2V/5VTI+S4yJe/qpA4yAdF2oaFDlsUK1GeDh3QQzFfx\n",
       "5TlQegBDkF0Liu36Ytty57zyhJizOSCDrZUAyWLszp61hwaUlvvM8bV/qA1HYjHcHeU8n1yhgEz9\n",
       "sGXb7O5LmBv27g1X5MrO+v+Ai7LAdV1CuaStKBt/DFgp0rv/2gz4y0jVHSe2rlpvdU8sk2v4Qj5F\n",
       "F5+6KHGj7TTh1JDWCh9IIsIuu3fdypVXRDNr1m3l0D1//fsa/fNQwt+5r7l6DziqC7qZLRzfGC0U\n",
       "SVCPmmYEoJVX6trbDxbHShw25Q2Ijdkcv8a3gTfhAAACqwGeL2pCPwE2mkYAOU3f9WxoME3OU767\n",
       "JcJ6r9ikZlp6C9EEJGsmmBgmBsrCDsbez+G6kFLcMP+lew0UmwR2jeBGXSRI0zNJXdtmSbNr+NnN\n",
       "lYk/ihn2EbWMVBgD4sM5YOcnRlnujHkuWGZRWcog9P6YHmm/pRFZeTE1kzn3MlEJt/+H6BwHxQn+\n",
       "YkLerDfZQYwArfQlq2I7Sh0v2KrJ1NI2kA1BqbCqxXKDSH4qr1n2pKknlldmlLBA6gTjyisPF7A9\n",
       "+rclUQ8ztb4bS9xDKcFdAyJT91RddiakslNVocaY/szxCUk1UN9vWZqc6hVdmUVQH8rYlHpIfWAp\n",
       "R/Nc1amwA9khCZ7ps+0k5ukPJXOObyzHChY3VMBo8OYS0uYiWnCgp97jqjvKAX31wSyD4lvVIHEy\n",
       "j1uBGNebkORqjVXdH2XzE8Sp57388yQSxlZASQUW/zEIw7Ndrmf1S/WpWBbvfg4nCj0VzOwq3EcB\n",
       "Hwgpwc7/kd8s05rfBv/yRagkBNnufUKmXcrDjSQgZD++gRtums7BvfMyjNOlZWhjn7Uab2cTHqLx\n",
       "7ugFFKjL4Wo4gqR5RJn518TeGMv+jn8URXtN61FFFFuJ7z7nt8IUsUNrt/MNXnZ9kKjNJlHxqTg5\n",
       "xpE2Q1Ye24sSjt3nIvzRycsQhQvU63XEuevkitgQUjV45CEpGKRpMfO1CtrxtJqXKnxCvds8lxJK\n",
       "0dNOQ9lujJ/eEGNclax//wTRiF7NhevQqF3QbBaLzfuPvVlr9l56ZeI/9/vBwCBaUV62RN/rIS1G\n",
       "BWqplFf8uhgbaqYJ9fNATW06VsG6em/yeEp5potX16I13WVRllHZHc5LaptWUpXA/1eA5jMS+Rk+\n",
       "M1eO8tOprWdJBbeaJtlfijp4bZLPhY6QMj/KivowwNB4AAABJ0GaMUmoQWiZTAhX//44QA4R36sj\n",
       "FutACS5fZo9Ghwk+V2xeaO1aVM+Bb6BWsdJs/+/btTzuktsh8nYuAjP4Cc55Zdtn7svZM2RYxgyw\n",
       "LDV8VLObAR90eNUT8eKui5p+0+XKGo0CwADDV3B1u7i9EeZm0QsW6fW8uwap3ty/TAT7uLeqdzUs\n",
       "NujvSA1cKAuQhBFmjTaWX21bFkLfI5lYrp4INdQVEEhktyWHfGPAt7Xze9rHRdnSLoQIxQPnikoz\n",
       "kYBJU3TLfAxk2Qj4PWvHoTDuNT5J5WJMRz63Q48ixsD2BFA4hevhEZnzm/6o5ieHitzkhjqq4VBs\n",
       "CoU4n5wiRwFgeTh3gh2bauj49tnjpM8qUKw/B8K/ODIz7tEJgEnDWuLz/0IN9MAAAAEDQZpSSeEK\n",
       "UmUwIV/+OEANvZq7u2uR0gAmcmFZghhfB9YBob5rf3wZYSPq0Ms/a1uXJabLSovsvdxVLE30xxBY\n",
       "1TeBGHFsByVG8t1RM5FEou0248VC3T1/e1v0/+MwDmw/Z8P7a8G3mtLnGEDCm5+O9ilInwLd/eQl\n",
       "dy1rCxSFnPkJKLce3YdubsyBWcdaHWQjF09jf29M3uZoSE0XOEUaWcGQMlqX1pONP2h+IjlSeN+p\n",
       "K4B2O1/UwilajHJdPHztVagWj9Uo84jEz9TJmfCRREbtHtwM7+iSg2aBYJkVchSEoP8/NCi+NnN9\n",
       "65csOrewrRz/aseHr763HaFHtV9iAt4TsQAAASxBmnNJ4Q6JlMCFf/44QA1toLwAseSKuMpAbc7T\n",
       "efA5v+6zpYC3B+j2x0n1NIOW03q/ekcspJzOKkaJzQDdbCWts/BXwcAGijl0iXm0d5CkScXOcOly\n",
       "6ljYvjskVv9oO3t5sm3hZ+2I9znvobU1gEpTTGgmJg4+vEtG9gLXLSGvBEt8nB3kbFzbVOSIZk8w\n",
       "waQhru7A7iiSozwcs7qbibhtZbekyaVRf4YBSraagMewwNWWW1Fdjtp3uV/zgHzv7xVhPHkrQNcR\n",
       "QXflT8SyTrDyHc6AwpM1TiCXRb/d106o5n9H2FNsasdhzS0BUWVZNOfg7/5EhD8WFR+0P0H4ew5n\n",
       "0vNYvvJrwntUlFBlImyzOKf0pE/yR4xxl82pWS17afDDwTbEB+Schx48qhAAAAEFQZqUSeEPJlMC\n",
       "Ff/+OEANZzWDKBALny/Sd5hC8tcky8cO1aOaJYl/tJgABkv5bkqvA9d1NjXDo8yG8E6h+lP7kgTm\n",
       "GTavU5lqD62pIztoF9l39cB03CqKwYrCaUcpBJyEB6ytnQFc5vKLix3MmNCxGrAT5JnttR/AGqJY\n",
       "iPvYAt5jHtMD58J1frOaoQqnSYpctxkAdG7oM9LrnYSNRkOPTwiB+7oslPg5ONm9IDzKAhZOC8eE\n",
       "+/CHTocvRiwMYkhCS6zBdEW1uX0u/h9R+m80WPMVkRCFFf8Z1y0fvUCNpz1l/ROdreWXa13jdstF\n",
       "aEG1sqRneAdLNOjXJjV4wEs1UHLRhFtwAAAA8kGatUnhDyZTAhX//jhADR2YwDRABM4VDRvExex4\n",
       "HpuoDpoGH4nS5ef/h7igFdMWI2mM7EHzYXib6axkNi839KHgNJfwuG/ri84xCDYIAE2k/mdj3jgB\n",
       "+qfG+tfMBsqa+N8dEVu27ZqxiyYFhCkjeT+k38PULHaQLkMNgOpyak5xS4N5MPoT8KOULrdsRxA7\n",
       "BVR7+99TZ0sYyzzE5ZCJksiSn18agpdCUPFvWimIzKfSdUWCwr4stqHqr+rwRgPTQwogV1JGWZLH\n",
       "wkGU2CQhc1qqCS723rEYkz9DIgrTfrZIwMhwbzmap8aYRUXfR2imZOFhAAAA0EGa1knhDyZTAhf/\n",
       "/oywA1F6V/d/tSwgA1kya5v2LF3HEajs9tIQaUfz0nw/a0ycV0t6My1O7eHXwVAAaFe/rmHDinAM\n",
       "CuDxdbI1UznJ0Z5xRzV8o5XPciSKp52OHF6K0aqsQUEGNuEbudakA+jIr0sMCfGSrvhhoq5IgsBs\n",
       "4fCANjBPc44qscS9JNeklZMwV9nvruOJFOMC/lW1kK18PIiylS6bvYOJhu+DjXe7m7txj5hdZSbk\n",
       "FtKFe0i27R4fk7MsO565+ODpvwDMog6dS9IAAADlQZr3SeEPJlMCF//+jLADPXoI2Qzttf4141hA\n",
       "BalTF1rzcrif4TMgG9dEuFFi5SZWR+8JBk4WnN5xsZNf85tdH5+9O4QVk6xKvth6MWo6pI1GeL7P\n",
       "hdeS9b0DQpQFLT9DIDtstyvcqRFhiyVS2ANvsFQ0o+950Wm6Jy5IAySYGfL+zH5ngRXSystux5N4\n",
       "xeqzOx2UBDJeX2YKSg2AHiKi7hI1EGRue03j1Aw05ExIrbBQtvd2Qpm4qwNc53lmWcgfsAmTujJZ\n",
       "lHUgi2z65Kw8nLdeOH0KEPp5g8gnlS88S3ZIrkibgQAAAL9BmxhJ4Q8mUwIX//6MsAMpe1TgDmC3\n",
       "lLb+wCItxL4+OXj99IpRBQNrbzOF2fvntIhZy/TA1NrdAPmGw9WEVC5dcC4i+WkS92LopZRiTJ9z\n",
       "k/l/CfM0qihbDJAqeGb0jC+dHIkZwdSr/k/yttQJkD1TMeRRXp1RMgU4uyDOGJG722K41QghAfCK\n",
       "RzaJi0Bd5lxZGRZE82Li/pEsMVkgNUt4GvG0GNwW/vrnlV8Rfjcvs3Gx26WZkopNZ4yr4QAyoQAA\n",
       "AOtBmzpJ4Q8mUwURPCv//jhADCc1aUs+LqAACAEM2slKjC7/fdsqoPy724TxKI57TAVY8+Fcedtu\n",
       "g26b6V9C3yNPprtu3j9S6z/+HdjQJnIg//1La5b1pYPXhg4tZxgFx741NrfYGtvGUXtRYF3IA4dm\n",
       "PS0ESw1I+S7WKA0QRzgjG0o/sh3JO85rfpl5XWyjgqdNXGtEJdAHgEEWfEywHiIfijA6PWhana4d\n",
       "Q64HvLHnBiwb3adFDARdBhwbZI/04Sx4rpqdUelpdm1wnvVO4AB/omVDHCLI9Tc7pWSDd3QjqRD6\n",
       "SJMyhmNXkZ3gAAAAzgGfWWpCPwD9/1k+gA5TnuCAYe6yyMdsA8UZRS9aX/rqGfjtrcI5JRucB3ri\n",
       "AjRNHgiFDzSrtphdnNclc3eAHLfqH+bxzbpaoCzK9hUVD6DunNaoi7WZV9SThdJV66MAAISqPgrE\n",
       "zRoo6WPV3cXU/+XGKOnCdEtHIKAzK8xez5M0KfSoB4S3N6GtrBDvO+3ogF/Ryk3lJHXkWL1Gp4TF\n",
       "Br4vF1DEaR0J/kCU37rIo2uK90TQ0Oj4An5kHxSBUGK/AnAAe/Zh/7RPDuMjTLBLAAAAxEGbW0nh\n",
       "DyZTAhf//oywAygWLvtd4SpfggDoAA4BXGzf/5itwEOvSekcmaR+gey7jnt4J1E6TNTd+u1g3mJC\n",
       "5H/97a0Pk7FifgsJ5fh1FHQWgUyOiZ1+4bicn9q8v4ULOfx4L4jg5Fkb5GP2kvtA8gg3FsKo86K/\n",
       "x/V2y/86apa6yLZr+flJ7u1nXw1BaMOtfteMvXbSHmphSrJO1lxXnbk8v1h9HjmLg+lAx6PaJZil\n",
       "ZDw5KlBWb2MZHlZisfHEY6vrseAAAACiQZt8SeEPJlMCF//+jLAC7hoKlnF2cPWpl1oAFHfFX3ih\n",
       "xVn3CxJP1aD14CfoxL4rsbpzcX2P2Fq2whPphmtXiBpIWq+gIvAA6byBGhrFRxzOUGhkj5Q4KMXy\n",
       "zpd4erNgPi/YjYV/oAmnALH+8yAPyZP6VBcBppu9wW0fsNQTTyiRZcAAVqK758TLjbB4gui8cZxp\n",
       "tb+Il+3+5iQ7p604h82nAAAA/UGbnUnhDyZTAhf//oywAtwaCzdPtuCWJAB9u36ImhxEkQniid0s\n",
       "vRQb4Fixc3mLbpqJNZUMfctqHEvTthHGmX6oUlAVzB/R7Vu8NYegTEHt1uap/H4nOBSnPhV4yW1Z\n",
       "i3KG9ZK1Fv9jSx4haZyTeMaxDjrnUDXQfpVA1bqlVRAuJ94MNo3E9VhrYVFHT4Dg/3CxIVUq9IUM\n",
       "mhoqTAyt3dfSKqdfghwChG3wysK4kM9VRAsRwG7+m2D1UXL5qqdheXA9fbCt4R9O1tFXqi7g+K0+\n",
       "KVK7lnj0v/DcBqmWAwHkIPSHjqPZbUezDP2653t/i0EffJZ/EGhqVgtjF3EAAACsQZu/SeEPJlMF\n",
       "ETwr//44QArAGWfogBDnRaJXzaixHtP4AJl+f/hHw4AMBTsPm9NM5A3YlhzloQViX/0VMZJ3bFHz\n",
       "m4fvC/Ncu+3IRqV+EtiWmqP9uWl5M+8KEfosNSEjywql5IJ+ZmItAnlub8o5qHEuk3vj7x94B2nA\n",
       "SPJeNDVzv10g8aiLssX5ZANDkMGSc9Nsg4z1JqpXxSkISYLH6GNUF3/u81Td4gBF3AAAALABn95q\n",
       "Qj8A4okogAtvIC2ACWs9S81sg4pPAnI9YoN6j8moXBJHY9ThJPOWty77XoASjZ2oTYoRk1Y4JpbA\n",
       "a/G+YuHiabzZoncT9SmKc60ulNCxv9IqY2FgFVJYBntMPOXHV53vcXB8AGXOA6MoubcQIg2CHBaj\n",
       "HCWryOb7QkQx1X1Sh/Ofpf5/jO8rnCZSIiy+YR3CgnPONY6x6emEPIJ9FCjhrRiGLU5dx8Im+82P\n",
       "gAAAANhBm8BJ4Q8mUwIV//44QAp3ctpGU4xwA1wFf7rOhAZDOf+p2d4PKBhBjvkiWM25AO3m0Id6\n",
       "/w7/wSQzbftky/06uyOp6FOz06gP1lABtftkvH3AAi1GzaOql13cPtisuLkKqQmagQcCY9Ab9mK5\n",
       "U8Qs+THQhsiwlnEW7z6/EPRrtP6hCHpu86NZfGQIfZY1hym3nle4jLDHD5dJdTqO2swbmHGTvQ/T\n",
       "X1ai+g3hLH8OrSOGa5X9mSzVy7S6yCimJp4PJTlK6Qy+moASa1g08ERx0ncwmaLBfW8AAACaQZvh\n",
       "SeEPJlMCF//+jLACphoI3hPtqomB4RIAMcYifsH7g2G4dZvwhtkHQCVhHcgN0Kenif3FdierxATP\n",
       "2iIfrn8Do7OE3pLkT9MuljqL5DiKxcLstYRIAXO/W3JgCx+/h8F1dLfieXNJfnY0ytS1dFVu4D9L\n",
       "b3iH4W0PTqNybSvjDOVCU3z0m5IgXAMRX1sRVXnrEB6PQ77pYwAAAONBmgJJ4Q8mUwIX//6MsAKU\n",
       "GgsIjdMx4kAGHRNh0eiHQ1tWcDAVgO3o0vJhIbtLb5GXMv4+U2rcH5NgjWm61N8eJn6wlQLcWo3i\n",
       "iJnDok0xbB1Eb0/fEcpsBoZg+yiKq4d64mQqWoUGT00DMng+bebWw9MKcbqi08ETkHfx9a+nbb0l\n",
       "yYnPHd7+P/L95a985Gvn2N5OOk2YdKEPxQpFJ9I74/JTTjMRtP/+cWRdMSFNi/1XGVQLfY/f9kak\n",
       "lMhwbz54JR+5tav5aWmyf5W0Pn65Mrccz99pf6Fh8s500WCbCMjBQQAAAKhBmiRJ4Q8mUwURPCv/\n",
       "/jhACaqIUfOmXeKSACHN8r5paD6an+dhOCqLdcymUwyjOkBTbCAMUTUQnuXhd1FDRa95CNSJUINp\n",
       "QyKjUni87PgLgDdwfnjQpms5d9jNiZQMzGWbpvC/ihHUe6bl0NJWpkbMnfIuDfUPWDJ3njrxGh3m\n",
       "74DFbCSuSRXTyhSEA0yE2ajyqhSd8J35iISbIm+3PJOqg/ir9SRqIekAAACmAZ5DakI/AM4bjkAG\n",
       "6segM/ZCt7gL43a4qfB5m1bm8+Cvjg9VGChVOUCbFCMXbj7uKCImP0rEssW5E96JuTFibqtACNqk\n",
       "Me2Tf1Qmvan0AkASHo2WU76LP2fFNDbWgOeaetqRZNnVvgl3jVOtAmkK571Was6gh1oP2bL2jftp\n",
       "kLi7m9JwgB6Ls/t3SkxH4UtzCQrxG6XlgHWX4C+sKaV/5DvMgcuWdwAAANpBmkVJ4Q8mUwIV//44\n",
       "QAlp+Zv7a/n4ACyyJmxB6Ucljqxle9nbFPQXGUJDz9zsas+soFHkxjKQmhbpXvUc34FOShPz1H6O\n",
       "f1qP1WXKmoadtkYi11EAKSBOWWb0oUanQ+4UhfkaSOrF6QfW4MwL7+etTY+10DxHy+doQOYdrrh4\n",
       "mVoHyVhKZeB4iWzBDdamUdw4GPPU50uniEn2wxerofu+CDcQxhCleeq1QHoxHAzH0tsQLbtrjI1e\n",
       "Q1cABzgvlV9l5Lf2//H/yRkHGq9HPKJ0ABoU00KGL6gNYQAAAKFBmmZJ4Q8mUwIV//44QAkqiEhT\n",
       "l77yIZQIPACVT45rQ+gNWd6ZeQODcOTr322TpuXfjoFFj18kzwoYYQkSIRJ1yC5ak3K4iqxfU34x\n",
       "imz0vytMW8nZ5HQNd75veNtTM8yYTMizWkbAnn+ZPZBIATNxOdsOA77k4GmTyGP54sMZaH55O4ad\n",
       "/XH2KEro7A3eOnxyOj6SzJimsuIHNs3a8TPkwQAAAQhBmodJ4Q8mUwIV//44QAjqiEkXw2dLW7AA\n",
       "aRDXv0hlpYXvzU/xuji71VE02mrs+2UsdS/RzQaJjNlO/8E275YE9Q5gCs0jsyKXGQIJp1zaaSTp\n",
       "HOoDG0KX5imKVYjn7K4v70z2Fi6iznoMQiCHrpc146V7In4gaesFsrBMThRHvgYXBP/HV3Bijw/i\n",
       "YZgvE5NcGYsOLu4r/bS0hIEMD8q8/CBD3KjB3Ta4l+qc3ePELjkWBLPNadQy/kTG3EhYanevWhMk\n",
       "yIZ7khLu7O8ric453UyoppkLXoLPmUF3FGQN9asqT2gTdwbGULo4/7DlaihHbKIRiLubzpCVRom9\n",
       "OCHcnW5GdLewpMEAAADkQZqoSeEPJlMCFf/+OEAIqohR/d6KeZ0jYACkDsyyjO5B7S0AzkM/8aiB\n",
       "U+bM6Xsp4WpzK2gDCBBdYs2BriWfA3jsj/xhU/Kau18vzVQAumZvLZWbaaw/ygvN8Z4a026kH4qD\n",
       "STjQU+43bVZgpGvtwxFneuZnkukYt3AHDDnVapljnrROAuQaoUBJ0yhWCyl8OqycOJ1HOFTWXz/y\n",
       "fbnZ/IDJ0lMu5szHz9/vQ+Px3mM4Py7jIgWCslL1kBTODU+cfMn1lksjkokCNs1+J801UznECeYk\n",
       "DyjHwOtfaQsnOH5O5LLAAAAArEGayUnhDyZTAhX//jhACGXQn5BlPyMALJgtXrSlPsbqTioYx4bl\n",
       "1/d6/0J/OgXIhwv7VNPWMNsRbo+R/BijRjpNJ5gCq+/GZImzwrrtgzHCMkZKx82V1a+xu0xNPg0S\n",
       "4F3CNXimR2n1V60HEtBgtGFbaOlRBc8a31aKeTd0gY9pyzkQlTfKpipvwFloEGC/L6rPgeiYihXC\n",
       "YwrLCU2WTYlM7AKQfHNh2jqeSD4AAACVQZrqSeEPJlMCFf/+OEAIaohPzoG2zBgARmBG4bGv/FxV\n",
       "ILdWVQvqvb7IdQ9R9ycpfDvS69/cACUSuYXFBtGYCzgO38nGywV4sYTis2PKBv53nYi97VP0ia0j\n",
       "vKWHtC5LljazkFMyZMZSweY7bR53Zk+bUKac8/sGDKefkCzgIccy0fykNSMjfwyOnwn1vvnOp7Tq\n",
       "5SEAAACLQZsLSeEPJlMCFf/+OEAIKom2kZ0LrwAfYkoma8Lg3CPoOXUfWGpuZyvs7LnbMYPkS383\n",
       "pJB6OxbdM8zCoB7yBq6/BW1Yz1HUDbEFgQuATwHNJTerDnESX1ybKvbacBSQb3rZHFWDsH0dKZjf\n",
       "u/NrYQLUaghMH2b35RZZFMttBf3wlcv7LnpqBZVZgAAAAMNBmyxJ4Q8mUwIV//44QAftSJlQGzsE\n",
       "3YAC13ic4dstYCCP/4c7GN17s+1791pV4aFugn8a1rf6BLXgqLNG4H5o/74OCbEEwYChlI74rcQ/\n",
       "snNqr+g/L6EC6aGwjXhbV4QsOOBl3L0GkqCQejC5YK+Ap5y2pzFXbAXCft63AmHFEZNmkQw16cCT\n",
       "qnk/Bpoi9AQgDRk2UD7AxQv5wW1qrcu8LoLjZBGg4a7TUIBrpUt4qoK8iSJzEW8XLl2AKjWYuJVl\n",
       "K6MAAAD4QZtNSeEPJlMCFf/+OEAHwUiaYc2WnqsAHD2X6t/KEiOv3o1+/P4v5T43ga8+CmT6/PDj\n",
       "Zg1DdAF3BSUB2jHTRhWhVDyhNM6b/mHEWAVpkz8/gVGoVrryKQCniW/IcKvGs31HKOUvHzfAdzxS\n",
       "kdHnhfefWbvCJfBmlsKK9Y9sCIJFslLOki+yvei4+AMrZSpRrCdr/BoRJF+3H12tii03CoIEFXKN\n",
       "pAclkOOJ+xG/vPvL8ItvZclCxQJJatOA8kknhZ0e2UDcKKuO2RUubQswA5rmyF/HSk56GMuVM4m6\n",
       "7C+IkCoCr6+xT6FWggvFB6+QOfRcqrQOzukAAAC6QZtuSeEPJlMCFf/+OEAHkfP/h7GPWgAtT9dl\n",
       "50bsf3C1yClSO41q/XH++71/oXhxACPvnkZqA117uF0FA6fi/x86Stz9IOVx4Pb9MfYXxz41rUym\n",
       "06VALLHm5sSvmyPptxNZdYL/YW6Jz29oIrXjlwC2a3dOD981l+xJrtSlUW5A9vajP6eCgvMTu/q0\n",
       "6IFtdb5yQYTop2kd+Uul6HzyJo/L2/oKEc23ANTd8rQzRddSOPF1zCT18kAJAAAAmUGbj0nhDyZT\n",
       "AhX//jhAB5VIl86Btc3RABAbxXIT1Q3eyIXEFiKFS3tXddb3n0Y6hfXtT1Gt4EbgXxsrFPykATIx\n",
       "L6w4PONpFvlIXUh9gqX1FpOSfWOPpeFMtWm4NYd1nCeZlOv/XdOc2ROQj4NW+FplU4Tu+zoGmu8W\n",
       "0E5YlLCxr5EkuSFnbfkdU9PEHApF4BamUwvqJn+2YQAAAHxBm7BJ4Q8mUwIV//44QAdpSJphzZ0K\n",
       "10jLwALwELaDup6BZnCufJwGAcIzHIL0e/F8pOqemzXOs0BNihUcIpXcWEURD9InEC/PprqqWgYd\n",
       "UPUi8ZKKdRXbbB1Xjws4qJP8wYhti0pCJLASwSDms3zoGLzkwhZZLJyNvELoAAAAxEGb0UnhDyZT\n",
       "AhX//jhABz1J4d22AukADM/w/iiqX9t3XtLvW9eaV1nTt1pbVl1obHmeEta399m4aiiktRDwXoVA\n",
       "6jVuiqJMNK7vt7zZ3d91wNoIImBUixHYZa7VdmNUklAUTNqegnRWLbf7UxB/++it/rD8E9fOjb3o\n",
       "tTGVuXXkjJ2cB5JVkly1LQd2qeD8ObBvQbqxV9YvU4HEq/vrKJIloRNkjG/jWGS6OJAG9zlo++E4\n",
       "9Cn+6zEzDFKgGUvWvDwG5IAAAAM7QZvzSeEPJlMFETwj//3hADg7+jABym7/q2NBgm5ynfXZLhPV\n",
       "gWWrUUNvfiK9AX2CA2hvvhLo7quB3i2yIOp6Eoo8nr4B0/gpiSaOf3ggBHOfLhyVZ6xM+NgrIhRW\n",
       "zNn49J6M6G36ETjhYCSPYXbVqULWuBnuolDg8HSGaqZTm+tWXMPDPVob2MujMMkmFWHT3FU+Ac47\n",
       "tNPvd73/ctT2/1YV4N6+SJftklTAlvcTW0E4BROUTH6fQPZA/CthB5jF6SxH0OU6pO3ZKN3RNUVe\n",
       "4eTRR8gKUQjzmorFchIgpENSBSFIQCR/yOiXNwoE79wk+ygcfN3ocskxao2/hKd+AhTNuUeKQdRx\n",
       "x2OFzvbIJZ6NrzGukdnJFZOjvB+x9U7jldYbrZ82+vask8pf6wF7Ggfh8klUWzUFuVeef4+yeidM\n",
       "kj5wKhtOcr5LmOOhmpVS/3xbKp+zIyxVcvgAjqPDDkIkyLsDn4V9n53k+R35C+oa3DHlDQGNUG2b\n",
       "lKmDekaMx25Pm6Osec9lsUdeO/OLbOKU0t+D8p5VsP0Se0rgTpDBpYQFIuRic2W0B959YTu6YUdr\n",
       "JzX4T2kW/2XVSiUx2CTcMNfGJhY71SuQacvY/PTBRzZe8LRgOAo3aF9QteKlkfwpA08JBq/Vc7FL\n",
       "s6sWYMqfz+3NF/RQypG/gFALvGOZpst0NlbLQC+c31S7bdGAB0FTqNeo2Nvp8llzNvbMHo76B/FX\n",
       "3cMbCN2gniTHHLDcrEBC39DpKhhIcxpXOjllBXP8kSYve1PcvUJ8RwUWKyN3OYAp6IkSxLcaYcIJ\n",
       "bfy9K82Drgb9z5qemJDBXyWcO3Q2lVGNY+a95MwEXkjDpFP4RAIv+0F5ZcfQtlD1tcVpxIEPxi78\n",
       "tMZjSa6J1Rcl858Q37qGUSa4krx3c+KnxqmvLbdVWM4tNAnijsdtR5A4ScxeCphT1392ZnnH3fzm\n",
       "DiiV9dUrp/RWl+Yrd1PYWu+WMBr7PROepHIMWkwvmzNmdGcRyxJ82yva0ys465GHL5u1fG+8Yoc/\n",
       "fw87XvqBNabIPnSk7Wwh+If2Oydab+lg9dK7xjXkJi4tgz/3l2T6yqAXmLtel/IxN0EAAAJmAZ4S\n",
       "akI/ATXkPRwg34UABz4SZUb/5NgjQT2aYKu//8YrURsm+F2KtAxN2zYGZ+1fPqr3QcYr2FsRzzKn\n",
       "zZOinN4Bwadvp+wF6K2BsZAORX4TgpwzxEDcSqoS65kaT0FolLyQH8yQsYNNgWUdBgzdVy6wSaCp\n",
       "8Ugetswtk8Lfq/1dejcIv47FhBJ0ZkwwdU2ql3/uGA/TIJMwXKHuIfVxBRybOZvcm4bU4haMBvVR\n",
       "sRAPaJv9UgcdphnV8K1Dh8WnamadAlmX7nyZuDjXBx6jDb6IqZ9nW/bP3xsiLzYNlx0WZzqsssh3\n",
       "gFgjInRFGjoCQe7mJKBcGBAZdO8OjdMEUBtyfW3oPh8oCs+/O/WQF5quayCFamQX2F8WGSP+kRXY\n",
       "Yh+LDihq5d+UADNfknJWc6LfJ/hCCdsdxzMUXzpDcXPIHI+XETzZOD+pHL1qCg2QwZc7rlvJRrIX\n",
       "/QVWZbHeRRbyy15qtC1OqygroR7gxwYamUIGvjrIwmmNGow8RfQauyEesnmSqCNnHyuOESv64cWE\n",
       "5mKHyHUwfoPYjLiEoAs+OjcbVv2GefeoH3LTqYu4qae1MWI5qe3zjtuSSDsjzYF88p1yX3dJKFIW\n",
       "EmfWo9B4x+Wzy/dCetPlbt3z3BMXjAhETnlgV8pB0Rjfmzx8N4oW0LM1Cks2Q2NSQLfJFbSfaQQ1\n",
       "PQoXW+RsrZesDJ/+TznQB2s+GdgGUbg91cTV0lcd7A1gdiPOoQanx0qE6/wSHGd25YwUPZk522sw\n",
       "O22wPo4wqRDWM1BjOeaCMBpCHMVUfPsPXeUDNGDVJeCLr/edTCgSE0AAAAffbW9vdgAAAGxtdmhk\n",
       "AAAAAAAAAAAAAAAAAAAD6AAAEZQAAQAAAQAAAAAAAAAAAAAAAAEAAAAAAAAAAAAAAAAAAAABAAAA\n",
       "AAAAAAAAAAAAAABAAAAAAAAAAAAAAAAAAAAAAAAAAAAAAAAAAAAAAAAAAgAABwl0cmFrAAAAXHRr\n",
       "aGQAAAADAAAAAAAAAAAAAAABAAAAAAAAEZQAAAAAAAAAAAAAAAAAAAAAAAEAAAAAAAAAAAAAAAAA\n",
       "AAABAAAAAAAAAAAAAAAAAABAAAAAAlgAAAGQAAAAAAAkZWR0cwAAABxlbHN0AAAAAAAAAAEAABGU\n",
       "AAACAAABAAAAAAaBbWRpYQAAACBtZGhkAAAAAAAAAAAAAAAAAAAoAAAAtABVxAAAAAAALWhkbHIA\n",
       "AAAAAAAAAHZpZGUAAAAAAAAAAAAAAABWaWRlb0hhbmRsZXIAAAAGLG1pbmYAAAAUdm1oZAAAAAEA\n",
       "AAAAAAAAAAAAACRkaW5mAAAAHGRyZWYAAAAAAAAAAQAAAAx1cmwgAAAAAQAABexzdGJsAAAAtHN0\n",
       "c2QAAAAAAAAAAQAAAKRhdmMxAAAAAAAAAAEAAAAAAAAAAAAAAAAAAAAAAlgBkABIAAAASAAAAAAA\n",
       "AAABAAAAAAAAAAAAAAAAAAAAAAAAAAAAAAAAAAAAAAAAAAAAGP//AAAAMmF2Y0MBZAAe/+EAGWdk\n",
       "AB6s2UCYM+XhAAADAAEAAAMAUA8WLZYBAAZo6+PLIsAAAAAcdXVpZGtoQPJfJE/FujmlG88DI/MA\n",
       "AAAAAAAAGHN0dHMAAAAAAAAAAQAAALQAAAEAAAAAFHN0c3MAAAAAAAAAAQAAAAEAAAHwY3R0cwAA\n",
       "AAAAAAA8AAAACQAAAgAAAAABAAADAAAAAAEAAAEAAAAAAwAAAgAAAAABAAADAAAAAAEAAAEAAAAA\n",
       "AwAAAgAAAAABAAADAAAAAAEAAAEAAAAADQAAAgAAAAABAAAEAAAAAAIAAAEAAAAACAAAAgAAAAAB\n",
       "AAADAAAAAAEAAAEAAAAAAwAAAgAAAAABAAADAAAAAAEAAAEAAAAAAwAAAgAAAAABAAADAAAAAAEA\n",
       "AAEAAAAADQAAAgAAAAABAAAEAAAAAAIAAAEAAAAACAAAAgAAAAABAAADAAAAAAEAAAEAAAAAAwAA\n",
       "AgAAAAABAAADAAAAAAEAAAEAAAAAAwAAAgAAAAABAAADAAAAAAEAAAEAAAAADQAAAgAAAAABAAAE\n",
       "AAAAAAIAAAEAAAAACAAAAgAAAAABAAADAAAAAAEAAAEAAAAAAwAAAgAAAAABAAADAAAAAAEAAAEA\n",
       "AAAAAwAAAgAAAAABAAADAAAAAAEAAAEAAAAADQAAAgAAAAABAAAEAAAAAAIAAAEAAAAACAAAAgAA\n",
       "AAABAAADAAAAAAEAAAEAAAAAAwAAAgAAAAABAAADAAAAAAEAAAEAAAAAAwAAAgAAAAABAAADAAAA\n",
       "AAEAAAEAAAAADQAAAgAAAAABAAADAAAAAAEAAAEAAAAAHHN0c2MAAAAAAAAAAQAAAAEAAAC0AAAA\n",
       "AQAAAuRzdHN6AAAAAAAAAAAAAAC0AAAbPwAAAvYAAAGmAAABfAAAAV8AAAF0AAABFwAAAVkAAADt\n",
       "AAABcAAAAQsAAADjAAAA4gAAATYAAADaAAAA1gAAAP0AAADGAAABLAAAALYAAADBAAAA9AAAAKUA\n",
       "AAEuAAAA5QAAAMUAAAC7AAAAmwAAAOQAAAD5AAAAwgAAALcAAACtAAABEwAAAvEAAAKCAAACpwAA\n",
       "AUAAAAEXAAABOwAAARsAAADzAAAA4QAAAT4AAAEBAAABCwAAAQ0AAADbAAAAugAAARAAAADKAAAA\n",
       "uQAAANAAAAC3AAABCwAAAKkAAACiAAAA7AAAAKcAAAElAAAA5wAAAL8AAADHAAAAlgAAANMAAADz\n",
       "AAAAwgAAAKMAAAChAAABEQAAAugAAAKLAAACpQAAAS0AAAD/AAABIgAAAQkAAADtAAAAxQAAANkA\n",
       "AADSAAABBAAAANIAAAC8AAAArQAAARkAAAC5AAAAuQAAALwAAACwAAAA+AAAAKYAAACqAAAA8QAA\n",
       "AKoAAAErAAAA1gAAALEAAACkAAAAmgAAANEAAAEAAAAAqwAAAKIAAACPAAABBAAAAuMAAAJuAAAC\n",
       "nAAAATEAAAERAAABSAAAARwAAADtAAAA2AAAANEAAADIAAAA+AAAAOkAAACvAAAApAAAAREAAACx\n",
       "AAAAtAAAANAAAAClAAAA4QAAAKAAAACqAAAA6AAAAJ8AAAEcAAAA4gAAAK4AAACqAAAAmgAAANIA\n",
       "AAELAAAAwQAAAJgAAACLAAABBwAAAuEAAAJ4AAACrwAAASsAAAEHAAABMAAAAQkAAAD2AAAA1AAA\n",
       "AOkAAADDAAAA7wAAANIAAADIAAAApgAAAQEAAACwAAAAtAAAANwAAACeAAAA5wAAAKwAAACqAAAA\n",
       "3gAAAKUAAAEMAAAA6AAAALAAAACZAAAAjwAAAMcAAAD8AAAAvgAAAJ0AAACAAAAAyAAAAz8AAAJq\n",
       "AAAAFHN0Y28AAAAAAAAAAQAAACwAAABidWR0YQAAAFptZXRhAAAAAAAAACFoZGxyAAAAAAAAAABt\n",
       "ZGlyYXBwbAAAAAAAAAAAAAAAAC1pbHN0AAAAJal0b28AAAAdZGF0YQAAAAEAAAAATGF2ZjU3LjU3\n",
       "LjEwMA==\n",
       "\">\n",
       "  Your browser does not support the video tag.\n",
       "</video>"
      ],
      "text/plain": [
       "<matplotlib.animation.FuncAnimation at 0x21fd14d6ac8>"
      ]
     },
     "execution_count": 6,
     "metadata": {},
     "output_type": "execute_result"
    }
   ],
   "source": [
    "ani"
   ]
  },
  {
   "cell_type": "markdown",
   "metadata": {},
   "source": [
    "## Question 1"
   ]
  },
  {
   "cell_type": "markdown",
   "metadata": {},
   "source": [
    "Are the condition of the Perron-Frobenius met? Justify your answers:\n",
    "- using the theoretical definitions\n",
    "- by commenting the animation above"
   ]
  },
  {
   "cell_type": "markdown",
   "metadata": {},
   "source": [
    "**Answer:**"
   ]
  },
  {
   "cell_type": "markdown",
   "metadata": {},
   "source": [
    "## Question 2"
   ]
  },
  {
   "cell_type": "markdown",
   "metadata": {},
   "source": [
    "We now change the rules. At each turn, the player tosses an unbiased coin. If it is a head, she moves forward $ a = 1 $ step. If it is a tail, she moves forward $ b = 2 $ steps."
   ]
  },
  {
   "cell_type": "markdown",
   "metadata": {},
   "source": [
    "As we are now playing with more general Markov chains, **roll** may not be enough. You may want to use **dot(P, A)**, which multiplies a vector P and a matrix A"
   ]
  },
  {
   "cell_type": "code",
   "execution_count": 7,
   "metadata": {
    "ExecuteTime": {
     "end_time": "2016-11-14T11:57:34.223988",
     "start_time": "2016-11-14T11:57:34.217986"
    },
    "collapsed": true
   },
   "outputs": [],
   "source": [
    "def next_stepA(P):\n",
    "    return dot(P, A)"
   ]
  },
  {
   "cell_type": "markdown",
   "metadata": {},
   "source": [
    "Visualize the evolution of the position of the player. Comment what you observe."
   ]
  },
  {
   "cell_type": "markdown",
   "metadata": {},
   "source": [
    "**Answer:**"
   ]
  },
  {
   "cell_type": "markdown",
   "metadata": {},
   "source": [
    "## Question 3"
   ]
  },
  {
   "cell_type": "markdown",
   "metadata": {},
   "source": [
    "New rules. We assume now $ a = 1 $, $ b = i^2 $, where $ i $ is the number of the square where the player stands."
   ]
  },
  {
   "cell_type": "markdown",
   "metadata": {},
   "source": [
    "Visualize the evolution of the position of the player. Comment what you observe."
   ]
  },
  {
   "cell_type": "markdown",
   "metadata": {},
   "source": [
    "**Answer:**"
   ]
  },
  {
   "cell_type": "markdown",
   "metadata": {},
   "source": [
    "There is convergence. Note compared to previous case that:\n",
    "- It is much faster (if you want to go deeper in that direction, the reason is that the spectral gap is greater with the new rules).\n",
    "- The asymptotic distribution is very heterogeneous."
   ]
  },
  {
   "cell_type": "markdown",
   "metadata": {},
   "source": [
    "## Question 4"
   ]
  },
  {
   "cell_type": "markdown",
   "metadata": {},
   "source": [
    "New rules. We assume now $ a = 1 $, $ b = 7 $."
   ]
  },
  {
   "cell_type": "markdown",
   "metadata": {},
   "source": [
    "Visualize the evolution of the position of the player. Comment what you observe."
   ]
  },
  {
   "cell_type": "markdown",
   "metadata": {},
   "source": [
    "**Answer:**"
   ]
  },
  {
   "cell_type": "markdown",
   "metadata": {},
   "source": [
    "We have not the aperiodicity condition. In fact it is quite easy to see that the period of the graph is 6: consider a loop. It is mad of a certain number of $a$ jumps, say $i$, and a certain number of $b$, say $j$. The fact that it is a loop means that $i a + j b = 36 k$ for some $k$, i.e. $i+7j = 36k$. Hence we have\n",
    "$$(i+7j)\\%6 = (i+j)\\%6 = 36k\\%6 = 0$$\n",
    "\n",
    "In other words, $i+j$, the length of the loop, is a multiple of 6.\n",
    "\n",
    "This cycle of 6 is indeed easy to see on the animation."
   ]
  },
  {
   "cell_type": "markdown",
   "metadata": {},
   "source": [
    "## Question 5"
   ]
  },
  {
   "cell_type": "markdown",
   "metadata": {},
   "source": [
    "New rules. We assume now $ a = 2 $, $ b = 4 $."
   ]
  },
  {
   "cell_type": "markdown",
   "metadata": {},
   "source": [
    "Visualize the evolution of the position of the player. Comment what you observe."
   ]
  },
  {
   "cell_type": "markdown",
   "metadata": {},
   "source": [
    "**Answer:**"
   ]
  },
  {
   "cell_type": "markdown",
   "metadata": {},
   "source": [
    "It is like question 2 except that only even squares are covered.\n",
    "- Regarding Perron-Frobenius, the irreducible property is lost. you have two strongly connected components: even squares and odd squares (there are indeed disconnected from each other).\n",
    "- The practical effect of loosing irreducibility is that you can have states with 0 probability (the odd squares), whereas when all conditions of Perron-Frobenius are met, all states have a positive (e.g. >0) probability in the steady state distribution.\n",
    "- While $2 \\wedge 4 = 2$, 2 is NOT a period of the graph (the graph is actually aperiodic on both of its strongly connected components)."
   ]
  },
  {
   "cell_type": "markdown",
   "metadata": {},
   "source": [
    "## Question 6"
   ]
  },
  {
   "cell_type": "markdown",
   "metadata": {},
   "source": [
    "With probability $ 1/5 $, the coin lands on its edge (it is a very thick coin). Default procedure: toss again until is does not land on its edge. Exception: if it lands on its edge while the player stands on square 35, she realizes that the game is pointless and quits the game. Redo questions 2 to 5 with this new rule."
   ]
  },
  {
   "cell_type": "markdown",
   "metadata": {},
   "source": [
    "**Answer:**"
   ]
  },
  {
   "cell_type": "markdown",
   "metadata": {},
   "source": [
    "A remark first: many of you have assumed that if you toss an edge on a different square than 35, you have to skip a square. What was intended for squares less than 35 was that a step was the action of *tossing until you have head or tail, then move*. Indeed the problem was probably not enough precise on that point, so it is OK if you implemented loops for squares less than 35."
   ]
  },
  {
   "cell_type": "markdown",
   "metadata": {},
   "source": [
    "# PageRank on a small graph (if time)"
   ]
  },
  {
   "cell_type": "markdown",
   "metadata": {},
   "source": [
    "The goal of this last part is to test a few variants of PageRank on *small* graphs and see how they differ.\n",
    "\n",
    "It is entirely optional, but it can help you before computing PageRank on bigger graphs."
   ]
  },
  {
   "cell_type": "markdown",
   "metadata": {},
   "source": [
    "Let $ h $ be an integer (use $ h $ = 3 for toy evaluation, $ h = 9 $ for complete evaluation).\n",
    "\n",
    "Let $ G $ be the following graph:\n",
    "- There are $ n = 2^{h+1}-1 $ nodes numbered from $0$ to $ 2^{h+1}-2 $.\n",
    "- The oriented edges are as follows:\n",
    "    - For all nodes $ i\\geq 1 $, there is an edge *from* $ i $ *to* $ \\lfloor (i-1) / 2 \\rfloor $.\n",
    "    - For all nodes $ i\\geq 1 $, there is an edge *from* $ i $ *to* $ i - 1 $.\n",
    "    - For all nodes $j$ such that $ j \\in [2^h-1, 2^{h+1}-2] $, there is an edge *from* $0$ *to* $j$."
   ]
  },
  {
   "cell_type": "markdown",
   "metadata": {},
   "source": [
    "## Question 1"
   ]
  },
  {
   "cell_type": "markdown",
   "metadata": {},
   "source": [
    "Build the stochastic matrix $A$ associated to $G$, defined by $ A(i,j) = 1/deg_+(i)$ if there is an edge from $ i $ to $ j $, 0 otherwise. ($deg_+$: *outdegree*)"
   ]
  },
  {
   "cell_type": "markdown",
   "metadata": {},
   "source": [
    "**Answer:**"
   ]
  },
  {
   "cell_type": "markdown",
   "metadata": {},
   "source": [
    "## Question 2"
   ]
  },
  {
   "cell_type": "markdown",
   "metadata": {},
   "source": [
    "Try to guess which nodes of the graph are important. Justify your answer (e.g. copying/pasting the answer from next question is not enough)."
   ]
  },
  {
   "cell_type": "markdown",
   "metadata": {},
   "source": [
    "**Answer:**"
   ]
  },
  {
   "cell_type": "markdown",
   "metadata": {},
   "source": [
    "## Question 3"
   ]
  },
  {
   "cell_type": "markdown",
   "metadata": {},
   "source": [
    "Compute the PageRank $P$ which is a solution of $ P = P A $. Proceed iteratively starting from $ P = \\mathbf{1}/n $ and updating $ P \\leftarrow P A $ until $ ||P-PA||_1<\\epsilon $ (recommendation: $ \\epsilon = 10^{-8} $). Display for the $10$ first iterations the current top ten (the ten nodes that have highest value in current $P$), the total number of iterations and the final top ten.\n",
    "\n",
    "Configure a maximal number of authorized iterations to avoid infinite loops (recommendation: 2000 iterations). When reaching the maximal number of iterations, your function should display a message saying the process has not converged and give the past top ten obtained."
   ]
  },
  {
   "cell_type": "markdown",
   "metadata": {},
   "source": [
    "**Answer:**"
   ]
  },
  {
   "cell_type": "markdown",
   "metadata": {},
   "source": [
    "We observe the expected ranking."
   ]
  },
  {
   "cell_type": "markdown",
   "metadata": {},
   "source": [
    "## Question 4"
   ]
  },
  {
   "cell_type": "markdown",
   "metadata": {},
   "source": [
    "We add to $b$ new nodes to $G$ ($ b = 10 $) numbered from $ n $ to $ n+b-1 $. For each new node $ i $, we add an edge *from* $ i-1 $ *to* $i$.\n",
    "- Do Questions 1, 2, 3 over with this new graph. What happens (in theory and in practice)?\n",
    "- Use $ P \\leftarrow P A / ||PA||_1 $ for updating $P$. What happens?"
   ]
  },
  {
   "cell_type": "markdown",
   "metadata": {},
   "source": [
    "**Answer:**"
   ]
  },
  {
   "cell_type": "markdown",
   "metadata": {},
   "source": [
    "First, let us do the modification, then compute the PageRank."
   ]
  },
  {
   "cell_type": "markdown",
   "metadata": {},
   "source": [
    "It seems the convergence cannot be observed. The reason is that we introduced a leak on the last node. In theory, $P$ should converge towards 0, but\n",
    "- the leak is big enough to prevent $||P-PA||<\\epsilon$ when $P$ stays large enough\n",
    "- the leak is small enough so that $P$ stays large enough for a long time\n",
    "\n",
    "However, notice that the ranking after the maximum allowed number of iterations seems to be correct.\n",
    "\n",
    "Now, change the algorithm so that $P$ stays normalized."
   ]
  },
  {
   "cell_type": "markdown",
   "metadata": {},
   "source": [
    "Convergence works again! (with a similar number of iterations)"
   ]
  },
  {
   "cell_type": "markdown",
   "metadata": {},
   "source": [
    "## Question 5"
   ]
  },
  {
   "cell_type": "markdown",
   "metadata": {},
   "source": [
    "We add one edge to the previous graph, from $ n+b-1 $ to $ n+b-2 $.\n",
    "- Do Questions 1, 2, 3 over with this new graph, along with the update proposed in Question 4. What happens (in theory and in practice)?\n",
    "- Use $ P \\leftarrow d P A + (1-d)\\mathbf{1}  $ for updating $P$, wirh $d = 0.85$. What happens?"
   ]
  },
  {
   "cell_type": "markdown",
   "metadata": {},
   "source": [
    "**Answer:**"
   ]
  },
  {
   "cell_type": "markdown",
   "metadata": {},
   "source": [
    "First, change the graph by adding one last edge."
   ]
  },
  {
   "cell_type": "markdown",
   "metadata": {},
   "source": [
    "- No convergence.\n",
    "- In theory, the nodes 1031 and 1032 form a probability trap: it is a strongly connected component that can be reached from any other node and from which you cannot exit. So they should be ranked first, with all other nodes ranked last.\n",
    "- Yet, the returned ranking is [0, 1031, 1032, ...]: 1031 and 1032 did not have enough time to converge.\n",
    "- Remark that normalizing does not change anything: there is no leak to compensate for.\n",
    "- It is not very satisfying that one single edge completely changes the ranking\n",
    "- Now, let see what happens with damping."
   ]
  },
  {
   "cell_type": "markdown",
   "metadata": {},
   "source": [
    "- Faster convergence\n",
    "- The ranking [0, 1, 2, ...] is returned: the effect of local traps is ignored."
   ]
  },
  {
   "cell_type": "markdown",
   "metadata": {},
   "source": [
    "## Question 6"
   ]
  },
  {
   "cell_type": "markdown",
   "metadata": {},
   "source": [
    "Compare and discuss the convergence and rankings you observed in this practical."
   ]
  },
  {
   "cell_type": "markdown",
   "metadata": {},
   "source": [
    "**Answer:**"
   ]
  },
  {
   "cell_type": "markdown",
   "metadata": {},
   "source": [
    "See the markdown above."
   ]
  }
 ],
 "metadata": {
  "anaconda-cloud": {},
  "kernelspec": {
   "display_name": "Python [default]",
   "language": "python",
   "name": "python3"
  },
  "language_info": {
   "codemirror_mode": {
    "name": "ipython",
    "version": 3
   },
   "file_extension": ".py",
   "mimetype": "text/x-python",
   "name": "python",
   "nbconvert_exporter": "python",
   "pygments_lexer": "ipython3",
   "version": "3.5.2"
  },
  "nav_menu": {},
  "toc": {
   "navigate_menu": true,
   "number_sections": false,
   "sideBar": true,
   "threshold": "3",
   "toc_cell": false,
   "toc_section_display": "block",
   "toc_window_display": true
  }
 },
 "nbformat": 4,
 "nbformat_minor": 1
}
