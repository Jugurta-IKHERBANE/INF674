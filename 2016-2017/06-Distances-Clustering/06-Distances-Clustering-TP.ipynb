{
 "cells": [
  {
   "cell_type": "markdown",
   "metadata": {
    "slideshow": {
     "slide_type": "-"
    }
   },
   "source": [
    "# INF 674 S6: Distances and Clustering\n",
    "\n",
    "## Céline Comte & Fabien Mathieu\n",
    "\n",
    "### 2016-2017"
   ]
  },
  {
   "cell_type": "markdown",
   "metadata": {},
   "source": [
    "During the previous practical, you learned how to study the degree distribution on simple and oriented graphs, using the DBLP and Wikipedia datasets. The goal of this practical is to learn more refine techniques on the DBLP dataset."
   ]
  },
  {
   "cell_type": "code",
   "execution_count": 1,
   "metadata": {
    "ExecuteTime": {
     "end_time": "2016-10-23T21:28:58.251636",
     "start_time": "2016-10-23T21:28:57.170879"
    },
    "collapsed": false
   },
   "outputs": [
    {
     "name": "stdout",
     "output_type": "stream",
     "text": [
      "Populating the interactive namespace from numpy and matplotlib\n"
     ]
    }
   ],
   "source": [
    "%pylab inline\n",
    "import networkx as nx"
   ]
  },
  {
   "cell_type": "markdown",
   "metadata": {},
   "source": [
    "# 1. Basic Tools"
   ]
  },
  {
   "cell_type": "markdown",
   "metadata": {},
   "source": [
    "We provide you with a few functions to deal with the DBLP dataset (or other datasets with the same format). You will have to use them in the practical."
   ]
  },
  {
   "cell_type": "markdown",
   "metadata": {},
   "source": [
    "## File format"
   ]
  },
  {
   "cell_type": "markdown",
   "metadata": {},
   "source": [
    "We remind the format of the provided datasets:\n",
    "- **_dataset_.ids** contains the actual names of the nodes (one per line, $ n $ lines in total). By convention, each node is associated to its line number (from $ 0 $ to $ n-1 $). Actual names may contain special characters (e.g. *ç*, *é*), so it is encoded with *utf-8*.\n",
    "- **_dataset_.adja** contains the adjacency list of the graph: line $ i $ (from $ 0 $ to $ n-1 $) contains, in plain ASCII, the numbers of the nodes that are neighbors of $ i $.\n",
    "\n",
    "Datasets will be given on a USB key. This practical assumes they are stored in **../Datasets/** relatively to your working directory."
   ]
  },
  {
   "cell_type": "code",
   "execution_count": 1,
   "metadata": {
    "ExecuteTime": {
     "end_time": "2016-10-31T15:22:40.684356",
     "start_time": "2016-10-31T15:22:40.654334"
    },
    "collapsed": true
   },
   "outputs": [],
   "source": [
    "directory = \"../Datasets/\""
   ]
  },
  {
   "cell_type": "markdown",
   "metadata": {},
   "source": [
    "## Size and degree"
   ]
  },
  {
   "cell_type": "markdown",
   "metadata": {},
   "source": [
    "The following function gives the number of nodes $n$ and the total number of *oriented edges* $m$ of the graph. In the case where the graph is undirected, all edges will be counted twice ($(i,j)$ and $(j,i)$ are the same edge on an undirected graph) so the actual number of edges is $\\frac m 2$.\n",
    "\n",
    "The function tries to load the size from a npy file if one exists, otherwise it parses through the dataset to extract the information and save it in a npy file."
   ]
  },
  {
   "cell_type": "code",
   "execution_count": 3,
   "metadata": {
    "ExecuteTime": {
     "end_time": "2016-10-23T21:28:58.279640",
     "start_time": "2016-10-23T21:28:58.264628"
    },
    "collapsed": false
   },
   "outputs": [],
   "source": [
    "def get_size(prefix = \"dblp\"):\n",
    "    try:\n",
    "        return np.load(directory+prefix+\"-size.npy\")\n",
    "    except IOError:\n",
    "        n = 0\n",
    "        m = 0\n",
    "        with open(directory+prefix+\".adja\") as f:\n",
    "            for line in f:\n",
    "                n += 1\n",
    "                m += len([int(s) for s in line.split()])\n",
    "        np.save(directory+prefix+\"-size\", [n, m])\n",
    "        return n, m"
   ]
  },
  {
   "cell_type": "markdown",
   "metadata": {},
   "source": [
    "Let us run the function to create the npy file."
   ]
  },
  {
   "cell_type": "code",
   "execution_count": 4,
   "metadata": {
    "ExecuteTime": {
     "end_time": "2016-10-23T21:28:58.296160",
     "start_time": "2016-10-23T21:28:58.285644"
    },
    "collapsed": false
   },
   "outputs": [
    {
     "name": "stdout",
     "output_type": "stream",
     "text": [
      "Number of nodes: 1314050\n",
      "Number of edges: 5362414\n"
     ]
    }
   ],
   "source": [
    "n, m = get_size()\n",
    "print(\"Number of nodes: \"+str(n))\n",
    "print(\"Number of edges: \"+str(m//2))"
   ]
  },
  {
   "cell_type": "markdown",
   "metadata": {},
   "source": [
    "Then, the following of each node returns a numpy array of size $n$ containing the degree of each node."
   ]
  },
  {
   "cell_type": "code",
   "execution_count": 5,
   "metadata": {
    "ExecuteTime": {
     "end_time": "2016-10-23T21:28:58.329686",
     "start_time": "2016-10-23T21:28:58.300160"
    },
    "collapsed": true
   },
   "outputs": [],
   "source": [
    "def get_degree(prefix = \"dblp\"):\n",
    "    try:\n",
    "        return np.load(directory+prefix+\"-deg.npy\")\n",
    "    except IOError:\n",
    "        n, m = get_size(prefix)\n",
    "        degree = zeros(n, dtype = int)\n",
    "        i = 0\n",
    "        with open(directory+prefix+\".adja\") as f:\n",
    "            for line in f:\n",
    "                degree[i] = len([int(s) for s in line.split()])\n",
    "                i += 1\n",
    "        np.save(directory+prefix+\"-deg\", degree)\n",
    "        return degree"
   ]
  },
  {
   "cell_type": "markdown",
   "metadata": {},
   "source": [
    "Let us execute it."
   ]
  },
  {
   "cell_type": "code",
   "execution_count": 6,
   "metadata": {
    "ExecuteTime": {
     "end_time": "2016-10-23T21:28:58.360708",
     "start_time": "2016-10-23T21:28:58.337699"
    },
    "collapsed": false
   },
   "outputs": [
    {
     "name": "stdout",
     "output_type": "stream",
     "text": [
      "Average number of co-authors: 8.16165899319\n"
     ]
    }
   ],
   "source": [
    "print(\"Average number of co-authors: \"+str(mean(get_degree(\"dblp\"))))"
   ]
  },
  {
   "cell_type": "markdown",
   "metadata": {},
   "source": [
    "## Adjacency List"
   ]
  },
  {
   "cell_type": "markdown",
   "metadata": {},
   "source": [
    "A natural way to store the adjacency list would be to use an array of arrays, such that A[i][j] would refer to the $j$th neighbor of node $i$. In practice, this structure can have some memory usage overhead, so we will store the adjacency list in a flat array with the function below."
   ]
  },
  {
   "cell_type": "code",
   "execution_count": 7,
   "metadata": {
    "ExecuteTime": {
     "end_time": "2016-10-23T21:28:58.405744",
     "start_time": "2016-10-23T21:28:58.366712"
    },
    "collapsed": true
   },
   "outputs": [],
   "source": [
    "def get_adjacency(prefix = \"dblp\"):\n",
    "    try:\n",
    "        return np.load(directory+prefix+\"-adja.npy\")\n",
    "    except IOError:\n",
    "        n, m = get_size(prefix)\n",
    "        A = zeros(n+m+1, dtype = int)\n",
    "        A[0] = n+1 # Don't forget the +1!!!\n",
    "        with open(directory+prefix+\".adja\") as f:\n",
    "            i = 0\n",
    "            for line in f:\n",
    "                neighbors = [int(s) for s in line.split()]\n",
    "                A[i+1] = A[i]+len(neighbors)\n",
    "                A[A[i]:A[i+1]] = neighbors\n",
    "                i += 1\n",
    "        np.save(directory+prefix+\"-adja\", A)\n",
    "        return A"
   ]
  },
  {
   "cell_type": "markdown",
   "metadata": {},
   "source": [
    "We can load $A$ in memory."
   ]
  },
  {
   "cell_type": "code",
   "execution_count": 8,
   "metadata": {
    "ExecuteTime": {
     "end_time": "2016-10-23T21:28:58.470797",
     "start_time": "2016-10-23T21:28:58.410755"
    },
    "collapsed": true
   },
   "outputs": [],
   "source": [
    "A = get_adjacency(\"dblp\")"
   ]
  },
  {
   "cell_type": "markdown",
   "metadata": {},
   "source": [
    "The result, *A*, is a numpy array of integer of size $n+m+1$, organized as follows:\n",
    "- The $n+1$ first values are indexes\n",
    "- The $m$ last values are destinations\n",
    "- The neighbors of a node $i$ are stored in A[A[i]:A[i+1]]\n",
    "\n",
    "The following function just return the neighbors."
   ]
  },
  {
   "cell_type": "code",
   "execution_count": 9,
   "metadata": {
    "ExecuteTime": {
     "end_time": "2016-10-23T21:28:58.477801",
     "start_time": "2016-10-23T21:28:58.473801"
    },
    "collapsed": true
   },
   "outputs": [],
   "source": [
    "def neighbors(A, index):\n",
    "    return A[A[index]:A[index+1]]"
   ]
  },
  {
   "cell_type": "markdown",
   "metadata": {},
   "source": [
    "In practice, just use A[A[i]:A[i+1]] if you can, it avoids calling a function."
   ]
  },
  {
   "cell_type": "markdown",
   "metadata": {},
   "source": [
    "## Index / Name conversion"
   ]
  },
  {
   "cell_type": "markdown",
   "metadata": {},
   "source": [
    "All the functions above assume a researcher is represented by an integer $0\\leq i<n$, but researcher have names! Let us write some functions to translate integers to names and *vice versa*."
   ]
  },
  {
   "cell_type": "code",
   "execution_count": 10,
   "metadata": {
    "ExecuteTime": {
     "end_time": "2016-10-23T21:28:58.499822",
     "start_time": "2016-10-23T21:28:58.481804"
    },
    "collapsed": true
   },
   "outputs": [],
   "source": [
    "import codecs\n",
    "def get_ids(prefix = \"dblp\"):\n",
    "    try:\n",
    "        return np.load(directory+prefix+\"-ids.npy\")\n",
    "    except IOError:\n",
    "        n, m = get_size(prefix)\n",
    "        delimiter = zeros(n+1, dtype = int)\n",
    "        text = \"\"\n",
    "        with codecs.open(directory+prefix+\".ids\", \"r\", \"utf-8\") as f:\n",
    "            i = 0\n",
    "            for line in f:\n",
    "                delimiter[i+1] = delimiter[i]+len(line)-1\n",
    "                text += line[0:-1]\n",
    "                i += 1\n",
    "        np.save(directory+prefix+\"-ids\", [delimiter, text])\n",
    "        return delimiter, text"
   ]
  },
  {
   "cell_type": "markdown",
   "metadata": {},
   "source": [
    "The function above returns a *delimiter* array of size $n+1$ and a *text* string that concatenates all researcher names. It uses the same principle used for the adjacency list: the name of a researcher associated to number $i$ is text[delimiter[i]:delimiter[i+1]]. This allows us to do the conversion from name to index."
   ]
  },
  {
   "cell_type": "code",
   "execution_count": 11,
   "metadata": {
    "ExecuteTime": {
     "end_time": "2016-10-23T21:28:58.513834",
     "start_time": "2016-10-23T21:28:58.503824"
    },
    "collapsed": true
   },
   "outputs": [],
   "source": [
    "def index2name(index, prefix = \"dblp\", delimiter = None, text = None):\n",
    "    if delimiter is None:\n",
    "        delimiter, text = get_ids(prefix)\n",
    "    return text[delimiter[index]:delimiter[index+1]]"
   ]
  },
  {
   "cell_type": "markdown",
   "metadata": {},
   "source": [
    "Let us try **index2name** with some integers chosen at *random* (or not). Note that the first execution will build the index."
   ]
  },
  {
   "cell_type": "code",
   "execution_count": 12,
   "metadata": {
    "ExecuteTime": {
     "end_time": "2016-10-23T21:28:58.641934",
     "start_time": "2016-10-23T21:28:58.517837"
    },
    "collapsed": false
   },
   "outputs": [
    {
     "data": {
      "text/plain": [
       "'Paul_Erdös'"
      ]
     },
     "execution_count": 12,
     "metadata": {},
     "output_type": "execute_result"
    }
   ],
   "source": [
    "index2name(711561)"
   ]
  },
  {
   "cell_type": "code",
   "execution_count": 13,
   "metadata": {
    "ExecuteTime": {
     "end_time": "2016-10-23T21:28:58.769028",
     "start_time": "2016-10-23T21:28:58.646938"
    },
    "collapsed": false
   },
   "outputs": [
    {
     "data": {
      "text/plain": [
       "'Fabien_Mathieu'"
      ]
     },
     "execution_count": 13,
     "metadata": {},
     "output_type": "execute_result"
    }
   ],
   "source": [
    "index2name(149114)"
   ]
  },
  {
   "cell_type": "code",
   "execution_count": 14,
   "metadata": {
    "ExecuteTime": {
     "end_time": "2016-10-23T21:28:58.781538",
     "start_time": "2016-10-23T21:28:58.772531"
    },
    "collapsed": false
   },
   "outputs": [],
   "source": [
    "def name2index(name, prefix = \"dblp\", delimiter = None, text = None):\n",
    "    try:\n",
    "        if delimiter is None:\n",
    "            delimiter, text = get_ids(prefix)\n",
    "        offset = text.index(name)\n",
    "        return where(delimiter == offset)[0][0]\n",
    "    except:\n",
    "        print(\"Name not found.\")"
   ]
  },
  {
   "cell_type": "markdown",
   "metadata": {},
   "source": [
    "Let us try name2index."
   ]
  },
  {
   "cell_type": "code",
   "execution_count": 15,
   "metadata": {
    "ExecuteTime": {
     "end_time": "2016-10-23T21:28:58.938651",
     "start_time": "2016-10-23T21:28:58.785542"
    },
    "collapsed": false
   },
   "outputs": [
    {
     "data": {
      "text/plain": [
       "711561"
      ]
     },
     "execution_count": 15,
     "metadata": {},
     "output_type": "execute_result"
    }
   ],
   "source": [
    "name2index(\"Paul_Erdös\")"
   ]
  },
  {
   "cell_type": "code",
   "execution_count": 16,
   "metadata": {
    "ExecuteTime": {
     "end_time": "2016-10-23T21:28:59.072246",
     "start_time": "2016-10-23T21:28:58.942153"
    },
    "collapsed": false
   },
   "outputs": [
    {
     "data": {
      "text/plain": [
       "149114"
      ]
     },
     "execution_count": 16,
     "metadata": {},
     "output_type": "execute_result"
    }
   ],
   "source": [
    "name2index(\"Fabien_Mathieu\")"
   ]
  },
  {
   "cell_type": "markdown",
   "metadata": {},
   "source": [
    "Remark: the **name2index** function is very rough: it just try to match *name* as a substring of *text* and find the corresponding index in the delimiter array. It is quite slow and may fail is the name of a researcher is a substring of the name of another researcher, but it will be enough for this practical."
   ]
  },
  {
   "cell_type": "markdown",
   "metadata": {},
   "source": [
    "## List comprehension"
   ]
  },
  {
   "cell_type": "markdown",
   "metadata": {},
   "source": [
    "You already know what is a *list comprehension*: it is for example the method used to convert a text line into a list of neighbors when you parse the adjacency list: [int(s) for s in line.split()]\n",
    "\n",
    "They are a powerful tool to construct a list by describing how it is built, and you will have to use them in this practical, so you should study the following examples."
   ]
  },
  {
   "cell_type": "markdown",
   "metadata": {},
   "source": [
    "A first simple example: the list of the squares of the integers from 0 to 5:"
   ]
  },
  {
   "cell_type": "code",
   "execution_count": 17,
   "metadata": {
    "ExecuteTime": {
     "end_time": "2016-10-23T21:28:59.083256",
     "start_time": "2016-10-23T21:28:59.075748"
    },
    "collapsed": false
   },
   "outputs": [
    {
     "data": {
      "text/plain": [
       "[0, 1, 4, 9, 16, 25]"
      ]
     },
     "execution_count": 17,
     "metadata": {},
     "output_type": "execute_result"
    }
   ],
   "source": [
    "[i**2 for i in range(6)]"
   ]
  },
  {
   "cell_type": "markdown",
   "metadata": {},
   "source": [
    "One of the interest of list comprehension is that they can be nested. For example, the list of the squares of the 6 first positive odd integers."
   ]
  },
  {
   "cell_type": "code",
   "execution_count": 18,
   "metadata": {
    "ExecuteTime": {
     "end_time": "2016-10-23T21:28:59.097763",
     "start_time": "2016-10-23T21:28:59.087256"
    },
    "collapsed": false
   },
   "outputs": [
    {
     "data": {
      "text/plain": [
       "[1, 9, 25, 49, 81, 121]"
      ]
     },
     "execution_count": 18,
     "metadata": {},
     "output_type": "execute_result"
    }
   ],
   "source": [
    "[i**2 for i in [2*k+1 for k in range(6)]]"
   ]
  },
  {
   "cell_type": "markdown",
   "metadata": {},
   "source": [
    "A last example of list comprehension, which will be very helpful for the clustering coefficient. Can you figure out what it does?"
   ]
  },
  {
   "cell_type": "code",
   "execution_count": 19,
   "metadata": {
    "ExecuteTime": {
     "end_time": "2016-10-23T21:28:59.143296",
     "start_time": "2016-10-23T21:28:59.101767"
    },
    "collapsed": false
   },
   "outputs": [
    {
     "data": {
      "text/plain": [
       "[0, 0, 1, 0, 1, 2, 0, 1, 2, 3, 0, 1, 2, 3, 4]"
      ]
     },
     "execution_count": 19,
     "metadata": {},
     "output_type": "execute_result"
    }
   ],
   "source": [
    "[k for nj in [range(j) for j in range(6)] for k in nj]"
   ]
  },
  {
   "cell_type": "markdown",
   "metadata": {},
   "source": [
    "# 2. Distances and neighborhood"
   ]
  },
  {
   "cell_type": "markdown",
   "metadata": {},
   "source": [
    "## Question 1"
   ]
  },
  {
   "cell_type": "markdown",
   "metadata": {},
   "source": [
    "Let us check that you can use the tools above: write a function **coauthors** that gives you the co-authors of someone. It should take a string as input and return a list of strings."
   ]
  },
  {
   "cell_type": "markdown",
   "metadata": {},
   "source": [
    "**Answer:**"
   ]
  },
  {
   "cell_type": "markdown",
   "metadata": {},
   "source": [
    "## Question 2\n",
    "\n",
    "Write a function that takes a node index and gives its distance from Erdös. Use it to compute the Erdös number of Fabien Mathieu."
   ]
  },
  {
   "cell_type": "markdown",
   "metadata": {},
   "source": [
    "**Answer:**"
   ]
  },
  {
   "cell_type": "markdown",
   "metadata": {},
   "source": [
    "## Question 3\n",
    "\n",
    "Compute the number of researchers at distance $i$ from a node given by its index. Compare the number of researchers at distance 3 from the following researchers:\n",
    "- \"Paul_Erdös\"\n",
    "- \"Fabrice_Lumineau\"\n",
    "- \"Fabien_Mathieu\"\n",
    "- \"Jean-Louis_Rougier\""
   ]
  },
  {
   "cell_type": "markdown",
   "metadata": {},
   "source": [
    "**Answer:**"
   ]
  },
  {
   "cell_type": "markdown",
   "metadata": {},
   "source": [
    "# 3. Clustering Coefficient "
   ]
  },
  {
   "cell_type": "markdown",
   "metadata": {},
   "source": [
    "Informally, the clustering definition tells how likely it is that the friend of your friend is your friend. In other words, it tries to quantify the so-call *small-world* effect.\n",
    "\n",
    "When one wants to give a proper definition of what is a clustering coefficient, multiple options exist. For this practical, we will rely on the metrics introduced by Newman in\n",
    "[The structure and function of complex networks][newman]. Note that these are the definitions proposed in Wikipedia (avoid the French version by the way, the translation is lossy).\n",
    "\n",
    "Note that we will slightly alter some of the definitions proposed by [Newman][newman] to simplify the practical, but the metrics are exactly the same.\n",
    "\n",
    "[newman]: http://math.uchicago.edu/~shmuel/Network-course-readings/Newman,%20SIAM.pdf \"The structure and function of complex networks by M.E.J. Newman\""
   ]
  },
  {
   "cell_type": "markdown",
   "metadata": {},
   "source": [
    "## Definitions\n",
    "\n"
   ]
  },
  {
   "cell_type": "markdown",
   "metadata": {},
   "source": [
    "For a simple graph $G = (V,E)$ (*simple* means not oriented, no loops). We introduce the following notation for a node $i \\in V$:\n",
    "- $N(i):= \\{j\\in V \\big| (i,j)\\in E\\}$ is the *neighborhood* of $i$. Note that $d_i:=|N(i)|$ is the degree of $i$.\n",
    "- $B(i):= \\{(j,k)\\in V^2 \\big| (i,j)\\in E, (i,k)\\in E, j\\neq k\\}$ are the *edge pairs* of $i$. Note that the tuple $(j,k)$ is oriented ($(j,k)\\neq(k,j)$). $b_i$ denotes $|B(i)|$. It is straightforward to check that $b_i = d_i(d_i-1)$\n",
    "- $T(i):= \\{(j,k)\\in V^2 \\big| (i,j)\\in E, (i,k)\\in E, (j,k)\\in E\\}$ are the *oriented triangles* of $i$. Note that the tuple $(j,k)$ is oriented ($(j,k)\\neq(k,j)$). $t_i$ denotes $|T(i)|$.\n",
    "\n",
    "Remark that $T(i)\\subseteq B(i)$: all oriented triangles are also edge pairs, the only difference is the existence of an edge between the pair nodes.\n",
    "\n",
    "The clustering coefficient just measures the ratio between $T$ and $B$. It comes in two flavors, local and global:\n",
    "- The *local* clustering coefficient of a node $i$ is the ratio $c_i:=\\frac{t_i}{b_i}$. By convention, for $d_i=0$ (isolated node) or $d_i=1$ (leaf), we assume $c_i = 0$.\n",
    "- The *average local* clustering coefficient $C_l$ is just the average $C_l:=\\frac{1}{|V|}\\sum_{i\\in V}c_i$.\n",
    "- The *global* clustering coefficient $C_g$ is the ratio between the total number of oriented triangles and the total number of edge pairs: $C_g:= \\frac{\\sum_{i\\in V} t_i}{\\sum_{i\\in V} b_i}$.\n",
    "\n",
    "Remark that the global clustering can be expressed as a function of the local clusterings:\n",
    "\n",
    "$$C_g = \\frac{1}{\\sum_{i\\in V} b_i}\\sum_{i\\in V} b_i c_i\\text{.}$$\n",
    "\n",
    "The expression above shows that $C_g$ can be seen as a *weighted average* of the $c_i$'s, with relative importance of node $i$ being $b_i = d_i(d_i-1)$. In other words, the global clustering puts more weight on high-degree nodes compared to the average local clustering (you can also say that the local average clustering gives more importance to low degree nodes compared to the global clustering).\n",
    "\n",
    "Last definition: the *reference clustering* of a simple graph $G = (V, E)$ is defined as $C_r:=\\frac{2|E|}{|V|(|V|-1)}$. It corresponds to the typical clustering coefficient one would observe on a random graph (e.g. Erdös-Rényi) having in average the same number of nodes and edges than $G$.\n",
    "\n",
    "[newman]: http://math.uchicago.edu/~shmuel/Network-course-readings/Newman,%20SIAM.pdf \"The structure and function of complex networks by M.E.J. Newman\""
   ]
  },
  {
   "cell_type": "markdown",
   "metadata": {},
   "source": [
    "## Example\n",
    "\n",
    "To illustrate the definitions above, consider the following graph."
   ]
  },
  {
   "cell_type": "code",
   "execution_count": 29,
   "metadata": {
    "ExecuteTime": {
     "end_time": "2016-10-23T21:29:01.041552",
     "start_time": "2016-10-23T21:29:00.794351"
    },
    "collapsed": false,
    "hide_input": true
   },
   "outputs": [
    {
     "data": {
      "image/png": "[encoded data removed]",
      "text/plain": [
       "<matplotlib.figure.Figure at 0x1a501d6feb8>"
      ]
     },
     "metadata": {},
     "output_type": "display_data"
    }
   ],
   "source": [
    "G=nx.Graph()\n",
    "G.add_edge(\"A\",\"B\")\n",
    "G.add_edge(\"A\",\"C\")\n",
    "G.add_edge(\"B\",\"C\")\n",
    "G.add_edge(\"A\",\"D\")\n",
    "nx.draw(G,with_labels=True)"
   ]
  },
  {
   "cell_type": "markdown",
   "metadata": {},
   "source": [
    "We have the following:\n",
    "- Local clustering coefficients:\n",
    "    - $A$ has 6 edge pairs and 2 oriented triangles: $c_A = \\frac 1 3$\n",
    "    - $B$ has 2 edge pairs and 2 oriented triangles: $c_B = 1$\n",
    "    - $C$ has 2 edge pairs and 2 oriented triangles: $c_C = 1$\n",
    "    - $D$ has 0 edge pairs and 0 oriented triangles: $c_D = 0$ by convention.\n",
    "- Average local clustering: $C_l = \\frac{1/3+1+1+0}{4}=\\frac{7}{12}$.\n",
    "- Global clustering coefficient: $C_g = \\frac{2+2+2+0}{6+2+2+0} = \\frac{3}{5}$\n",
    "    - Notice that $C_g\\neq C_l$.\n",
    "    - One verifies that $C_g = \\frac{1}{10}(6c_A+2c_B+2c_C+0c_D)$.\n",
    "- Reference clustering: $C_r = \\frac{4}{3\\times 2} = \\frac 2 3$\n",
    "\n",
    "**Remark:** you may have noticed that the reference clustering is greater than the others, yet it is impossible to produce a graph with 4 nodes and 4 edges with a higher clustering. The short answer is that is is a border effect due to the small size of the graph. A deeper, slightly longer answer can be provided on demand.\n"
   ]
  },
  {
   "cell_type": "markdown",
   "metadata": {},
   "source": [
    "## Question 1"
   ]
  },
  {
   "cell_type": "markdown",
   "metadata": {},
   "source": [
    "Give a function that tells the local clustering coefficient $c_i$ of a node with id $i$ in DBLP. Try to make it as fast as possible.\n",
    "\n",
    "**Hints:**\n",
    "- The adjacency list you computed above will be quite useful.\n",
    "- Your main focus should be the computation of the number of oriented triangles of $i$.\n",
    "    - You can remark that $(j,k)$ is an oriented triangle of $i$ iff $j\\in N(i)$, $k\\in N(j)$ and $k\\in N(i)$.\n",
    "    - In particular, if you compute the set $N^2(i):=\\cup_{j\\in N(i)}N(j)$ with multiplicity (a given $k$ can be in the set multiple times if it is the neighbors of multiple $j$'s), you *just* have to count the number of elements of $N^2(i)$ that belongs to $N(i)$.\n",
    "    - So you need to compute $N^2(i) = \\{k \\in N(j)\\text{ s.t. }j\\in N(i)\\}$ (with multiplicity). Maybe it is time for you to start using the full power of list comprehension (see examples from [Basic Tools](#List-comprehension)).\n",
    "    - Look at the **numpy** function **in1d**, it may be handy.\n",
    "- Remind that a function call can slow down the execution. If it is a very small function, it may be faster to just rewrite it.\n",
    "- To check your code, here are a few local clusterings:\n",
    "    - \"Marc-Olivier_Buob\": 0.667\n",
    "    - \"Thomas_H._Clausen\": 0.263\n",
    "    - \"Paul_Erdös\": 0.039    \n",
    "    - \"Fabien_Mathieu\": 0.159\n",
    "    - \"Jean-Louis_Rougier\": 0.132"
   ]
  },
  {
   "cell_type": "markdown",
   "metadata": {},
   "source": [
    "**Answer:**"
   ]
  },
  {
   "cell_type": "markdown",
   "metadata": {},
   "source": [
    "## Question 2\n",
    "\n",
    "Using list comprehensions, compute the list of $t_i$, then $C_l$, $C_g$, and $C_r$ for the DBLP graph.\n",
    "- You can compute the $t_i$ in just one list comprehension (possibly nested).\n",
    "- The computation of $t_i$ should take about 1-10 minutes if you have a clean code\n",
    "    - Check your speed on small scales before launching the full computation.\n",
    "    - Optimize your code!\n",
    "    - you should save the result. Note that a list comprehension returns a Python list, which you may want to turn into a numpy array with *np.array()*."
   ]
  },
  {
   "cell_type": "markdown",
   "metadata": {},
   "source": [
    "**Answer:**"
   ]
  },
  {
   "cell_type": "markdown",
   "metadata": {},
   "source": [
    "## Question 3\n",
    "\n",
    "Discuss the values of $C_r$, $C_l$ and $C_g$. Can you give some explanation?\n",
    "\n",
    "(in case you missed it, this question may be more important than the two previous ones)"
   ]
  },
  {
   "cell_type": "markdown",
   "metadata": {},
   "source": [
    "**Answer:**"
   ]
  },
  {
   "cell_type": "markdown",
   "metadata": {},
   "source": [
    "## Question 4 (bonus)"
   ]
  },
  {
   "cell_type": "markdown",
   "metadata": {},
   "source": [
    "The DBLP dataset come from\n",
    "\n",
    "http://konect.uni-koblenz.de/downloads/tsv/dblp_coauthor.tar.bz2\n",
    "\n",
    "The format was not exactly the one used here, so it was converted with the following code."
   ]
  },
  {
   "cell_type": "raw",
   "metadata": {
    "collapsed": false
   },
   "source": [
    "%pylab inline\n",
    "\n",
    "directory = \"../Datasets/\"\n",
    "dblp_data = directory+\"out.dblp_coauthor\"\n",
    "\n",
    "with open(dblp_data) as f:\n",
    "    edges = zeros([18986618, 2], dtype = int)\n",
    "    n = 0\n",
    "    next(f)\n",
    "    for line in f:\n",
    "        line = [int(s) for s in line.split()]\n",
    "        edges[n, :] = [line[0]-1, line[1]-1]\n",
    "        n += 1\n",
    "edges = edges[edges[:, 1].argsort()]\n",
    "edges = edges[edges[:, 0].argsort(kind='mergesort')]\n",
    "\n",
    "f = open(directory+\"dblp.adja\",'w')\n",
    "\n",
    "c_source, c_dest = edges[0,:]\n",
    "to_write = str(c_dest)\n",
    "\n",
    "for i in range(1, 18986618):\n",
    "    if edges[i,0]>c_source:\n",
    "        f.write(to_write+\"\\n\")\n",
    "        c_source, c_dest = edges[i, :]\n",
    "        to_write = str(c_dest)\n",
    "    elif edges[i,1]>c_dest:\n",
    "        c_dest = edges[i, 1]\n",
    "        to_write += \" \"+str(c_dest)\n",
    "f.write(to_write+\"\\n\")\n",
    "f.close() \n",
    "\n",
    "import codecs\n",
    "df = codecs.open(directory+\"dblp.ids\", \"w\", \"utf-8\")\n",
    "\n",
    "with codecs.open(directory+\"ent.author\", \"r\", \"utf-8\") as f:\n",
    "    for i in range(3):\n",
    "        next(f)\n",
    "    for line in f:\n",
    "        df.write(line.split(\"\\\"\")[1]+\"\\n\") \n",
    "\n",
    "df.close()"
   ]
  },
  {
   "cell_type": "markdown",
   "metadata": {},
   "source": [
    "Sadly, the intern that wrote the code didn't comment it. Can you reverse engineer the code and explain how it works?"
   ]
  }
 ],
 "metadata": {
  "anaconda-cloud": {},
  "kernelspec": {
   "display_name": "Python [conda root]",
   "language": "python",
   "name": "conda-root-py"
  },
  "language_info": {
   "codemirror_mode": {
    "name": "ipython",
    "version": 3
   },
   "file_extension": ".py",
   "mimetype": "text/x-python",
   "name": "python",
   "nbconvert_exporter": "python",
   "pygments_lexer": "ipython3",
   "version": "3.5.2"
  },
  "nav_menu": {},
  "toc": {
   "navigate_menu": true,
   "number_sections": false,
   "sideBar": true,
   "threshold": 6,
   "toc_cell": false,
   "toc_section_display": "block",
   "toc_window_display": false
  }
 },
 "nbformat": 4,
 "nbformat_minor": 0
}
