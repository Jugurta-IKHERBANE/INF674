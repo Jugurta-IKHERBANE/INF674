{
 "cells": [
  {
   "cell_type": "markdown",
   "metadata": {},
   "source": [
    "# INF 674 S3: Epidemic Competition"
   ]
  },
  {
   "cell_type": "markdown",
   "metadata": {},
   "source": [
    "## Céline Comte & Fabien Mathieu"
   ]
  },
  {
   "cell_type": "markdown",
   "metadata": {},
   "source": [
    "### 2016-2017"
   ]
  },
  {
   "cell_type": "markdown",
   "metadata": {},
   "source": [
    "Until now, we have dealt with contamination with only one type of *virus*. The only bottleneck was the ability of a node to contaminate another one. For this session, we propose a selection of competition models, where multiple *viruses* compete for a same resource. The goal is not to be exhaustive (there are basically as many competition models than there are researchers working on that field), but to let you see that a same idea can lead to multiple approaches and applications."
   ]
  },
  {
   "cell_type": "markdown",
   "metadata": {},
   "source": [
    "# 1. The Mitochondrial Eve"
   ]
  },
  {
   "cell_type": "markdown",
   "metadata": {},
   "source": [
    "The context, origin and details of the model will be explained during the course. To be self-contained, we remind the principle: there is a first generation of $ n $ individuals (the potential eves). At each next generation, there are $ n $ individuals as well. The parent of each individual is chosen uniformly i.i.d. among the individuals of the previous generation. The game stops when one individual of the first generation is the unique ancestor of the current generation: Eve has been found. We propose to study the age of Eve, i.e. the number of generations required for all individuals to share the same Eve. For example, in the picture below, the age of Eve is four.\n",
    "![Eve](https://upload.wikimedia.org/wikipedia/commons/9/92/MtDNA-MRCA-generations-Evolution.svg)"
   ]
  },
  {
   "cell_type": "markdown",
   "metadata": {},
   "source": [
    "## Question 1"
   ]
  },
  {
   "cell_type": "markdown",
   "metadata": {},
   "source": [
    "Propose a function **age_of_eve** that returns for a given $ n $ the age of Eve computed on one instance."
   ]
  },
  {
   "cell_type": "markdown",
   "metadata": {},
   "source": [
    "**Hints:** \n",
    "- You're not asked to build the whole family tree, just to compute the age of Eve. Do not compute what you do not need.\n",
    "- Going forward or backward in time?"
   ]
  },
  {
   "cell_type": "code",
   "execution_count": 1,
   "metadata": {
    "ExecuteTime": {
     "end_time": "2017-10-02T12:26:45.229372Z",
     "start_time": "2017-10-02T12:26:44.587706Z"
    }
   },
   "outputs": [
    {
     "name": "stdout",
     "output_type": "stream",
     "text": [
      "Populating the interactive namespace from numpy and matplotlib\n"
     ]
    }
   ],
   "source": [
    "%pylab inline"
   ]
  },
  {
   "cell_type": "markdown",
   "metadata": {},
   "source": [
    "**Answer:**"
   ]
  },
  {
   "cell_type": "markdown",
   "metadata": {},
   "source": [
    "## Question 2"
   ]
  },
  {
   "cell_type": "markdown",
   "metadata": {},
   "source": [
    "Compute and display the age of Eve as a function of $ n $ averaged over a few trials. Recommended values for a good display: 100:100:2000, 100 trials. When testing your code, you may choose lower values."
   ]
  },
  {
   "cell_type": "markdown",
   "metadata": {},
   "source": [
    "**Answer:**"
   ]
  },
  {
   "cell_type": "markdown",
   "metadata": {},
   "source": [
    "## Question 3"
   ]
  },
  {
   "cell_type": "markdown",
   "metadata": {},
   "source": [
    "Try to propose some guesses for the expected age of Eve. This question is vague on purpose: you decide your methodology and how far you want to push things (finding the right work/results trade-off is part of the exercise). You can try to propose a value according to your experimental results, or try to infer some bounds. When the number of distinct ancestors is large enough, you can estimate the proportion that disappears going up one generation. When only few distinct ancestors remain, you can estimate the number of generations required in average for having one distinct ancestor less. You can Google some bibliography and explain what you found, but you will have to cite your sources properly to avoid plagiarism..."
   ]
  },
  {
   "cell_type": "markdown",
   "metadata": {},
   "source": [
    "**Answer:**"
   ]
  },
  {
   "cell_type": "markdown",
   "metadata": {},
   "source": [
    "## Question 4"
   ]
  },
  {
   "cell_type": "markdown",
   "metadata": {},
   "source": [
    "Mitochondrial Eve is estimated to have lived between 99,000 and 300,000 years ago. Population size at that time was about 500,000. Comment the Mitochondrial Eve model we exposed in this session."
   ]
  },
  {
   "cell_type": "markdown",
   "metadata": {},
   "source": [
    "**Answer:**"
   ]
  },
  {
   "cell_type": "markdown",
   "metadata": {},
   "source": [
    "## Question 5 (bonus)"
   ]
  },
  {
   "cell_type": "markdown",
   "metadata": {},
   "source": [
    "Try to optimize your code.\n",
    "\n",
    "Python is not designed to be the fastest language of the world, but that does not mean you shouldn't try to write fast functions. Ideally, your function is fast by design, but sometimes you overlooked a possible computational bottleneck and your execution time goes sky high."
   ]
  },
  {
   "cell_type": "markdown",
   "metadata": {},
   "source": [
    "A first way to have a gross estimate of a function performance is the %timeit magic."
   ]
  },
  {
   "cell_type": "code",
   "execution_count": 10,
   "metadata": {
    "ExecuteTime": {
     "end_time": "2017-10-02T12:28:11.865943Z",
     "start_time": "2017-10-02T12:28:09.312234Z"
    }
   },
   "outputs": [
    {
     "name": "stdout",
     "output_type": "stream",
     "text": [
      "1 loop, best of 3: 294 ms per loop\n"
     ]
    }
   ],
   "source": [
    "%timeit age_of_eve()"
   ]
  },
  {
   "cell_type": "markdown",
   "metadata": {},
   "source": [
    "The **cProfile** module is a good way to investigate the bottlenecks of your code.\n",
    "\n",
    "For example, you may investigate your solution for Question 2 by doing something like that:"
   ]
  },
  {
   "cell_type": "code",
   "execution_count": 11,
   "metadata": {
    "ExecuteTime": {
     "end_time": "2017-10-02T12:29:44.138773Z",
     "start_time": "2017-10-02T12:28:11.870946Z"
    }
   },
   "outputs": [
    {
     "name": "stdout",
     "output_type": "stream",
     "text": [
      "         33535581 function calls in 92.239 seconds\n",
      "\n",
      "   Ordered by: internal time\n",
      "\n",
      "   ncalls  tottime  percall  cumtime  percall filename:lineno(function)\n",
      "  4191697   35.246    0.000   35.246    0.000 {method 'randint' of 'mtrand.RandomState' objects}\n",
      "  4191697   22.768    0.000   47.737    0.000 arraysetops.py:96(unique)\n",
      "  4191697   12.816    0.000   12.816    0.000 {built-in method numpy.core.multiarray.concatenate}\n",
      "     2000    8.749    0.004   92.227    0.046 <ipython-input-2-a6630299a345>:1(age_of_eve)\n",
      "  4191697    4.485    0.000    4.485    0.000 {method 'sort' of 'numpy.ndarray' objects}\n",
      "  4191697    3.590    0.000    3.590    0.000 {method 'flatten' of 'numpy.ndarray' objects}\n",
      "  4191697    3.349    0.000    4.078    0.000 numeric.py:484(asanyarray)\n",
      "  4191697    0.730    0.000    0.730    0.000 {built-in method numpy.core.multiarray.array}\n",
      "  4191697    0.495    0.000    0.495    0.000 {built-in method builtins.len}\n",
      "        1    0.012    0.012   92.239   92.239 <ipython-input-3-992538c1ebb7>:1(age_of_eve_trials)\n",
      "        1    0.000    0.000   92.239   92.239 {built-in method builtins.exec}\n",
      "        1    0.000    0.000    0.000    0.000 {built-in method numpy.core.multiarray.zeros}\n",
      "        1    0.000    0.000   92.239   92.239 <string>:1(<module>)\n",
      "        1    0.000    0.000    0.000    0.000 {method 'disable' of '_lsprof.Profiler' objects}\n",
      "\n",
      "\n"
     ]
    }
   ],
   "source": [
    "import cProfile\n",
    "cProfile.run('age_of_eve_trials()', sort = 'tottime')"
   ]
  },
  {
   "cell_type": "markdown",
   "metadata": {},
   "source": [
    "Depending on what you did, you may observe something quite different. Try to find out if you have bottlenecks."
   ]
  },
  {
   "cell_type": "markdown",
   "metadata": {},
   "source": [
    "**Answer:**"
   ]
  },
  {
   "cell_type": "markdown",
   "metadata": {},
   "source": [
    "Hum, it seems that **randint** and **unique** are quite time consuming. Maybe looking into that direction allows to produce a faster code."
   ]
  },
  {
   "cell_type": "code",
   "execution_count": 13,
   "metadata": {
    "ExecuteTime": {
     "end_time": "2017-10-02T12:30:04.040985Z",
     "start_time": "2017-10-02T12:29:44.170800Z"
    }
   },
   "outputs": [
    {
     "name": "stdout",
     "output_type": "stream",
     "text": [
      "         4212355 function calls in 19.813 seconds\n",
      "\n",
      "   Ordered by: internal time\n",
      "\n",
      "   ncalls  tottime  percall  cumtime  percall filename:lineno(function)\n",
      "        1   18.979   18.979   19.813   19.813 <ipython-input-12-c2a235d5435a>:1(age_of_eve_trials_2)\n",
      "     3321    0.585    0.000    0.585    0.000 {method 'randint' of 'mtrand.RandomState' objects}\n",
      "  4209009    0.249    0.000    0.249    0.000 {built-in method builtins.len}\n",
      "       21    0.000    0.000    0.000    0.000 {built-in method numpy.core.multiarray.zeros}\n",
      "        1    0.000    0.000   19.813   19.813 {built-in method builtins.exec}\n",
      "        1    0.000    0.000   19.813   19.813 <string>:1(<module>)\n",
      "        1    0.000    0.000    0.000    0.000 {method 'disable' of '_lsprof.Profiler' objects}\n",
      "\n",
      "\n"
     ]
    }
   ],
   "source": [
    "cProfile.run('age_of_eve_trials_2()', sort = 'tottime')"
   ]
  },
  {
   "cell_type": "markdown",
   "metadata": {},
   "source": [
    "Well, **randint** and **unique** have been dealt with, and the code is now faster. It's your turn!\n",
    "\n",
    "You may not gain that much, or maybe you'll gain a lot more than that. This does not matter: the goal is for you to develop a methodology for writing efficient code."
   ]
  },
  {
   "cell_type": "markdown",
   "metadata": {},
   "source": [
    "## Question 6 (Bonus)"
   ]
  },
  {
   "cell_type": "markdown",
   "metadata": {},
   "source": [
    "If you computed Question 1 by going forward, try to do it backward, and vice versa. Which computation is the fastest? Can you tell why?"
   ]
  },
  {
   "cell_type": "markdown",
   "metadata": {},
   "source": [
    "**Answer:**"
   ]
  },
  {
   "cell_type": "markdown",
   "metadata": {
    "slideshow": {
     "slide_type": "-"
    }
   },
   "source": [
    "# 2. The Voter Model"
   ]
  },
  {
   "cell_type": "markdown",
   "metadata": {},
   "source": [
    "We now propose another approach inspired by game theory: the Voter model. We consider an undirected, connected graph $ G = (V,E) $ with self-loops on all nodes. At time $ t=0 $, each node has a given opinion (distinct nodes can share the same opinion, so there are between 1 and $ n = |V| $ distinct opinions). At each time $ t>1 $, each node picks up a neighbor at random and adopts its opinion at time $ t-1 $. We want to study how the opinions evolve with time."
   ]
  },
  {
   "cell_type": "markdown",
   "metadata": {},
   "source": [
    "## Question 1"
   ]
  },
  {
   "cell_type": "markdown",
   "metadata": {},
   "source": [
    "Tell how the Voter model generalizes the Mitochondrial Eve model. Can you guess something about the evolution of opinions over time?"
   ]
  },
  {
   "cell_type": "markdown",
   "metadata": {},
   "source": [
    "**Answer:**"
   ]
  },
  {
   "cell_type": "markdown",
   "metadata": {},
   "source": [
    "## Question 2"
   ]
  },
  {
   "cell_type": "markdown",
   "metadata": {},
   "source": [
    "Let us do some math. Let $ P^ a_t $ a vector of size $ n $ that tells for each node the probability that it has opinion $ a $ at time $ t $: for each $i = 1,\\ldots,n$, the $i$-th component $P^a_t(i)$ of $P^a_t$ is the probability that node $i$ has opinion $a$ at time $t$. In particular, the components of $ P^a_0 $ are 1 over all nodes that have initially opinion $ a $, 0 elsewhere."
   ]
  },
  {
   "cell_type": "markdown",
   "metadata": {},
   "source": [
    "**2.1.** Use conditional probabilities to express $P^a_{t+1}$ as a function of $P^a_t$. Does it remind you of something? The answer may be yes or no depending on your background. If it is no, a course will be provided at this point."
   ]
  },
  {
   "cell_type": "markdown",
   "metadata": {},
   "source": [
    "**2.2.** Deduce the limit $P^a_\\infty$ of $P^a_t$ when $t \\to +\\infty$. To do this, you need to use the Perron-Frobenius Theorem recalled below. You can try to intuit the shape of the vector $Q$ by solving the linear system $QA = Q$ for a small value of $n$ (like $n = 3$) and then generalize you result for any value of $n$."
   ]
  },
  {
   "cell_type": "markdown",
   "metadata": {},
   "source": [
    "**Hint:** In case you have no background on Markov chains and stochastic process, you can admit the following result. Don't worry, we'll investigate this in more details later in the course and give some intuition of its meaning.\n",
    "\n",
    "** Right stochastic matrix**\n",
    "Let $A = (a_{i,j})$ be a $n\\times n$ matrix. We say that $A$ is a *right* stochastic matrix if:\n",
    "- The coefficients of $A$ are non-negative: $\\forall i, j, a_{i,j}\\geq 0$.\n",
    "- Each row sums to 1: $\\forall i, \\sum_j a_{i,j} = 1$.\n",
    "\n",
    "**Perron-Frobenius Theorem** (a variant, actually)\n",
    "If $A$ is right stochastic, irreducible and aperiodic (the last two terms will not be investigated here; just admit it is the case for the considered situation), then $A^t\\xrightarrow[t\\to \\infty]{} B$, where $B$ is the right stochastic matrix having all its rows equal to the same row vector $Q$ defined as the unique normalized solution to the equation $QA = Q$."
   ]
  },
  {
   "cell_type": "markdown",
   "metadata": {},
   "source": [
    "**Answer of 2.1.:**"
   ]
  },
  {
   "cell_type": "markdown",
   "metadata": {},
   "source": [
    "**Answer of 2.2.:**"
   ]
  },
  {
   "cell_type": "markdown",
   "metadata": {},
   "source": [
    "## Question 3"
   ]
  },
  {
   "cell_type": "markdown",
   "metadata": {},
   "source": [
    "You are a high manager from the company Lodi (Lodi is a sort of Apple). You have the budget to select 1000 customers and offer them the brand new Lodi anvil, hoping that this helps you dominate the strategic market of smart anvils against your competitors. You bought from the social network company FriendFace their database, which tells you who's friend with whom. According to the Voter model, what should you do?"
   ]
  },
  {
   "cell_type": "markdown",
   "metadata": {},
   "source": [
    "**Answer:**"
   ]
  },
  {
   "cell_type": "markdown",
   "metadata": {},
   "source": [
    "## Question 4 (bonus)"
   ]
  },
  {
   "cell_type": "markdown",
   "metadata": {},
   "source": [
    "Verify your results with simulations (for instance with some Erdös=Rényi graph and 2 opinions)."
   ]
  },
  {
   "cell_type": "markdown",
   "metadata": {},
   "source": [
    "**Answer:**"
   ]
  },
  {
   "cell_type": "markdown",
   "metadata": {},
   "source": [
    "# 3. Epidemic Live Streaming"
   ]
  },
  {
   "cell_type": "markdown",
   "metadata": {},
   "source": [
    "We complete our tour with a completely different framework: P2P Live streaming. There are $ n $ peers that want to watch a Live event. The Live stream is produced by a source that cuts it into chunks of 1 second and can deliver one chunk per second. Each peer has the capacity to deliver 1 chunk per second as well."
   ]
  },
  {
   "cell_type": "markdown",
   "metadata": {},
   "source": [
    "## Question 1"
   ]
  },
  {
   "cell_type": "markdown",
   "metadata": {},
   "source": [
    "Is it possible for all peers to receive all chunks of the stream in a reasonable time? If no, say why. If yes, propose a scheme to do that and give a bound to the diffusion delay (time between the introduction of a chunk by the source and the completion of its broadcast)."
   ]
  },
  {
   "cell_type": "markdown",
   "metadata": {},
   "source": [
    "**Answer:**"
   ]
  },
  {
   "cell_type": "markdown",
   "metadata": {},
   "source": [
    "## Question 2"
   ]
  },
  {
   "cell_type": "markdown",
   "metadata": {},
   "source": [
    "In order to limit the complexity of the diffusion, we consider the use of a fully randomize distribution scheme. Each second: the source delivers the new chunk to a random uniform peer; each peer chooses the chunk it possesses (if any) with the most recent timestamp and delivers it to a random uniform peer. This strategy is called *random peer, latest blind*.\n",
    "- Using a simulation over $ T $ seconds (recommendation: $ n = T = 1000 $, a single run is enough): display for each chunk its percentage of diffusion; display the average percentage of diffusion of a chunk as a function of its age. Comment the results.\n",
    "- Propose a value for the asymptotic eventual percentage of diffusion when $ n $ is large enough. What becomes that value if all peers can deliver $ k $ chunks per second?\n",
    "- Discuss the potential interest of such a distribution scheme."
   ]
  },
  {
   "cell_type": "markdown",
   "metadata": {},
   "source": [
    "**Answer:**"
   ]
  }
 ],
 "metadata": {
  "anaconda-cloud": {},
  "kernelspec": {
   "display_name": "Python [conda root]",
   "language": "python",
   "name": "conda-root-py"
  },
  "language_info": {
   "codemirror_mode": {
    "name": "ipython",
    "version": 3
   },
   "file_extension": ".py",
   "mimetype": "text/x-python",
   "name": "python",
   "nbconvert_exporter": "python",
   "pygments_lexer": "ipython3",
   "version": "3.5.3"
  },
  "nav_menu": {},
  "toc": {
   "colors": {
    "hover_highlight": "#DAA520",
    "running_highlight": "#FF0000",
    "selected_highlight": "#FFD700"
   },
   "moveMenuLeft": true,
   "nav_menu": {
    "height": "331px",
    "width": "252px"
   },
   "navigate_menu": true,
   "number_sections": false,
   "sideBar": true,
   "threshold": 4,
   "toc_cell": false,
   "toc_section_display": "block",
   "toc_window_display": true,
   "widenNotebook": false
  },
  "toc_position": {
   "height": "837px",
   "left": "0px",
   "right": "1692px",
   "top": "106px",
   "width": "212px"
  }
 },
 "nbformat": 4,
 "nbformat_minor": 1
}
