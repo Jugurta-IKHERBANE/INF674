{
 "cells": [
  {
   "cell_type": "markdown",
   "metadata": {},
   "source": [
    "# INF 674 S7: Markov Chains\n",
    "\n",
    "## Céline Comte & Fabien Mathieu\n",
    "\n",
    "### 2017-2018"
   ]
  },
  {
   "cell_type": "markdown",
   "metadata": {},
   "source": [
    "The objective of this practical is to make you *see* a Markov chain in action. In particular, you will observe what happens if the conditions of the Perron-Frobenius theorem are not met."
   ]
  },
  {
   "cell_type": "markdown",
   "metadata": {},
   "source": [
    "# Things to know (theoretical take-away)"
   ]
  },
  {
   "cell_type": "markdown",
   "metadata": {},
   "source": [
    "** Right stochastic matrix**\n",
    "Let $A = (a_{i,j})$ be a $n\\times n$ matrix. We say that $A$ is a *right* stochastic matrix if:\n",
    "- The coefficients of $A$ are non-negative: $\\forall i, j, a_{i,j}\\geq 0$.\n",
    "- Each row sums to 1: $\\forall i, \\sum_j a_{i,j} = 1$.\n",
    "\n",
    "\n",
    "**Homogeneous Markov chain:** A right stochastic matrix $A$ can define a *Markov Chain* that describes the evolution of a distribution over $n$ states as follows: if one is in state $i$ at step $k$ of the process, the probability to be in state $j$ at step $k+1$ is $a_{i,j}$.\n",
    "\n",
    "With this notation, the evolution of a Markov chain is easy to study: if $P_k$ is the probability distribution at step $k$ ($P_k\\geq 0, \\sum_{i}P_k[i]=1$), then we have\n",
    "\n",
    "$$P_{k+1}=P_k A.$$\n",
    "\n",
    "**Irreducibility:**  Let $A$ be a *non-negative* matrix $A$ ($\\forall i,j, A[i,j]\\geq 0$). Let $G=(V,E)$ be the oriented graph associated to $A$: $(i,j)\\in E$ if, and only if $A[i,j]>0$. The following propositions are equivalent:\n",
    "- $A$ is *irreducible*\n",
    "- $\\forall i,j, \\exists k>0, A^k[i,j]>0$\n",
    "- $G$ is *strongly connected*: $\\forall (i,j)\\in V^2$, there exists an oriented path in $G$ from $i$ to $j$.\n",
    "Intuitively, the irreducibility property indicates that starting from any state, any state can be reached with a positive (e.g. >0) probability after some steps.\n",
    "\n",
    "**Aperiodicity:** (*from wikipedia*) For an index $i$, the period of $i$ is the greatest common divisor of all natural numbers $k$ such that $A^k[i,i]>0$. When $A$ is irreducible, the period of every index is the same and is called the period of $A$. \n",
    "\n",
    "$A$ is said *aperiodic* if the period of each index is 1.\n",
    "\n",
    "Intuitively, a period $k>1$ indicates that the length of any cycle must be a multiple of $k$.\n",
    "\n",
    "**Perron-Frobenius Theorem** (a variant, actually)**:**\n",
    "If $A$ is right stochastic, irreducible and aperiodic, then $A^k\\xrightarrow[k\\to \\infty]{} B$, where $B$ is the right stochastic matrix having all its rows equal to the same row vector $Q$ defined as the unique normalized solution to the equation $QA = Q$.\n",
    "\n",
    "**Interpretation:** When the condition of the Perron-Frobenius theorem are met, the process will eventually converge to a unique distribution, which does not depend of its initial state, which is *forgotten*."
   ]
  },
  {
   "cell_type": "markdown",
   "metadata": {},
   "source": [
    "# Markov chains animations "
   ]
  },
  {
   "cell_type": "markdown",
   "metadata": {},
   "source": [
    "To start with, a small experiment that plays with the assumptions of Perron-Frobenius theorem.\n",
    "\n",
    "Consider the following game: you have a circular game board made of $ n = 36 $ squares numbered from $ 0 $ to $ 35 $. At (discrete) turn $ t=0 $, a player stands on square $ 0 $. Between two turns, the player moves of a certain number of squares. Remember that the board is circular: if the player is in square $35$ and moves one square forward, she lands in square $0$. We propose to visualize the evolution of the (probabilistic) position of the player on the board."
   ]
  },
  {
   "cell_type": "markdown",
   "metadata": {},
   "source": [
    "We give you the code to visualize the game where at each turn, the player moves one square forward."
   ]
  },
  {
   "cell_type": "markdown",
   "metadata": {
    "collapsed": true
   },
   "source": [
    "First, evaluate the following cells. Note that you should install ffmpeg if it is not available in your system (https://ffmpeg.org/ ). Linux people may need to install the package ``libav-tools``.\n",
    "If you are on a TPT machine, then ``ffmpeg`` is not available and you need to use the writer ``avconv`` instead."
   ]
  },
  {
   "cell_type": "code",
   "execution_count": 1,
   "metadata": {
    "ExecuteTime": {
     "end_time": "2017-11-13T10:10:03.774952Z",
     "start_time": "2017-11-13T10:10:01.404664Z"
    }
   },
   "outputs": [
    {
     "name": "stdout",
     "output_type": "stream",
     "text": [
      "Populating the interactive namespace from numpy and matplotlib\n"
     ]
    }
   ],
   "source": [
    "%pylab inline"
   ]
  },
  {
   "cell_type": "code",
   "execution_count": 2,
   "metadata": {
    "ExecuteTime": {
     "end_time": "2017-11-13T10:10:04.101983Z",
     "start_time": "2017-11-13T10:10:03.777932Z"
    },
    "collapsed": true
   },
   "outputs": [],
   "source": [
    "from matplotlib import animation, rc\n",
    "from IPython.display import HTML\n",
    "\n",
    "# use writer = 'avconv' on TPT computers\n",
    "rc('animation', html='html5', writer = 'ffmpeg')\n",
    "\n",
    "# xkcd()\n",
    "\n",
    "n = 36"
   ]
  },
  {
   "cell_type": "markdown",
   "metadata": {},
   "source": [
    "Remark: uncomment the use of xkcd() if you want to pimp your animations a little bit."
   ]
  },
  {
   "cell_type": "markdown",
   "metadata": {},
   "source": [
    "The following function will be used to display the evolution of a distribution. It takes two arguments:\n",
    "- ``next_step`` is a function that takes a distribution as input and returns the resulting distribution after one step of the Markov process.\n",
    "- ``k_max`` indicates the number of steps you want to watch."
   ]
  },
  {
   "cell_type": "code",
   "execution_count": 3,
   "metadata": {
    "ExecuteTime": {
     "end_time": "2017-11-13T10:10:04.134843Z",
     "start_time": "2017-11-13T10:10:04.105740Z"
    },
    "collapsed": true
   },
   "outputs": [],
   "source": [
    "def evolution(next_step, k_max):\n",
    "    # Turn interactive plotting off\n",
    "    fig, ax = subplots()\n",
    "    # Initiate probability distribution: the position of the player is known.\n",
    "    P = zeros(n)\n",
    "    P[0] = 1\n",
    "    # Display probability\n",
    "    pbar = ax.bar(range(n),P,1)\n",
    "    xlim([0,n])\n",
    "    #Init only required for blitting to give a clean slate.\n",
    "    def init():\n",
    "        for rect, y in zip(pbar, P):\n",
    "            rect.set_height(y)        \n",
    "        return pbar\n",
    "    def animate(i):\n",
    "        P[:] = next_step(P) # Update the values using the next_step function\n",
    "        for rect, y in zip(pbar, P):\n",
    "            rect.set_height(y)        \n",
    "        return pbar\n",
    "    ani = animation.FuncAnimation(fig, animate, frames = k_max, init_func=init,\n",
    "    interval=50, blit=True)\n",
    "    return ani"
   ]
  },
  {
   "cell_type": "markdown",
   "metadata": {},
   "source": [
    "The rule for the toy example is to move one case forward. This can be easily done with the function ``roll`` from numpy package."
   ]
  },
  {
   "cell_type": "code",
   "execution_count": 4,
   "metadata": {
    "ExecuteTime": {
     "end_time": "2017-11-13T10:10:04.149859Z",
     "start_time": "2017-11-13T10:10:04.138827Z"
    },
    "collapsed": true
   },
   "outputs": [],
   "source": [
    "def next_step(P):\n",
    "    # Roll, baby!\n",
    "    return roll(P, 1)"
   ]
  },
  {
   "cell_type": "markdown",
   "metadata": {},
   "source": [
    "We now call the function ``evolution``. The ``%%capture`` command hides a static picture that would be shown otherwise."
   ]
  },
  {
   "cell_type": "code",
   "execution_count": 5,
   "metadata": {
    "ExecuteTime": {
     "end_time": "2017-11-13T10:10:04.573984Z",
     "start_time": "2017-11-13T10:10:04.152865Z"
    },
    "collapsed": true
   },
   "outputs": [],
   "source": [
    "%%capture\n",
    "ani = evolution(next_step,180)"
   ]
  },
  {
   "cell_type": "markdown",
   "metadata": {},
   "source": [
    "And... Showtime (can take a few seconds to initiate, depending on the ``tmax`` you set)"
   ]
  },
  {
   "cell_type": "code",
   "execution_count": 6,
   "metadata": {
    "ExecuteTime": {
     "end_time": "2017-11-13T10:10:12.658880Z",
     "start_time": "2017-11-13T10:10:04.576994Z"
    }
   },
   "outputs": [
    {
     "data": {
      "text/html": [
       "<video width=\"432\" height=\"288\" controls autoplay loop>\n",
       "  <source type=\"video/mp4\" src=\"data:video/mp4;base64,AAAAHGZ0eXBNNFYgAAACAGlzb21pc28yYXZjMQAAAAhmcmVlAABEMG1kYXQAAAKuBgX//6rcRem9\n",
       "5tlIt5Ys2CDZI+7veDI2NCAtIGNvcmUgMTUyIHIyODUxIGJhMjQ4OTkgLSBILjI2NC9NUEVHLTQg\n",
       "QVZDIGNvZGVjIC0gQ29weWxlZnQgMjAwMy0yMDE3IC0gaHR0cDovL3d3dy52aWRlb2xhbi5vcmcv\n",
       "eDI2NC5odG1sIC0gb3B0aW9uczogY2FiYWM9MSByZWY9MyBkZWJsb2NrPTE6MDowIGFuYWx5c2U9\n",
       "MHgzOjB4MTEzIG1lPWhleCBzdWJtZT03IHBzeT0xIHBzeV9yZD0xLjAwOjAuMDAgbWl4ZWRfcmVm\n",
       "PTEgbWVfcmFuZ2U9MTYgY2hyb21hX21lPTEgdHJlbGxpcz0xIDh4OGRjdD0xIGNxbT0wIGRlYWR6\n",
       "b25lPTIxLDExIGZhc3RfcHNraXA9MSBjaHJvbWFfcXBfb2Zmc2V0PS0yIHRocmVhZHM9NiBsb29r\n",
       "YWhlYWRfdGhyZWFkcz0xIHNsaWNlZF90aHJlYWRzPTAgbnI9MCBkZWNpbWF0ZT0xIGludGVybGFj\n",
       "ZWQ9MCBibHVyYXlfY29tcGF0PTAgY29uc3RyYWluZWRfaW50cmE9MCBiZnJhbWVzPTMgYl9weXJh\n",
       "bWlkPTIgYl9hZGFwdD0xIGJfYmlhcz0wIGRpcmVjdD0xIHdlaWdodGI9MSBvcGVuX2dvcD0wIHdl\n",
       "aWdodHA9MiBrZXlpbnQ9MjUwIGtleWludF9taW49MjAgc2NlbmVjdXQ9NDAgaW50cmFfcmVmcmVz\n",
       "aD0wIHJjX2xvb2thaGVhZD00MCByYz1jcmYgbWJ0cmVlPTEgY3JmPTIzLjAgcWNvbXA9MC42MCBx\n",
       "cG1pbj0wIHFwbWF4PTY5IHFwc3RlcD00IGlwX3JhdGlvPTEuNDAgYXE9MToxLjAwAIAAAAeoZYiE\n",
       "ADf//vbw/gU2O5jQlxHN6J0zH78VuLo0N73OAAADAAA33OZE/sqTBubAAALzSvoOinswENTKp6wU\n",
       "AGX6vAf1Hs93Bp+3I4FBzCmDb8a/CdzfQ35xQpw5e4NqU+U1uUauEYqn3taVXtAheHILEHfVxKLM\n",
       "jp4wWRUyhS0nt19XgwJUCQa88XqWbKJrRWuOOCa+FLQrOTxVF9n4QH+137+ZxbNT2WiwSPQK2qSF\n",
       "2y/DvAE8ue+vgvL6SA8OU892hPBy8BUURB6sG8u3v27ztPLWLXL82gsBGUWNoMCvQP8PIsrjLG54\n",
       "mEDrIFAuvp9rHTm/2Li6/s6mbe4PnEUiqBJ0A9bwqn+/xb6M8wB8gACEKuowRTT/UcI6BjdypKEF\n",
       "qvpt/Uavlwep8+P81ev/wbuhIVnYD75stCYLMoIOsgqYW9Vnhq6lU6KmVXFa6YfDkh8jAi5/SLJj\n",
       "65Nr8bAYesuE9HZyV/j5poxHSw8BT8QByIDC4mDOjkjqb36fobkVVxla/LVm5wQFFsmgHoCGMdwO\n",
       "yi9BiF+1BFzRtJw+wO1vAMsa/M7JjyTnxfTGT7kSImXsWqvgptFa4P5TvnzsgwFZx65eHnW1Ub67\n",
       "et4+l5feYcWce1Ged/GiATDBGxBnOcH/yRSHvpUbhGWrf89zuliTfvmZu76NGRnKaljbghBDpxAM\n",
       "bGNHpNYVx2IH1tgu8B5B9jcFd+xFBorc8UDFPOUgkvzt3bTAUO3L6KILa6L4k6o4SpcRAUI4gCd6\n",
       "fWA0KOyWBf39Cn7rw95/YoVhqvBXMeMP4R3RtS3HfYS3jKkwN/ja7WCz+cM8vSC+ifWxc+Avkurq\n",
       "rtp0n3BMQ82QdeflMH0wCyUTs+84hlOEd8PrbjAQ04LYgUxz3xtLuGU/oh94J4bTMnjs4CZC/tSD\n",
       "lPPJbwZkKCDIFzFg7/3+lxzNn2BBfYsCt5b2EHrgTs8CmIpFctc+IiEjxgYjBDSjyoFZiLsniTCF\n",
       "Y98ua7OXddIWKaWd3F6TqBXVnJWV0Mdq5Nk3PR1kGKq4vp+K4az7gWMfN7pohWzE/J8DvkjKFHp5\n",
       "0rg4lM0Sp8PwGLFsI5enn0uvMQdgH3HimiOiZh6QZ8rE6OX3UAEWs9h8d5UWpO/FYRvDjkQBEdAW\n",
       "pbslK4A0/Dqew18CA6/JuVWVXQBSwoCV8ujyxJsyNycNuzdDMADpr52ebGTS2zAd5pyCHLJ+d+mg\n",
       "eFSzXPYf8lxtpNzq0JHoP80NGrVraaA4fr9FcTck75z8kb1uhnfieII5n1S3UQ+MM1////WHyQbS\n",
       "L+HLMewWWCjsVUlb+Y1I8P6W5Ae2IEWyHxphuidF7HDLo1oPsuoq4MVIJiQCNRIyHFdSfvtJMTgy\n",
       "SZcclgLO5fJIFbUpUW7sQbTDDrXCR/Q3N/8+HvJUKNPETStAoQNcl1hFnkn2gKUqGpLPXpNYBkDe\n",
       "3I8EO/3Dor4CMa+dCLA+IwLwyVJRDqPvnVSiYgwEr3cDZ/ChEfA8V4iAX5bZDJHvE+A/38wi8omi\n",
       "QNJzLLu/3Vn849c1Us4CH5Ir57G//6G+9fJ3cgox6sh4BEXNxgaFdZrWhndLI3EjzMxnUBzmSvX2\n",
       "pI+2CXAeVsvW7z/o9svithdYejZPvk7ntQaKvzH7XxhKgu3DKJStaJCBQLfXmVkjETvy/DFLnc3B\n",
       "mOD/VgaWYGOwtF0kKmq6C2+gm9UEEp7KB7X2gfbJaJNQIxIva0GWte5kwNw9tcnTQDD6lKEqVqYd\n",
       "uDbNxOWD4rpS5Il8yJ1+hTTypiCE3BThZ4rY7EP2XOcZxGuZi633W/7mYNtWhfVnG/jcFbNDj0Jn\n",
       "xI1olIYPITiSfWAuDW+7YXDVXOPhSmsUAN9q+XSQ6Owq25cDOwwQZtDTJXKFRFGtv2rTiVM74Hdu\n",
       "VqgMJ8EJvT53ibPXstCRzNqMIzdUnbF4Z+DxPWH0XM3XjLc+ULzxOax2VtYR6O4b/1SMRf8nWjAn\n",
       "H9hIL7qqs0sv6C2tuAIRuiWz2Ztb0nH///EPAaBCGA0nG4LxHB3PZ4O6gz4dFF4z45qGBcXEc/L9\n",
       "NKSek0/mMnML7uxy0+61x5hH0WuIe5O4H/OiRk366L5CRY5stmQ0X6JGKKnMeXXQdjLnHUGlkEpm\n",
       "PoyRQiJ5oTOr5LWT2/LaYjw9EOqGtVBnpZSV45TNWSBiw8Y8amCqm6OpOslN5o+sKfxqJa0XgLIb\n",
       "JnhdbWQnG83xczmVIjvUVLRQ7zuFaFICovu2JCHQzDeqI1Qw51ifgHB3eDAleI0mjmZ0fMiVq4VP\n",
       "VjGu7ZJjHX488qmhaXA3l7YCYdSyLWbDWRVTaTp0bBufXhCRtx52JafoiIA+CJsHhov0Vy3lAq5J\n",
       "CxTbkLKTuVX/XUMMkUkDYc8jWfDFraybeF3m8wtaEMJJyu3YEmrxdzO/M1NYQmB9FDBT07Nx313q\n",
       "RejfS/z4GnV5i+MsQ2jsNTDGIcaxZI0welE5cyxgg6ZLde9f7ymvKHAhQZvmw7BISDUzEjRaWu+R\n",
       "R3Zc2w3WkU3SeDujRJA+Tda0eBoiC8R/krM0xgIE3GB2MOjyWfr432YbJ9ruFkcT39bc08AtcQYd\n",
       "PCGLcKgaw6xTagj2mTQo3koxYQAAAZdBmiFsQ3/+p4QCA/Ch5tCAnwLNZzgCdK7eIj3/F+5HKA+/\n",
       "GLo0FidDubyqTwxvm2/bb/1k69Eatxa7QSw+h5n0z4MTnt+9bzax4x11RamUdc8QnPBv9MmhXwiL\n",
       "CxnsvYu5HnSoEF9C72lD6wzx1yKj0KJP1LZ1MI4Mzl6jgx7ulBw0YKVKQS4ltpr8Vc0ndwQobYVo\n",
       "LIfFgZH/UtBA9i5fi1O6VKFyA5zJQNCuEjUGPHIRAQATCR76c7ZrziVLdriOeh6T7/8xAU93QLJP\n",
       "P30EtWK6ivPGdnYFvP/ZiZZgsdVs70j7I1Jdgky0TU+cRHaALwbLpRXvnosiBT1umJA3unjiSeYZ\n",
       "8gD8fbYs211wbDWo4Rsmfe2cIVCQJiM71MUiGQZsA2iacRSgrIbDLhiBmn3y9Rh/6Qtc4WqlRlJE\n",
       "elSwR24gQbkaXh4E0MH9vekXKHsua9NdXMzVniFI9QGhCfDzAbcMKAF3pn/xXj7MQzi/jC0zxYdn\n",
       "4YL51Cw6fhYvuGnCwwn7ygBBxuibV5CrWJXcx4822QAAAEFBmkI8IZMphDf//qeEH/kat4FSSxSR\n",
       "jpSWMfEI83fCzN8yTIgl8AKg/jzzG94sqpt8X1T4alsPL2JxnwX86g8wKQAAADlBmmNJ4Q8mUwIb\n",
       "//6nhAHx6wudz/sT7wiOroVhWeSt+ogGKQzwCbF04ejPW+NaxMgbX0zgJ9A3OzYAAABRQZqESeEP\n",
       "JlMCG//+p4QB1q197b+aX4eTpvNozgLHHyb/T58SPEtK4k/kfoycGJEaWjlNGAEqjgPfAANG95kz\n",
       "7HETXWakw9u+0fv57FXuh2JBAAAANUGapUnhDyZTAhv//qeEAcEN7RURpz75injWT+MMjjt+6CbQ\n",
       "/jjWa2oS2/ATXKlv5mmcF9n5AAAAQEGaxknhDyZTAhv//qeEAcG//eTR6wGb0eTwUgd5rlNE6+Lk\n",
       "AyPEtK4k/kfoycGJEaWjlO8/J6sc6EOqdOuP/ZMAAAA3QZrnSeEPJlMCG//+p4QBrgoF3GRE4WZc\n",
       "fIYP95RF9euUMMjNsFITAzQ+2igjxsnr4pVURfp9MQAAAEBBmwhJ4Q8mUwIb//6nhAGy8feCGM0M\n",
       "2emdBmvcNDHY8iKTiOH6H2Nhp7sBpkgEcne3+BaYhWh0eD0tnr4pVgMYAAAAokGbKknhDyZTBRE8\n",
       "N//+p4QBniGV0f8FKfgBuc+h9XaM3Lnfa2zTY3Cvjq5egmNW199x810EYvGqDC9ZsONTV6m6bSd8\n",
       "YqD1/C6/LEq24LmvRccmW1Igq2U+ZpBKLOb1T7EwlAzdQhiYH2kcZV1OqF3/aWaybbzrzoEflHRm\n",
       "3qf3OgA242ZXKk2i95nSXnUrxw+tmRlKYzPZjf7GdQPBYfERYAAAAGABn0lqQr8BP6TLWQeHI9SH\n",
       "IAFgE1PeBWfPw529vSt9z3hseXXMZ7vYZz5nBMGJCEWkK28wu59mpiJWnfuiN+wH4sDY6aFDLwv7\n",
       "8Amh1Ndb7yE+QMYpeGpZJGro2bR0RMEAAABoQZtLSeEPJlMCG//+p4QBjihz+uJlKZH2gATmKVAZ\n",
       "gjnJPL8k4s1gNEiAxK4S4dI8E5AFsMj2hlXm6Ohy6ucbKQCUPEKNavOCXWRS5qLp0XVnivHfi+Wx\n",
       "vj1aeCYLq+RGyDgQYVWcYkgAAABMQZtsSeEPJlMCG//+p4QBf7NWlLFgNnxFOoctseomPzZE8Lsl\n",
       "mrbISlPnXTR47zfSs+N0AG1ThM6SlnSnNqi0kX3BJNOmRJUNrRkkWQAAAExBm41J4Q8mUwIb//6n\n",
       "hAF/l7qdXUEKIGCrNdDMNv9orWQKWG3a5x4EJIjcwZTTXCWz6GmE5yn43AOiUQcUyPO6H6ra/uBH\n",
       "lMbdJ6LBAAAAQkGbrknhDyZTAhv//qeEAXHezhsOvHNgk5bpMytr5n4guC5IitFk5PmMdn4AObQG\n",
       "TPscRGVM8RE1b9D5snr4pV1rQQAAAENBm89J4Q8mUwIb//6nhAFzB5qJamzjZNbKVwHdPZpvYZoS\n",
       "tIw29T8DVI+0aH6Y/Kigp8QHNABzaA1GuHD5XDkY4/uvAAAAN0Gb8EnhDyZTAhv//qeEAWYG9oQW\n",
       "VXYu7RLqQ42pStHDK0KH5bBd0WlxXE/aJnBNMD5q2C9VumMAAABFQZoRSeEPJlMCG//+p4QBaPgG\n",
       "z7zIG1Tczty1X5U7bVX/v28pESLoXIkcaVvi9H373HCcc3ygcsHEfupXaz/sSiyPy7sQAAAAQEGa\n",
       "MknhDyZTAhv//qeEAVtf96OkbnORZh3rgR03Zr3FA815hAb7+sI5cTLTLdGVTHgsqVDVNOdxgCfi\n",
       "jOP5t0kAAAA/QZpTSeEPJlMCG//+p4QBUAb2igqFge8UZO95LY2aaRhbVF5IzPjvtndJF5hz067A\n",
       "AXYPmAMBCmy4PF6n8yifAAAATEGadEnhDyZTAhv//qeEAVEXmolzHOnk2FJYVxgQYLWarGLPSmaV\n",
       "zrfqJG5kZYEILY8ELDjV0ZpicOgAvmtZrtFHiu2ifhXZACj2tEsAAAA+QZqVSeEPJlMCG//+p4QB\n",
       "RXTxh6jUki7k0RSDgKOJFu52hgEYX+RcgrvwD7hA6xL6LsSp2OMNacvFOQCnmnEAAABKQZq2SeEP\n",
       "JlMCG//+p4QBR/gG61JIMFafOhDEPE4/7lnLuArvaL4VqKRpsL9JU+EEWfJ7pKWjBqdyAQx0YdlV\n",
       "Qr79b1CTeMcfvnAAAABUQZrXSeEPJlMCG//+p4QBPFs3WWPuU8mz4iACzlgGiRAfCsfYR0jwdIhc\n",
       "2VhSgiWkeKEWlZjB+QSHdzkdY/sqyCpqcsIdCVWQjOUN57dDaG4sXqS3AAAAQ0Ga+EnhDyZTAhv/\n",
       "/qeEATQexScpUIWQUeM3w4CjiRbudoYBGF/kXIK78AGDjgBO3vM5XOWbZ2vJp5mUUcN72QDlEv0A\n",
       "AABEQZsZSeEPJlMCG//+p4QBNfpZP56AMA6D+/o/0WpgSooy2qHR1aN41gncaIB3Z3vSCXtmBWve\n",
       "S1RvwANfwyob8ZpRnLkAAAA7QZs7SeEPJlMFETw3//6nhAEsWzdaHq5gosbiSM3QdmrIBmab0pj7\n",
       "2UwP+j5e86OWjIZSKhFo0lzbAKkAAAA6AZ9aakK/APJzJXzB/Sa/EK3vuXwDdK9KHgzVzEVTHupZ\n",
       "TbXM6TagcqDfRzZEv0Pd7+09As/yVuRNUAAAAC5Bm1xJ4Q8mUwIb//6nhAEkHsUnKVBft1aoHK6r\n",
       "AQ6F3jzdE8EmmNBpxB8ttaenAAAAUkGbfUnhDyZTAhv//qeEASRbN1lPE5UdS5NdkD4IWgA49x7v\n",
       "2Zk59ddiIeqhiZuEx+dnV8DJYp+dtg4fbjFw9qT7/bvxy1ARqNcOHyuE5rq6pnkAAAA7QZueSeEP\n",
       "JlMCG//+p4QBHFs4hwkB3fJujSxte91qTeKB5rzCA339YRy4mWmW6MqmPBZUp3WX/M6U9VwAAAAm\n",
       "QZu/SeEPJlMCG//+p4QBFB7FJylQYGW2SEnaEBC5swif6+Ad3BsAAAA7QZvASeEPJlMCG//+p4QB\n",
       "FM1X/EJAzBRYk0rgQIoC/oQs9KZpUXN+okbmRlgIgtjwSQOPXQN+zb3K6DEAAAAsQZvhSeEPJlMC\n",
       "G//+p4QBDB7U9s6jBPvVpoYRKbyj9oTgJUyJ7+nOKy+EvdgAAAC8QZoDSeEPJlMFETw3//6nhAIE\n",
       "wX4Ace5LttDeWkmpX2FhMogf/8ygcTGNJIr5KcCr1gGgwx4hFfh0QW9NLa8AUZA+KJv/XNuWsXOs\n",
       "DpBol9yxzaW0sZGVqVBS4BlSh34RUvxKsEdF+rvG2d2sXfo/IxFL8qKm4gZUUuxepofSO1ANvD7e\n",
       "Oa1vnss8/b0B8IRmVjpLWli/HWZaxPxa+mI3hxRX+QyVZg0dZhAbb2LUJPtykXk2cjW0eJoYeQkA\n",
       "AABBAZ4iakK/AbF1KMu8fUUS8f0Ayv4ecoWaFB4SpWHoOeKrkSVAusD67Uh2RryBZxfGmgYADaC6\n",
       "HmWh7ClvD5WxkFIAAADsQZokSeEPJlMCG//+p4QDJcjZgQmCADooDOV78+TjCXkCkVW3zkv9+Qzy\n",
       "APZMncBNjcLBV0KAAYnaHuQTijIDnwskGPwkYfIABnguPaWCUs7OP4YCmzoYMLODyn99bwK5TT1w\n",
       "dWwrRaultsS6JOokMg9LkASYpzUS6TpDhlXSy5LNgd7zHy5NZT4GJk/aTN2NxKfuJ1BlFE4nzNpv\n",
       "pCGYmJX5eFH3WDirqktP0E3fLBH8s2nDyT2pU4w3zKgaFn9NiRD3qhvX8/AlgNvc/gIt8CxM2256\n",
       "KPln/IwD9AWwX6wCm/7PuWqNxisiEIEAAABjQZpFSeEPJlMCG//+p4QCBW0rPJYBAATtn6B8Fbrg\n",
       "94Rd+IMQG2wGF9i1jr3nMl86DNfmBmuzZRC0zs2OGi+f4sgntk9nnrP+4BLBDI0GALwfyVRgdCB/\n",
       "DAV18Tu6MARBDJ69AAAASkGaZknhDyZTAhv//qeEAeu9nD3xC1Z6W91UG2i47sVBYe3ntXwMN+ae\n",
       "BzJZkTqOU5mFIPn6aq5EkN7XonH0Vaj2q9dtLSP3vsFxAAAAQUGah0nhDyZTAhv//qeEAfHrC53P\n",
       "+xPvCI6uh6ynSHlf2N1I9kqIWaQxQQsMT/JjR5jZBJCa47tkHQ3lAAGjqs2BAAAAUkGaqEnhDyZT\n",
       "Ahv//qeEAdatZE42QAAszakpVM9GfC0TSDTLaA2h/p2dt3aSmcAAA4kSRLDME05NtgC9DaQ264Qt\n",
       "PR7a6kEajW4qcD+vkR8vVHgAAAA5QZrJSeEPJlMCG//+p4QVnI1x32KUTF0YT3vLNHlwTicrI1si\n",
       "klcV6G0t0KSZVLzSxPhVUfuNjqLAAAAASEGa6knhDyZTAhv//qeEAcG//QjVhnrPSdVJLiJ5oC7l\n",
       "K1UVs513LME75v6zER8hDoXds4+9s3Lr+rdCJLJBD2VHoPfDiWwS8QAAADxBmwtJ4Q8mUwIb//6n\n",
       "hAGuCgXOSksagd0rm+7PkTBXbSSJsB1wW5VPOaGv+ruTvNLmN0U4eZQ7Am/ejrAAAABDQZssSeEP\n",
       "JlMCG//+p4QBsvH3ghjNDNnpnQdmAALtDTv8Y0Ncju5br0T/r8XdpgCWcYMLRQyJpwrr9pjGgtOP\n",
       "HV+C7gAAAIRBm05J4Q8mUwURPDf//qeEAZ4hldH/BSn4AbnPofV2jNy532ts02Nwr46uXoJjVtff\n",
       "cfNdBGLxqgwvWbB4EJEJ2m0nfGKg9fwuvywwjhxcXW00cTUeqZ1WIfltsASlJC8SezrCIOr596rp\n",
       "J8p7KkQI86cpRYFE59SrK4Bj04j1zFlvtYEAAABrAZ9takK/AT+ky1kHhyPUhyABYQ0VrMC78NGH\n",
       "eZbevYjQGiBseXTBXRBQ5YZ8CAFX1BmfxUv+M4ZJhry/ocYGdTFt9p431O9TcYPbi8FoKgB7o4gp\n",
       "KIgDt/+JmVR2IYo0GgrXfc4Uhj0qtoEAAABZQZtvSeEPJlMCG//+p4QBjihz+uJlKZH2gATmKVAZ\n",
       "gjnJPL8k4s1gNEiAxK4S4dI8E5AFsMj2hlXm6Ohy6ucbKQCUPEKNavU6NFMPki3sd8Tj+r+5fNy0\n",
       "yqkAAAA9QZuQSeEPJlMCG//+p4QBf7NWlLFgNnxFOoctseomPzZE8LslmrbISlPnXTR474/Sxh5X\n",
       "VmkuRZBk8MDLQAAAAENBm7FJ4Q8mUwIb//6nhAF/l7qdXUEKIGCrNdDMNv9orWQKWG3a5x4EJIjc\n",
       "wZTTXCWz6GmE5yn43AOiUQcUyPO6H4ieAAAAOkGb0knhDyZTAhv//qeEAXHezh920/vii1Qd84H8\n",
       "jjt+6CbQ/jjWa2oOjFGgAdmgNRrhw+VwnNeHuuEAAABEQZvzSeEPJlMCG//+p4QBcweaiWps42TW\n",
       "ylcB3T2ab2GaErSMNvU/A1SPtGh+mPyooLmoCw6AC+a1pO9jdIIDOw4e64AAAAA9QZoUSeEPJlMC\n",
       "G//+p4QBZgb2hBZcMAA2aKGwIrJYsZ2xowhiPTiR+qs2fanWJlct9P6WNkCaYHzTaG3T6AAAAEpB\n",
       "mjVJ4Q8mUwIb//6nhAfvI12u2Sv95j2vcIk3beDE2lenDaeE1sikUAlJKk9yyErzGq76vMolSzKj\n",
       "bC10gOdyp9j00GDPcrO25wAAADhBmlZJ4Q8mUwIb//6nhAFbX/ejpG5zkWYd64EdN2a9xQPNeYQG\n",
       "+/rCOXEy0y3RlUx4LKlQ1TJLYAAAADxBmndJ4Q8mUwIb//6nhAFQBvaKCoWB7xRk73ktjZppGFtU\n",
       "XkjM+O+2d0kXmHPTrsABdg+X+gf1iy87fEEAAABHQZqYSeEPJlMCG//+p4QBUReaiXMc6eTYUlhX\n",
       "GBBgtZqsYs9KZpXOt+okbmRlgQgtjwQsONXRmmJw6AC+a1mu0UeK7aJ+PfEAAAAzQZq5SeEPJlMC\n",
       "G//+p4QBRXTxh6jUki7k0RSDgKOJFu52hgEYX+RcgrvwD7hA6xLk4Y82AAAARkGa2knhDyZTAhv/\n",
       "/qeEAUf4ButSSDBWnzoQxDxOP+5Zy7gK72i+FaikabC/SVPhBFnye6SlowancgEMdGHZOhYPd1mT\n",
       "ueEAAABVQZr7SeEPJlMCG//+p4QBPFtC7KKNNPy5OModDAAJLDWzsfTLyA+EydGzEN9oX6ZcYkwx\n",
       "QlUrMQP0W5q2gTrLtltoF5EzZ/ASNka5Lumkt9UNobrVeAAAAD1BmxxJ4Q8mUwIb//6nhAE0HsUn\n",
       "KVCFkFHjN8OAo4kW7naGARhf5FyCu/ABg44ATt7zOVzlm2dry9N5vbKZAAAAR0GbPUnhDyZTAhv/\n",
       "/qeEATX6WT+egDAOg/v6P9FqYEqKMtqh0dWjeNYJ3GiAd2d70gnGZoExpIG92ijACwOajH3jASRw\n",
       "5X3tAAAAR0GbX0nhDyZTBRE8N//+p4QBLFs3Wh6uYKLG4kjN0HZqyAZmm9KY+9lMD/o+XvOjloyG\n",
       "Usf/JCd+oAL5rWa/Oy/HJuov+G7AAAAAPAGffmpCvwDycyV8wf0mvxCt77lyOpBbroqwaBOpIfFV\n",
       "jxQTmXIW+5xl+TKUMIDzlfC/oTLHhWbgs+9Y2gAAAERBm2BJ4Q8mUwIb//6nhAEkHsUnKrcANUIe\n",
       "KOGC3OOSazUs+nMzoqfdas5m7IekLHvlms3YMq9ZwMb+BFEgYYbQzmFrCQAAAE5Bm4FJ4Q8mUwIb\n",
       "//6nhAPvsqHbLLeD9Z9i1h0BxG20Vy9TqHTx20jTNMGjCt3davVVv9YpScIhfyjr+t9QAX17yv14\n",
       "hGOIuZroZgRxn04AAABCQZuiSeEPJlMCG//+p4QBHFtEL4bYPsALJsfCIwuBA5sC/jHs9AZpYWzP\n",
       "xB7eRlZMgiSnuQMVXoEAVFCULG6A1iTxAAAAJ0Gbw0nhDyZTAhv//qeEARQexScpUGBltkhJ2hAQ\n",
       "ubMIn+yCixb9sAAAAD5Bm+RJ4Q8mUwIb//6nhAEUzVf8QkDMFFiTSuBAigL+hCz0pmlRc36iRuZG\n",
       "WAiC2PBJA49dAlApY1dxUWQbEQAAADBBmgVJ4Q8mUwIb//6nhAHv056v3/dPRrvM5MnRhiKYJ/Tu\n",
       "/N3Jg0aVPY3do2zhbYEAAAC8QZonSeEPJlMFETw3//6nhAIEwX4Ace5LttDeWkmpX2FhMogf/8yg\n",
       "cTGNJIr5KcCr1gFyDKgL6kaGBhbs5vac3GI1az9XiHoUXLU0bbG4JyPq/4RbSxkZWpUFLgGVKHfc\n",
       "jTd1hyvtN+rvO2d2sXfo/IxFL8qKnDc44ceyU0PpHagG3h9vHNa3evU1w3eKeDtj2x0lrSxfjrMt\n",
       "Yn4tfCEbw4or/gZKswaOswgNt7FqEn25eJRYHJBKTu9yHkMAAABTAZ5GakK/AWywHxfN3/6yonuy\n",
       "CAAiDCpDQPiZ+lqdPqS4k5jqyJZpIjCqDj2qUe9EMf+xhfrbhCj2PkR4bNq3T/GKyKE7EoibIdsP\n",
       "RukZ8lUWx1UAAADnQZpISeEPJlMCG//+p4QCBUKBAB0UBnK9+fJxhLyBSKrb5yX+/IZ5AHsmTuAm\n",
       "xuFgq79+r4fmehDOTHfHIAu51gKpOelmIy4Wn8k+h4m55DkVzwhLlyyL5ZljuBXKhBqj6vuvRau5\n",
       "22saG00TXb7KJ1MSvfRphE5p/7y948woWRIf0CenPm0wSCGdiB/16tqa3nkdueDSjQ6HrVZftiMu\n",
       "N+cpH/xx9ZwQ5xNknpmhd0jtyEXiN0/Zqdses4D7l/56UZ85fwJYDLsiV/JlATqLIhzIgDEZk22O\n",
       "sPPLj26SSPMWbBw6MNCAAAAATkGaaUnhDyZTAhv//qeEAgVtGo3x7kABO2foHwVuuD3hF35uIlar\n",
       "/eTD+cnY2aP2Anc1pIJSdMGf81mv/oVQqzFZRh2dTyoxjkrhBAPweAAAAEdBmopJ4Q8mUwIb//6n\n",
       "hAHrvZw98QtWelvdTDw3lV+y3Pj8fr3zpyQnASKzkJOZW2ptAr8/mIrigiEI/YHeJBoVsw4N1zOF\n",
       "gQAAADpBmqtJ4Q8mUwIb//6nhAHx6wudz/sT7raiS6FiWvplpe6lKzo3ESEbUk326BvwZb/Wktdd\n",
       "1y01VuQwAAAAYEGazEnhDyZTAhv//qeEAdatZE42QAAszakpVM9GfbOmoYNOtxUhCIJ22duu+lhZ\n",
       "Z4qAsrB0gbKy+/yaUagADMS8yjYYTp13ZoDdcl+hFN0he5mvEe3eAP389jT4+bMY4AAAADZBmu1J\n",
       "4Q8mUwIb//6nhBWcjXHfYpDfPjiTEdWcyx2JcASpMF4Uhuuyczzm+ykRVhbEKXI7Pn8AAABNQZsO\n",
       "SeEPJlMCG//+p4QBwcAAaOjWBvz0nURAdTnbWl8yQaMLujGXemza8LxPZuUIJqtth3T0ZaQ8uYCU\n",
       "o5T9ixcBVicY9vylojsiY3kAAAAtQZsvSeEPJlMCG//+p4QBrgoFzkpK7/erDQwiU3lH7QnASpkT\n",
       "39OcVnGqC6WBAAAARUGbUEnhDyZTAhv//qeEAbLx9GgR7W0PQq1mgAlT/GjzzM1oONbsZ5jyYh6H\n",
       "TS22craaEnLj0knpMSJuNy7TdKUudoXWQAAAAGhBm3JJ4Q8mUwURPDf//qeEAZ4hfDnme9ACvUVV\n",
       "1/I1fl0UB3+gOaHq8/vZT0muLJe57TlrBSwZlpdiME8XxpwmLh1jnQgttaGzcNWZijCrVnVmY2MC\n",
       "biH2MHJvmPcHDD//3lHq44XFwAAAAFgBn5FqQr8CkV/7SUsdE/hFtN8cnnAAIQ97MBP4XEU+K8H0\n",
       "2BKTEA22Q1iUttICGRX0FUusnYfaHoKUYX/ZWAEqe6On1lcPQ7kBVHYhgjBqWSNyr6bLn6g5AAAA\n",
       "TkGbk0nhDyZTAhv//qeEC7aUX/RVXdskBYIT0s2qACUGREc/eZFaNq/u3bPVLhQNVblTOCBNqdU+\n",
       "TsAK1ERMwuLzOFh8Op12OVWFWRTRUAAAAE1Bm7RJ4Q8mUwIb//6nhAF/PYpNpMYAsnABXf8TWaIC\n",
       "41sJKJ5GLPZnWrsGgh5+VRtaBt/lmkUySGLzFk8JddcXHtFPVv6eVMxy35Q0agAAAF1Bm9VJ4Q8m\n",
       "UwIb//6nhAF/l7qcI7BImUMYFfkhAuR7qplXbL0lvhFx5ScLuB5GW7Ed3t4tOLBj3Y9xbUQ1YBtg\n",
       "h6X0XpYdwWrt8kZZTwKVuHG9zCRpdA2Lo7gAjYEAAABLQZv2SeEPJlMCG//+p4QBckQI9h9WhXjP\n",
       "g21dZ90gUg9aZBdsn1wsy0ll9+SjJjm6ADbBD0vovSw9koVDTe2KCDFIjPi83Nq9JpIwAAAARUGa\n",
       "F0nhDyZTAhv//qeEAXT2of3tLdFQ958cmo+73ofta/9SUOqK1gTK8j4SQB4mrOnEpBPyTwAHZoDU\n",
       "a4cPlcJzXh7rgQAAAD1BmjhJ4Q8mUwIb//6nhAFmBvaEFlwwADYFzjJk3VAhJsaMIYj04kfqrNn2\n",
       "p1iZXLfT+ljZAmmB802hYQqBAAAATUGaWUnhDyZTAhv//qeEB+8jXa7ZLNqSQMouESf5sWv1sZzT\n",
       "DpbuCXc5XfdWl8eWO5bMgyl++knGcyiDTvo5wtQxvbji47p3hn6ZwOZoAAAAOUGaeknhDyZTAhv/\n",
       "/qeEAVtf/DhvZzkXE/+TPXV0dU6BvFnkCMICZ6ZsPkBMrktxXVDeCMJWHUsu2QAAAD9BmptJ4Q8m\n",
       "UwIb//6nhAFQR55+O0bQ8NkDXexQB2Gkfxae3xUeRnnB0flp8NREOP08o0AC7B8zk6CFtiy87fEA\n",
       "AABGQZq8SeEPJlMCG//+p4QBURea94kcbTk2v8rgQIoC/oQs9KZpUXN+okbmRlgIgtjwSQOPXT2m\n",
       "Ow6AC+a1mu0UeK7aJ+PfEQAAADNBmt1J4Q8mUwIb//6nhAFFdPGHqNSSLuTRFIOAo4kW7naGARhf\n",
       "5FyCu/APuEDrEuThjzcAAABLQZr+SeEPJlMCG//+p4QBR/gG61JIMFafOhDEPE4/7lnLuArvaL4V\n",
       "qKRpsL9JU+EEWfJ7pKWjBqdyAQx0Ydk6GA3x1SxABywtS3JWAAAAUUGbH0nhDyZTAhv//qeEATxb\n",
       "N1lj7lPJs+IgAtP7Jfod4PID4TJ0bMQ32hfplxiTDFCVSsxA/RbmraBOsu2W2gXkOGEORpNcl3TS\n",
       "W+qVwhrW2AAAAEJBmyBJ4Q8mUwIb//6nhAE0S95kEaYhkZDHBHd1twdpMYSnEFat9NUdWd4aTTBD\n",
       "8AW/7ACaveZyucs2zteXprpdqMEAAABKQZtBSeEPJlMCG//+p4QBNfpY/vaW+qh7z45LNt3vQ/a1\n",
       "/6kodUVrAmV5HwkgDxNWdOJebfR6X/50L9AwArkFLdd75apaHVKgNSAAAABHQZtjSeEPJlMFETw3\n",
       "//6nhAEsWzdaHq5gosbiSM3QdmrIBmab0pj72UwP+j5e86OWjIZSx/8kJ36gAvmtZr87L8cm6i/4\n",
       "bsEAAABJAZ+CakK/APJzJXRRBsQNlMACBpfWO/lUawUO6+Oxw5A+ycyhHBANIVFOzLx8Y5dJqCKY\n",
       "6N9PUPDqg89FRVeTlybeBy1RR7+1gAAAADNBm4RJ4Q8mUwIb//6nhAEkHsUnKVBft1aoHK6rAQ6F\n",
       "3jzdE8EmmP0LnfwDQnzABmVei0EAAABUQZulSeEPJlMCG//+p4QBJFs9rs550jvNO/zm7Z9KkyMA\n",
       "et6AJzjHjxYEnVggAK+u/z0eaBe7G3Ahn1dLNMjdzUGsq8UAF9e8zleyez2azmuqgwzhAAAAPEGb\n",
       "xknhDyZTAhv//qeEARxbOIcJAd3ybo0sbXvdak3igea8wgN9/WEcuJlplujKpjwWVKrFOIx6+mYE\n",
       "EQAAACdBm+dJ4Q8mUwIb//6nhAEUHsUnKVBgZbZISdoQELmzCJ/r5SipA1EAAABEQZoISeEPJlMC\n",
       "G//+p4QBFM1X/EJAzBRYk0rgQIoC/oQs9KZpUXN+okbmRlgIgtjwSQOP91Bde/9geQCu9pMAAcuz\n",
       "SMAAAAAzQZopSeEPJlMCG//+p4QB79Oer9/3Tzu3/IFkkcjDM5Z06P0WqnysOW0i4G+g6N0rz9ot\n",
       "AAAAvEGaS0nhDyZTBRE8N//+p4QCBMF+AHHuS7bQ3lpJqV9hYTKIH//MoHExjSSK+SnAq9YBcgyo\n",
       "C+pGhgYW7Ob2nNxiNWs/V4h6FFy1NG2xuCcj6v+EW0sZGVqVBS4BlSh33I03dYcr7Tfq7ztndrF3\n",
       "6PyMRS/Kipw3OOHHslND6R2oBt4fbxzWt3r1NcN3ing7Y9sdJa0sX46zLWJ+LXwhG8OKK/4GSrMG\n",
       "jrMIDbexahJ9uXiUWByQSk7vdnYfAAAAQgGeampCvwFssB8Xzd/+sqKYF3h5H5jxXKp/VU3MkVq6\n",
       "RGYQiUHitNfZjEHd34o6JFnZnLNIwAh+fJWawRg1LJIUnAAAAOdBmmxJ4Q8mUwIb//6nhAIFQoEA\n",
       "HRQGcr358nGEvIFIqtvnJf78hnkAeyZO4CbG4WCrv36vh+Z6EM5Md8cgC7nWAqk56WYjLhafyT6H\n",
       "ibnkORXPCG//bEIJZEjUBvdwDVH1fdei1dzttY0Nk3EJx2hAkAM2ko41ccX/vL3jzChZEh/MxKpT\n",
       "cPBIIZ2IH/Xq2pregPC+63Kt9poTGNGuoy435ykf/HH1nBDnE3SDUgr714wQRVTddGx/2x6zgPuX\n",
       "/npRnzl/AlgMuyJX8mUBOosiHNEmVhbJtsdYeeXHt0kkeYs2Dsu8+kAAAABaQZqNSeEPJlMCG//+\n",
       "p4QCBW0ajfHuQAE7Z+gfBW64PeEXfm4iVqv95MP5ydjZpLk7nDn7VapHFQQnPQ472WYgf+U9hr+l\n",
       "YTcWjspCqMY5K2wdg4ritUjDUkOxAAAAT0GarknhDyZTAhv//qeEAeu9nD3xC1Z6W91MPDeVX7LY\n",
       "/WyKsXBtqgI1HQ5P1LEfUU3KqZosOWXgAEPnQPk69mPs1cpka3MK64S4MDSnpWEAAAA8QZrPSeEP\n",
       "JlMCG//+p4QB8esLnc/7E+62okuhYlr6ZaXupStEGp02DSNl9rMFdhDPxodNCwOWmqviGReNAAAA\n",
       "XEGa8EnhDyZTAhv//qeEAduaf3AqqzGNkAALM2nhpUXn2zpgLvPz3f/FWids9iUKqH88qrmclXA7\n",
       "/eUA/d7pZy9mrOqZ4adR0WnrBhydlvOf1yX6EU3SF7ma7E0nAAAAM0GbEUnhDyZTAhv//qeEAcEN\n",
       "7QxdeOaQG5rqyGsx1m+AjE2NY32vWyv6/pbTt7sQ9n1ghgAAAENBmzJJ4Q8mUwIb//6nhAHG8BBE\n",
       "CfowoRD0Y2KpywS4KnI0x2sty7/OgJ3lFPnRbM8M/gIdskLcJAKW5zg9PzgWTSTfAAAALUGbU0nh\n",
       "DyZTAhv//qeEAa4KBc5KSu/3qw0MIlN5R+0JwEqZE9/TnFZxqgulgAAAAEVBm3RJ4Q8mUwIb//6n\n",
       "hAGy8fOdnFsh6LPoOjEAFkZh9eeZmtBxrdjPMeTEPQ6aW2zlbTQk5cekk9JiRNVWqVYk0cqgLrIA\n",
       "AACiQZuWSeEPJlMFETw3//6nhAGeIZXR/wUp+AG5z6H1dozcud9rbNNjbdjc1y9BMatr77j5roIx\n",
       "eNUGF6zYPBFgvOMx127iLvjFQeu+1zgUJaq0etpjIGo9RDCMRPm7XwcKR/I07jiPjQr1XSRF+wCR\n",
       "WOd12dyRT/M6lkb1bsoMD4S/HFQQHz8gyf/0XH03IIg3WNMcvcLevKVnDwdrBbPOjGA3AAAAWAGf\n",
       "tWpCvwE/pMtZB4cj1IcgAWATU+JXAiXOHRKJfuor6frnaH5fAO3QP82yYmQxtzUDSOKKa0k3Iy03\n",
       "C8LRZ+Ilx+vUN/1aSdgFuiHEKoibIdsPRwkR9qYAAABbQZu3SeEPJlMCG//+p4QBjihz+uJlKZH2\n",
       "gATmKVAZgjnJPL8k4s1gNEiAxK4YEx0jwTkAWwyPaGVebo6HLq5xspAJQ8Qo1q84JmZE98mKp/mr\n",
       "C3x6tPBKnezbmwAAADxBm9hJ4Q8mUwIb//6nhAF/s1aUsWA2fEU6hy2x6iY/NkTwuyWatshKU+dd\n",
       "NHjvj9LGHldWopirxXA6C0sAAAA/QZv5SeEPJlMCG//+p4QBf5e6nV1BCiBgqzXQzDb/aK1kClht\n",
       "2uceBCSI3MGU01wls+hphOcq4QPpv8AyradgAAAAOkGaGknhDyZTAhv//qeEAXHezicoS+pZWxRP\n",
       "iXt8MTPPolk+LUrEcmX8qIT8AHNoDOV7G3HqPM14e68AAABEQZo7SeEPJlMCG//+p4QBcweaiWps\n",
       "42TWylcB3T2ab2GaErSMNvU/A1SPtGh+mPyooLmoCw6AC+a1pO9jdIIDOw4e64AAAAA/QZpcSeEP\n",
       "JlMCG//+p4QBZgb2kRJ0ygBXIXLlZjghCVZa5rkYnf2Ubkt8dyrDjcyJoAXp35g5VMYGgLZ7AMiB\n",
       "AAAAR0GafUnhDyZTAhv//qeEAWj4Bs+8yBtU3M7ctV+VO21V/79vKREi6FyJHGlb4vR9+9xwnHN8\n",
       "oHLBxH7qWRa2biPnpmYwoSWBAAAAOEGanknhDyZTAhv//qeEAVtf96OkbnORZh3rgR03Zr3FA815\n",
       "hAb7+sI5cTLTLdGVTHgsqVDVMktgAAAAPUGav0nhDyZTAhv//qeEAVAG9ooKhYHvFGTveS2NmmkY\n",
       "W1ReSMz477Z3SReYc9OuwAF2D5nJ0ELbFl52+IAAAABHQZrASeEPJlMCG//+p4QBUReaiXMc6eTY\n",
       "UlhXGBBgtZqsYs9KZpXOt+okbmRlgQgtjwQsONXRmmJw6AC+a1mu0UeK7aJ+PfEAAAAzQZrhSeEP\n",
       "JlMCG//+p4QBRXTxh6jUki7k0RSDgKOJFu52hgEYX+RcgrvwD7hA6xLk3q+IAAAARUGbAknhDyZT\n",
       "Ahv//qeEAUf4ButSSDBWnzoQxDxOP+5Zy7gK72i+FaikabC/SVPhBFnye6SlowancgEMdGHZVUK+\n",
       "+QMATwAAAFRBmyNJ4Q8mUwIb//6nhAE8W0Lsoo00/Lk4yh0MAAksNbOx9MvID4TJ0bMQ32hfplxi\n",
       "TDFCVSsxA/RbmraBOsu2W2gXkKvT9VpNcl3TSW+qVwhrW2AAAAA9QZtESeEPJlMCG//+p4QBNB7F\n",
       "LFhMQpQo8ZqyYRHNi3fdL6To5+7uoM334L2XAB/SEZyucs2zteTTv2VIswAAAExBm2VJ4Q8mUwIb\n",
       "//6nhAE1+lj+9pb6qHvPlsoAJQak/13K60HGt2M8x5MQ9DppbbOVtNCTlx6ST0mJ75gvlXtoBFWw\n",
       "yWDibVNC+fO7AAAAR0Gbh0nhDyZTBRE8N//+p4QBLFs3Wh6uYKLG4kjN0HZqyAZmm9KY+9lMD/o+\n",
       "XvOjloyGUsf/JCd+oAL5rWa/Oy2YzK5vrtrBAAAASwGfpmpCvwDycyV6Fq7u1v+4ANEGQGb+VRrB\n",
       "Y7ri2He2T7JzEiGieEtLEsqaWH0gJSsni2HzRELHe6GzuKPKjz52D7bLDy3fFCyZgQAAAEtBm6hJ\n",
       "4Q8mUwIb//6nhAEkHsUnKrcANUIjquKIaxGJlrKOI3ycDAjQSGVK19edd+F/x18UEdezqbb6unZu\n",
       "AbeAiW9IhKddBhONBLQAAABdQZvJSeEPJlMCG//+p4QD77Kh2yy2R56EkAAs8dX4w5Wnzv1nKJlS\n",
       "SjFt+99Wmmdgb1w2Y9zbT07AobYWvVsKvIYCJ6Sw8PB+IULh0hGcr2NuPo8PsKNlVn4ogoSCAAAA\n",
       "PUGb6knhDyZTAhv//qeEA6Wyoe7Qr2OkbMN1hOxBr5XGbW90va/nY9fDqtdxjkcVKOdo6+om1X0I\n",
       "rVX7pE8AAAAuQZoLSeEPJlMCG//+p4QBFB7FJylQX3zFPGon8YZHHb90E2h/HGs1tQgBcdaX8QAA\n",
       "AD1BmixJ4Q8mUwIb//6nhAEUzV6Nkgp1gor0nMTOD1Av5PAug2uXLobuFwyu+D8x6pym5meNBpGy\n",
       "3sx12R4wAAAAMEGaTUnhDyZTAhv//qeEAe/Tnq/f909Gu8zkydGGIpgn9O783cmDRpU9jd2jbOFt\n",
       "gQAAALxBmm9J4Q8mUwURPDf//qeEAgTBfgBx7ku20N5aSalfYWEyiB//zKBxMY0kivkpwKvWAXIM\n",
       "qAvqRoYGFuzm9pzcYjVrP1eIehRctTRtsbgnI+r/hFtLGRlalQUuAZUod9yNN3WHK+036u87Z3ax\n",
       "d+j8jEUvyoqcNzjhx7JTQ+kdqAbeH28c1rd69TXDd4p4O2PbHSWtLF+Osy1ifi18IRvDiiv+Bkqz\n",
       "Bo6zCA23sWoSfbl4lFgckEpO73IeQwAAAD0Bno5qQr8BbLAd7TOarvSsLYuC1dGLFzWtl6vsV4aV\n",
       "UIM2Gku1Xxj5ROFVL6GbSBJACE58lVZgmA5HRSBDAAAA6EGakEnhDyZTAhv//qeEAgVCgQAdFAZy\n",
       "vfnycYS8gUiq2+cl/vyGeQB7Jk7gJsbhYKu/fq+H5noQzkx3xyALudYCqTnpZiMuFp/JPoeJueQ5\n",
       "Fc8Ib/9sQglkSNQG93ANUfV916LV3O21jQ2TcQnHaECQAzaSjjVxxf+8vePMKFkSH8zEqlNw8Egh\n",
       "nYgf9eramt6De6HwgsWzUvtNCYxo11GXG/OUj/44+s4Ic4nMgfiVjp8YIIt/lk/Zqdses4D7l/56\n",
       "UZ85fwJYDLsiV/JlATqLIhzFJlaTybbHWHnlx7dJJHmLNZZgkw8AAABPQZqxSeEPJlMCG//+p4QC\n",
       "BW0ajfHuQAE7Z+gfBW64PeEXfm4iVqv95MP5ydjZo/YCdzWkglJ0waTmKiyH96Serr49scbBkWPy\n",
       "yh9hBCz9yAAAAEZBmtJJ4Q8mUwIb//6nhAHrvZw98QtWelvdTDw3lV+y3Pj5IArMJeii4q5IzA+z\n",
       "b7haZ5UbatOMMeAoSBQEch294EEwtqSBAAAAOkGa80nhDyZTAhv//qeEAfHrC53P+xPutqJLoWJa\n",
       "+mWl7qUrRBqdNg0jZfazBXYQz8aHTQsDlpqrchgAAABiQZsUSeEPJlMCG//+p4QB1q1kTjZAACzN\n",
       "qSlUz0Z9s6ahg063FSEIgnbZ2676WFlnioCysHSBsrL7/JpRqAAMxLzKNhuik8djkNMgZe81GuHD\n",
       "5j2ZrxHt3gD9/PY0+PmyEcgAAAA1QZs1SeEPJlMCG//+p4QBwQ3tDF145pAbmurIazHWb4CMTY1j\n",
       "fa9bK/r+ltO3uv5pYMGOUMEAAABNQZtWSeEPJlMCG//+p4QBwcAAaOjWBvz0nURAdTnbWl8yQaML\n",
       "ujGXemza8LxPZuUIJqtth3T0ZaQ8uYCUo5T9ixcBVicY9vylojsiY3gAAAAtQZt3SeEPJlMCG//+\n",
       "p4QBrgoFzkpK7/erDQwiU3lH7QnASpkT39OcVnGqC6WBAAAARUGbmEnhDyZTAhv//qeEAbLx9GgR\n",
       "7W0PQq1mgAlT/GjzzM1oONbsZ5jyYh6HTS22craaEnLj0knpMSJuNy7TdKUudoXWQQAAAJ5Bm7pJ\n",
       "4Q8mUwURPDf//qeEAZ4hldH/BSn4AbnPofV2jNy532ts02Nwr46uXoJjVtffcfNdBGLxqgwvWbB4\n",
       "EJEJ2m0nfGKg9fwuvywwjhxcXW00cTUeqZ1WIfltsASlJC8SezrCIOr596rpJ8p7KkL3fKsP+Z1L\n",
       "I3q3ZQYHwl+NjmEX2kyox/uVntPFPoN1jTHL3C3rylZw8HbZEA4NgAAAAGsBn9lqQr8BP6TLWaJM\n",
       "8Do4WAEbiBXT6PCOfzxkkmcXFjX652h/nxXP0D/Nsmhmcbc1A0fS2hFQN3VX6N/7jglukI+bUtWA\n",
       "3QKAG0RyGvfcA1UOiUEHKAYGhGkAOCgdXYVRE2Q7YejhIk2GwQAAAFtBm9tJ4Q8mUwIb//6nhAGO\n",
       "KHP64mUpkfaABOYpUBmCOck8vyTizWA0SIDErhLh0jwTkAWwyPaGVebo6HLq5xspAJQ8Qo1q84Jm\n",
       "ZE98luO+asL7Hq08Eqd9JuaAAAAAOkGb/EnhDyZTAhv//qeEAX+zVpSxYDZ8RTqHLbHqJj82RPC7\n",
       "JZq2yEpT5100eO+P0sYeV1aimBllhLUAAAA9QZodSeEPJlMCG//+p4QBf5e6nOMbrmGs5PXBYMsw\n",
       "gscfJv9PnxI8S0riT+R+jJwYkRpaOU9h5ESDVLumtwAAAEFBmj5J4Q8mUwIb//6nhAFyKvB4OvDP\n",
       "tUYmXu2cT1yB+okTTnjPer55JpdkgfT6LU327AAdmgM5Xsbceo8zXh7rgAAAAEVBml9J4Q8mUwIb\n",
       "//6nhAF09qH97S3RUPefHJqPu96H7Wv/UlDqitYEyvI+EkAeJqzpxKQT8k8AB2aA1GuHD5XCc14e\n",
       "64AAAAA9QZpgSeEPJlMCG//+p4QBZgb2kRJ0ygBXIXLlZjghCVZa5rkYnf2Ubkt8dyrDjcyJdf0s\n",
       "YvaDzQPX7DY+QQAAAEtBmoFJ4Q8mUwIb//6nhAFo+AbrUkgwVpuZ4P7V7bbuWcu4Cu9ovhWopGmw\n",
       "v0lT4QRZ8nukpaMGp3IBDHRzVZfD7zIrKtv08PHeLQgAAAA5QZqiSeEPJlMCG//+p4QBW1/8OG9n\n",
       "ORcT/5M9dXR1ToG8WeQIwgJnpmw+QEyuS3FdUN4IwlYdSy7ZAAAAPkGaw0nhDyZTAhv//qeEAVAG\n",
       "9ooKhYHvFGTveS2NmmkYW1ReSMz477Z3SReX2j0CJ2AAuwfM5Oifrpz/ggywAAAASEGa5EnhDyZT\n",
       "Ahv//qeEAVEXmveJHG05Nr/K4ECKAv6ELPSmaVFzfqJG5kZYCILY8EkDj/dV6DmCxGrAB2aAzk6K\n",
       "PFdtE/HviQAAADNBmwVJ4Q8mUwIb//6nhAFFdPGHqNSSLuTRFIOAo4kW7naGARhf5FyCu/APuEDr\n",
       "EuTer4kAAABKQZsmSeEPJlMCG//+p4QBR/gGz7qcE7BUfQWCyCHH9pgbHuul/IY4hALLnmmq2JR3\n",
       "ej+Ktui8qMPkdZVG7C1xcH04AA5mrIENbPEAAABOQZtHSeEPJlMCG//+p4QBPFs3WWPuU8mz4iAC\n",
       "0/sl+h3g8gPhMnRsxDfaF+mXGJMMUJVKzED9FuatoE6y7ZcJAA2Id8/Jd00f48xxrhthAAAAQEGb\n",
       "aEnhDyZTAhv//qeEATQexScpUIWQUeM3w4CjiRbudoYBGF/kXH8rbIAEQe8zlFGD4+DE8puzRvVu\n",
       "zSECRF4AAAA5QZuJSeEPJlMCG//+p4QBNfpY/vaW+qh7z45LNt3vQ/a1/6kodUVrAmV5HwkgDxNW\n",
       "dOJebfR4XBRgAAAARkGbq0nhDyZTBRE8N//+p4QBLFs3Wh6uYKLG4kjN0HZqyAZmm9KY+9lMD/o+\n",
       "XvOjloyGUioRwum5gA7NAZylIs82jk79QdcAAABHAZ/KakK/APJzJXRRBsQNlMACBpfWO/lUawUO\n",
       "6+Oxw5A+ycyhHBANIVFOzLx8Y5dJoj1+ZnSIi8jy9Yg2Zu2S7Ty6+OiZGUQAAABFQZvMSeEPJlMC\n",
       "G//+p4QBJB7FJyq3ADVCI6riiGsRh9nJQHgyK7UfQqcICdFJ6v+1HVMiOq3wud6R7f6OwCX/ydCY\n",
       "w2ZwAAAAS0Gb7UnhDyZTAhv//qeEASRbPvv1sxrYGnf1DbaLtaN7Lrz9UW1PpXnh9ftQ6e6kF85M\n",
       "dAEMKPB21IAOcuS7q8Q9Enb8ExrHQVWYwQAAAD9Bmg5J4Q8mUwIb//6nhAEcW0Qvhtg+wAsoBaDy\n",
       "M+isBoZhcufY8KZ+RiwbYXZXylCAcrGsM2TWZW/JgQEcnZEAAAAnQZovSeEPJlMCG//+p4QBFB7F\n",
       "JylQYGW2SEnaEBC5swif7InalhPbAAAAPUGaUEnhDyZTAhv//qeEARTNV/xCQMwUWJNK4ECKAv6E\n",
       "LPSmaVFzfqJG5kZYCILY8EkDj/dQG460HM0y8xgAAAAsQZpxSeEPJlMCGf/+nhAEEEIhZENT6UkS\n",
       "Q/CVyRKRNjCLST31Q6GYbZmmsEAAAAC8QZqTSeEPJlMFETwr//44QB1byqACdvOjuJaXZa+Hrdn/\n",
       "OYdxNxsLGAYVu9DtfMmUGawrAWIM7MQlPDj9EFPxfb5vK9iM0Fzmj+n8VzmMHyPb+9UkkMdUSTEV\n",
       "D5GZZL/U/YLBmKm+IjVeIU1tAKH2HPuppgZBnBEAtoTmQslm4ulv/c9pgV8qXCtOlb9tJyQ0/qiT\n",
       "+WUAggrHGD6RGl/hw5S8smS8z7rPlA64qtVLJZRLdum5j+cv3Yem9sEAAAA+AZ6yakK/AWywHe0z\n",
       "mq70rC2LgtXRixc1rZer7FeGlVCDNhpLtV8Y+UPsZBHr/KqfywAhOfJWawRg1LJJJ7AAAAdlbW9v\n",
       "dgAAAGxtdmhkAAAAAAAAAAAAAAAAAAAD6AAAIygAAQAAAQAAAAAAAAAAAAAAAAEAAAAAAAAAAAAA\n",
       "AAAAAAABAAAAAAAAAAAAAAAAAABAAAAAAAAAAAAAAAAAAAAAAAAAAAAAAAAAAAAAAAAAAgAABpB0\n",
       "cmFrAAAAXHRraGQAAAADAAAAAAAAAAAAAAABAAAAAAAAIygAAAAAAAAAAAAAAAAAAAAAAAEAAAAA\n",
       "AAAAAAAAAAAAAAABAAAAAAAAAAAAAAAAAABAAAAAAbAAAAEgAAAAAAAkZWR0cwAAABxlbHN0AAAA\n",
       "AAAAAAEAACMoAAAEAAABAAAAAAYIbWRpYQAAACBtZGhkAAAAAAAAAAAAAAAAAAAoAAABaABVxAAA\n",
       "AAAALWhkbHIAAAAAAAAAAHZpZGUAAAAAAAAAAAAAAABWaWRlb0hhbmRsZXIAAAAFs21pbmYAAAAU\n",
       "dm1oZAAAAAEAAAAAAAAAAAAAACRkaW5mAAAAHGRyZWYAAAAAAAAAAQAAAAx1cmwgAAAAAQAABXNz\n",
       "dGJsAAAAs3N0c2QAAAAAAAAAAQAAAKNhdmMxAAAAAAAAAAEAAAAAAAAAAAAAAAAAAAAAAbABIABI\n",
       "AAAASAAAAAAAAAABAAAAAAAAAAAAAAAAAAAAAAAAAAAAAAAAAAAAAAAAAAAAGP//AAAAMWF2Y0MB\n",
       "ZAAV/+EAGGdkABWs2UGwloQAAAMABAAAAwCgPFi2WAEABmjr48siwAAAABx1dWlka2hA8l8kT8W6\n",
       "OaUbzwMj8wAAAAAAAAAYc3R0cwAAAAAAAAABAAAAtAAAAgAAAAAUc3RzcwAAAAAAAAABAAAAAQAA\n",
       "AXhjdHRzAAAAAAAAAC0AAAAJAAAEAAAAAAEAAAYAAAAAAQAAAgAAAAAPAAAEAAAAAAEAAAYAAAAA\n",
       "AQAAAgAAAAAGAAAEAAAAAAEAAAYAAAAAAQAAAgAAAAAJAAAEAAAAAAEAAAYAAAAAAQAAAgAAAAAP\n",
       "AAAEAAAAAAEAAAYAAAAAAQAAAgAAAAAGAAAEAAAAAAEAAAYAAAAAAQAAAgAAAAAJAAAEAAAAAAEA\n",
       "AAYAAAAAAQAAAgAAAAAPAAAEAAAAAAEAAAYAAAAAAQAAAgAAAAAGAAAEAAAAAAEAAAYAAAAAAQAA\n",
       "AgAAAAAJAAAEAAAAAAEAAAYAAAAAAQAAAgAAAAAPAAAEAAAAAAEAAAYAAAAAAQAAAgAAAAAGAAAE\n",
       "AAAAAAEAAAYAAAAAAQAAAgAAAAAJAAAEAAAAAAEAAAYAAAAAAQAAAgAAAAAPAAAEAAAAAAEAAAYA\n",
       "AAAAAQAAAgAAAAAGAAAEAAAAAAEAAAYAAAAAAQAAAgAAAAAcc3RzYwAAAAAAAAABAAAAAQAAALQA\n",
       "AAABAAAC5HN0c3oAAAAAAAAAAAAAALQAAApeAAABmwAAAEUAAAA9AAAAVQAAADkAAABEAAAAOwAA\n",
       "AEQAAACmAAAAZAAAAGwAAABQAAAAUAAAAEYAAABHAAAAOwAAAEkAAABEAAAAQwAAAFAAAABCAAAA\n",
       "TgAAAFgAAABHAAAASAAAAD8AAAA+AAAAMgAAAFYAAAA/AAAAKgAAAD8AAAAwAAAAwAAAAEUAAADw\n",
       "AAAAZwAAAE4AAABFAAAAVgAAAD0AAABMAAAAQAAAAEcAAACIAAAAbwAAAF0AAABBAAAARwAAAD4A\n",
       "AABIAAAAQQAAAE4AAAA8AAAAQAAAAEsAAAA3AAAASgAAAFkAAABBAAAASwAAAEsAAABAAAAASAAA\n",
       "AFIAAABGAAAAKwAAAEIAAAA0AAAAwAAAAFcAAADrAAAAUgAAAEsAAAA+AAAAZAAAADoAAABRAAAA\n",
       "MQAAAEkAAABsAAAAXAAAAFIAAABRAAAAYQAAAE8AAABJAAAAQQAAAFEAAAA9AAAAQwAAAEoAAAA3\n",
       "AAAATwAAAFUAAABGAAAATgAAAEsAAABNAAAANwAAAFgAAABAAAAAKwAAAEgAAAA3AAAAwAAAAEYA\n",
       "AADrAAAAXgAAAFMAAABAAAAAYAAAADcAAABHAAAAMQAAAEkAAACmAAAAXAAAAF8AAABAAAAAQwAA\n",
       "AD4AAABIAAAAQwAAAEsAAAA8AAAAQQAAAEsAAAA3AAAASQAAAFgAAABBAAAAUAAAAEsAAABPAAAA\n",
       "TwAAAGEAAABBAAAAMgAAAEEAAAA0AAAAwAAAAEEAAADsAAAAUwAAAEoAAAA+AAAAZgAAADkAAABR\n",
       "AAAAMQAAAEkAAACiAAAAbwAAAF8AAAA+AAAAQQAAAEUAAABJAAAAQQAAAE8AAAA9AAAAQgAAAEwA\n",
       "AAA3AAAATgAAAFIAAABEAAAAPQAAAEoAAABLAAAASQAAAE8AAABDAAAAKwAAAEEAAAAwAAAAwAAA\n",
       "AEIAAAAUc3RjbwAAAAAAAAABAAAALAAAAGF1ZHRhAAAAWW1ldGEAAAAAAAAAIWhkbHIAAAAAAAAA\n",
       "AG1kaXJhcHBsAAAAAAAAAAAAAAAALGlsc3QAAAAkqXRvbwAAABxkYXRhAAAAAQAAAABMYXZmNTgu\n",
       "MC4xMDI=\n",
       "\">\n",
       "  Your browser does not support the video tag.\n",
       "</video>"
      ],
      "text/plain": [
       "<matplotlib.animation.FuncAnimation at 0x14909b654e0>"
      ]
     },
     "execution_count": 6,
     "metadata": {},
     "output_type": "execute_result"
    }
   ],
   "source": [
    "ani"
   ]
  },
  {
   "cell_type": "markdown",
   "metadata": {},
   "source": [
    "## Question 1"
   ]
  },
  {
   "cell_type": "markdown",
   "metadata": {},
   "source": [
    "Are the condition of the Perron-Frobenius met? Justify your answers:\n",
    "- using the theoretical definitions\n",
    "- by commenting the animation above"
   ]
  },
  {
   "cell_type": "markdown",
   "metadata": {},
   "source": [
    "**Answer:**"
   ]
  },
  {
   "cell_type": "markdown",
   "metadata": {},
   "source": [
    "## Question 2"
   ]
  },
  {
   "cell_type": "markdown",
   "metadata": {},
   "source": [
    "We now change the rules. At each turn, the player tosses an unbiased coin. If it is a head, she moves forward $ a = 1 $ step. If it is a tail, she moves forward $ b = 2 $ steps."
   ]
  },
  {
   "cell_type": "markdown",
   "metadata": {},
   "source": [
    "As we are now playing with more general Markov chains, ``roll`` may not be enough. You may want to use ``dot(P, A)``, which multiplies a vector $P$ and a matrix $A$, with a properly built matrix $A$."
   ]
  },
  {
   "cell_type": "code",
   "execution_count": 7,
   "metadata": {
    "ExecuteTime": {
     "end_time": "2017-11-13T10:10:12.667882Z",
     "start_time": "2017-11-13T10:10:12.660861Z"
    },
    "collapsed": true
   },
   "outputs": [],
   "source": [
    "def next_stepA(P):\n",
    "    return dot(P, A)"
   ]
  },
  {
   "cell_type": "markdown",
   "metadata": {},
   "source": [
    "Visualize the evolution of the position of the player. Comment what you observe."
   ]
  },
  {
   "cell_type": "markdown",
   "metadata": {},
   "source": [
    "**Answer:**"
   ]
  },
  {
   "cell_type": "markdown",
   "metadata": {},
   "source": [
    "## Question 3"
   ]
  },
  {
   "cell_type": "markdown",
   "metadata": {},
   "source": [
    "New rules. We now assume $ a = 1 $, $ b = i^2 $, where $ i $ is the index of the square where the player stands."
   ]
  },
  {
   "cell_type": "markdown",
   "metadata": {},
   "source": [
    "Visualize the evolution of the position of the player. Comment what you observe."
   ]
  },
  {
   "cell_type": "markdown",
   "metadata": {},
   "source": [
    "**Answer:**"
   ]
  },
  {
   "cell_type": "markdown",
   "metadata": {},
   "source": [
    "## Question 4"
   ]
  },
  {
   "cell_type": "markdown",
   "metadata": {},
   "source": [
    "New rules. We assume now $ a = 1 $, $ b = 7 $."
   ]
  },
  {
   "cell_type": "markdown",
   "metadata": {},
   "source": [
    "Visualize the evolution of the position of the player. Comment what you observe."
   ]
  },
  {
   "cell_type": "markdown",
   "metadata": {},
   "source": [
    "**Answer:**"
   ]
  },
  {
   "cell_type": "markdown",
   "metadata": {},
   "source": [
    "## Question 5"
   ]
  },
  {
   "cell_type": "markdown",
   "metadata": {},
   "source": [
    "New rules. We assume now $ a = 2 $, $ b = 4 $."
   ]
  },
  {
   "cell_type": "markdown",
   "metadata": {},
   "source": [
    "Visualize the evolution of the position of the player. Comment what you observe."
   ]
  },
  {
   "cell_type": "markdown",
   "metadata": {},
   "source": [
    "**Answer:**"
   ]
  },
  {
   "cell_type": "markdown",
   "metadata": {},
   "source": [
    "## Question 6"
   ]
  },
  {
   "cell_type": "markdown",
   "metadata": {},
   "source": [
    "New rule: when the player stands on square 35, she rolls a dice. If she scores 6 (which happens with probability $1/6$), she realizes that the game is pointless and quits the game. Redo questions 2 to 5 with this new rule (theory, practice, discussions...)."
   ]
  },
  {
   "cell_type": "markdown",
   "metadata": {},
   "source": [
    "**Answer:**"
   ]
  },
  {
   "cell_type": "markdown",
   "metadata": {},
   "source": [
    "# PageRank on a small graph (if time)"
   ]
  },
  {
   "cell_type": "markdown",
   "metadata": {},
   "source": [
    "The goal of this last part is to test a few variants of PageRank on *small* graphs and see how they differ.\n",
    "\n",
    "**It is entirely optional**, but it can help you before running PageRank on bigger graphs."
   ]
  },
  {
   "cell_type": "markdown",
   "metadata": {},
   "source": [
    "Let $ h $ be an integer (use $ h $ = 3 for toy evaluation, $ h = 9 $ for complete evaluation).\n",
    "\n",
    "Let $ G $ be the following graph:\n",
    "- There are $ n = 2^{h+1}-1 $ nodes numbered from $0$ to $ 2^{h+1}-2 $.\n",
    "- The oriented edges are as follows:\n",
    "    - For all nodes $ i\\geq 1 $, there is an edge *from* $ i $ *to* $ \\lfloor (i-1) / 2 \\rfloor $.\n",
    "    - For all nodes $ i\\geq 1 $, there is an edge *from* $ i $ *to* $ i - 1 $.\n",
    "    - For all nodes $j$ such that $ j \\in [2^h-1, 2^{h+1}-2] $, there is an edge *from* $0$ *to* $j$."
   ]
  },
  {
   "cell_type": "markdown",
   "metadata": {},
   "source": [
    "## Question 1"
   ]
  },
  {
   "cell_type": "markdown",
   "metadata": {},
   "source": [
    "Build the stochastic matrix $A$ associated to $G$, defined by $ A[i,j] = 1/deg_+(i)$ if there is an edge from $ i $ to $ j $, 0 otherwise. ($deg_+$: *outdegree*)"
   ]
  },
  {
   "cell_type": "markdown",
   "metadata": {},
   "source": [
    "**Answer:**"
   ]
  },
  {
   "cell_type": "markdown",
   "metadata": {},
   "source": [
    "## Question 2"
   ]
  },
  {
   "cell_type": "markdown",
   "metadata": {},
   "source": [
    "Try to guess which nodes of the graph are important. Justify your answer (e.g. copying/pasting the answer to the next question is not enough)."
   ]
  },
  {
   "cell_type": "markdown",
   "metadata": {},
   "source": [
    "**Answer:**"
   ]
  },
  {
   "cell_type": "markdown",
   "metadata": {},
   "source": [
    "## Question 3"
   ]
  },
  {
   "cell_type": "markdown",
   "metadata": {},
   "source": [
    "Compute the PageRank $P$ which is a solution of $ P = P A $. Proceed iteratively starting from $ P = \\mathbf{1}/n $ and updating $ P \\leftarrow P A $ until $ ||P-PA||_1<\\epsilon $ (recommendation: $ \\epsilon = 10^{-8} $). Display, for each of the first 10 iterations, the current top ten (the ten nodes that have highest value in current $P$), the total number of iterations and the final top ten.\n",
    "\n",
    "Configure a maximal number of authorized iterations to avoid infinite loops (recommendation: 2000 iterations). When reaching the maximal number of iterations, your function should display a message saying the process has not converged and give the past top ten obtained."
   ]
  },
  {
   "cell_type": "markdown",
   "metadata": {},
   "source": [
    "**Answer:**"
   ]
  },
  {
   "cell_type": "markdown",
   "metadata": {},
   "source": [
    "## Question 4"
   ]
  },
  {
   "cell_type": "markdown",
   "metadata": {},
   "source": [
    "We add $b$ new nodes to $G$ ($ b = 10 $) numbered from $ n $ to $ n+b-1 $. For each new node $ i $, we add an edge *from* $ i-1 $ *to* $i$.\n",
    "- Do Questions 1, 2, 3 over with this new graph. What happens (in theory and in practice)?\n",
    "- Use $ P \\leftarrow P A / ||PA||_1 $ for updating $P$. What happens?"
   ]
  },
  {
   "cell_type": "markdown",
   "metadata": {},
   "source": [
    "**Answer:**"
   ]
  },
  {
   "cell_type": "markdown",
   "metadata": {},
   "source": [
    "## Question 5"
   ]
  },
  {
   "cell_type": "markdown",
   "metadata": {},
   "source": [
    "We add one edge to the previous graph, from $ n+b-1 $ to $ n+b-2 $.\n",
    "- Do Questions 1, 2, 3 over with this new graph, along with the update proposed in Question 4. What happens (in theory and in practice)?\n",
    "- Use $ P \\leftarrow d P A + (1-d)\\mathbf{1}/n  $ for updating $P$, with $d = 0.85$. What happens?\n",
    "- (Bonus) Try numerically to simply use $ P \\leftarrow d P A + \\mathbf{1}  $ for updating $P$. Can you explain the result?"
   ]
  },
  {
   "cell_type": "markdown",
   "metadata": {},
   "source": [
    "**Answer:**"
   ]
  },
  {
   "cell_type": "markdown",
   "metadata": {},
   "source": [
    "## Question 6"
   ]
  },
  {
   "cell_type": "markdown",
   "metadata": {},
   "source": [
    "In case you didn't do it already, please compare and discuss the convergence and rankings you observed in this practical."
   ]
  },
  {
   "cell_type": "markdown",
   "metadata": {},
   "source": [
    "**Answer:**"
   ]
  }
 ],
 "metadata": {
  "kernelspec": {
   "display_name": "Python 3",
   "language": "python",
   "name": "python3"
  },
  "language_info": {
   "codemirror_mode": {
    "name": "ipython",
    "version": 3
   },
   "file_extension": ".py",
   "mimetype": "text/x-python",
   "name": "python",
   "nbconvert_exporter": "python",
   "pygments_lexer": "ipython3",
   "version": "3.6.2"
  },
  "toc": {
   "colors": {
    "hover_highlight": "#DAA520",
    "navigate_num": "#000000",
    "navigate_text": "#333333",
    "running_highlight": "#FF0000",
    "selected_highlight": "#FFD700",
    "sidebar_border": "#EEEEEE",
    "wrapper_background": "#FFFFFF"
   },
   "moveMenuLeft": true,
   "nav_menu": {
    "height": "332px",
    "width": "252px"
   },
   "navigate_menu": true,
   "number_sections": true,
   "sideBar": true,
   "threshold": 4,
   "toc_cell": false,
   "toc_section_display": "block",
   "toc_window_display": false,
   "widenNotebook": false
  }
 },
 "nbformat": 4,
 "nbformat_minor": 1
}
