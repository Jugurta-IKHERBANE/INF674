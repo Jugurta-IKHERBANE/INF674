{
 "cells": [
  {
   "cell_type": "markdown",
   "metadata": {},
   "source": [
    "# INF 674 S7: Markov Chains\n",
    "\n",
    "## Céline Comte & Fabien Mathieu\n",
    "\n",
    "### 2017-2018"
   ]
  },
  {
   "cell_type": "markdown",
   "metadata": {},
   "source": [
    "The objective of this practical is to make you *see* a Markov chain in action. In particular, you will observe what happens if the conditions of the Perron-Frobenius theorem are not met."
   ]
  },
  {
   "cell_type": "markdown",
   "metadata": {},
   "source": [
    "# Things to know (theoretical take-away)"
   ]
  },
  {
   "cell_type": "markdown",
   "metadata": {},
   "source": [
    "** Right stochastic matrix**\n",
    "Let $A = (a_{i,j})$ be a $n\\times n$ matrix. We say that $A$ is a *right* stochastic matrix if:\n",
    "- The coefficients of $A$ are non-negative: $\\forall i, j, a_{i,j}\\geq 0$.\n",
    "- Each row sums to 1: $\\forall i, \\sum_j a_{i,j} = 1$.\n",
    "\n",
    "\n",
    "**Homogeneous Markov chain:** A right stochastic matrix $A$ can define a *Markov Chain* that describes the evolution of a distribution over $n$ states as follows: if one is in state $i$ at step $k$ of the process, the probability to be in state $j$ at step $k+1$ is $a_{i,j}$.\n",
    "\n",
    "With this notation, the evolution of a Markov chain is easy to study: if $P_k$ is the probability distribution at step $k$ ($P_k\\geq 0, \\sum_{i}P_k[i]=1$), then if have\n",
    "\n",
    "$$P_{k+1}=P_k A$$\n",
    "\n",
    "**irreducibility:**  Let $A$ be a *non-negative* matrix $A$ ($\\forall i,j, A[i,j]\\geq 0$). Let $G=(V,E)$ be the oriented graph associated to $A$: $(i,j)\\in E$ if, and only if $A[i,j]>0$. The following propositions are equivalent:\n",
    "- $A$ is *irreducible*\n",
    "- $\\forall i,j, \\exists k>0, A^k[i,j]>0$\n",
    "- $G$ is *strongly connected*: $\\forall (i,j)\\in V^2$, there exists an oriented path in $G$ from $i$ to $j$.\n",
    "Intuitively, the irreducibility property indicates that starting from any state, any state can be reached with a positive (e.g. >0) probability after some steps.\n",
    "\n",
    "**aperiodicity:** (*from wikipedia*) For an index $i$, the period of $i$ is the greatest common divisor of all natural numbers $k$ such that $A^k[i,i]>0$. When $A$ is irreducible, the period of every index is the same and is called the period of $A$. \n",
    "\n",
    "If the period is 1, $A$ is *aperiodic*.\n",
    "\n",
    "Intuitively, a period $k>1$ indicates that the length of any cycle must be a multiple of $k$.\n",
    "\n",
    "\n",
    "**Perron-Frobenius Theorem** (a variant, actually)\n",
    "If $A$ is right stochastic, irreducible and aperiodic, then $A^k\\xrightarrow[k\\to \\infty]{} B$, where $B$ is the right stochastic matrix having all its rows equal to the same row vector $Q$ defined as the unique normalized solution to the equation $QA = Q$.\n",
    "\n",
    "**Interpretation:** when the condition of the Perron-Frobenius theorem are met, the process will eventually converge to a unique distribution, which does not depend of its initial state, which is *forgotten*."
   ]
  },
  {
   "cell_type": "markdown",
   "metadata": {},
   "source": [
    "# Markov chains animations "
   ]
  },
  {
   "cell_type": "markdown",
   "metadata": {},
   "source": [
    "To start with, a small experiment that plays with the assumptions of Perron-Frobenius theorem.\n",
    "\n",
    "Consider the following game: you have a circular game board made of $ n = 36 $ squares numbered from $ 0 $ to $ 35 $. At (discrete) turn $ t=0 $, a player stands on square $ 0 $. Between two turns, the player moves from a certain number of squares. Remember that the board is circular: if the player is in square $35$ and moves one square forward, she lands in square $0$. We propose to visualize the evolution of the (probabilistic) position of the player on the board."
   ]
  },
  {
   "cell_type": "markdown",
   "metadata": {},
   "source": [
    "We give you the code to visualize the game where at each turn, the player moves one square forward."
   ]
  },
  {
   "cell_type": "markdown",
   "metadata": {
    "collapsed": true
   },
   "source": [
    "First, evaluate the following cells. Note that you should install ffmpeg if it is not available in your system (https://ffmpeg.org/ ). If you are on a TPT machine, ffmpeg is not available, use the writer *avconv* instead."
   ]
  },
  {
   "cell_type": "code",
   "execution_count": null,
   "metadata": {
    "collapsed": true
   },
   "outputs": [],
   "source": [
    "%pylab inline"
   ]
  },
  {
   "cell_type": "code",
   "execution_count": null,
   "metadata": {
    "collapsed": true
   },
   "outputs": [],
   "source": [
    "from matplotlib import animation, rc\n",
    "from IPython.display import HTML\n",
    "\n",
    "# use writer = 'avconv' on TPT computers\n",
    "rc('animation', html='html5', writer = 'ffmpeg')\n",
    "\n",
    "# xkcd()\n",
    "\n",
    "n = 36"
   ]
  },
  {
   "cell_type": "markdown",
   "metadata": {},
   "source": [
    "Remark: uncomment the use of xkcd() if you want to pimp your animations a little bit."
   ]
  },
  {
   "cell_type": "markdown",
   "metadata": {},
   "source": [
    "The following function will be used to display the evolution of a distribution. It takes two arguments:\n",
    "- *next_step* is a function that takes a distribution as input and ouputs the resulting distribution after one step of the Markov process.\n",
    "- *k_max* indicates the number of steps you want to watch."
   ]
  },
  {
   "cell_type": "code",
   "execution_count": null,
   "metadata": {
    "collapsed": true
   },
   "outputs": [],
   "source": [
    "def evolution(next_step, k_max):\n",
    "    # Turn interactive plotting off\n",
    "    fig, ax = subplots()\n",
    "    # Initiate probability distribution: the position of the player is known.\n",
    "    P = zeros(n)\n",
    "    P[0] = 1\n",
    "    # Display probability\n",
    "    pbar = ax.bar(range(n),P,1)\n",
    "    xlim([0,n])\n",
    "    #Init only required for blitting to give a clean slate.\n",
    "    def init():\n",
    "        for rect, y in zip(pbar, P):\n",
    "            rect.set_height(y)        \n",
    "        return pbar\n",
    "    def animate(i):\n",
    "        P[:] = next_step(P) # Update the values using the next_step function\n",
    "        for rect, y in zip(pbar, P):\n",
    "            rect.set_height(y)        \n",
    "        return pbar\n",
    "    ani = animation.FuncAnimation(fig, animate, frames = k_max, init_func=init,\n",
    "    interval=50, blit=True)\n",
    "    return ani"
   ]
  },
  {
   "cell_type": "markdown",
   "metadata": {},
   "source": [
    "The rule for the toy example is to move one case forward. This can be easily done with the **np.roll** function."
   ]
  },
  {
   "cell_type": "code",
   "execution_count": null,
   "metadata": {
    "collapsed": true
   },
   "outputs": [],
   "source": [
    "def next_step(P):\n",
    "    # Roll, baby!\n",
    "    return roll(P, 1)\n",
    "    "
   ]
  },
  {
   "cell_type": "markdown",
   "metadata": {},
   "source": [
    "We now call evolution. The %%capture command hides a static picture that would be shown otherwise."
   ]
  },
  {
   "cell_type": "code",
   "execution_count": null,
   "metadata": {
    "collapsed": true
   },
   "outputs": [],
   "source": [
    "%%capture\n",
    "ani = evolution(next_step,180)"
   ]
  },
  {
   "cell_type": "markdown",
   "metadata": {},
   "source": [
    "And... Showtime (can take a few seconds to initiate, depending on the tmax you set)"
   ]
  },
  {
   "cell_type": "code",
   "execution_count": null,
   "metadata": {
    "collapsed": true
   },
   "outputs": [],
   "source": [
    "ani"
   ]
  },
  {
   "cell_type": "markdown",
   "metadata": {},
   "source": [
    "## Question 1"
   ]
  },
  {
   "cell_type": "markdown",
   "metadata": {},
   "source": [
    "Are the condition of the Perron-Frobenius met? Justify your answers:\n",
    "- using the theoretical definitions\n",
    "- by commenting the animation above"
   ]
  },
  {
   "cell_type": "markdown",
   "metadata": {},
   "source": [
    "**Answer:**"
   ]
  },
  {
   "cell_type": "markdown",
   "metadata": {},
   "source": [
    "## Question 2"
   ]
  },
  {
   "cell_type": "markdown",
   "metadata": {},
   "source": [
    "We now change the rules. At each turn, the player tosses an unbiased coin. If it is a head, she moves forward $ a = 1 $ step. If it is a tail, she moves forward $ b = 2 $ steps."
   ]
  },
  {
   "cell_type": "markdown",
   "metadata": {},
   "source": [
    "As we are now playing with more general Markov chains, **roll** may not be enough. You may want to use **dot(P, A)**, which multiplies a vector P and a matrix A, with a properly built matrix $A$."
   ]
  },
  {
   "cell_type": "code",
   "execution_count": null,
   "metadata": {
    "collapsed": true
   },
   "outputs": [],
   "source": [
    "def next_stepA(P):\n",
    "    return dot(P, A)"
   ]
  },
  {
   "cell_type": "markdown",
   "metadata": {},
   "source": [
    "Visualize the evolution of the position of the player. Comment what you observe."
   ]
  },
  {
   "cell_type": "markdown",
   "metadata": {},
   "source": [
    "**Answer:**"
   ]
  },
  {
   "cell_type": "markdown",
   "metadata": {},
   "source": [
    "## Question 3"
   ]
  },
  {
   "cell_type": "markdown",
   "metadata": {},
   "source": [
    "New rules. We assume now $ a = 1 $, $ b = i^2 $, where $ i $ is the number of the square where the player stands."
   ]
  },
  {
   "cell_type": "markdown",
   "metadata": {},
   "source": [
    "Visualize the evolution of the position of the player. Comment what you observe."
   ]
  },
  {
   "cell_type": "markdown",
   "metadata": {},
   "source": [
    "**Answer:**"
   ]
  },
  {
   "cell_type": "markdown",
   "metadata": {},
   "source": [
    "## Question 4"
   ]
  },
  {
   "cell_type": "markdown",
   "metadata": {},
   "source": [
    "New rules. We assume now $ a = 1 $, $ b = 7 $."
   ]
  },
  {
   "cell_type": "markdown",
   "metadata": {},
   "source": [
    "Visualize the evolution of the position of the player. Comment what you observe."
   ]
  },
  {
   "cell_type": "markdown",
   "metadata": {},
   "source": [
    "**Answer:**"
   ]
  },
  {
   "cell_type": "markdown",
   "metadata": {},
   "source": [
    "## Question 5"
   ]
  },
  {
   "cell_type": "markdown",
   "metadata": {},
   "source": [
    "New rules. We assume now $ a = 2 $, $ b = 4 $."
   ]
  },
  {
   "cell_type": "markdown",
   "metadata": {},
   "source": [
    "Visualize the evolution of the position of the player. Comment what you observe."
   ]
  },
  {
   "cell_type": "markdown",
   "metadata": {},
   "source": [
    "**Answer:**"
   ]
  },
  {
   "cell_type": "markdown",
   "metadata": {},
   "source": [
    "## Question 6"
   ]
  },
  {
   "cell_type": "markdown",
   "metadata": {},
   "source": [
    "New rule: when the player stands on square 35, she rolls a dice. If she scores 6 (which happens with probability $1/6$), she realizes that the game is pointless and quits the game. Redo questions 2 to 5 with this new rule (theory, practice, discussions...)."
   ]
  },
  {
   "cell_type": "markdown",
   "metadata": {},
   "source": [
    "**Answer:**"
   ]
  },
  {
   "cell_type": "markdown",
   "metadata": {},
   "source": [
    "# PageRank on a small graph (if time)"
   ]
  },
  {
   "cell_type": "markdown",
   "metadata": {},
   "source": [
    "The goal of this last part is to test a few variants of PageRank on *small* graphs and see how they differ.\n",
    "\n",
    "It is entirely optional, but it can help you before computing PageRank on bigger graphs."
   ]
  },
  {
   "cell_type": "markdown",
   "metadata": {},
   "source": [
    "Let $ h $ be an integer (use $ h $ = 3 for toy evaluation, $ h = 9 $ for complete evaluation).\n",
    "\n",
    "Let $ G $ be the following graph:\n",
    "- There are $ n = 2^{h+1}-1 $ nodes numbered from $0$ to $ 2^{h+1}-2 $.\n",
    "- The oriented edges are as follows:\n",
    "    - For all nodes $ i\\geq 1 $, there is an edge *from* $ i $ *to* $ \\lfloor (i-1) / 2 \\rfloor $.\n",
    "    - For all nodes $ i\\geq 1 $, there is an edge *from* $ i $ *to* $ i - 1 $.\n",
    "    - For all nodes $j$ such that $ j \\in [2^h-1, 2^{h+1}-2] $, there is an edge *from* $0$ *to* $j$."
   ]
  },
  {
   "cell_type": "markdown",
   "metadata": {},
   "source": [
    "## Question 1"
   ]
  },
  {
   "cell_type": "markdown",
   "metadata": {},
   "source": [
    "Build the stochastic matrix $A$ associated to $G$, defined by $ A(i,j) = 1/deg_+(i)$ if there is an edge from $ i $ to $ j $, 0 otherwise. ($deg_+$: *outdegree*)"
   ]
  },
  {
   "cell_type": "markdown",
   "metadata": {},
   "source": [
    "**Answer:**"
   ]
  },
  {
   "cell_type": "markdown",
   "metadata": {},
   "source": [
    "## Question 2"
   ]
  },
  {
   "cell_type": "markdown",
   "metadata": {},
   "source": [
    "Try to guess which nodes of the graph are important. Justify your answer (e.g. copying/pasting the answer from next question is not enough)."
   ]
  },
  {
   "cell_type": "markdown",
   "metadata": {},
   "source": [
    "**Answer:**"
   ]
  },
  {
   "cell_type": "markdown",
   "metadata": {},
   "source": [
    "## Question 3"
   ]
  },
  {
   "cell_type": "markdown",
   "metadata": {},
   "source": [
    "Compute the PageRank $P$ which is a solution of $ P = P A $. Proceed iteratively starting from $ P = \\mathbf{1}/n $ and updating $ P \\leftarrow P A $ until $ ||P-PA||_1<\\epsilon $ (recommendation: $ \\epsilon = 10^{-8} $). Display for the $10$ first iterations the current top ten (the ten nodes that have highest value in current $P$), the total number of iterations and the final top ten.\n",
    "\n",
    "Configure a maximal number of authorized iterations to avoid infinite loops (recommendation: 2000 iterations). When reaching the maximal number of iterations, your function should display a message saying the process has not converged and give the past top ten obtained."
   ]
  },
  {
   "cell_type": "markdown",
   "metadata": {},
   "source": [
    "**Answer:**"
   ]
  },
  {
   "cell_type": "markdown",
   "metadata": {},
   "source": [
    "## Question 4"
   ]
  },
  {
   "cell_type": "markdown",
   "metadata": {},
   "source": [
    "We add to $b$ new nodes to $G$ ($ b = 10 $) numbered from $ n $ to $ n+b-1 $. For each new node $ i $, we add an edge *from* $ i-1 $ *to* $i$.\n",
    "- Do Questions 1, 2, 3 over with this new graph. What happens (in theory and in practice)?\n",
    "- Use $ P \\leftarrow P A / ||PA||_1 $ for updating $P$. What happens?"
   ]
  },
  {
   "cell_type": "markdown",
   "metadata": {},
   "source": [
    "**Answer:**"
   ]
  },
  {
   "cell_type": "markdown",
   "metadata": {},
   "source": [
    "## Question 5"
   ]
  },
  {
   "cell_type": "markdown",
   "metadata": {},
   "source": [
    "We add one edge to the previous graph, from $ n+b-1 $ to $ n+b-2 $.\n",
    "- Do Questions 1, 2, 3 over with this new graph, along with the update proposed in Question 4. What happens (in theory and in practice)?\n",
    "- Use $ P \\leftarrow d P A + (1-d)\\mathbf{1}  $ for updating $P$, wirh $d = 0.85$. What happens?"
   ]
  },
  {
   "cell_type": "markdown",
   "metadata": {},
   "source": [
    "**Answer:**"
   ]
  },
  {
   "cell_type": "markdown",
   "metadata": {},
   "source": [
    "## Question 6"
   ]
  },
  {
   "cell_type": "markdown",
   "metadata": {},
   "source": [
    "In case you didn't do it already, please compare and discuss the convergence and rankings you observed in this practical."
   ]
  },
  {
   "cell_type": "markdown",
   "metadata": {},
   "source": [
    "**Answer:**"
   ]
  }
 ],
 "metadata": {
  "kernelspec": {
   "display_name": "Python [default]",
   "language": "python",
   "name": "python3"
  },
  "language_info": {
   "codemirror_mode": {
    "name": "ipython",
    "version": 3
   },
   "file_extension": ".py",
   "mimetype": "text/x-python",
   "name": "python",
   "nbconvert_exporter": "python",
   "pygments_lexer": "ipython3",
   "version": "3.5.3"
  },
  "toc": {
   "colors": {
    "hover_highlight": "#DAA520",
    "running_highlight": "#FF0000",
    "selected_highlight": "#FFD700"
   },
   "moveMenuLeft": true,
   "nav_menu": {
    "height": "336px",
    "width": "252px"
   },
   "navigate_menu": true,
   "number_sections": true,
   "sideBar": true,
   "threshold": 4,
   "toc_cell": false,
   "toc_section_display": "block",
   "toc_window_display": false,
   "widenNotebook": false
  }
 },
 "nbformat": 4,
 "nbformat_minor": 1
}
