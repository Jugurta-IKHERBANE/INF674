{
 "cells": [
  {
   "cell_type": "markdown",
   "metadata": {
    "slideshow": {
     "slide_type": "-"
    }
   },
   "source": [
    "# INF674 S8: Wikipedia PageRank\n",
    "\n",
    "## Céline Comte & Fabien Mathieu\n",
    "\n",
    "## 2017 - 2018"
   ]
  },
  {
   "cell_type": "markdown",
   "metadata": {
    "slideshow": {
     "slide_type": "-"
    }
   },
   "source": [
    "You learned the theoretical basis of PageRank in previous session. Time to get your hands dirty."
   ]
  },
  {
   "cell_type": "code",
   "execution_count": 1,
   "metadata": {
    "ExecuteTime": {
     "end_time": "2017-11-20T12:56:41.144863Z",
     "start_time": "2017-11-20T12:56:40.772872Z"
    },
    "init_cell": true,
    "slideshow": {
     "slide_type": "-"
    }
   },
   "outputs": [
    {
     "name": "stdout",
     "output_type": "stream",
     "text": [
      "Populating the interactive namespace from numpy and matplotlib\n"
     ]
    }
   ],
   "source": [
    "%pylab inline"
   ]
  },
  {
   "cell_type": "markdown",
   "metadata": {},
   "source": [
    "# 1. Reminders"
   ]
  },
  {
   "cell_type": "markdown",
   "metadata": {},
   "source": [
    "## Wikipedia Dataset\n",
    "\n",
    "We remind that we use French and English crawls of Wikipedia made in 2013 and available on http://webgraph.di.unimi.it/. The graphs have been *cleaned*: only links from one article to another article are kept.\n",
    "\n",
    "Two main differences with the DBLP database:\n",
    "- The graphs are *oriented*: a link from $i$ to $j$ does not mean there is a link from $j$ to $i$.\n",
    "- The graphs are bigger. You need to be smart on the way you write your code, both from theoretical and practical points of view. \n",
    "\n",
    "The French crawl is made of three files stored in the file ``frwiki-2013.zip``:\n",
    "- **frwiki-2013.ids** contains the article titles (one per line, $ n $ lines in total). By convention, each article is associated to its line number (from $ 0 $ to $ n-1 $).\n",
    "- **frwiki-2013.adja** contains the adjacency list of the graph: line $ i $ (from $ 0 $ to $ n-1 $) contains, in plain ASCII, the numbers of the articles that are linked by $ i $. \n",
    "- **frwiki-2013-t.adja** contains the adjacency list of the transposed graph: line $ i $ (from $ 0 $ to $ n-1 $) contains the numbers of the articles that have a link to $ i $.\n",
    "\n",
    "The English crawl is provided in a similar way, with the prefix **enwiki-2013** instead of **frwiki-2013**. Note that it is roughly three times bigger than the French crawl. Feel free to use the dataset(s) you want, but starting with French is strongly recommended (a full PageRank computation can take a few minutes on a slow machine).\n",
    "\n",
    "This practical assumes the datasets are stored in **../Datasets/** relatively to your working directory. If it not the case, just change the following cell accordingly."
   ]
  },
  {
   "cell_type": "code",
   "execution_count": 2,
   "metadata": {
    "ExecuteTime": {
     "end_time": "2017-11-20T12:56:41.152883Z",
     "start_time": "2017-11-20T12:56:41.148872Z"
    },
    "collapsed": true,
    "init_cell": true
   },
   "outputs": [],
   "source": [
    "directory = \"../Datasets/\""
   ]
  },
  {
   "cell_type": "markdown",
   "metadata": {},
   "source": [
    "## Caching results"
   ]
  },
  {
   "cell_type": "markdown",
   "metadata": {},
   "source": [
    "It can be a burden to parse again and again the same datas from ASCII files and convert them into a proper format. The following function will be used to automatically save the variables you extract from the dataset to a more numpy-friendly format. Currently comes in two flavors:\n",
    "- using **compress = False** will store variables in uncompressed *npy* files. Very fast to read (especially if you have a SSD drive), but storage costly.\n",
    "- using **compress = True** will store variables in compressed *npy* files. Storage efficient, but CPU costly. Can be interesting in case you have a mechanic hard drive, ultra-fast CPU or storage shortage.\n",
    "\n",
    "Also note the presence of a *rebuild* flag to force the variable to be recomputed.\n",
    "\n",
    "Thanks to Pierre-Antoine (ACN 2017-2018) for hinting the approach (even if his solution based on *npz* seemed to only work on his laptop for some reason, so I had to try something else)."
   ]
  },
  {
   "cell_type": "markdown",
   "metadata": {},
   "source": [
    "**Remark:** compared to previous versions, the code has slightly been updated to be able to pass the transposition through a ``transpose`` boolean. That been said, your old ``gz`` files from previous practicals should still work, so you **do not** have to recompute them."
   ]
  },
  {
   "cell_type": "code",
   "execution_count": 3,
   "metadata": {
    "ExecuteTime": {
     "end_time": "2017-11-20T12:56:41.212042Z",
     "start_time": "2017-11-20T12:56:41.155890Z"
    },
    "collapsed": true,
    "init_cell": true
   },
   "outputs": [],
   "source": [
    "import zipfile\n",
    "import gzip\n",
    "import codecs\n",
    "\n",
    "def use_cache(builder, prefix=\"frwiki-2013\", variable = \"size\", transpose=False, rebuild=False, compress=False):            \n",
    "    if transpose:\n",
    "        t = \"-t\"\n",
    "    else:\n",
    "        t = \"\"\n",
    "    try:\n",
    "        if rebuild:\n",
    "            raise ValueError('Value needs to be rebuilt')\n",
    "        if compress:\n",
    "            with gzip.GzipFile(directory+prefix+t+\"-\"+variable+\".npy.gz\", \"r\") as f:\n",
    "                return np.load(f)\n",
    "        else:\n",
    "            return np.load(directory+prefix+t+\"-\"+variable+\".npy\")\n",
    "    except:\n",
    "        data = builder(prefix, transpose=transpose)\n",
    "        if compress:\n",
    "            with gzip.GzipFile(directory+prefix+t+\"-\"+variable+\".npy.gz\", \"w\") as f:\n",
    "                np.save(f, data)\n",
    "        else:\n",
    "            np.save(directory+prefix+t+\"-\"+variable, data)\n",
    "        return data\n",
    "# Set default behavior\n",
    "compress = True"
   ]
  },
  {
   "cell_type": "markdown",
   "metadata": {},
   "source": [
    "Most of the core functions below have the following behavior: first they try to load the results from an npy file if one exists, otherwise they parse the dataset to extract the information and save it in an npy file for the next use. This approach avoids re-doing the same work over and over again.\n",
    "\n",
    "You are strongly encouraged to use the same tactic for saving your PageRank computations."
   ]
  },
  {
   "cell_type": "markdown",
   "metadata": {},
   "source": [
    "## Size and degree"
   ]
  },
  {
   "cell_type": "markdown",
   "metadata": {},
   "source": [
    "The following function gives the number of nodes $n$ and the total number of *oriented edges* $m$ of the graph."
   ]
  },
  {
   "cell_type": "code",
   "execution_count": 4,
   "metadata": {
    "ExecuteTime": {
     "end_time": "2017-11-20T12:56:41.240115Z",
     "start_time": "2017-11-20T12:56:41.215049Z"
    },
    "collapsed": true,
    "init_cell": true
   },
   "outputs": [],
   "source": [
    "def build_size(prefix = \"frwiki-2013\", transpose=False):\n",
    "    n = 0\n",
    "    m = 0\n",
    "    with zipfile.ZipFile(directory+prefix+\".zip\") as myzip:\n",
    "        with myzip.open(prefix+\".adja\") as f:\n",
    "            for line in f:\n",
    "                n += 1\n",
    "                m += len([int(s) for s in line.split()])\n",
    "    size = array([n, m])\n",
    "    return size\n",
    "\n",
    "def get_size(prefix = \"frwiki-2013\", rebuild = False):\n",
    "    return use_cache(build_size, prefix, variable = \"size\", rebuild = rebuild, compress = compress)"
   ]
  },
  {
   "cell_type": "markdown",
   "metadata": {},
   "source": [
    "Let us run it once to create the value if you didn't keep it from previous practicals."
   ]
  },
  {
   "cell_type": "code",
   "execution_count": 5,
   "metadata": {
    "ExecuteTime": {
     "end_time": "2017-11-20T12:56:41.258164Z",
     "start_time": "2017-11-20T12:56:41.243123Z"
    }
   },
   "outputs": [
    {
     "name": "stdout",
     "output_type": "stream",
     "text": [
      "Number of nodes in frwiki-2013: 1352053\n",
      "Number of edges in frwiki-2013: 17189215\n"
     ]
    }
   ],
   "source": [
    "prefix = \"frwiki-2013\"\n",
    "n, m = get_size(prefix)\n",
    "print(\"Number of nodes in %s: %s\" % (prefix, n))\n",
    "print(\"Number of edges in %s: %s\" % (prefix, m//2))"
   ]
  },
  {
   "cell_type": "markdown",
   "metadata": {},
   "source": [
    "Now, the function for extracting degree. Remind that in oriented graphs, you have to distinguish between indegree and outdegree (cf the *Power Laws* practical)."
   ]
  },
  {
   "cell_type": "code",
   "execution_count": 6,
   "metadata": {
    "ExecuteTime": {
     "end_time": "2017-11-20T12:56:41.301278Z",
     "start_time": "2017-11-20T12:56:41.261173Z"
    },
    "collapsed": true,
    "init_cell": true
   },
   "outputs": [],
   "source": [
    "def build_degree(prefix = \"frwiki-2013\", transpose=False):\n",
    "    if transpose:\n",
    "        t = \"-t\"\n",
    "    else:\n",
    "        t = \"\"\n",
    "    n, m = get_size(prefix)\n",
    "    degree = zeros(n, dtype = int)\n",
    "    i = 0\n",
    "    with zipfile.ZipFile(directory+prefix+\".zip\") as myzip:\n",
    "        with myzip.open(prefix+t+\".adja\") as f:\n",
    "            for line in f:\n",
    "                degree[i] = len([int(s) for s in line.split()])\n",
    "                i += 1\n",
    "    return degree\n",
    "\n",
    "def get_degree(prefix = \"frwiki-2013\", transpose=False, rebuild = False):\n",
    "    return use_cache(build_degree, prefix, variable = \"degree\", transpose=transpose, rebuild = rebuild, compress = compress)"
   ]
  },
  {
   "cell_type": "markdown",
   "metadata": {},
   "source": [
    "Let us parse the degrees."
   ]
  },
  {
   "cell_type": "code",
   "execution_count": 7,
   "metadata": {
    "ExecuteTime": {
     "end_time": "2017-11-20T12:56:41.424604Z",
     "start_time": "2017-11-20T12:56:41.307293Z"
    },
    "collapsed": true
   },
   "outputs": [],
   "source": [
    "out_deg = get_degree(prefix)\n",
    "in_deg = get_degree(prefix, transpose = True)\n",
    "\n",
    "out_dist = bincount(out_deg)\n",
    "in_dist = bincount(in_deg)"
   ]
  },
  {
   "cell_type": "code",
   "execution_count": 8,
   "metadata": {
    "ExecuteTime": {
     "end_time": "2017-11-20T12:56:43.938293Z",
     "start_time": "2017-11-20T12:56:41.427613Z"
    }
   },
   "outputs": [
    {
     "data": {
      "image/png": "[encoded data removed]",
      "text/plain": [
       "<matplotlib.figure.Figure at 0x1ab4293fa58>"
      ]
     },
     "metadata": {},
     "output_type": "display_data"
    }
   ],
   "source": [
    "loglog(sort(out_deg), 1-linspace(0,1,len(out_deg)), 'r', label = \"Out Degree\")\n",
    "loglog(sort(in_deg), 1-linspace(0,1,len(in_deg)), 'b', label = \"In Degree\")\n",
    "xlabel(\"Degree\")\n",
    "ylabel(\"CCDF\")\n",
    "title(prefix)\n",
    "legend(loc = 3)\n",
    "show()"
   ]
  },
  {
   "cell_type": "markdown",
   "metadata": {},
   "source": [
    "## Adjacency List"
   ]
  },
  {
   "cell_type": "markdown",
   "metadata": {},
   "source": [
    "In order to avoid crippling your RAM with a full matrix, we'll use the same format as the one introduced in previous practicals."
   ]
  },
  {
   "cell_type": "code",
   "execution_count": 9,
   "metadata": {
    "ExecuteTime": {
     "end_time": "2017-11-20T12:56:43.985704Z",
     "start_time": "2017-11-20T12:56:43.941585Z"
    },
    "collapsed": true,
    "init_cell": true
   },
   "outputs": [],
   "source": [
    "def build_adjacency(prefix=\"frwiki-2013\", transpose=False):\n",
    "    if transpose:\n",
    "        t = \"-t\"\n",
    "    else:\n",
    "        t = \"\"\n",
    "    n, m = get_size(prefix)\n",
    "    A = zeros(n + m + 1, dtype=int)\n",
    "    A[0] = n + 1  # Don't forget the +1!!!\n",
    "    with zipfile.ZipFile(directory + prefix + \".zip\") as myzip:\n",
    "        with myzip.open(prefix + t + \".adja\") as f:\n",
    "            i = 0\n",
    "            for line in f:\n",
    "                neighbors = array(line.split(), dtype=int)\n",
    "                A[i + 1] = A[i] + len(neighbors)\n",
    "                A[A[i]:A[i + 1]] = neighbors\n",
    "                i += 1\n",
    "    return A\n",
    "\n",
    "\n",
    "def get_adjacency(prefix=\"frwiki-2013\", transpose=False, rebuild=False):\n",
    "    return use_cache(\n",
    "        build_adjacency,\n",
    "        prefix,\n",
    "        variable=\"adjacency\",\n",
    "        transpose=transpose,\n",
    "        rebuild=rebuild,\n",
    "        compress=compress)"
   ]
  },
  {
   "cell_type": "markdown",
   "metadata": {},
   "source": [
    "The result, *A*, is a numpy array of integers of size $n+m+1$, organized as follows:\n",
    "- The $n+1$ first values are indexes\n",
    "- The $m$ last values are destinations\n",
    "- The neighbors of a node $i$ are stored in A[A[i]:A[i+1]]"
   ]
  },
  {
   "cell_type": "code",
   "execution_count": 10,
   "metadata": {
    "ExecuteTime": {
     "end_time": "2017-11-20T12:56:45.221716Z",
     "start_time": "2017-11-20T12:56:43.989716Z"
    },
    "collapsed": true
   },
   "outputs": [],
   "source": [
    "A = get_adjacency(prefix)"
   ]
  },
  {
   "cell_type": "markdown",
   "metadata": {},
   "source": [
    "## Index / Name conversion"
   ]
  },
  {
   "cell_type": "markdown",
   "metadata": {},
   "source": [
    "The following cell extracts the names."
   ]
  },
  {
   "cell_type": "code",
   "execution_count": 11,
   "metadata": {
    "ExecuteTime": {
     "end_time": "2017-11-20T12:56:45.248720Z",
     "start_time": "2017-11-20T12:56:45.224683Z"
    },
    "collapsed": true,
    "init_cell": true,
    "scrolled": true
   },
   "outputs": [],
   "source": [
    "def build_ids(prefix=\"dblp\", transpose=False):\n",
    "    n, m = get_size(prefix)\n",
    "    delimiter = zeros(n + 1, dtype=int)\n",
    "    text = \"\"\n",
    "    with zipfile.ZipFile(directory + prefix + \".zip\") as myzip:\n",
    "        with myzip.open(prefix + \".ids\") as f:\n",
    "            i = 0\n",
    "            for line in codecs.iterdecode(f, 'utf8'):\n",
    "                delimiter[i + 1] = delimiter[i] + len(line) - 1\n",
    "                text += line[0:-1]\n",
    "                i += 1\n",
    "    return [delimiter, text]\n",
    "\n",
    "\n",
    "def get_ids(prefix=\"dblp\", rebuild=False):\n",
    "    return use_cache(\n",
    "        build_ids, prefix, variable=\"ids\", rebuild=rebuild, compress=compress)"
   ]
  },
  {
   "cell_type": "markdown",
   "metadata": {},
   "source": [
    "Then the traditional **index2name** translator (remark: name2index will not be required for this practical)."
   ]
  },
  {
   "cell_type": "code",
   "execution_count": 12,
   "metadata": {
    "ExecuteTime": {
     "end_time": "2017-11-20T12:56:45.263763Z",
     "start_time": "2017-11-20T12:56:45.252732Z"
    },
    "collapsed": true,
    "init_cell": true
   },
   "outputs": [],
   "source": [
    "def index2name(index, prefix = \"dblp\", delimiter = None, text = None):\n",
    "    if delimiter is None:\n",
    "        delimiter, text = get_ids(prefix)\n",
    "    return text[delimiter[index]:delimiter[index+1]]"
   ]
  },
  {
   "cell_type": "code",
   "execution_count": 13,
   "metadata": {
    "ExecuteTime": {
     "end_time": "2017-11-20T12:56:45.648811Z",
     "start_time": "2017-11-20T12:56:45.267771Z"
    }
   },
   "outputs": [
    {
     "data": {
      "text/plain": [
       "'Acidocétose'"
      ]
     },
     "execution_count": 13,
     "metadata": {},
     "output_type": "execute_result"
    }
   ],
   "source": [
    "index2name(1231231, prefix)"
   ]
  },
  {
   "cell_type": "markdown",
   "metadata": {},
   "source": [
    "# 2.  Computing Rankings "
   ]
  },
  {
   "cell_type": "markdown",
   "metadata": {},
   "source": [
    "## Question 1 "
   ]
  },
  {
   "cell_type": "markdown",
   "metadata": {},
   "source": [
    "Propose a function that takes for input a vector $ P $ of size $ n $, an integer $ k>0 $ (default to $ k=10 $) and a prefix for a dataset of size $n$. The function should print the titles of the $ k $ articles with highest value according to $ P $. Test your function by displaying the names of the $ k $ articles with highest indegree, then the name of the $k$ articles with highest outdegree.\n",
    "\n",
    "In terms of ranking, which seems to be the more relevant: indegree or outdegree? (remember to try and justify your answer, please)"
   ]
  },
  {
   "cell_type": "markdown",
   "metadata": {},
   "source": [
    "**Answer:** "
   ]
  },
  {
   "cell_type": "markdown",
   "metadata": {},
   "source": [
    "## Question 2"
   ]
  },
  {
   "cell_type": "markdown",
   "metadata": {},
   "source": [
    "Let $A$ the transition matrix seen in course, defined by\n",
    "$$A[i,j] = \\frac{1}{outdegree(i)}\\text{ if }i\\rightarrow j, 0\\text{ otherwise.}$$\n",
    "\n",
    "Compute a PageRank based on the following iteration: do $P_{n+1} = \\alpha P_n A + (1-\\alpha)Z$ until $||P_{n+1}-P_n||_1\\leq \\epsilon ||P_n||_1$.\n",
    "\n",
    "You will probably use a $P_{old}$ vector to store previous iteration and a $P_{new}$ vector to store the new one.\n",
    "\n",
    "You will monitor (e.g. print) the time per iteration and the total time (you can use ``import time``, ``time.clock()``).\n",
    "\n",
    "Comment the results (top $k$).\n",
    "\n",
    "Recommended values: $\\alpha = 0.7$, $Z = [1,\\ldots, 1]/n$, $\\epsilon=0.1$ (you may go down to $0.01$ if you have a fast computer)."
   ]
  },
  {
   "cell_type": "markdown",
   "metadata": {},
   "source": [
    "**Answer:**"
   ]
  },
  {
   "cell_type": "code",
   "execution_count": 14,
   "metadata": {
    "ExecuteTime": {
     "end_time": "2017-11-20T12:56:45.660816Z",
     "start_time": "2017-11-20T12:56:45.651795Z"
    },
    "collapsed": true
   },
   "outputs": [],
   "source": [
    "import time"
   ]
  },
  {
   "cell_type": "markdown",
   "metadata": {},
   "source": [
    "# 3. Optimization"
   ]
  },
  {
   "cell_type": "markdown",
   "metadata": {},
   "source": [
    "The algorithm above may be a little bit slow. Let's do some tuning. You will learn to speed up your algorithm by mixing theoretical and practical considerations, and it will allow you to play more with the last part. Don't forget to compare your results to the previous question to verify that you did not break anything.\n",
    "\n",
    "It is OK if the name of your PageRank function remains the same thorough all questions."
   ]
  },
  {
   "cell_type": "markdown",
   "metadata": {},
   "source": [
    "## Question 1"
   ]
  },
  {
   "cell_type": "markdown",
   "metadata": {},
   "source": [
    "Playing with $ \\alpha $ and with the precision may help to speed up the process. Is it a good idea?"
   ]
  },
  {
   "cell_type": "markdown",
   "metadata": {},
   "source": [
    "**Answer:** "
   ]
  },
  {
   "cell_type": "markdown",
   "metadata": {},
   "source": [
    "## Question 2"
   ]
  },
  {
   "cell_type": "markdown",
   "metadata": {},
   "source": [
    "Try to downsize the time per iteration. How many divisions do you perform per iteration? If it is $m$, you should be able to cut that to $ n $ (with better memory access too). Beware of leaves! How does the time per iteration evolve? Also note that for some obscure reasons, multiplications are slightly faster than divisions in Python."
   ]
  },
  {
   "cell_type": "markdown",
   "metadata": {},
   "source": [
    "**Answer:** "
   ]
  },
  {
   "cell_type": "markdown",
   "metadata": {},
   "source": [
    "## Question 3"
   ]
  },
  {
   "cell_type": "markdown",
   "metadata": {},
   "source": [
    "Downsize the number of iterations. Instead of using a new vector for $PA$, try to do the update in place. How does the number of iterations evolve (note: you will probably not notice a difference if $\\epsilon$ is too large, you should try $\\epsilon=0.01$)? For the record, this is called the Gauss-Seidel method, and one can prove that it enhances convergence."
   ]
  },
  {
   "cell_type": "markdown",
   "metadata": {},
   "source": [
    "**Answer:** "
   ]
  },
  {
   "cell_type": "markdown",
   "metadata": {},
   "source": [
    "## Question 4"
   ]
  },
  {
   "cell_type": "markdown",
   "metadata": {},
   "source": [
    "For practical use, the ranking matters but not the actual importance values. Replace the stopping condition by *last iteration did not change the ranking of the top $ k $ articles* (e.g. with $ k = 20 $). If you did the previous optimization, you probably do not need to store two distinct values of $P$."
   ]
  },
  {
   "cell_type": "markdown",
   "metadata": {},
   "source": [
    "**Answer:** "
   ]
  },
  {
   "cell_type": "markdown",
   "metadata": {},
   "source": [
    "## Question 5 (bonus)"
   ]
  },
  {
   "cell_type": "markdown",
   "metadata": {},
   "source": [
    "Look at the following code. Can you tell what it does? Compare it with the previous PageRank function in terms of results and efficiency (time and memory)."
   ]
  },
  {
   "cell_type": "code",
   "execution_count": 15,
   "metadata": {
    "ExecuteTime": {
     "end_time": "2017-11-20T12:56:45.716966Z",
     "start_time": "2017-11-20T12:56:45.664829Z"
    },
    "collapsed": true
   },
   "outputs": [],
   "source": [
    "def diteration(prefix = \"frwiki-2013\", alpha = 0.75, k = 20):\n",
    "    # Setup\n",
    "    n, m = get_size(prefix)\n",
    "    H = zeros(n)\n",
    "    F = ones(n)\n",
    "    A = get_adjacency(prefix)\n",
    "    total_time = time.clock()\n",
    "    ind = argsort(H)[-1:-k-1:-1]\n",
    "    stable = False\n",
    "    iter = 0\n",
    "    # Outer loop\n",
    "    while not(stable):\n",
    "        iter += 1\n",
    "        iter_time = time.clock()\n",
    "        ind_old = ind\n",
    "        # Inner loop\n",
    "        for i in nditer(nonzero(F>alpha*mean(F))):\n",
    "            outnodes = A[A[i]:A[i+1]]\n",
    "            H[i] += F[i]\n",
    "            if outnodes.size:\n",
    "                F[outnodes] += alpha*F[i]/outnodes.size\n",
    "            F[i]=0\n",
    "        ind = argsort(H)[-1:-k-1:-1]\n",
    "        stable = (ind_old == ind).all()\n",
    "        print(\"Iteration {}: time \".format(iter)+str(time.clock()-iter_time))\n",
    "    print(\"Total time: \"+str(time.clock()-total_time)+\" ({} iterations)\".format(iter))\n",
    "    return H "
   ]
  },
  {
   "cell_type": "markdown",
   "metadata": {},
   "source": [
    "**Answer:** "
   ]
  },
  {
   "cell_type": "markdown",
   "metadata": {},
   "source": [
    "## Question 6"
   ]
  },
  {
   "cell_type": "markdown",
   "metadata": {},
   "source": [
    "Instead of using $ [1,\\ldots, 1] $ as initial value, why not use a previously saved computation? Interest: if you already computed a PageRank for a small $ k $ and want better precision (larger $ k $), you do not need to restart from scratch. For the record, this is how one updates PageRank of Web graphs when a fresh crawl is made: one uses the old PageRank as an educated guess for the new PageRank."
   ]
  },
  {
   "cell_type": "markdown",
   "metadata": {},
   "source": [
    "**Answer:** "
   ]
  },
  {
   "cell_type": "markdown",
   "metadata": {},
   "source": [
    "## Question 7 (bonus)"
   ]
  },
  {
   "cell_type": "markdown",
   "metadata": {},
   "source": [
    "Discuss what should be done for computing PageRank on a much larger graph (hundred of millions, or even billions of nodes)."
   ]
  },
  {
   "cell_type": "markdown",
   "metadata": {},
   "source": [
    "**Answer:** "
   ]
  },
  {
   "cell_type": "markdown",
   "metadata": {},
   "source": [
    "# 4. Customization"
   ]
  },
  {
   "cell_type": "markdown",
   "metadata": {},
   "source": [
    "The only semantic information you have about the datasets is the name of the articles. Is it enough to get pertinent pages relatively to a given subject?\n",
    "\n",
    "**Remark:** It is strongly recommended (but not mandatory) that you work on the Optimization questions *before* starting this part."
   ]
  },
  {
   "cell_type": "markdown",
   "metadata": {},
   "source": [
    "## Question 1"
   ]
  },
  {
   "cell_type": "markdown",
   "metadata": {},
   "source": [
    "The algorithm uses a uniform vector $ Z = [1, \\ldots, 1] $. Modify it to take an additional argument **s** (a string) such that  $ Z[i] $ is  1 if **s** is in the title of $ i $, 0 otherwise. Save your $ Z $ and $ P $ in files with **s** in the name. Test your algorithm on some values of **s** and comment. Possible inputs (don't hesitate to propose your owns; some inputs work better than others):\n",
    "- for **frwiki-2013**: **film**, **biologie**, **physique**, **philosoph**, ... \n",
    "- for **enwiki-2013**: **movie**, **biology**, **physic**, **philosoph**, ... \n",
    "As usual, comment the results!"
   ]
  },
  {
   "cell_type": "markdown",
   "metadata": {},
   "source": [
    "**Answer:** "
   ]
  },
  {
   "cell_type": "markdown",
   "metadata": {},
   "source": [
    "## Question 2"
   ]
  },
  {
   "cell_type": "markdown",
   "metadata": {},
   "source": [
    "Using a non-uniform $ Z $ will create a bias in favor of the pages that contain **s** in the title. A simple workaround consists in ranking according to $ P-(1-\\alpha)Z $ instead of $ P $. $ P-(1-\\alpha)Z $ is called the residual PageRank.\n",
    "\n",
    "Explain what is the meaning of $P-(1-\\alpha)Z$ and modify your algorithm to output that instead of $P$.\n",
    "\n",
    "**Remark:** Depending on the optimizations you made, it may not be $P-(1-\\alpha)Z$ that you have to consider (if you don't understand this remark, it means you can probably safely ignore it)."
   ]
  },
  {
   "cell_type": "markdown",
   "metadata": {},
   "source": [
    "**Answer:** "
   ]
  },
  {
   "cell_type": "markdown",
   "metadata": {},
   "source": [
    "## Question 3 (bonus)"
   ]
  },
  {
   "cell_type": "markdown",
   "metadata": {},
   "source": [
    "Adapt the algorithm from *3. Optimization Question 5* to compute the residual PageRank. Discuss the differences.\n",
    "\n",
    "Remark: the optimization from Question 3.6 is not easy to make on the algorithm from 3.5. Don't try to implement it."
   ]
  },
  {
   "cell_type": "markdown",
   "metadata": {},
   "source": [
    "**Answer:** "
   ]
  },
  {
   "cell_type": "markdown",
   "metadata": {},
   "source": [
    "## Question 4 (bonus)"
   ]
  },
  {
   "cell_type": "markdown",
   "metadata": {},
   "source": [
    "Try the other dataset (English / French)."
   ]
  },
  {
   "cell_type": "markdown",
   "metadata": {},
   "source": [
    "**Answer:** "
   ]
  }
 ],
 "metadata": {
  "anaconda-cloud": {},
  "kernelspec": {
   "display_name": "Python 3",
   "language": "python",
   "name": "python3"
  },
  "language_info": {
   "codemirror_mode": {
    "name": "ipython",
    "version": 3
   },
   "file_extension": ".py",
   "mimetype": "text/x-python",
   "name": "python",
   "nbconvert_exporter": "python",
   "pygments_lexer": "ipython3",
   "version": "3.6.2"
  },
  "nav_menu": {},
  "toc": {
   "colors": {
    "hover_highlight": "#DAA520",
    "navigate_num": "#000000",
    "navigate_text": "#333333",
    "running_highlight": "#FF0000",
    "selected_highlight": "#FFD700",
    "sidebar_border": "#EEEEEE",
    "wrapper_background": "#FFFFFF"
   },
   "moveMenuLeft": true,
   "nav_menu": {
    "height": "438px",
    "width": "252px"
   },
   "navigate_menu": true,
   "number_sections": false,
   "sideBar": true,
   "threshold": 4,
   "toc_cell": false,
   "toc_section_display": "block",
   "toc_window_display": true,
   "widenNotebook": false
  },
  "toc_position": {
   "height": "509px",
   "left": "0px",
   "right": "1042px",
   "top": "106px",
   "width": "238px"
  }
 },
 "nbformat": 4,
 "nbformat_minor": 1
}
