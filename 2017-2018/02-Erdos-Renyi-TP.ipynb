{
 "cells": [
  {
   "cell_type": "markdown",
   "metadata": {
    "nbpresent": {
     "id": "81efed75-8a3d-4962-8807-dad952e4563d"
    }
   },
   "source": [
    "# INF 674 S1: Erdös-Rényi Graphs"
   ]
  },
  {
   "cell_type": "markdown",
   "metadata": {
    "nbpresent": {
     "id": "fcaf13cd-a25a-44b6-9656-c42d8b820e07"
    }
   },
   "source": [
    "## Céline Comte & Fabien Mathieu"
   ]
  },
  {
   "cell_type": "markdown",
   "metadata": {
    "nbpresent": {
     "id": "6911859b-b270-4f59-b9ed-31d13baa5845"
    }
   },
   "source": [
    "## 2017 - 2018"
   ]
  },
  {
   "cell_type": "markdown",
   "metadata": {
    "nbpresent": {
     "id": "ea9f5c14-13bc-4c7e-97aa-8bf071651771"
    }
   },
   "source": [
    "The Erdös-Rényi graph $G(n,p)$ is our second example of undirected random graph.\n",
    "Unlike the Galton-Watson process, the population contains a finite number $n$ of nodes\n",
    "and the randomness lies in the construction of the edges.\n",
    "Specficially, for any pair of *distinct* nodes $u$ and $v$,\n",
    "there is an edge between $u$ and $v$ with probability $p$,\n",
    "independently of the existence of the other edges.\n",
    "\n",
    "If you want to deepen your theoretical knowledge of Erdös-Rényi graphs, you can read (this is **not** mandatory)\n",
    "- Lectures 3 and 4 from the course [Networks by Daron Acemoglu and Asu Ozdaglar][acemoglu],\n",
    "- Chapters 2, 3 and 4 from the book [Epidemics and Rumours in Complex Networks by Moez Draief and Laurent Massoulié][massoulie].\n",
    "\n",
    "[acemoglu]: https://ocw.mit.edu/courses/economics/14-15j-networks-fall-2009/index.htm \"Networks by Daron Acemoglu and Asu Ozdaglar\"\n",
    "[massoulie]: https://www.cambridge.org/core/books/epidemics-and-rumours-in-complex-networks/8C1D162F44C2C09F2B913038A7FA8BF6 \"Epidemics and Rumours in Complex Networks by Moez Draief and Laurent Massoulié\""
   ]
  },
  {
   "cell_type": "code",
   "execution_count": null,
   "metadata": {
    "collapsed": true
   },
   "outputs": [],
   "source": [
    "%pylab inline"
   ]
  },
  {
   "cell_type": "markdown",
   "metadata": {
    "nbpresent": {
     "id": "a55ea14f-7e54-4b3f-8ea2-7a423c12c8ba"
    }
   },
   "source": [
    "# 1. Draw an Erdös-Rényi graph"
   ]
  },
  {
   "cell_type": "markdown",
   "metadata": {
    "nbpresent": {
     "id": "20552171-7dda-4717-9331-88e55705129c"
    }
   },
   "source": [
    "## Question 1"
   ]
  },
  {
   "cell_type": "markdown",
   "metadata": {
    "nbpresent": {
     "id": "e106fc71-d539-4690-959d-1813c78915e4"
    }
   },
   "source": [
    "Propose a function ``erdos_renyi`` that returns a realization of the Erdös-Rényi graph $G(n,p)$.\n",
    "\n",
    "The graph can be returned as a list of adjacency lists. For example, if you have the following graph (it is just an example),"
   ]
  },
  {
   "cell_type": "code",
   "execution_count": null,
   "metadata": {
    "hide_input": true
   },
   "outputs": [],
   "source": [
    "import networkx as nx\n",
    "G=nx.Graph()\n",
    "G.add_edge(0,3)\n",
    "G.add_edge(0,4)\n",
    "G.add_edge(1,4)\n",
    "G.add_edge(2,3)\n",
    "G.add_edge(2,4)\n",
    "nx.draw_networkx(G,with_labels=True)"
   ]
  },
  {
   "cell_type": "markdown",
   "metadata": {},
   "source": [
    "then the output could look like"
   ]
  },
  {
   "cell_type": "raw",
   "metadata": {},
   "source": [
    "[[3, 4], [4], [3,4], [0,2], [0, 1, 2]]"
   ]
  },
  {
   "cell_type": "markdown",
   "metadata": {},
   "source": [
    "(or more probably, if you use ``numpy`` arrays)"
   ]
  },
  {
   "cell_type": "raw",
   "metadata": {},
   "source": [
    "[array([3, 4], dtype=int64), array([4], dtype=int64), array([3, 4], dtype=int64), array([0, 2], dtype=int64), array([0, 1, 2], dtype=int64)]"
   ]
  },
  {
   "cell_type": "markdown",
   "metadata": {},
   "source": [
    "**Remarks:**\n",
    "1. Since this function will be used over and over again throughout the practical, we recommend that your final implementation relies on ``numpy`` functions rather than ``for`` loops in order to boost the performance.\n",
    "2. There are more than one way to do that. Remember that you want an undirected graph. In particular, if $v$ is in the adjacency list of $u$, then $u$ must be in the adjacency list of $v$."
   ]
  },
  {
   "cell_type": "markdown",
   "metadata": {},
   "source": [
    "**Code:**"
   ]
  },
  {
   "cell_type": "code",
   "execution_count": null,
   "metadata": {
    "collapsed": true
   },
   "outputs": [],
   "source": []
  },
  {
   "cell_type": "markdown",
   "metadata": {
    "nbpresent": {
     "id": "bf357cfd-d4fe-480c-8799-169a43ecc61f"
    }
   },
   "source": [
    "## Question 2"
   ]
  },
  {
   "cell_type": "markdown",
   "metadata": {
    "nbpresent": {
     "id": "0411f69a-c6c6-400e-92d8-c0083b1117dc"
    }
   },
   "source": [
    "Propose a function ``size_components`` that takes as input the adjacency list of an undirected graph and returns the sizes of its connected components."
   ]
  },
  {
   "cell_type": "markdown",
   "metadata": {},
   "source": [
    "**Code:**"
   ]
  },
  {
   "cell_type": "code",
   "execution_count": null,
   "metadata": {
    "collapsed": true
   },
   "outputs": [],
   "source": []
  },
  {
   "cell_type": "markdown",
   "metadata": {},
   "source": [
    "# 2. Reed-Frost epidemic"
   ]
  },
  {
   "cell_type": "markdown",
   "metadata": {},
   "source": [
    "We now describe the Reed-Frost epidemic, which is a simple model to analyze the propagation of an epidemic (disease, rumour...) in a finite population. As we will see, this random process is strongly related to the Erdös-Rényi random graph.\n",
    "\n",
    "We consider a finite population of $n$ individuals indexed by $\\{1,\\ldots,n\\}$. The Reed-Frost epidemic propagates step-by-step in the population as follows. At step $0$, a single individual $u \\in \\{1,\\ldots,n\\}$ is *infected* and the others are *susceptible*. Then, any individual that is infected at some step is contagious during one step and is (definitely) removed at the next step. While it is contagious, this individual can infect any other susceptible individual independently at random with probability $p$. Hence, at the end of any step $t \\ge 1$, the individuals that were infected at the end of step $t-1$ are removed, the susceptible individuals of step $t-1$ that were infected during step $t$ become infected, and the others remain susceptible.\n",
    "\n",
    "The Reed-Frost epidemic is related to the Erdös-Rényi random graph as follows. If we consider a Reed-Frost epidemic that starts at some individual $u$ and has a probability $p$ of infection, then the individuals that are infected at some step $t \\ge 0$ correspond to the nodes that are at distance $t$ of $u$ in the Erdös-Rényi random graph $G(n,p)$."
   ]
  },
  {
   "cell_type": "markdown",
   "metadata": {
    "nbpresent": {
     "id": "6ffed138-4ef0-48e1-8982-fd7e6c5efde5"
    }
   },
   "source": [
    "## Question 1"
   ]
  },
  {
   "cell_type": "markdown",
   "metadata": {
    "nbpresent": {
     "id": "18a51b42-7cff-43ce-bdfa-e61de4e5ebc9"
    }
   },
   "source": [
    "Using the relation with Erdös-Rényi graphs, adapt the functions of Exercice 1 to compute the number of nodes that are eventually infected in the Reed-Frost epidemic, starting from a given node of the population. The inputs of this new function ``size_infection`` are the number $n$ of nodes (say, between 1000 and 10000) and the probability $p$ of infection.\n",
    "\n",
    "Plot the average number of nodes that are eventually infected in a Reed-Frost epidemic as a function $p$.\n",
    "You should choose $n$, the range of $p$ (display critical values) and the number of trials wisely according to your machine capabilities.\n",
    "\n",
    "Discuss the results."
   ]
  },
  {
   "cell_type": "markdown",
   "metadata": {},
   "source": [
    "**Code:**"
   ]
  },
  {
   "cell_type": "code",
   "execution_count": null,
   "metadata": {
    "collapsed": true
   },
   "outputs": [],
   "source": []
  },
  {
   "cell_type": "markdown",
   "metadata": {},
   "source": [
    "** Discussion: **"
   ]
  },
  {
   "cell_type": "markdown",
   "metadata": {},
   "source": [
    "## Question 2"
   ]
  },
  {
   "cell_type": "markdown",
   "metadata": {},
   "source": [
    "At this point, can you make a parallel with the phase transition of the Galton-Watson process?"
   ]
  },
  {
   "cell_type": "markdown",
   "metadata": {},
   "source": [
    "**Dicussion:**"
   ]
  },
  {
   "cell_type": "markdown",
   "metadata": {},
   "source": [
    "## Question 3"
   ]
  },
  {
   "cell_type": "markdown",
   "metadata": {},
   "source": [
    "Write a function ``is_connected`` that takes as input the adjacency list of an undirected graph and returns ``true`` if the graph is connected. Use this function to evaluate by simulation the probability that the contagion of a Reed-Frost epidemic propagates to all $n$ individuals of the population, for the same value of $n$ as before."
   ]
  },
  {
   "cell_type": "markdown",
   "metadata": {},
   "source": [
    "**Answer:**"
   ]
  },
  {
   "cell_type": "markdown",
   "metadata": {
    "nbpresent": {
     "id": "5bdd53aa-7ef0-4da8-8dd9-92d0e35293d2"
    }
   },
   "source": [
    "# 3. Heterogeneous Erdös-Rényi graphs (Stochastic block model)"
   ]
  },
  {
   "cell_type": "markdown",
   "metadata": {
    "nbpresent": {
     "id": "34e01df1-364e-4f52-a7fa-fc2c9bfeea6d"
    }
   },
   "source": [
    "We now consider heterogeneous $G(n_1,p_1,n_2,p_2,p)$ graphs defined as follows:\n",
    "- The graph has $n_1$ nodes of type 1 and $n_2$ nodes of type 2.\n",
    "- Two distinct nodes of type 1 are connected with probability $p_1$.\n",
    "- Two distinct nodes of type 2 are connected with probability $p_2$.\n",
    "- A type 1 node and a type 2 node are connected with probability $p$."
   ]
  },
  {
   "cell_type": "markdown",
   "metadata": {
    "nbpresent": {
     "id": "7495a776-6f19-4ec1-ba9b-27ef3db83b01"
    }
   },
   "source": [
    "## Question 1"
   ]
  },
  {
   "cell_type": "markdown",
   "metadata": {
    "nbpresent": {
     "id": "3d6dd229-0784-47f9-a392-f93b1bd8a0d3"
    }
   },
   "source": [
    "Propose a function that returns a realization of the heterogeneous Erdös-Rényi graph $G(n_1,p_1,n_2,p_2,p)$. The graph can be returned for example as a list of adjacency lists."
   ]
  },
  {
   "cell_type": "markdown",
   "metadata": {},
   "source": [
    "**Answer:**"
   ]
  },
  {
   "cell_type": "markdown",
   "metadata": {
    "nbpresent": {
     "id": "b644cb6f-394b-4a95-94a7-6905901e3467"
    }
   },
   "source": [
    "## Question 2"
   ]
  },
  {
   "cell_type": "markdown",
   "metadata": {
    "nbpresent": {
     "id": "5c25bfa5-7050-427e-b385-1ec35bb07750"
    }
   },
   "source": [
    "In the case where $p_1 = p_2 = 0$, use the same approach as in Question 2.1 to guess where the critical regime occurs. The goal is not to *prove* anything, but to provide an educated guess based on what you have experienced before."
   ]
  },
  {
   "cell_type": "markdown",
   "metadata": {},
   "source": [
    "**Answer:**"
   ]
  },
  {
   "cell_type": "markdown",
   "metadata": {
    "nbpresent": {
     "id": "84e960f7-5e2d-4314-b844-160956df06be"
    }
   },
   "source": [
    "## Question 3"
   ]
  },
  {
   "cell_type": "markdown",
   "metadata": {
    "nbpresent": {
     "id": "3f6fe36c-5b45-4ac7-9f03-77f1830b3399"
    }
   },
   "source": [
    "Verify your guess with simulations. You can reuse the functions of Questions 1.2 and 2.1."
   ]
  },
  {
   "cell_type": "markdown",
   "metadata": {},
   "source": [
    "**Answer:**"
   ]
  },
  {
   "cell_type": "markdown",
   "metadata": {
    "nbpresent": {
     "id": "1714f8d8-ea44-427b-9957-329bb02e1a1d"
    }
   },
   "source": [
    "## Question 4 (Bonus)"
   ]
  },
  {
   "cell_type": "markdown",
   "metadata": {
    "nbpresent": {
     "id": "3c2676a9-586c-406b-b680-0868c7aea358"
    }
   },
   "source": [
    "Generalize to arbitrary $p_1$, $p_2$."
   ]
  },
  {
   "cell_type": "markdown",
   "metadata": {},
   "source": [
    "**Answer:**"
   ]
  }
 ],
 "metadata": {
  "language_info": {
   "name": "python",
   "pygments_lexer": "ipython3"
  }
 },
 "nbformat": 4,
 "nbformat_minor": 1
}
