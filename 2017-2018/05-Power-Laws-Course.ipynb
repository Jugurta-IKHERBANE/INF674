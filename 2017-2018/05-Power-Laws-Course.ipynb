{
 "cells": [
  {
   "cell_type": "markdown",
   "metadata": {
    "nbpresent": {
     "id": "d8bd2d09-1ba9-4187-8372-0a42efc8fa9d"
    },
    "slideshow": {
     "slide_type": "slide"
    }
   },
   "source": [
    "# INF 674 S4: Power Laws\n",
    "\n",
    "## Céline Comte & Fabien Mathieu\n",
    "\n",
    "## 2017 - 2018"
   ]
  },
  {
   "cell_type": "markdown",
   "metadata": {
    "slideshow": {
     "slide_type": "subslide"
    }
   },
   "source": [
    "If you want to deepen your theoretical knowledge of power laws, you can read (this is **not** mandatory):\n",
    "- A.-L. Barabasi and R. Albert, **Emergence of scaling in random networks**, Science, 286, 509–512, 1999.\n",
    "- Chapter 7 from the book [Epidemics and Rumours in Complex Networks][massoulie].\n",
    "- MEJ Newman, **Power laws, Pareto distributions and Zipf's law**. Contemporary Physics Vol. 46 , Iss. 5, 2005.\n",
    "\n",
    "[massoulie]: http://www.lincs.fr/wp-content/uploads/2013/01/CUP_book_final.pdf \"Epidemics and Rumours in Complex Networks by Moez Draief and Laurent Massoulié\""
   ]
  },
  {
   "cell_type": "markdown",
   "metadata": {
    "slideshow": {
     "slide_type": "subslide"
    }
   },
   "source": [
    "Further readings:\n",
    "- M. Mitzenmacher, **A Brief History of Generative Models for Power Law and Lognormal Distributions**. Internet Mathematics 1.2, 226-251, 2004.\n",
    "- A. Broder, R. Kumar, F. Maghoul, P. Raghavan, S. Rajagopalan, R. Stata, A. Tomkins, and J. Wiener, **Graph structure in the Web**. Comput. Netw. 33, 1-6, 309-320, 2000."
   ]
  },
  {
   "cell_type": "code",
   "execution_count": null,
   "metadata": {
    "slideshow": {
     "slide_type": "skip"
    }
   },
   "outputs": [],
   "source": [
    "%pylab inline"
   ]
  },
  {
   "cell_type": "markdown",
   "metadata": {
    "slideshow": {
     "slide_type": "slide"
    }
   },
   "source": [
    "# 1. Definition"
   ]
  },
  {
   "cell_type": "markdown",
   "metadata": {
    "slideshow": {
     "slide_type": "subslide"
    }
   },
   "source": [
    "## Heavy-tailed distribution\n",
    "\n",
    "A continuous real random variable $X$ has a power-law distribution if its tail fails according to some power:\n",
    "\n",
    "$$\n",
    "\\mathbb{P}\\left\\{ X > x \\right\\}\n",
    "= \\left( \\frac{x_{min}}{x} \\right)^\\beta,\n",
    "\\quad \\forall x \\ge x_{min}.\n",
    "$$\n",
    "\n",
    "- $\\beta > 0$ is the *shape paremeter*\n",
    "- $x_{min} > 0$ is the *scale parameter*"
   ]
  },
  {
   "cell_type": "code",
   "execution_count": null,
   "metadata": {
    "hide_input": true,
    "slideshow": {
     "slide_type": "subslide"
    }
   },
   "outputs": [],
   "source": [
    "# Power law arguments\n",
    "xmin = 1.\n",
    "t = arange(xmin, 20, 0.01)\n",
    "beta = 1.5\n",
    "\n",
    "# Geometric law arguments\n",
    "p = (beta - 1) / beta\n",
    "n = arange(0, 20, 1)\n",
    "\n",
    "# CCDF\n",
    "fig = figure(figsize=(12,8))\n",
    "clf()\n",
    "\n",
    "plot(t, pow(xmin/t, beta), label = r'Power law ($\\beta = 3/2, x_{min} = 1$)', linewidth=2.0)\n",
    "fill_between(t, 0, pow(xmin/t, beta), alpha = .4)\n",
    "bar(n, pow(1-p, n), 1, color = \"sandybrown\", edgecolor = \"white\",\n",
    "    label = r'Geometric ($p = 1/3$)', linewidth=2.0)\n",
    "\n",
    "axis([0, 20, 0, 1.])\n",
    "xticks(fontsize = 20)\n",
    "yticks(fontsize = 20)\n",
    "xlabel(\"$x$\", fontsize = 20)\n",
    "ylabel(\"Survival function\", fontsize = 20)\n",
    "legend(fontsize = 20)\n",
    "show()"
   ]
  },
  {
   "cell_type": "code",
   "execution_count": null,
   "metadata": {
    "hide_input": true,
    "slideshow": {
     "slide_type": "subslide"
    }
   },
   "outputs": [],
   "source": [
    "# CCDF semilog\n",
    "t = arange(xmin, 100, 0.01)\n",
    "n = arange(0, 100, 1)\n",
    "\n",
    "fig = figure(figsize=(12,8))\n",
    "ax = fig.add_subplot(111)\n",
    "\n",
    "ax.loglog(t, pow(xmin/t, beta), label = r'Power law ($\\beta = 3/2, x_{min} = 1$)', linewidth=2.0)\n",
    "fill_between(t, 0, pow(xmin/t, beta), alpha = .4)\n",
    "ax.bar(n, pow(1-p, n), 1, color = \"sandybrown\", edgecolor = \"white\",\n",
    "       label = r'Geometric ($p = 1/3$)', linewidth=2.0)\n",
    "\n",
    "ax.set_xscale(\"log\", nonposy='clip')\n",
    "ax.set_yscale(\"log\", nonposy='clip')\n",
    "axis([0, 100, 0, 1.])\n",
    "xticks(fontsize = 20)\n",
    "yticks(fontsize = 20)\n",
    "xlabel(\"$x$\", fontsize = 20)\n",
    "ylabel(\"Survival function\", fontsize = 20)\n",
    "legend(loc = 3, fontsize = 20)\n",
    "show()"
   ]
  },
  {
   "cell_type": "markdown",
   "metadata": {
    "slideshow": {
     "slide_type": "subslide"
    }
   },
   "source": [
    "## Distribution functions\n",
    "\n",
    "- Probability distribution function\n",
    "\n",
    "$$\n",
    "f(t) = \\frac{\\beta {x_{min}}^\\beta}{t^{\\beta + 1}}, \\quad \\forall t \\ge x_{min}.\n",
    "$$\n",
    "\n",
    "- Cumulative distribution function\n",
    "\n",
    "$$\n",
    "\\mathbb{P}\\left\\{ X \\le x \\right\\}\n",
    "= 1 - \\left( \\frac{x_{min}}{x} \\right)^\\beta,\n",
    "\\quad \\forall x \\ge x_{min}.\n",
    "$$"
   ]
  },
  {
   "cell_type": "code",
   "execution_count": null,
   "metadata": {
    "hide_input": true,
    "slideshow": {
     "slide_type": "subslide"
    }
   },
   "outputs": [],
   "source": [
    "t = arange(xmin, 50, 0.01)\n",
    "n = arange(1, 50, 1)\n",
    "s = arange(0, 50, 0.01)\n",
    "\n",
    "# PDF\n",
    "fig = figure(figsize=(12,8))\n",
    "ax = fig.add_subplot(111)\n",
    "\n",
    "ax.loglog(t, beta * pow(xmin, beta) / pow(t, beta + 1),\n",
    "     label = r'Power law ($\\beta = 3/2, x_{min} = 1$)', linewidth=2.0)\n",
    "fill_between(t, 0, beta * pow(xmin, beta) / pow(t, beta + 1), alpha = .4)\n",
    "ax.bar(n, p * pow(1-p, n-1), 1, color = \"sandybrown\", edgecolor = \"white\",\n",
    "    label = r'Geometric ($p = 1/3$)', linewidth=2.0)\n",
    "\n",
    "ax.set_xscale(\"log\", nonposy='clip')\n",
    "ax.set_yscale(\"log\", nonposy='clip')\n",
    "axis([1, 50, 0, 1.5])\n",
    "xticks(fontsize = 20)\n",
    "yticks(fontsize = 20)\n",
    "xlabel(\"$t$\", fontsize = 20)\n",
    "ylabel(\"Probability distribution function (pdf)\", fontsize = 20)\n",
    "legend(loc = 3, fontsize = 20)\n",
    "show()"
   ]
  },
  {
   "cell_type": "code",
   "execution_count": null,
   "metadata": {
    "hide_input": true,
    "slideshow": {
     "slide_type": "subslide"
    }
   },
   "outputs": [],
   "source": [
    "t = arange(xmin, 50, 0.01)\n",
    "n = arange(1, 50, 1)\n",
    "\n",
    "#CDF\n",
    "fig = figure(figsize=(12,8))\n",
    "ax = fig.add_subplot(111)\n",
    "\n",
    "ax.loglog(t, 1 - pow(xmin/t, beta), label = r'Power law ($\\beta = 3/2, x_{min} = 1$)', linewidth=2.0)\n",
    "fill_between(t, 0, 1 - pow(xmin/t, beta), alpha = .4)\n",
    "ax.bar(n, 1 - pow(1-p, n), 1, color = \"sandybrown\", edgecolor = \"white\",\n",
    "    label = r'Geometric ($p = 1/3$)', linewidth=2.0)\n",
    "\n",
    "ax.set_xscale(\"log\", nonposy='clip')\n",
    "ax.set_yscale(\"log\", nonposy='clip')\n",
    "axis([1, 50, 0, 1])\n",
    "xticks(fontsize = 20)\n",
    "yticks(fontsize = 20)\n",
    "xlabel(\"$x$\", fontsize = 20)\n",
    "ylabel(\"Cumulative distribution function (cdf)\", fontsize = 20)\n",
    "legend(loc = 4, fontsize = 20)\n",
    "show()"
   ]
  },
  {
   "cell_type": "markdown",
   "metadata": {
    "slideshow": {
     "slide_type": "subslide"
    }
   },
   "source": [
    "## How to recognize them?\n",
    "\n",
    "- Probability distribution function\n",
    "$$\n",
    "f(t) = \\frac{\\beta {x_{min}}^\\beta}{t^{\\beta + 1}},\n",
    "\\quad \\forall t \\ge x_{min},\n",
    "$$\n",
    "can be rewritten as\n",
    "$$\n",
    "\\ln(f(t)) = \\ln(\\beta {x_{min}}^\\beta) - (\\beta + 1) \\ln(t),\n",
    "\\quad \\forall t \\ge x_{min}.\n",
    "$$\n",
    "\n",
    "\n",
    "- The graph of the probability distribution function of a random variable with a power law is a line on a log-log plot."
   ]
  },
  {
   "cell_type": "markdown",
   "metadata": {
    "slideshow": {
     "slide_type": "slide"
    }
   },
   "source": [
    "# 2. Power Laws in the wilde"
   ]
  },
  {
   "cell_type": "markdown",
   "metadata": {
    "slideshow": {
     "slide_type": "subslide"
    }
   },
   "source": [
    "## Zipf's Law for rankings\n",
    "\n",
    "- Discrete version of the power law\n",
    "- A discrete random variable $X$ which takes its values in $\\{1,\\ldots,N\\}$ has a Zipf's distribution with parameter $\\tau > 0$ if\n",
    "\n",
    "  $$\n",
    "      \\mathbb{P}\\{ X = k \\}\n",
    "      = \\frac{ \\frac1{k^\\tau} }{ \\sum_{n=1}^N \\frac1{n^\\tau} },\n",
    "      \\quad \\forall k = 1,\\ldots,N.\n",
    "  $$"
   ]
  },
  {
   "cell_type": "markdown",
   "metadata": {
    "slideshow": {
     "slide_type": "subslide"
    }
   },
   "source": [
    "## Web graph\n",
    "\n",
    "A. Broder, R. Kumar, F. Maghoul, P. Raghavan, S. Rajagopalan, R. Stata, A. Tomkins, and J. Wiener, **Graph structure in the Web**. Comput. Netw. 33, 1-6, 309-320, 2000.\n",
    "\n",
    "Concretely:\n",
    "\n",
    "\"...  there are many small elements contained within the Web, but few  large  ones.  A  few  sites consist  of  millions of  pages,  but  millions  of  sites  only  contain a handful of pages. Few sites contain millions of links, but many sites have one or two. Millions of users flock to a few select sites, giving little attention to millions of others.\"\n",
    "\n",
    "L.A. Adamic and A.H. Bernardo, **Zipf’s law and the Internet**. Glottometrics 3.1, 143-150 2002."
   ]
  },
  {
   "cell_type": "markdown",
   "metadata": {
    "slideshow": {
     "slide_type": "subslide"
    }
   },
   "source": [
    "## Other examples\n",
    "\n",
    "- Word frequency\n",
    "\n",
    "  \"Zipf's law states that given some corpus of natural language utterances, the frequency of any word is inversely proportional to its rank in the frequency table. Thus the most frequent word will occur approximately twice as often as the second most frequent word, three times as often as the third most frequent word, etc.: the rank-frequency distribution is an inverse relation.\" See <a href=\"https://en.wikipedia.org/wiki/Zipf's_law\">Wikipedia, Zipf's law</a>.\n",
    "\n",
    "\n",
    "- Number of telephone calls per user and per day\n",
    "- Content popularity"
   ]
  },
  {
   "cell_type": "markdown",
   "metadata": {
    "slideshow": {
     "slide_type": "slide"
    }
   },
   "source": [
    "# 3. Generative models"
   ]
  },
  {
   "cell_type": "markdown",
   "metadata": {
    "slideshow": {
     "slide_type": "subslide"
    }
   },
   "source": [
    "## 3.1. Barabási-Albert random graphs\n",
    "\n",
    "A.-L. Barabasi and R. Albert, **Emergence of scaling in random networks**, Science, 286, 509–512, 1999."
   ]
  },
  {
   "cell_type": "markdown",
   "metadata": {
    "slideshow": {
     "slide_type": "subslide"
    }
   },
   "source": [
    "## (Undirected) Random graph model\n",
    "\n",
    "- At time $t = 0$, we consider a deterministic initial (undirected) graph $G(0)$\n",
    "- At each step $t \\ge 1$, a new node is added to the graph and is attached to one existing node:\n",
    "  - With probability $0 \\le \\alpha < 1$, all existing nodes can be chosen with the same probability,\n",
    "  - With probability $1 - \\alpha$, the probability of choosing a node is proportional to its degree.\n",
    "\n",
    "\n",
    "- The graph obtained at the end of step $t$ is denoted by $G(t)$.\n",
    "\n",
    "\n",
    "- We consider the random variables <br />\n",
    "  $X_i(t) =$ Number of nodes with degree $i$ at time $t$,\n",
    "  for all $i \\ge 1$, $t \\ge 1$."
   ]
  },
  {
   "cell_type": "markdown",
   "metadata": {
    "slideshow": {
     "slide_type": "subslide"
    }
   },
   "source": [
    "## \"Law of large numbers\"\n",
    "\n",
    "- For all $i \\ge 1$, we have\n",
    "  $$\n",
    "  \\frac{X_i(t)}t \\to c_i \\text{ almost surely when } t \\to +\\infty,\n",
    "  $$\n",
    "  where the sequence $(c_i)_{i \\ge 1}$ satisfies\n",
    "  $$\n",
    "  c_i \\sim \\frac{C}{i^{\\beta + 1}} \\text{ as } i \\to +\\infty,\n",
    "  $$\n",
    "  for some constant $C > 0$, where\n",
    "  $$\n",
    "  \\beta\n",
    "  = \\frac{3-\\alpha}{1-\\alpha} - 1\n",
    "  = 2 + \\frac{2 \\alpha}{1 - \\alpha}\n",
    "  \\ge 2.\n",
    "  $$"
   ]
  },
  {
   "cell_type": "markdown",
   "metadata": {
    "slideshow": {
     "slide_type": "subslide"
    }
   },
   "source": [
    "## Intuition of the proof\n",
    "\n",
    "- Let $c_1 = \\frac2{3 + \\alpha}$ and\n",
    "  $$\n",
    "      \\frac{c_i}{c_{i-1}} = \\frac{\\alpha + \\frac{1-\\alpha}2 (i-1)}{1 + \\alpha + \\frac{1-\\alpha}2 i},\n",
    "      \\quad \\forall i > 1.\n",
    "  $$\n",
    "- For all $i > 1$,\n",
    "  \\begin{align*}\n",
    "      \\frac{c_i}{c_{i-1}}\n",
    "      = 1 - \\frac{3 - \\alpha}{2 + 2 \\alpha + (1 - \\alpha)i}\n",
    "      = 1 - \\frac1i \\frac{3 - \\alpha}{1 - \\alpha} + O\\left( \\frac1{i^2} \\right).\n",
    "  \\end{align*}\n",
    "- Consequently,\n",
    "  \\begin{align*}\n",
    "      c_i\n",
    "      &= c_1 \\prod_{j=2}^i \\left( 1 - \\frac\\beta{j} + O\\left( \\frac1{j^2} \\right) \\right).\n",
    "  \\end{align*}\n",
    "- Then, we have intuitively\n",
    "  \\begin{align*}\n",
    "      &\\ln\\left( \\prod_{j=1}^i \\left( 1 - \\frac\\beta{j} \\right) \\right) \\\\\n",
    "      &= \\sum_{j=1}^i \\ln\\left( 1 - \\frac\\beta{j} \\right)\n",
    "      \\approx \\sum_{j=1}^i - \\frac\\beta{j}, \\\\\n",
    "      &= - \\beta \\sum_{j=1}^i \\frac1j\n",
    "      \\approx - \\beta \\ln(i).\n",
    "  \\end{align*}"
   ]
  },
  {
   "cell_type": "markdown",
   "metadata": {
    "slideshow": {
     "slide_type": "subslide"
    }
   },
   "source": [
    "## 3.2. Yule process\n",
    "\n",
    "G. U. Yule, **A mathematical theory of evolution based on the conclusions of Dr. J. C. Willis**, Philosophical Transactions of the Royal Society of London B, 213, 21–87, 1925."
   ]
  },
  {
   "cell_type": "markdown",
   "metadata": {
    "slideshow": {
     "slide_type": "subslide"
    }
   },
   "source": [
    "## Historical context\n",
    "\n",
    "- Introduced by Yule in 1925 to study the evolution of the number of species in a genus.\n",
    "- (Wikipedia) \"A genus (/ˈdʒiːnəs/, pl. genera) is a taxonomic rank used in the biological classification of living and fossil organisms in biology. In the hierarchy of biological classification, genus comes above species and below family.\""
   ]
  },
  {
   "cell_type": "markdown",
   "metadata": {
    "slideshow": {
     "slide_type": "subslide"
    }
   },
   "source": [
    "## Definition\n",
    "\n",
    "- At time $t = 0$, we consider a deterministic initial state of the species.\n",
    "- At each step $t \\ge 1$, an existing species chosen uniformly at random creates a new one by mutation:\n",
    "  - With probability $\\alpha$,\n",
    "  the new species is so different from the pre-existing ones that it defines a new genus,\n",
    "  - With probability $1 - \\alpha$,\n",
    "  it belongs to the same genus as the species that created it."
   ]
  },
  {
   "cell_type": "markdown",
   "metadata": {
    "slideshow": {
     "slide_type": "subslide"
    }
   },
   "source": [
    "## Equivalent (undirected) random graph model\n",
    "\n",
    "- At time $t = 0$, we consider a deterministic initial (undirected) graph $G(0)$\n",
    "- At each step $t \\ge 1$, a new node is added to the graph and is attached to the older nodes as follows:\n",
    "  - With probability $0 \\le \\alpha < 1$, it is not attached to any node (thus creating a new connected component),\n",
    "  - With probability $1 - \\alpha$, it is attached to an existing node chosen uniformly at random.\n",
    "\n",
    "\n",
    "- The graph obtained at the end of step $t$ is denoted by $G(t)$.\n",
    "- One connected component = one genus.\n",
    "\n",
    "\n",
    "- We consider the random variables <br />\n",
    "  $X_i(t) =$ Number of connected components with $i$ nodes at time $t$,\n",
    "  for all $i \\ge 1$, $t \\ge 1$."
   ]
  },
  {
   "cell_type": "markdown",
   "metadata": {
    "slideshow": {
     "slide_type": "subslide"
    }
   },
   "source": [
    "## Asymptotic power law\n",
    "\n",
    "- For all $i \\ge 1$, we have\n",
    "  $$\n",
    "  \\frac{X_i(t)}t \\to c_i \\text{ almost surely when } t \\to +\\infty,\n",
    "  $$\n",
    "  where the sequence $(c_i)_{i \\ge 1}$ satisfies\n",
    "  $$\n",
    "  c_i \\sim \\frac{C}{i^{\\beta + 1}} \\text{ as } i \\to +\\infty,\n",
    "  $$\n",
    "  for some constant $C > 0$, where\n",
    "  $$\n",
    "  \\beta\n",
    "  = \\frac{3-\\alpha}{1-\\alpha} - 1\n",
    "  = 2 + \\frac{2 \\alpha}{1 - \\alpha}\n",
    "  \\ge 2.\n",
    "  $$"
   ]
  }
 ],
 "metadata": {
  "language_info": {
   "name": "python",
   "pygments_lexer": "ipython3"
  }
 },
 "nbformat": 4,
 "nbformat_minor": 1
}
