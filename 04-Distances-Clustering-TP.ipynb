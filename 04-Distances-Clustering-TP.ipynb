{
 "cells": [
  {
   "cell_type": "markdown",
   "metadata": {
    "slideshow": {
     "slide_type": "-"
    }
   },
   "source": [
    "# ACN 903 / INF 674, Session #4: Distances and Clustering\n",
    "\n",
    "## Céline Comte & Fabien Mathieu\n",
    "\n",
    "### 2017-2018"
   ]
  },
  {
   "cell_type": "markdown",
   "metadata": {},
   "source": [
    "During the course, you will learn how to study real-life datasets. The goal of this practical is to begin with simple (e.g. non-oriented) graphs. Two datasets are proposed: DBLP and IMDB. In further practicals, you will also play with oriented graphs using Wikipedia datasets.\n",
    "\n",
    "**Remark:** the IMDB dataset is much larger than the DBLP dataset. You should play with only *after* you mastered the DBLP dataset."
   ]
  },
  {
   "cell_type": "code",
   "execution_count": 1,
   "metadata": {
    "ExecuteTime": {
     "end_time": "2017-10-16T12:24:29.936882Z",
     "start_time": "2017-10-16T12:24:23.509967Z"
    }
   },
   "outputs": [
    {
     "name": "stdout",
     "output_type": "stream",
     "text": [
      "Populating the interactive namespace from numpy and matplotlib\n"
     ]
    }
   ],
   "source": [
    "%pylab inline\n",
    "import networkx as nx\n",
    "import zipfile\n",
    "import codecs"
   ]
  },
  {
   "cell_type": "markdown",
   "metadata": {},
   "source": [
    "# 1. Basic Tools"
   ]
  },
  {
   "cell_type": "markdown",
   "metadata": {},
   "source": [
    "We provide you with a few functions to deal with the dataset format. You will have to use them in the practical. There are strictly speaking no question for this part, yet it is **strongly** advised that you take your time to understand how the different functions proposed here work."
   ]
  },
  {
   "cell_type": "markdown",
   "metadata": {},
   "source": [
    "## File format"
   ]
  },
  {
   "cell_type": "markdown",
   "metadata": {},
   "source": [
    "The datasets are provided in the form of *zip* archives. Inside each *zip* archive are the following files:\n",
    "- **_dataset_.ids** contains the actual names of the nodes (one per line, $ n $ lines in total). By convention, each node is associated to its line number (from $ 0 $ to $ n-1 $). Actual names may contain special characters (e.g. *ç*, *é*), so it is encoded with *utf-8*.\n",
    "- **_dataset_.adja** contains the adjacency list of the graph: line $ i $ (from $ 0 $ to $ n-1 $) contains, in plain ASCII, the numbers of the nodes that are neighbors of $ i $.\n",
    "- For oriented graphs, **_dataset_-t.adja** contains the adjacency list of the transposed graph: line $ i $ (from $ 0 $ to $ n-1 $) contains, in plain ASCII, the numbers of the nodes that are linked by $ i $.\n",
    "\n",
    "\n",
    "Datasets will be given on a USB key. This practical assumes they are stored in **../Datasets/** relatively to your working directory."
   ]
  },
  {
   "cell_type": "code",
   "execution_count": 2,
   "metadata": {
    "ExecuteTime": {
     "end_time": "2017-10-16T12:24:29.943558Z",
     "start_time": "2017-10-16T12:24:29.938555Z"
    },
    "collapsed": true
   },
   "outputs": [],
   "source": [
    "directory = \"../Datasets/\""
   ]
  },
  {
   "cell_type": "markdown",
   "metadata": {},
   "source": [
    "Most of the core functions below have the following behavior: first they try to load the results from a npy file if one exists, otherwise they parse through the dataset to extract the information and save it in a npy file for the next use. This approach avoids re-doing the same work over and over."
   ]
  },
  {
   "cell_type": "markdown",
   "metadata": {},
   "source": [
    "## Size"
   ]
  },
  {
   "cell_type": "markdown",
   "metadata": {},
   "source": [
    "The following function gives the number of nodes $n$ and the total number of *oriented edges* $m$ of the graph. In the case where the graph is undirected, all edges will be counted twice ($(i,j)$ and $(j,i)$ are the same edge on an undirected graph) so the actual number of edges is $\\frac m 2$."
   ]
  },
  {
   "cell_type": "code",
   "execution_count": 3,
   "metadata": {
    "ExecuteTime": {
     "end_time": "2017-10-16T12:24:29.988588Z",
     "start_time": "2017-10-16T12:24:29.951563Z"
    },
    "collapsed": true
   },
   "outputs": [],
   "source": [
    "def get_size(prefix = \"dblp\"):\n",
    "    try:\n",
    "        return np.load(directory+prefix+\"-size.npy\")\n",
    "    except IOError:\n",
    "        n = 0\n",
    "        m = 0\n",
    "        with zipfile.ZipFile(directory+prefix+\".zip\") as myzip:\n",
    "            with myzip.open(prefix+\".adja\") as f:\n",
    "                for line in f:\n",
    "                    n += 1\n",
    "                    m += len([int(s) for s in line.split()])\n",
    "        np.save(directory+prefix+\"-size\", [n, m])\n",
    "        return n, m"
   ]
  },
  {
   "cell_type": "markdown",
   "metadata": {},
   "source": [
    "Let us run the function to create the npy file."
   ]
  },
  {
   "cell_type": "code",
   "execution_count": 4,
   "metadata": {
    "ExecuteTime": {
     "end_time": "2017-10-16T12:24:30.035626Z",
     "start_time": "2017-10-16T12:24:29.995593Z"
    }
   },
   "outputs": [
    {
     "name": "stdout",
     "output_type": "stream",
     "text": [
      "Number of nodes in dblp: 1314050\n",
      "Number of edges in dblp: 5362414\n"
     ]
    }
   ],
   "source": [
    "prefix = \"dblp\"\n",
    "n, m = get_size(prefix)\n",
    "print(\"Number of nodes in %s: %s\" % (prefix, n))\n",
    "print(\"Number of edges in %s: %s\" % (prefix, m//2))"
   ]
  },
  {
   "cell_type": "markdown",
   "metadata": {},
   "source": [
    "## Adjacency List"
   ]
  },
  {
   "cell_type": "markdown",
   "metadata": {},
   "source": [
    "A natural way to store the adjacency list would be to use an array (or list) of arrays (or lists), such that A[i][j] would refer to the $j$th neighbor of node $i$. In practice, this structure can have some memory usage overhead, so we will store the adjacency list in a flat array with the function below."
   ]
  },
  {
   "cell_type": "code",
   "execution_count": 7,
   "metadata": {
    "ExecuteTime": {
     "end_time": "2017-10-16T12:24:30.146718Z",
     "start_time": "2017-10-16T12:24:30.118190Z"
    },
    "collapsed": true
   },
   "outputs": [],
   "source": [
    "def get_adjacency(prefix = \"dblp\"):\n",
    "    try:\n",
    "        return np.load(directory+prefix+\"-adja.npy\")\n",
    "    except IOError:\n",
    "        n, m = get_size(prefix)\n",
    "        A = zeros(n+m+1, dtype = int)\n",
    "        A[0] = n+1 # Don't forget the +1!!!\n",
    "        with zipfile.ZipFile(directory+prefix+\".zip\") as myzip:\n",
    "            with myzip.open(prefix+\".adja\") as f:\n",
    "                i = 0\n",
    "                for line in f:\n",
    "                    neighbors = array(line.split(), dtype = int)\n",
    "                    A[i+1] = A[i]+len(neighbors)\n",
    "                    A[A[i]:A[i+1]] = neighbors\n",
    "                    i += 1\n",
    "        np.save(directory+prefix+\"-adja\", A)\n",
    "        return A"
   ]
  },
  {
   "cell_type": "markdown",
   "metadata": {},
   "source": [
    "We can load $A$ in memory."
   ]
  },
  {
   "cell_type": "code",
   "execution_count": 8,
   "metadata": {
    "ExecuteTime": {
     "end_time": "2017-10-16T12:24:30.221275Z",
     "start_time": "2017-10-16T12:24:30.151722Z"
    },
    "collapsed": true
   },
   "outputs": [],
   "source": [
    "A = get_adjacency(\"dblp\")"
   ]
  },
  {
   "cell_type": "markdown",
   "metadata": {},
   "source": [
    "The result, *A*, is a numpy array of integer of size $n+m+1$, organized as follows:\n",
    "- The $n+1$ first values are indexes\n",
    "- The $m$ last values are destinations\n",
    "- The neighbors of a node $i$ are stored in A[A[i]:A[i+1]]\n",
    "\n",
    "The following function just return the neighbors."
   ]
  },
  {
   "cell_type": "code",
   "execution_count": 9,
   "metadata": {
    "ExecuteTime": {
     "end_time": "2017-10-16T12:24:30.233288Z",
     "start_time": "2017-10-16T12:24:30.226281Z"
    },
    "collapsed": true
   },
   "outputs": [],
   "source": [
    "def neighbors(A, index):\n",
    "    return A[A[index]:A[index+1]]"
   ]
  },
  {
   "cell_type": "markdown",
   "metadata": {},
   "source": [
    "In practice, just use A[A[i]:A[i+1]] if you can, it avoids calling a function."
   ]
  },
  {
   "cell_type": "markdown",
   "metadata": {},
   "source": [
    "## Index / Name conversion"
   ]
  },
  {
   "cell_type": "markdown",
   "metadata": {},
   "source": [
    "All the functions above assume a node is represented by an integer $0\\leq i<n$, but researchers, Wikipedia pages, and even actors have names! Let us write some functions to translate integers to names and *vice versa*."
   ]
  },
  {
   "cell_type": "code",
   "execution_count": 10,
   "metadata": {
    "ExecuteTime": {
     "end_time": "2017-10-16T12:24:30.261312Z",
     "start_time": "2017-10-16T12:24:30.240291Z"
    },
    "collapsed": true
   },
   "outputs": [],
   "source": [
    "def get_ids(prefix = \"dblp\"):\n",
    "    try:\n",
    "        return np.load(directory+prefix+\"-ids.npy\")\n",
    "    except IOError:\n",
    "        n, m = get_size(prefix)\n",
    "        delimiter = zeros(n+1, dtype = int)\n",
    "        text = \"\"\n",
    "        with zipfile.ZipFile(directory+prefix+\".zip\") as myzip:\n",
    "            with myzip.open(prefix+\".ids\") as f:\n",
    "                i = 0\n",
    "                for line in codecs.iterdecode(f, 'utf8'):\n",
    "                    delimiter[i+1] = delimiter[i]+len(line)-1\n",
    "                    text += line[0:-1]\n",
    "                    i += 1\n",
    "        np.save(directory+prefix+\"-ids\", [delimiter, text])\n",
    "        return delimiter, text"
   ]
  },
  {
   "cell_type": "markdown",
   "metadata": {},
   "source": [
    "The function above returns a *delimiter* array of size $n+1$ and a *text* string that concatenates all researcher names. It uses the same principle used for the adjacency list: the name of a researcher associated to number $i$ is text[delimiter[i]:delimiter[i+1]]. This allows us to do the conversion from name to index, and vice versa."
   ]
  },
  {
   "cell_type": "code",
   "execution_count": 11,
   "metadata": {
    "ExecuteTime": {
     "end_time": "2017-10-16T12:24:30.280330Z",
     "start_time": "2017-10-16T12:24:30.265314Z"
    },
    "collapsed": true
   },
   "outputs": [],
   "source": [
    "def index2name(index, prefix = \"dblp\", delimiter = None, text = None):\n",
    "    if delimiter is None:\n",
    "        delimiter, text = get_ids(prefix)\n",
    "    return text[delimiter[index]:delimiter[index+1]]"
   ]
  },
  {
   "cell_type": "code",
   "execution_count": 12,
   "metadata": {
    "ExecuteTime": {
     "end_time": "2017-10-16T12:24:30.302344Z",
     "start_time": "2017-10-16T12:24:30.284331Z"
    },
    "collapsed": true
   },
   "outputs": [],
   "source": [
    "def name2index(name, prefix = \"dblp\", delimiter = None, text = None):\n",
    "    try:\n",
    "        if delimiter is None:\n",
    "            delimiter, text = get_ids(prefix)\n",
    "        offset = text.index(name)\n",
    "        return where(delimiter == offset)[0][0]\n",
    "    except:\n",
    "        print(\"Name not found.\")"
   ]
  },
  {
   "cell_type": "markdown",
   "metadata": {},
   "source": [
    "Let us try with some names. Note that the first execution will build the index."
   ]
  },
  {
   "cell_type": "code",
   "execution_count": 13,
   "metadata": {
    "ExecuteTime": {
     "end_time": "2017-10-16T12:24:30.444457Z",
     "start_time": "2017-10-16T12:24:30.307349Z"
    }
   },
   "outputs": [
    {
     "data": {
      "text/plain": [
       "711561"
      ]
     },
     "execution_count": 13,
     "metadata": {},
     "output_type": "execute_result"
    }
   ],
   "source": [
    "name2index(\"Paul_Erdös\")"
   ]
  },
  {
   "cell_type": "code",
   "execution_count": 14,
   "metadata": {
    "ExecuteTime": {
     "end_time": "2017-10-16T12:24:30.548551Z",
     "start_time": "2017-10-16T12:24:30.449461Z"
    }
   },
   "outputs": [
    {
     "data": {
      "text/plain": [
       "149114"
      ]
     },
     "execution_count": 14,
     "metadata": {},
     "output_type": "execute_result"
    }
   ],
   "source": [
    "name2index(\"Fabien_Mathieu\")"
   ]
  },
  {
   "cell_type": "code",
   "execution_count": 15,
   "metadata": {
    "ExecuteTime": {
     "end_time": "2017-10-16T12:24:30.651637Z",
     "start_time": "2017-10-16T12:24:30.552555Z"
    }
   },
   "outputs": [
    {
     "data": {
      "text/plain": [
       "'Paul_Erdös'"
      ]
     },
     "execution_count": 15,
     "metadata": {},
     "output_type": "execute_result"
    }
   ],
   "source": [
    "index2name(711561)"
   ]
  },
  {
   "cell_type": "code",
   "execution_count": 16,
   "metadata": {
    "ExecuteTime": {
     "end_time": "2017-10-16T12:24:30.780744Z",
     "start_time": "2017-10-16T12:24:30.656645Z"
    }
   },
   "outputs": [
    {
     "data": {
      "text/plain": [
       "'Fabien_Mathieu'"
      ]
     },
     "execution_count": 16,
     "metadata": {},
     "output_type": "execute_result"
    }
   ],
   "source": [
    "index2name(149114)"
   ]
  },
  {
   "cell_type": "markdown",
   "metadata": {},
   "source": [
    "Remark: the **name2index** function is very rough: it just try to match *name* as a substring of *text* and find the corresponding index in the delimiter array. It is quite slow and may fail is the name of a researcher is a substring of the name of another researcher, but it will be enough for this practical."
   ]
  },
  {
   "cell_type": "markdown",
   "metadata": {},
   "source": [
    "## List comprehension"
   ]
  },
  {
   "cell_type": "markdown",
   "metadata": {},
   "source": [
    "You already seen *list comprehension* before: it is for example used in some of the function above to convert a text line into a list of neighbors when you parse the adjacency list: [int(s) for s in line.split()]\n",
    "\n",
    "They are a powerful tool to construct a list by describing how it is built, and you will have to use them in this practical, so you should study the following examples."
   ]
  },
  {
   "cell_type": "markdown",
   "metadata": {},
   "source": [
    "A first simple example: the list of the squares of the integers from 0 to 5:"
   ]
  },
  {
   "cell_type": "code",
   "execution_count": 17,
   "metadata": {
    "ExecuteTime": {
     "end_time": "2017-10-16T12:24:30.794754Z",
     "start_time": "2017-10-16T12:24:30.784746Z"
    }
   },
   "outputs": [
    {
     "data": {
      "text/plain": [
       "[0, 1, 4, 9, 16, 25]"
      ]
     },
     "execution_count": 17,
     "metadata": {},
     "output_type": "execute_result"
    }
   ],
   "source": [
    "[i**2 for i in range(6)]"
   ]
  },
  {
   "cell_type": "markdown",
   "metadata": {},
   "source": [
    "One of the interest of list comprehension is that they can be nested. For example, the list of the squares of the 6 first positive odd integers."
   ]
  },
  {
   "cell_type": "code",
   "execution_count": 18,
   "metadata": {
    "ExecuteTime": {
     "end_time": "2017-10-16T12:24:30.817772Z",
     "start_time": "2017-10-16T12:24:30.798756Z"
    }
   },
   "outputs": [
    {
     "data": {
      "text/plain": [
       "[1, 9, 25, 49, 81, 121]"
      ]
     },
     "execution_count": 18,
     "metadata": {},
     "output_type": "execute_result"
    }
   ],
   "source": [
    "[i**2 for i in [2*k+1 for k in range(6)]]"
   ]
  },
  {
   "cell_type": "markdown",
   "metadata": {},
   "source": [
    "A last example of list comprehension, which will be very helpful for the clustering coefficient. Can you figure out what it does?"
   ]
  },
  {
   "cell_type": "code",
   "execution_count": 19,
   "metadata": {
    "ExecuteTime": {
     "end_time": "2017-10-16T12:24:30.848793Z",
     "start_time": "2017-10-16T12:24:30.827777Z"
    }
   },
   "outputs": [
    {
     "data": {
      "text/plain": [
       "[0, 0, 1, 0, 1, 2, 0, 1, 2, 3, 0, 1, 2, 3, 4]"
      ]
     },
     "execution_count": 19,
     "metadata": {},
     "output_type": "execute_result"
    }
   ],
   "source": [
    "[k for nj in [range(j) for j in range(6)] for k in nj]"
   ]
  },
  {
   "cell_type": "markdown",
   "metadata": {},
   "source": [
    "# 2. Distances and neighborhood"
   ]
  },
  {
   "cell_type": "markdown",
   "metadata": {},
   "source": [
    "## Question 1"
   ]
  },
  {
   "cell_type": "markdown",
   "metadata": {},
   "source": [
    "Let us check that you can use the tools above: write a function **coauthors** that gives you the co-authors of someone. It should take a string as input and return a list of strings."
   ]
  },
  {
   "cell_type": "markdown",
   "metadata": {},
   "source": [
    "**Answer:**"
   ]
  },
  {
   "cell_type": "markdown",
   "metadata": {},
   "source": [
    "## Question 2\n",
    "\n",
    "Write a function that takes a node index and gives its distance from Erdös. Use it to compute the Erdös number of Fabien Mathieu."
   ]
  },
  {
   "cell_type": "markdown",
   "metadata": {},
   "source": [
    "**Answer:**"
   ]
  },
  {
   "cell_type": "markdown",
   "metadata": {},
   "source": [
    "## Question 3\n",
    "\n",
    "Compute the number of researchers at distance $i$ from a node given by its index. Compare the number of researchers at distance 3 from the following researchers:\n",
    "- \"Paul_Erdös\"\n",
    "- \"Fabrice_Lumineau\"\n",
    "- \"Fabien_Mathieu\"\n",
    "- \"Jean-Louis_Rougier\""
   ]
  },
  {
   "cell_type": "markdown",
   "metadata": {},
   "source": [
    "**Answer:**"
   ]
  },
  {
   "cell_type": "markdown",
   "metadata": {},
   "source": [
    "## Question 4 (Bonus)"
   ]
  },
  {
   "cell_type": "markdown",
   "metadata": {},
   "source": [
    "Write a function that takes a node index and gives a shortest path from Erdös. Test it."
   ]
  },
  {
   "cell_type": "markdown",
   "metadata": {},
   "source": [
    "# 3. Clustering Coefficient "
   ]
  },
  {
   "cell_type": "markdown",
   "metadata": {},
   "source": [
    "Informally, the clustering definition tells how likely it is that the friend of your friend is your friend. In other words, it tries to quantify the so-call *small-world* effect.\n",
    "\n",
    "When one wants to give a proper definition of what is a clustering coefficient, multiple options exist. For this practical, we will rely on the metrics introduced by Newman in\n",
    "[The structure and function of complex networks][newman]. Note that these are the definitions proposed in Wikipedia (avoid the French version by the way, the translation is lossy).\n",
    "\n",
    "Note that we will slightly alter some of the definitions proposed by [Newman][newman] to simplify the practical, but the metrics are exactly the same.\n",
    "\n",
    "[newman]: http://math.uchicago.edu/~shmuel/Network-course-readings/Newman,%20SIAM.pdf \"The structure and function of complex networks by M.E.J. Newman\""
   ]
  },
  {
   "cell_type": "markdown",
   "metadata": {},
   "source": [
    "## Definitions\n",
    "\n"
   ]
  },
  {
   "cell_type": "markdown",
   "metadata": {},
   "source": [
    "For a simple graph $G = (V,E)$ (*simple* means not oriented, no loops). We introduce the following notation for a node $i \\in V$:\n",
    "- $N(i):= \\{j\\in V \\big| (i,j)\\in E\\}$ is the *neighborhood* of $i$. Note that $d_i:=|N(i)|$ is the degree of $i$.\n",
    "- $B(i):= \\{(j,k)\\in V^2 \\big| (i,j)\\in E, (i,k)\\in E, j\\neq k\\}$ are the *edge pairs* of $i$. Note that the tuple $(j,k)$ is oriented ($(j,k)\\neq(k,j)$). $b_i$ denotes $|B(i)|$. It is straightforward to check that $b_i = d_i(d_i-1)$\n",
    "- $T(i):= \\{(j,k)\\in V^2 \\big| (i,j)\\in E, (i,k)\\in E, (j,k)\\in E\\}$ are the *oriented triangles* of $i$. Note that the tuple $(j,k)$ is oriented ($(j,k)\\neq(k,j)$). $t_i$ denotes $|T(i)|$.\n",
    "\n",
    "Remark that $T(i)\\subseteq B(i)$: all oriented triangles are also edge pairs, the only difference is the existence of an edge between the pair nodes.\n",
    "\n",
    "The clustering coefficient just measures the ratio between $T$ and $B$. It comes in two flavors, local and global:\n",
    "- The *local* clustering coefficient of a node $i$ is the ratio $c_i:=\\frac{t_i}{b_i}$. By convention, for $d_i=0$ (isolated node) or $d_i=1$ (leaf), we assume $c_i = 0$.\n",
    "- The *average local* clustering coefficient $C_l$ is just the average $C_l:=\\frac{1}{|V|}\\sum_{i\\in V}c_i$.\n",
    "- The *global* clustering coefficient $C_g$ is the ratio between the total number of oriented triangles and the total number of edge pairs: $C_g:= \\frac{\\sum_{i\\in V} t_i}{\\sum_{i\\in V} b_i}$.\n",
    "\n",
    "Last definition: the *reference clustering* of a simple graph $G = (V, E)$ is defined as $C_r:=\\frac{2|E|}{|V|(|V|-1)}$. It corresponds to the typical clustering coefficient one would observe on a random graph (e.g. Erdös-Rényi) having in average the same number of nodes and edges than $G$.\n",
    "\n",
    "[newman]: http://math.uchicago.edu/~shmuel/Network-course-readings/Newman,%20SIAM.pdf \"The structure and function of complex networks by M.E.J. Newman\""
   ]
  },
  {
   "cell_type": "markdown",
   "metadata": {},
   "source": [
    "## Example\n",
    "\n",
    "To illustrate the definitions above, consider the following graph :\n",
    "- $V = \\{A, B, C, D\\}$\n",
    "- $E = \\{(AB), (AC), (AD), (BC)\\}$ \n",
    "\n",
    "It is displayed in the cell below in GraphViz, but you may need a working installation of GraphViz for it to display correctly. If you want to see it (this is optional, unless you want to do bonus question 3.3), you'll need to:\n",
    "- install GraphViz on your computer (http://www.graphviz.org/Download.php)\n",
    "- make sure the binaries are in your path (for Windows users)\n",
    "- install the Python interface: *pip install graphviz*"
   ]
  },
  {
   "cell_type": "code",
   "execution_count": 29,
   "metadata": {
    "ExecuteTime": {
     "end_time": "2017-10-16T12:24:32.617106Z",
     "start_time": "2017-10-16T12:24:32.518536Z"
    },
    "hide_input": false
   },
   "outputs": [
    {
     "data": {
      "image/svg+xml": [
       "<?xml version=\"1.0\" encoding=\"UTF-8\" standalone=\"no\"?>\r\n",
       "<!DOCTYPE svg PUBLIC \"-//W3C//DTD SVG 1.1//EN\"\r\n",
       " \"http://www.w3.org/Graphics/SVG/1.1/DTD/svg11.dtd\">\r\n",
       "<!-- Generated by graphviz version 2.38.0 (20140413.2041)\r\n",
       " -->\r\n",
       "<!-- Title: %3 Pages: 1 -->\r\n",
       "<svg width=\"172pt\" height=\"188pt\"\r\n",
       " viewBox=\"0.00 0.00 172.00 188.00\" xmlns=\"http://www.w3.org/2000/svg\" xmlns:xlink=\"http://www.w3.org/1999/xlink\">\r\n",
       "<g id=\"graph0\" class=\"graph\" transform=\"scale(1 1) rotate(0) translate(4 184)\">\r\n",
       "<title>%3</title>\r\n",
       "<polygon fill=\"white\" stroke=\"none\" points=\"-4,4 -4,-184 168,-184 168,4 -4,4\"/>\r\n",
       "<!-- A -->\r\n",
       "<g id=\"node1\" class=\"node\"><title>A</title>\r\n",
       "<ellipse fill=\"none\" stroke=\"black\" cx=\"82\" cy=\"-162\" rx=\"27\" ry=\"18\"/>\r\n",
       "<text text-anchor=\"middle\" x=\"82\" y=\"-158.3\" font-family=\"Times New Roman,serif\" font-size=\"14.00\">A</text>\r\n",
       "</g>\r\n",
       "<!-- B -->\r\n",
       "<g id=\"node2\" class=\"node\"><title>B</title>\r\n",
       "<ellipse fill=\"none\" stroke=\"black\" cx=\"27\" cy=\"-90\" rx=\"27\" ry=\"18\"/>\r\n",
       "<text text-anchor=\"middle\" x=\"27\" y=\"-86.3\" font-family=\"Times New Roman,serif\" font-size=\"14.00\">B</text>\r\n",
       "</g>\r\n",
       "<!-- A&#45;&#45;B -->\r\n",
       "<g id=\"edge1\" class=\"edge\"><title>A&#45;&#45;B</title>\r\n",
       "<path fill=\"none\" stroke=\"black\" d=\"M70.0658,-145.811C60.8405,-134.07 48.1304,-117.893 38.9109,-106.159\"/>\r\n",
       "</g>\r\n",
       "<!-- C -->\r\n",
       "<g id=\"node3\" class=\"node\"><title>C</title>\r\n",
       "<ellipse fill=\"none\" stroke=\"black\" cx=\"54\" cy=\"-18\" rx=\"27\" ry=\"18\"/>\r\n",
       "<text text-anchor=\"middle\" x=\"54\" y=\"-14.3\" font-family=\"Times New Roman,serif\" font-size=\"14.00\">C</text>\r\n",
       "</g>\r\n",
       "<!-- A&#45;&#45;C -->\r\n",
       "<g id=\"edge2\" class=\"edge\"><title>A&#45;&#45;C</title>\r\n",
       "<path fill=\"none\" stroke=\"black\" d=\"M78.6225,-143.871C73.2408,-116.578 62.7787,-63.5205 57.3894,-36.1893\"/>\r\n",
       "</g>\r\n",
       "<!-- D -->\r\n",
       "<g id=\"node4\" class=\"node\"><title>D</title>\r\n",
       "<ellipse fill=\"none\" stroke=\"black\" cx=\"137\" cy=\"-90\" rx=\"27\" ry=\"18\"/>\r\n",
       "<text text-anchor=\"middle\" x=\"137\" y=\"-86.3\" font-family=\"Times New Roman,serif\" font-size=\"14.00\">D</text>\r\n",
       "</g>\r\n",
       "<!-- A&#45;&#45;D -->\r\n",
       "<g id=\"edge4\" class=\"edge\"><title>A&#45;&#45;D</title>\r\n",
       "<path fill=\"none\" stroke=\"black\" d=\"M93.9342,-145.811C103.16,-134.07 115.87,-117.893 125.089,-106.159\"/>\r\n",
       "</g>\r\n",
       "<!-- B&#45;&#45;C -->\r\n",
       "<g id=\"edge3\" class=\"edge\"><title>B&#45;&#45;C</title>\r\n",
       "<path fill=\"none\" stroke=\"black\" d=\"M33.3986,-72.411C37.6403,-61.4141 43.1894,-47.0274 47.4597,-35.9562\"/>\r\n",
       "</g>\r\n",
       "</g>\r\n",
       "</svg>\r\n"
      ],
      "text/plain": [
       "<graphviz.dot.Graph at 0x281056f2208>"
      ]
     },
     "execution_count": 29,
     "metadata": {},
     "output_type": "execute_result"
    }
   ],
   "source": [
    "from graphviz import Graph\n",
    "d = Graph(strict = True)\n",
    "d.edge(\"A\",\"B\")\n",
    "d.edge(\"A\",\"C\")\n",
    "d.edge(\"B\",\"C\")\n",
    "d.edge(\"A\",\"D\")\n",
    "d"
   ]
  },
  {
   "cell_type": "markdown",
   "metadata": {},
   "source": [
    "We have the following:\n",
    "- Local clustering coefficients:\n",
    "    - $A$ has 6 edge pairs and 2 oriented triangles: $c_A = \\frac 1 3$\n",
    "    - $B$ has 2 edge pairs and 2 oriented triangles: $c_B = 1$\n",
    "    - $C$ has 2 edge pairs and 2 oriented triangles: $c_C = 1$\n",
    "    - $D$ has 0 edge pairs and 0 oriented triangles: $c_D = 0$ by convention.\n",
    "- Average local clustering: $C_l = \\frac{1/3+1+1+0}{4}=\\frac{7}{12}$.\n",
    "- Global clustering coefficient: $C_g = \\frac{2+2+2+0}{6+2+2+0} = \\frac{3}{5}$\n",
    "    - Notice that $C_g\\neq C_l$.\n",
    "    - One verifies that $C_g = \\frac{1}{10}(6c_A+2c_B+2c_C+0c_D)$.\n",
    "- Reference clustering: $C_r = \\frac{4}{3\\times 2} = \\frac 2 3$\n",
    "\n",
    "**Remark:** you may have noticed that the reference clustering is greater than the others, yet it is impossible to produce a graph with 4 nodes and 4 edges with a higher clustering. The short answer is that is is a border effect due to the small size of the graph. A deeper, slightly longer answer can be provided on demand.\n"
   ]
  },
  {
   "cell_type": "markdown",
   "metadata": {},
   "source": [
    "## Question 1"
   ]
  },
  {
   "cell_type": "markdown",
   "metadata": {},
   "source": [
    "Express the global clustering as a function of the local clusterings. Discuss qualitatively how the average local clustering and the global clustering may differ."
   ]
  },
  {
   "cell_type": "markdown",
   "metadata": {},
   "source": [
    "**Answer:**"
   ]
  },
  {
   "cell_type": "markdown",
   "metadata": {},
   "source": [
    "## Question 2"
   ]
  },
  {
   "cell_type": "markdown",
   "metadata": {},
   "source": [
    "Give a function that tells the local clustering coefficient $c_i$ of a node with id $i$ in DBLP. Try to make it as fast as possible.\n",
    "\n",
    "**Hints:**\n",
    "- The adjacency list you computed above will be quite useful.\n",
    "- Your main focus should be the computation of the number of oriented triangles of $i$.\n",
    "    - You can remark that $(j,k)$ is an oriented triangle of $i$ iff $j\\in N(i)$, $k\\in N(j)$ and $k\\in N(i)$.\n",
    "    - In particular, if you compute the set $N^2(i):=\\cup_{j\\in N(i)}N(j)$ with multiplicity (a given $k$ can be in the set multiple times if it is the neighbors of multiple $j$'s), you *just* have to count the number of elements of $N^2(i)$ that belongs to $N(i)$.\n",
    "    - So you need to compute $N^2(i) = \\{k \\in N(j)\\text{ s.t. }j\\in N(i)\\}$ (with multiplicity). Maybe it is time for you to start using the full power of list comprehension (see examples from [Basic Tools](#List-comprehension)).\n",
    "    - Look at the **numpy** function **in1d**, it may be handy.\n",
    "- Remind that a function call can slow down the execution. If it is a very small function, it may be faster to just rewrite it.\n",
    "- To check your code, here are a few local clusterings:\n",
    "    - \"Marc-Olivier_Buob\": 0.667\n",
    "    - \"Thomas_H._Clausen\": 0.263\n",
    "    - \"Paul_Erdös\": 0.039    \n",
    "    - \"Fabien_Mathieu\": 0.159\n",
    "    - \"Jean-Louis_Rougier\": 0.132"
   ]
  },
  {
   "cell_type": "markdown",
   "metadata": {},
   "source": [
    "**Answer:**"
   ]
  },
  {
   "cell_type": "markdown",
   "metadata": {},
   "source": [
    "## Question 3 (Bonus)"
   ]
  },
  {
   "cell_type": "markdown",
   "metadata": {},
   "source": [
    "Write a function that displays the neighborhood graph of a node $i$ using GraphViz. The neighborhood graph of $i$, denoted $G(i) = (V(i), E(i))$, is such that:\n",
    "- $V(i) = \\{i\\}\\cup N(i)$\n",
    "- $E(i) = \\{(j,k)\\in E, j \\in V(i), k \\in V(i)\\}$\n",
    "\n",
    "Test it on a few researchers (avoid researchers with too many co-authors if you want to see something) to see how it looks."
   ]
  },
  {
   "cell_type": "markdown",
   "metadata": {},
   "source": [
    "**Answer:**"
   ]
  },
  {
   "cell_type": "code",
   "execution_count": 35,
   "metadata": {
    "ExecuteTime": {
     "end_time": "2017-10-16T12:24:34.612779Z",
     "start_time": "2017-10-16T12:24:34.274009Z"
    },
    "hide_input": true
   },
   "outputs": [
    {
     "data": {
      "image/svg+xml": [
       "<?xml version=\"1.0\" encoding=\"UTF-8\" standalone=\"no\"?>\r\n",
       "<!DOCTYPE svg PUBLIC \"-//W3C//DTD SVG 1.1//EN\"\r\n",
       " \"http://www.w3.org/Graphics/SVG/1.1/DTD/svg11.dtd\">\r\n",
       "<!-- Generated by graphviz version 2.38.0 (20140413.2041)\r\n",
       " -->\r\n",
       "<!-- Title: %3 Pages: 1 -->\r\n",
       "<svg width=\"3005pt\" height=\"764pt\"\r\n",
       " viewBox=\"0.00 0.00 3005.02 764.00\" xmlns=\"http://www.w3.org/2000/svg\" xmlns:xlink=\"http://www.w3.org/1999/xlink\">\r\n",
       "<g id=\"graph0\" class=\"graph\" transform=\"scale(1 1) rotate(0) translate(4 760)\">\r\n",
       "<title>%3</title>\r\n",
       "<polygon fill=\"white\" stroke=\"none\" points=\"-4,4 -4,-760 3001.02,-760 3001.02,4 -4,4\"/>\r\n",
       "<!-- 205757 -->\r\n",
       "<g id=\"node1\" class=\"node\"><title>205757</title>\r\n",
       "<ellipse fill=\"none\" stroke=\"black\" cx=\"1708.43\" cy=\"-450\" rx=\"42.5843\" ry=\"18\"/>\r\n",
       "<text text-anchor=\"middle\" x=\"1708.43\" y=\"-448.1\" font-family=\"Times New Roman,serif\" font-size=\"8.00\">Philippe_Jacquet</text>\r\n",
       "</g>\r\n",
       "<!-- 214733 -->\r\n",
       "<g id=\"node2\" class=\"node\"><title>214733</title>\r\n",
       "<ellipse fill=\"none\" stroke=\"black\" cx=\"903.435\" cy=\"-378\" rx=\"57.0809\" ry=\"18\"/>\r\n",
       "<text text-anchor=\"middle\" x=\"903.435\" y=\"-376.1\" font-family=\"Times New Roman,serif\" font-size=\"8.00\">Nikita_D._Vvedenskaya</text>\r\n",
       "</g>\r\n",
       "<!-- 205757&#45;&#45;214733 -->\r\n",
       "<g id=\"edge1\" class=\"edge\"><title>205757&#45;&#45;214733</title>\r\n",
       "<path fill=\"none\" stroke=\"black\" d=\"M1665.63,-448.622C1551.66,-447.038 1231.58,-438.802 969.435,-396 961.26,-394.665 952.622,-392.79 944.384,-390.768\"/>\r\n",
       "</g>\r\n",
       "<!-- 222014 -->\r\n",
       "<g id=\"node3\" class=\"node\"><title>222014</title>\r\n",
       "<ellipse fill=\"none\" stroke=\"black\" cx=\"1414.43\" cy=\"-378\" rx=\"38.0086\" ry=\"18\"/>\r\n",
       "<text text-anchor=\"middle\" x=\"1414.43\" y=\"-376.1\" font-family=\"Times New Roman,serif\" font-size=\"8.00\">Bernard_Mans</text>\r\n",
       "</g>\r\n",
       "<!-- 205757&#45;&#45;222014 -->\r\n",
       "<g id=\"edge2\" class=\"edge\"><title>205757&#45;&#45;222014</title>\r\n",
       "<path fill=\"none\" stroke=\"black\" d=\"M1670.42,-441.902C1622.52,-432.677 1537.81,-415.431 1466.43,-396 1459.19,-394.029 1451.47,-391.656 1444.25,-389.316\"/>\r\n",
       "</g>\r\n",
       "<!-- 234114 -->\r\n",
       "<g id=\"node4\" class=\"node\"><title>234114</title>\r\n",
       "<ellipse fill=\"none\" stroke=\"black\" cx=\"333.435\" cy=\"-378\" rx=\"39.278\" ry=\"18\"/>\r\n",
       "<text text-anchor=\"middle\" x=\"333.435\" y=\"-376.1\" font-family=\"Times New Roman,serif\" font-size=\"8.00\">Thierry_Plesse</text>\r\n",
       "</g>\r\n",
       "<!-- 205757&#45;&#45;234114 -->\r\n",
       "<g id=\"edge3\" class=\"edge\"><title>205757&#45;&#45;234114</title>\r\n",
       "<path fill=\"none\" stroke=\"black\" d=\"M1666.53,-446.867C1461.97,-436.453 570.102,-391.048 372.359,-380.982\"/>\r\n",
       "</g>\r\n",
       "<!-- 234463 -->\r\n",
       "<g id=\"node5\" class=\"node\"><title>234463</title>\r\n",
       "<ellipse fill=\"none\" stroke=\"black\" cx=\"836.435\" cy=\"-306\" rx=\"35.3371\" ry=\"18\"/>\r\n",
       "<text text-anchor=\"middle\" x=\"836.435\" y=\"-304.1\" font-family=\"Times New Roman,serif\" font-size=\"8.00\">Cedric_Adjih</text>\r\n",
       "</g>\r\n",
       "<!-- 205757&#45;&#45;234463 -->\r\n",
       "<g id=\"edge4\" class=\"edge\"><title>205757&#45;&#45;234463</title>\r\n",
       "<path fill=\"none\" stroke=\"black\" d=\"M1667.42,-445.112C1598.24,-438.124 1454.17,-421.729 1334.43,-396 1278.33,-383.944 1266.54,-372.056 1210.43,-360 1086.69,-333.41 936.958,-316.789 870.755,-310.218\"/>\r\n",
       "</g>\r\n",
       "<!-- 261137 -->\r\n",
       "<g id=\"node6\" class=\"node\"><title>261137</title>\r\n",
       "<ellipse fill=\"none\" stroke=\"black\" cx=\"2719.43\" cy=\"-378\" rx=\"39.278\" ry=\"18\"/>\r\n",
       "<text text-anchor=\"middle\" x=\"2719.43\" y=\"-376.1\" font-family=\"Times New Roman,serif\" font-size=\"8.00\">Gadiel_Seroussi</text>\r\n",
       "</g>\r\n",
       "<!-- 205757&#45;&#45;261137 -->\r\n",
       "<g id=\"edge5\" class=\"edge\"><title>205757&#45;&#45;261137</title>\r\n",
       "<path fill=\"none\" stroke=\"black\" d=\"M1750.82,-448.233C1912.5,-445.066 2490.42,-431.459 2670.43,-396 2677.15,-394.677 2684.2,-392.642 2690.78,-390.433\"/>\r\n",
       "</g>\r\n",
       "<!-- 269593 -->\r\n",
       "<g id=\"node7\" class=\"node\"><title>269593</title>\r\n",
       "<ellipse fill=\"none\" stroke=\"black\" cx=\"1889.43\" cy=\"-378\" rx=\"33.433\" ry=\"18\"/>\r\n",
       "<text text-anchor=\"middle\" x=\"1889.43\" y=\"-376.1\" font-family=\"Times New Roman,serif\" font-size=\"8.00\">Dohy_Hong</text>\r\n",
       "</g>\r\n",
       "<!-- 205757&#45;&#45;269593 -->\r\n",
       "<g id=\"edge6\" class=\"edge\"><title>205757&#45;&#45;269593</title>\r\n",
       "<path fill=\"none\" stroke=\"black\" d=\"M1739.15,-437.495C1767.36,-426.877 1810.3,-410.594 1847.43,-396 1852.71,-393.928 1858.33,-391.677 1863.7,-389.512\"/>\r\n",
       "</g>\r\n",
       "<!-- 270269 -->\r\n",
       "<g id=\"node8\" class=\"node\"><title>270269</title>\r\n",
       "<ellipse fill=\"none\" stroke=\"black\" cx=\"1556.43\" cy=\"-234\" rx=\"49.1982\" ry=\"18\"/>\r\n",
       "<text text-anchor=\"middle\" x=\"1556.43\" y=\"-232.1\" font-family=\"Times New Roman,serif\" font-size=\"8.00\">Leonidas_Georgiadis</text>\r\n",
       "</g>\r\n",
       "<!-- 205757&#45;&#45;270269 -->\r\n",
       "<g id=\"edge7\" class=\"edge\"><title>205757&#45;&#45;270269</title>\r\n",
       "<path fill=\"none\" stroke=\"black\" d=\"M1677.73,-437.187C1658.43,-428.392 1634.26,-414.674 1618.43,-396 1581.35,-352.244 1565.05,-283.86 1559.2,-252.178\"/>\r\n",
       "</g>\r\n",
       "<!-- 270369 -->\r\n",
       "<g id=\"node9\" class=\"node\"><title>270369</title>\r\n",
       "<ellipse fill=\"none\" stroke=\"black\" cx=\"536.435\" cy=\"-234\" rx=\"44.4889\" ry=\"18\"/>\r\n",
       "<text text-anchor=\"middle\" x=\"536.435\" y=\"-232.1\" font-family=\"Times New Roman,serif\" font-size=\"8.00\">Paul_Mühlethaler</text>\r\n",
       "</g>\r\n",
       "<!-- 205757&#45;&#45;270369 -->\r\n",
       "<g id=\"edge8\" class=\"edge\"><title>205757&#45;&#45;270369</title>\r\n",
       "<path fill=\"none\" stroke=\"black\" d=\"M1665.94,-447.733C1578.79,-444.432 1373.93,-433.059 1206.43,-396 1158.27,-385.343 1149.54,-370.917 1101.43,-360 966.6,-329.404 926.706,-356.981 792.435,-324 748.989,-313.328 740.654,-302.796 698.435,-288 648.692,-270.567 635.449,-268.64 585.435,-252 580.052,-250.209 574.351,-248.27 568.814,-246.364\"/>\r\n",
       "</g>\r\n",
       "<!-- 350046 -->\r\n",
       "<g id=\"node10\" class=\"node\"><title>350046</title>\r\n",
       "<ellipse fill=\"none\" stroke=\"black\" cx=\"1164.43\" cy=\"-162\" rx=\"48.4297\" ry=\"18\"/>\r\n",
       "<text text-anchor=\"middle\" x=\"1164.43\" y=\"-160.1\" font-family=\"Times New Roman,serif\" font-size=\"8.00\">Georgios_Rodolakis</text>\r\n",
       "</g>\r\n",
       "<!-- 205757&#45;&#45;350046 -->\r\n",
       "<g id=\"edge9\" class=\"edge\"><title>205757&#45;&#45;350046</title>\r\n",
       "<path fill=\"none\" stroke=\"black\" d=\"M1688.91,-433.794C1677.79,-424.124 1664.51,-410.686 1656.43,-396 1616.87,-324.008 1675.68,-270.746 1614.43,-216 1584.82,-189.526 1321.76,-171.832 1212.1,-165.546\"/>\r\n",
       "</g>\r\n",
       "<!-- 350047 -->\r\n",
       "<g id=\"node11\" class=\"node\"><title>350047</title>\r\n",
       "<ellipse fill=\"none\" stroke=\"black\" cx=\"563.435\" cy=\"-90\" rx=\"55.0423\" ry=\"18\"/>\r\n",
       "<text text-anchor=\"middle\" x=\"563.435\" y=\"-88.1\" font-family=\"Times New Roman,serif\" font-size=\"8.00\">Amina_Meraihi_Naimi</text>\r\n",
       "</g>\r\n",
       "<!-- 205757&#45;&#45;350047 -->\r\n",
       "<g id=\"edge10\" class=\"edge\"><title>205757&#45;&#45;350047</title>\r\n",
       "<path fill=\"none\" stroke=\"black\" d=\"M1712.25,-432.02C1724.83,-374.07 1761.98,-185.395 1722.43,-144 1683.89,-103.651 843.441,-93.442 618.429,-91.4277\"/>\r\n",
       "</g>\r\n",
       "<!-- 362341 -->\r\n",
       "<g id=\"node12\" class=\"node\"><title>362341</title>\r\n",
       "<ellipse fill=\"none\" stroke=\"black\" cx=\"2439.43\" cy=\"-378\" rx=\"39.278\" ry=\"18\"/>\r\n",
       "<text text-anchor=\"middle\" x=\"2439.43\" y=\"-376.1\" font-family=\"Times New Roman,serif\" font-size=\"8.00\">Charles_Knessl</text>\r\n",
       "</g>\r\n",
       "<!-- 205757&#45;&#45;362341 -->\r\n",
       "<g id=\"edge11\" class=\"edge\"><title>205757&#45;&#45;362341</title>\r\n",
       "<path fill=\"none\" stroke=\"black\" d=\"M1751.35,-449.552C1859.86,-450.116 2153.51,-446.442 2391.43,-396 2397.83,-394.643 2404.55,-392.65 2410.85,-390.503\"/>\r\n",
       "</g>\r\n",
       "<!-- 365986 -->\r\n",
       "<g id=\"node13\" class=\"node\"><title>365986</title>\r\n",
       "<ellipse fill=\"none\" stroke=\"black\" cx=\"1417.43\" cy=\"-306\" rx=\"35.3371\" ry=\"18\"/>\r\n",
       "<text text-anchor=\"middle\" x=\"1417.43\" y=\"-304.1\" font-family=\"Times New Roman,serif\" font-size=\"8.00\">Alonso_Silva</text>\r\n",
       "</g>\r\n",
       "<!-- 205757&#45;&#45;365986 -->\r\n",
       "<g id=\"edge12\" class=\"edge\"><title>205757&#45;&#45;365986</title>\r\n",
       "<path fill=\"none\" stroke=\"black\" d=\"M1667.26,-444.891C1624.21,-439.143 1555.88,-425.828 1504.43,-396 1487.52,-386.191 1451.03,-345.762 1431.11,-322.915\"/>\r\n",
       "</g>\r\n",
       "<!-- 393207 -->\r\n",
       "<g id=\"node14\" class=\"node\"><title>393207</title>\r\n",
       "<ellipse fill=\"none\" stroke=\"black\" cx=\"2132.43\" cy=\"-378\" rx=\"40.0477\" ry=\"18\"/>\r\n",
       "<text text-anchor=\"middle\" x=\"2132.43\" y=\"-376.1\" font-family=\"Times New Roman,serif\" font-size=\"8.00\">Daniel_Panario</text>\r\n",
       "</g>\r\n",
       "<!-- 205757&#45;&#45;393207 -->\r\n",
       "<g id=\"edge13\" class=\"edge\"><title>205757&#45;&#45;393207</title>\r\n",
       "<path fill=\"none\" stroke=\"black\" d=\"M1747.84,-443.028C1810.07,-433.525 1934.88,-414.175 2040.43,-396 2058.84,-392.83 2079.28,-389.078 2096.2,-385.906\"/>\r\n",
       "</g>\r\n",
       "<!-- 401021 -->\r\n",
       "<g id=\"node15\" class=\"node\"><title>401021</title>\r\n",
       "<ellipse fill=\"none\" stroke=\"black\" cx=\"2224.43\" cy=\"-378\" rx=\"34.0674\" ry=\"18\"/>\r\n",
       "<text text-anchor=\"middle\" x=\"2224.43\" y=\"-376.1\" font-family=\"Times New Roman,serif\" font-size=\"8.00\">Guy_Fayolle</text>\r\n",
       "</g>\r\n",
       "<!-- 205757&#45;&#45;401021 -->\r\n",
       "<g id=\"edge14\" class=\"edge\"><title>205757&#45;&#45;401021</title>\r\n",
       "<path fill=\"none\" stroke=\"black\" d=\"M1750.86,-447.995C1834.45,-445.198 2025.88,-434.734 2181.43,-396 2187.35,-394.526 2193.55,-392.429 2199.33,-390.208\"/>\r\n",
       "</g>\r\n",
       "<!-- 463750 -->\r\n",
       "<g id=\"node16\" class=\"node\"><title>463750</title>\r\n",
       "<ellipse fill=\"none\" stroke=\"black\" cx=\"1919.43\" cy=\"-90\" rx=\"38.6432\" ry=\"18\"/>\r\n",
       "<text text-anchor=\"middle\" x=\"1919.43\" y=\"-88.1\" font-family=\"Times New Roman,serif\" font-size=\"8.00\">Yacine_Mezali</text>\r\n",
       "</g>\r\n",
       "<!-- 205757&#45;&#45;463750 -->\r\n",
       "<g id=\"edge15\" class=\"edge\"><title>205757&#45;&#45;463750</title>\r\n",
       "<path fill=\"none\" stroke=\"black\" d=\"M1750.35,-446.6C1828.46,-439.626 1988.43,-412.467 1988.43,-307 1988.43,-307 1988.43,-307 1988.43,-233 1988.43,-183.115 1953.56,-132.389 1933.4,-107.231\"/>\r\n",
       "</g>\r\n",
       "<!-- 577107 -->\r\n",
       "<g id=\"node17\" class=\"node\"><title>577107</title>\r\n",
       "<ellipse fill=\"none\" stroke=\"black\" cx=\"1350.43\" cy=\"-234\" rx=\"37.3742\" ry=\"18\"/>\r\n",
       "<text text-anchor=\"middle\" x=\"1350.43\" y=\"-232.1\" font-family=\"Times New Roman,serif\" font-size=\"8.00\">Salman_Malik</text>\r\n",
       "</g>\r\n",
       "<!-- 205757&#45;&#45;577107 -->\r\n",
       "<g id=\"edge16\" class=\"edge\"><title>205757&#45;&#45;577107</title>\r\n",
       "<path fill=\"none\" stroke=\"black\" d=\"M1670.93,-441.264C1639.06,-433.454 1593.11,-419.18 1558.43,-396 1545.03,-387.035 1474.35,-297.661 1461.43,-288 1436.3,-269.197 1403.43,-254.512 1380,-245.416\"/>\r\n",
       "</g>\r\n",
       "<!-- 610977 -->\r\n",
       "<g id=\"node18\" class=\"node\"><title>610977</title>\r\n",
       "<ellipse fill=\"none\" stroke=\"black\" cx=\"342.435\" cy=\"-162\" rx=\"32.7988\" ry=\"18\"/>\r\n",
       "<text text-anchor=\"middle\" x=\"342.435\" y=\"-160.1\" font-family=\"Times New Roman,serif\" font-size=\"8.00\">Marc_Badel</text>\r\n",
       "</g>\r\n",
       "<!-- 205757&#45;&#45;610977 -->\r\n",
       "<g id=\"edge17\" class=\"edge\"><title>205757&#45;&#45;610977</title>\r\n",
       "<path fill=\"none\" stroke=\"black\" d=\"M1666.72,-446.08C1601.67,-440.736 1472.61,-426.953 1367.43,-396 1329.64,-384.878 1323.81,-372.46 1286.43,-360 1014.78,-269.43 939.318,-271.708 658.435,-216 554.762,-195.439 430.912,-176.203 373.943,-167.652\"/>\r\n",
       "</g>\r\n",
       "<!-- 650532 -->\r\n",
       "<g id=\"node19\" class=\"node\"><title>650532</title>\r\n",
       "<ellipse fill=\"none\" stroke=\"black\" cx=\"349.435\" cy=\"-90\" rx=\"43.8539\" ry=\"18\"/>\r\n",
       "<text text-anchor=\"middle\" x=\"349.435\" y=\"-88.1\" font-family=\"Times New Roman,serif\" font-size=\"8.00\">Jérôme_Lecomte</text>\r\n",
       "</g>\r\n",
       "<!-- 205757&#45;&#45;650532 -->\r\n",
       "<g id=\"edge18\" class=\"edge\"><title>205757&#45;&#45;650532</title>\r\n",
       "<path fill=\"none\" stroke=\"black\" d=\"M1709.17,-431.796C1710.01,-388.345 1705.72,-273.56 1641.43,-216 1518.18,-105.637 625.739,-118.296 499.435,-108 462.472,-104.987 420.543,-100.111 390.431,-96.352\"/>\r\n",
       "</g>\r\n",
       "<!-- 656079 -->\r\n",
       "<g id=\"node20\" class=\"node\"><title>656079</title>\r\n",
       "<ellipse fill=\"none\" stroke=\"black\" cx=\"2889.43\" cy=\"-378\" rx=\"37.3742\" ry=\"18\"/>\r\n",
       "<text text-anchor=\"middle\" x=\"2889.43\" y=\"-376.1\" font-family=\"Times New Roman,serif\" font-size=\"8.00\">Ramon_Brena</text>\r\n",
       "</g>\r\n",
       "<!-- 205757&#45;&#45;656079 -->\r\n",
       "<g id=\"edge19\" class=\"edge\"><title>205757&#45;&#45;656079</title>\r\n",
       "<path fill=\"none\" stroke=\"black\" d=\"M1750.9,-448.223C1894.27,-445.311 2373.41,-433.239 2767.43,-396 2796.92,-393.213 2830.21,-388.466 2854.56,-384.695\"/>\r\n",
       "</g>\r\n",
       "<!-- 656080 -->\r\n",
       "<g id=\"node21\" class=\"node\"><title>656080</title>\r\n",
       "<ellipse fill=\"none\" stroke=\"black\" cx=\"2824.43\" cy=\"-306\" rx=\"41.9498\" ry=\"18\"/>\r\n",
       "<text text-anchor=\"middle\" x=\"2824.43\" y=\"-304.1\" font-family=\"Times New Roman,serif\" font-size=\"8.00\">Christian_Gresse</text>\r\n",
       "</g>\r\n",
       "<!-- 205757&#45;&#45;656080 -->\r\n",
       "<g id=\"edge20\" class=\"edge\"><title>205757&#45;&#45;656080</title>\r\n",
       "<path fill=\"none\" stroke=\"black\" d=\"M1749.59,-444.738C1807.13,-438.072 1914.44,-423.055 2002.43,-396 2040.09,-384.422 2045.21,-369.548 2083.43,-360 2217.48,-326.512 2646.17,-311.955 2782.43,-308.097\"/>\r\n",
       "</g>\r\n",
       "<!-- 745070 -->\r\n",
       "<g id=\"node22\" class=\"node\"><title>745070</title>\r\n",
       "<ellipse fill=\"none\" stroke=\"black\" cx=\"1447.43\" cy=\"-234\" rx=\"41.9498\" ry=\"18\"/>\r\n",
       "<text text-anchor=\"middle\" x=\"1447.43\" y=\"-232.1\" font-family=\"Times New Roman,serif\" font-size=\"8.00\">Song_Yean_Cho</text>\r\n",
       "</g>\r\n",
       "<!-- 205757&#45;&#45;745070 -->\r\n",
       "<g id=\"edge21\" class=\"edge\"><title>205757&#45;&#45;745070</title>\r\n",
       "<path fill=\"none\" stroke=\"black\" d=\"M1676.01,-438.275C1651.63,-429.276 1618.14,-414.864 1592.43,-396 1588.54,-393.142 1497.46,-291.127 1461.68,-250.99\"/>\r\n",
       "</g>\r\n",
       "<!-- 756022 -->\r\n",
       "<g id=\"node23\" class=\"node\"><title>756022</title>\r\n",
       "<ellipse fill=\"none\" stroke=\"black\" cx=\"1035.43\" cy=\"-378\" rx=\"56.9465\" ry=\"18\"/>\r\n",
       "<text text-anchor=\"middle\" x=\"1035.43\" y=\"-376.1\" font-family=\"Times New Roman,serif\" font-size=\"8.00\">Thomas_Heide_Clausen</text>\r\n",
       "</g>\r\n",
       "<!-- 205757&#45;&#45;756022 -->\r\n",
       "<g id=\"edge22\" class=\"edge\"><title>205757&#45;&#45;756022</title>\r\n",
       "<path fill=\"none\" stroke=\"black\" d=\"M1666.95,-445.973C1573.48,-438.963 1339.37,-420.338 1144.43,-396 1124.67,-393.532 1102.97,-390.264 1084.18,-387.253\"/>\r\n",
       "</g>\r\n",
       "<!-- 864626 -->\r\n",
       "<g id=\"node24\" class=\"node\"><title>864626</title>\r\n",
       "<ellipse fill=\"none\" stroke=\"black\" cx=\"2329.43\" cy=\"-378\" rx=\"53.1395\" ry=\"18\"/>\r\n",
       "<text text-anchor=\"middle\" x=\"2329.43\" y=\"-376.1\" font-family=\"Times New Roman,serif\" font-size=\"8.00\">Hosam_M._Mahmoud</text>\r\n",
       "</g>\r\n",
       "<!-- 205757&#45;&#45;864626 -->\r\n",
       "<g id=\"edge23\" class=\"edge\"><title>205757&#45;&#45;864626</title>\r\n",
       "<path fill=\"none\" stroke=\"black\" d=\"M1750.85,-447.483C1844.68,-443.583 2076.61,-430.935 2267.43,-396 2275.12,-394.593 2283.24,-392.684 2290.98,-390.654\"/>\r\n",
       "</g>\r\n",
       "<!-- 1052796 -->\r\n",
       "<g id=\"node25\" class=\"node\"><title>1052796</title>\r\n",
       "<ellipse fill=\"none\" stroke=\"black\" cx=\"457.435\" cy=\"-18\" rx=\"41.3155\" ry=\"18\"/>\r\n",
       "<text text-anchor=\"middle\" x=\"457.435\" y=\"-16.1\" font-family=\"Times New Roman,serif\" font-size=\"8.00\">Adokoé_Plakoo</text>\r\n",
       "</g>\r\n",
       "<!-- 205757&#45;&#45;1052796 -->\r\n",
       "<g id=\"edge24\" class=\"edge\"><title>205757&#45;&#45;1052796</title>\r\n",
       "<path fill=\"none\" stroke=\"black\" d=\"M1718.68,-432.515C1739.43,-397.527 1784.43,-312.67 1784.43,-235 1784.43,-235 1784.43,-235 1784.43,-161 1784.43,-28.4257 723.747,-19.4032 498.972,-18.9796\"/>\r\n",
       "</g>\r\n",
       "<!-- 1166658 -->\r\n",
       "<g id=\"node26\" class=\"node\"><title>1166658</title>\r\n",
       "<ellipse fill=\"none\" stroke=\"black\" cx=\"2536.43\" cy=\"-378\" rx=\"40.0477\" ry=\"18\"/>\r\n",
       "<text text-anchor=\"middle\" x=\"2536.43\" y=\"-376.1\" font-family=\"Times New Roman,serif\" font-size=\"8.00\">Izydor_Apostol</text>\r\n",
       "</g>\r\n",
       "<!-- 205757&#45;&#45;1166658 -->\r\n",
       "<g id=\"edge25\" class=\"edge\"><title>205757&#45;&#45;1166658</title>\r\n",
       "<path fill=\"none\" stroke=\"black\" d=\"M1750.99,-447.595C1892.24,-442.699 2344.64,-425.085 2487.43,-396 2493.96,-394.67 2500.81,-392.689 2507.25,-390.543\"/>\r\n",
       "</g>\r\n",
       "<!-- 1188919 -->\r\n",
       "<g id=\"node27\" class=\"node\"><title>1188919</title>\r\n",
       "<ellipse fill=\"none\" stroke=\"black\" cx=\"1806.43\" cy=\"-378\" rx=\"31.5313\" ry=\"18\"/>\r\n",
       "<text text-anchor=\"middle\" x=\"1806.43\" y=\"-376.1\" font-family=\"Times New Roman,serif\" font-size=\"8.00\">Eric_Merle</text>\r\n",
       "</g>\r\n",
       "<!-- 205757&#45;&#45;1188919 -->\r\n",
       "<g id=\"edge26\" class=\"edge\"><title>205757&#45;&#45;1188919</title>\r\n",
       "<path fill=\"none\" stroke=\"black\" d=\"M1729.22,-434.155C1746.41,-421.874 1770.63,-404.572 1787.34,-392.637\"/>\r\n",
       "</g>\r\n",
       "<!-- 1246295 -->\r\n",
       "<g id=\"node28\" class=\"node\"><title>1246295</title>\r\n",
       "<ellipse fill=\"none\" stroke=\"black\" cx=\"2628.43\" cy=\"-378\" rx=\"33.433\" ry=\"18\"/>\r\n",
       "<text text-anchor=\"middle\" x=\"2628.43\" y=\"-376.1\" font-family=\"Times New Roman,serif\" font-size=\"8.00\">Bonita_Rais</text>\r\n",
       "</g>\r\n",
       "<!-- 205757&#45;&#45;1246295 -->\r\n",
       "<g id=\"edge27\" class=\"edge\"><title>205757&#45;&#45;1246295</title>\r\n",
       "<path fill=\"none\" stroke=\"black\" d=\"M1750.99,-448.203C1903.68,-445.069 2423.49,-431.945 2585.43,-396 2591.55,-394.643 2597.93,-392.535 2603.84,-390.259\"/>\r\n",
       "</g>\r\n",
       "<!-- 222014&#45;&#45;270269 -->\r\n",
       "<g id=\"edge115\" class=\"edge\"><title>222014&#45;&#45;270269</title>\r\n",
       "<path fill=\"none\" stroke=\"black\" d=\"M1429.9,-361.533C1456.93,-334.506 1512.5,-278.935 1540.12,-251.32\"/>\r\n",
       "</g>\r\n",
       "<!-- 222014&#45;&#45;270369 -->\r\n",
       "<g id=\"edge116\" class=\"edge\"><title>222014&#45;&#45;270369</title>\r\n",
       "<path fill=\"none\" stroke=\"black\" d=\"M1379.16,-370.966C1293.66,-356.378 1068.59,-318.173 880.435,-288 770.95,-270.443 641.675,-250.824 577.235,-241.12\"/>\r\n",
       "</g>\r\n",
       "<!-- 222014&#45;&#45;350046 -->\r\n",
       "<g id=\"edge117\" class=\"edge\"><title>222014&#45;&#45;350046</title>\r\n",
       "<path fill=\"none\" stroke=\"black\" d=\"M1396.86,-361.952C1351.29,-322.945 1229.66,-218.832 1183.01,-178.898\"/>\r\n",
       "</g>\r\n",
       "<!-- 222014&#45;&#45;365986 -->\r\n",
       "<g id=\"edge118\" class=\"edge\"><title>222014&#45;&#45;365986</title>\r\n",
       "<path fill=\"none\" stroke=\"black\" d=\"M1415.18,-359.697C1415.64,-348.846 1416.24,-334.917 1416.7,-324.104\"/>\r\n",
       "</g>\r\n",
       "<!-- 222014&#45;&#45;577107 -->\r\n",
       "<g id=\"edge119\" class=\"edge\"><title>222014&#45;&#45;577107</title>\r\n",
       "<path fill=\"none\" stroke=\"black\" d=\"M1399.25,-360.99C1390.56,-351.035 1380.09,-337.58 1373.43,-324 1361.92,-300.498 1355.72,-270.582 1352.75,-252.116\"/>\r\n",
       "</g>\r\n",
       "<!-- 234114&#45;&#45;234463 -->\r\n",
       "<g id=\"edge120\" class=\"edge\"><title>234114&#45;&#45;234463</title>\r\n",
       "<path fill=\"none\" stroke=\"black\" d=\"M370.421,-371.853C464.576,-358.75 712.261,-324.281 802.732,-311.69\"/>\r\n",
       "</g>\r\n",
       "<!-- 234114&#45;&#45;270369 -->\r\n",
       "<g id=\"edge121\" class=\"edge\"><title>234114&#45;&#45;270369</title>\r\n",
       "<path fill=\"none\" stroke=\"black\" d=\"M372.47,-375.406C411.88,-371.713 471.989,-360.057 508.435,-324 527.895,-304.747 533.864,-272.127 535.674,-252.18\"/>\r\n",
       "</g>\r\n",
       "<!-- 234114&#45;&#45;350047 -->\r\n",
       "<g id=\"edge122\" class=\"edge\"><title>234114&#45;&#45;350047</title>\r\n",
       "<path fill=\"none\" stroke=\"black\" d=\"M323.54,-360.355C300.2,-318.695 247.513,-208.65 300.435,-144 313.859,-127.601 441.124,-107.731 513.578,-97.6146\"/>\r\n",
       "</g>\r\n",
       "<!-- 234114&#45;&#45;610977 -->\r\n",
       "<g id=\"edge123\" class=\"edge\"><title>234114&#45;&#45;610977</title>\r\n",
       "<path fill=\"none\" stroke=\"black\" d=\"M331.131,-359.992C327.535,-330.526 321.665,-268.136 328.435,-216 330.028,-203.731 333.613,-190.255 336.756,-179.962\"/>\r\n",
       "</g>\r\n",
       "<!-- 234114&#45;&#45;650532 -->\r\n",
       "<g id=\"edge124\" class=\"edge\"><title>234114&#45;&#45;650532</title>\r\n",
       "<path fill=\"none\" stroke=\"black\" d=\"M303.486,-366.047C285.161,-357.604 263.226,-343.957 252.435,-324 214.383,-253.629 211.622,-212.807 252.435,-144 265.651,-121.718 291.903,-108.198 313.767,-100.395\"/>\r\n",
       "</g>\r\n",
       "<!-- 234114&#45;&#45;1052796 -->\r\n",
       "<g id=\"edge125\" class=\"edge\"><title>234114&#45;&#45;1052796</title>\r\n",
       "<path fill=\"none\" stroke=\"black\" d=\"M300.657,-367.755C248.498,-350.809 152.435,-309.488 152.435,-235 152.435,-235 152.435,-235 152.435,-161 152.435,-46.0803 332.591,-23.9287 415.984,-19.8309\"/>\r\n",
       "</g>\r\n",
       "<!-- 234463&#45;&#45;270269 -->\r\n",
       "<g id=\"edge126\" class=\"edge\"><title>234463&#45;&#45;270269</title>\r\n",
       "<path fill=\"none\" stroke=\"black\" d=\"M871.576,-304.714C970.883,-303.366 1261.75,-295.683 1498.43,-252 1505.86,-250.629 1513.7,-248.684 1521.13,-246.597\"/>\r\n",
       "</g>\r\n",
       "<!-- 234463&#45;&#45;270369 -->\r\n",
       "<g id=\"edge127\" class=\"edge\"><title>234463&#45;&#45;270369</title>\r\n",
       "<path fill=\"none\" stroke=\"black\" d=\"M804.168,-298.677C757.619,-289.386 669.022,-271.074 594.435,-252 586.709,-250.024 578.458,-247.723 570.675,-245.464\"/>\r\n",
       "</g>\r\n",
       "<!-- 234463&#45;&#45;350046 -->\r\n",
       "<g id=\"edge128\" class=\"edge\"><title>234463&#45;&#45;350046</title>\r\n",
       "<path fill=\"none\" stroke=\"black\" d=\"M870.905,-301.36C933.897,-294.19 1064.61,-276.755 1102.43,-252 1129.38,-234.366 1147.99,-200.58 1157.38,-180.088\"/>\r\n",
       "</g>\r\n",
       "<!-- 234463&#45;&#45;350047 -->\r\n",
       "<g id=\"edge129\" class=\"edge\"><title>234463&#45;&#45;350047</title>\r\n",
       "<path fill=\"none\" stroke=\"black\" d=\"M835.876,-287.716C834.397,-268.271 829.332,-236.706 812.435,-216 759.22,-150.793 663.312,-116.48 607.331,-101.188\"/>\r\n",
       "</g>\r\n",
       "<!-- 234463&#45;&#45;577107 -->\r\n",
       "<g id=\"edge130\" class=\"edge\"><title>234463&#45;&#45;577107</title>\r\n",
       "<path fill=\"none\" stroke=\"black\" d=\"M870.16,-300.407C962.735,-287.8 1220.19,-252.737 1314.89,-239.841\"/>\r\n",
       "</g>\r\n",
       "<!-- 234463&#45;&#45;610977 -->\r\n",
       "<g id=\"edge131\" class=\"edge\"><title>234463&#45;&#45;610977</title>\r\n",
       "<path fill=\"none\" stroke=\"black\" d=\"M809.776,-294.052C764.903,-275.929 671.165,-239.379 589.435,-216 568.72,-210.075 434.279,-182.019 372.904,-169.298\"/>\r\n",
       "</g>\r\n",
       "<!-- 234463&#45;&#45;650532 -->\r\n",
       "<g id=\"edge132\" class=\"edge\"><title>234463&#45;&#45;650532</title>\r\n",
       "<path fill=\"none\" stroke=\"black\" d=\"M812.827,-292.445C779.008,-274.633 714.645,-241.374 658.435,-216 558.485,-170.881 437.192,-124.066 380.921,-102.789\"/>\r\n",
       "</g>\r\n",
       "<!-- 234463&#45;&#45;745070 -->\r\n",
       "<g id=\"edge133\" class=\"edge\"><title>234463&#45;&#45;745070</title>\r\n",
       "<path fill=\"none\" stroke=\"black\" d=\"M871.582,-304.437C960.465,-302.418 1201.03,-293.251 1396.43,-252 1403.1,-250.593 1410.11,-248.606 1416.73,-246.484\"/>\r\n",
       "</g>\r\n",
       "<!-- 234463&#45;&#45;1052796 -->\r\n",
       "<g id=\"edge134\" class=\"edge\"><title>234463&#45;&#45;1052796</title>\r\n",
       "<path fill=\"none\" stroke=\"black\" d=\"M840.01,-287.802C843.025,-269.265 845.424,-239.29 835.435,-216 795.732,-123.431 751.679,-114.661 660.435,-72 606.156,-46.6224 537.814,-31.9749 495.894,-24.7463\"/>\r\n",
       "</g>\r\n",
       "<!-- 270269&#45;&#45;350046 -->\r\n",
       "<g id=\"edge135\" class=\"edge\"><title>270269&#45;&#45;350046</title>\r\n",
       "<path fill=\"none\" stroke=\"black\" d=\"M1520.42,-221.671C1513.18,-219.613 1505.6,-217.612 1498.43,-216 1396.19,-193.002 1274.14,-176.308 1209.62,-168.308\"/>\r\n",
       "</g>\r\n",
       "<!-- 270369&#45;&#45;350046 -->\r\n",
       "<g id=\"edge136\" class=\"edge\"><title>270369&#45;&#45;350046</title>\r\n",
       "<path fill=\"none\" stroke=\"black\" d=\"M578.615,-228.298C691.781,-215.684 1001.45,-181.167 1118.66,-168.102\"/>\r\n",
       "</g>\r\n",
       "<!-- 270369&#45;&#45;610977 -->\r\n",
       "<g id=\"edge137\" class=\"edge\"><title>270369&#45;&#45;610977</title>\r\n",
       "<path fill=\"none\" stroke=\"black\" d=\"M504.314,-221.43C474.531,-210.699 428.985,-194.282 389.435,-180 382.906,-177.642 375.867,-175.098 369.276,-172.714\"/>\r\n",
       "</g>\r\n",
       "<!-- 270369&#45;&#45;650532 -->\r\n",
       "<g id=\"edge138\" class=\"edge\"><title>270369&#45;&#45;650532</title>\r\n",
       "<path fill=\"none\" stroke=\"black\" d=\"M504.487,-221.42C481.691,-212.25 451.02,-198 427.435,-180 399.832,-158.935 374.681,-126.896 360.774,-107.552\"/>\r\n",
       "</g>\r\n",
       "<!-- 270369&#45;&#45;1052796 -->\r\n",
       "<g id=\"edge139\" class=\"edge\"><title>270369&#45;&#45;1052796</title>\r\n",
       "<path fill=\"none\" stroke=\"black\" d=\"M530.103,-215.849C515.275,-175.68 478.436,-75.8902 463.687,-35.9354\"/>\r\n",
       "</g>\r\n",
       "<!-- 350046&#45;&#45;350047 -->\r\n",
       "<g id=\"edge140\" class=\"edge\"><title>350046&#45;&#45;350047</title>\r\n",
       "<path fill=\"none\" stroke=\"black\" d=\"M1118.77,-155.681C1008.79,-142.871 729.8,-110.377 614.501,-96.9478\"/>\r\n",
       "</g>\r\n",
       "<!-- 350046&#45;&#45;463750 -->\r\n",
       "<g id=\"edge141\" class=\"edge\"><title>350046&#45;&#45;463750</title>\r\n",
       "<path fill=\"none\" stroke=\"black\" d=\"M1210.81,-156.7C1348.93,-143.895 1755.76,-106.175 1881.78,-94.4908\"/>\r\n",
       "</g>\r\n",
       "<!-- 365986&#45;&#45;577107 -->\r\n",
       "<g id=\"edge142\" class=\"edge\"><title>365986&#45;&#45;577107</title>\r\n",
       "<path fill=\"none\" stroke=\"black\" d=\"M1402.57,-289.465C1391.62,-278.026 1376.77,-262.519 1365.73,-250.977\"/>\r\n",
       "</g>\r\n",
       "<!-- 610977&#45;&#45;650532 -->\r\n",
       "<g id=\"edge143\" class=\"edge\"><title>610977&#45;&#45;650532</title>\r\n",
       "<path fill=\"none\" stroke=\"black\" d=\"M344.165,-143.697C345.25,-132.846 346.643,-118.917 347.724,-108.104\"/>\r\n",
       "</g>\r\n",
       "<!-- 610977&#45;&#45;1052796 -->\r\n",
       "<g id=\"edge144\" class=\"edge\"><title>610977&#45;&#45;1052796</title>\r\n",
       "<path fill=\"none\" stroke=\"black\" d=\"M361.047,-146.946C373.603,-136.92 390.073,-122.665 402.435,-108 421.868,-84.9464 439.225,-54.3685 449.027,-35.7178\"/>\r\n",
       "</g>\r\n",
       "<!-- 650532&#45;&#45;1052796 -->\r\n",
       "<g id=\"edge145\" class=\"edge\"><title>650532&#45;&#45;1052796</title>\r\n",
       "<path fill=\"none\" stroke=\"black\" d=\"M371.812,-74.496C390.348,-62.4822 416.558,-45.4941 435.086,-33.4855\"/>\r\n",
       "</g>\r\n",
       "<!-- 656079&#45;&#45;656080 -->\r\n",
       "<g id=\"edge146\" class=\"edge\"><title>656079&#45;&#45;656080</title>\r\n",
       "<path fill=\"none\" stroke=\"black\" d=\"M2874.69,-361.116C2864.2,-349.821 2850.15,-334.696 2839.58,-323.307\"/>\r\n",
       "</g>\r\n",
       "<!-- 13305 -->\r\n",
       "<g id=\"node29\" class=\"node\"><title>13305</title>\r\n",
       "<ellipse fill=\"none\" stroke=\"black\" cx=\"2078.43\" cy=\"-738\" rx=\"47.16\" ry=\"18\"/>\r\n",
       "<text text-anchor=\"middle\" x=\"2078.43\" y=\"-736.1\" font-family=\"Times New Roman,serif\" font-size=\"8.00\">Mikhail_J._Atallah</text>\r\n",
       "</g>\r\n",
       "<!-- 13305&#45;&#45;205757 -->\r\n",
       "<g id=\"edge29\" class=\"edge\"><title>13305&#45;&#45;205757</title>\r\n",
       "<path fill=\"none\" stroke=\"black\" d=\"M2055.79,-722.01C2021.54,-699.133 1954.79,-653.751 1900.43,-612 1834.2,-561.12 1759.32,-495.997 1726.02,-466.616\"/>\r\n",
       "</g>\r\n",
       "<!-- 123077 -->\r\n",
       "<g id=\"node30\" class=\"node\"><title>123077</title>\r\n",
       "<ellipse fill=\"none\" stroke=\"black\" cx=\"2140.43\" cy=\"-666\" rx=\"55.6769\" ry=\"18\"/>\r\n",
       "<text text-anchor=\"middle\" x=\"2140.43\" y=\"-664.1\" font-family=\"Times New Roman,serif\" font-size=\"8.00\">Wojciech_Szpankowski</text>\r\n",
       "</g>\r\n",
       "<!-- 13305&#45;&#45;123077 -->\r\n",
       "<g id=\"edge28\" class=\"edge\"><title>13305&#45;&#45;123077</title>\r\n",
       "<path fill=\"none\" stroke=\"black\" d=\"M2092.81,-720.765C2102.69,-709.618 2115.75,-694.865 2125.7,-683.633\"/>\r\n",
       "</g>\r\n",
       "<!-- 123077&#45;&#45;205757 -->\r\n",
       "<g id=\"edge85\" class=\"edge\"><title>123077&#45;&#45;205757</title>\r\n",
       "<path fill=\"none\" stroke=\"black\" d=\"M2087,-660.949C2043.32,-655.452 1981.63,-642.502 1936.43,-612 1886.92,-578.582 1904.4,-539.604 1856.43,-504 1823.56,-479.599 1778.4,-465.597 1746.64,-458.185\"/>\r\n",
       "</g>\r\n",
       "<!-- 123077&#45;&#45;234463 -->\r\n",
       "<g id=\"edge86\" class=\"edge\"><title>123077&#45;&#45;234463</title>\r\n",
       "<path fill=\"none\" stroke=\"black\" d=\"M2088.45,-659.575C2053.99,-653.4 2010.02,-640.202 1981.43,-612 1951.62,-582.581 1950.43,-564.886 1950.43,-523 1950.43,-523 1950.43,-523 1950.43,-449 1950.43,-408.553 1962.25,-386.193 1931.43,-360 1910.75,-342.417 1056.48,-314.056 871.515,-308.113\"/>\r\n",
       "</g>\r\n",
       "<!-- 123077&#45;&#45;261137 -->\r\n",
       "<g id=\"edge87\" class=\"edge\"><title>123077&#45;&#45;261137</title>\r\n",
       "<path fill=\"none\" stroke=\"black\" d=\"M2196.18,-665.1C2262.35,-663.167 2374.55,-653.316 2460.43,-612 2573.26,-557.726 2672.97,-438.882 2707,-395.376\"/>\r\n",
       "</g>\r\n",
       "<!-- 123077&#45;&#45;270269 -->\r\n",
       "<g id=\"edge88\" class=\"edge\"><title>123077&#45;&#45;270269</title>\r\n",
       "<path fill=\"none\" stroke=\"black\" d=\"M2135.01,-647.876C2117.8,-596.254 2059.32,-440.751 1956.43,-360 1849.12,-275.776 1684.43,-247.872 1603.98,-238.969\"/>\r\n",
       "</g>\r\n",
       "<!-- 123077&#45;&#45;362341 -->\r\n",
       "<g id=\"edge89\" class=\"edge\"><title>123077&#45;&#45;362341</title>\r\n",
       "<path fill=\"none\" stroke=\"black\" d=\"M2190.93,-658.224C2246.86,-649.772 2332.37,-633.741 2356.43,-612 2421.76,-552.994 2435.69,-439.079 2438.64,-396.032\"/>\r\n",
       "</g>\r\n",
       "<!-- 123077&#45;&#45;393207 -->\r\n",
       "<g id=\"edge90\" class=\"edge\"><title>123077&#45;&#45;393207</title>\r\n",
       "<path fill=\"none\" stroke=\"black\" d=\"M2135.57,-647.979C2132.87,-637.665 2129.8,-624.189 2128.43,-612 2119.44,-531.586 2126.94,-434.607 2130.65,-396.027\"/>\r\n",
       "</g>\r\n",
       "<!-- 123077&#45;&#45;1166658 -->\r\n",
       "<g id=\"edge91\" class=\"edge\"><title>123077&#45;&#45;1166658</title>\r\n",
       "<path fill=\"none\" stroke=\"black\" d=\"M2196.04,-664.811C2249.05,-662.07 2328.95,-651.013 2385.43,-612 2466.94,-555.708 2514.89,-439.65 2530.64,-396.052\"/>\r\n",
       "</g>\r\n",
       "<!-- 123077&#45;&#45;1246295 -->\r\n",
       "<g id=\"edge92\" class=\"edge\"><title>123077&#45;&#45;1246295</title>\r\n",
       "<path fill=\"none\" stroke=\"black\" d=\"M2196.11,-664.834C2255.34,-662.387 2350.02,-651.81 2420.43,-612 2517.91,-556.893 2593.47,-439.083 2619.05,-395.584\"/>\r\n",
       "</g>\r\n",
       "<!-- 133151 -->\r\n",
       "<g id=\"node45\" class=\"node\"><title>133151</title>\r\n",
       "<ellipse fill=\"none\" stroke=\"black\" cx=\"2305.43\" cy=\"-594\" rx=\"41.9498\" ry=\"18\"/>\r\n",
       "<text text-anchor=\"middle\" x=\"2305.43\" y=\"-592.1\" font-family=\"Times New Roman,serif\" font-size=\"8.00\">Mireille_Régnier</text>\r\n",
       "</g>\r\n",
       "<!-- 123077&#45;&#45;133151 -->\r\n",
       "<g id=\"edge82\" class=\"edge\"><title>123077&#45;&#45;133151</title>\r\n",
       "<path fill=\"none\" stroke=\"black\" d=\"M2173.03,-651.17C2203.27,-638.34 2247.85,-619.432 2276.76,-607.164\"/>\r\n",
       "</g>\r\n",
       "<!-- 133259 -->\r\n",
       "<g id=\"node46\" class=\"node\"><title>133259</title>\r\n",
       "<ellipse fill=\"none\" stroke=\"black\" cx=\"2172.43\" cy=\"-594\" rx=\"35.3371\" ry=\"18\"/>\r\n",
       "<text text-anchor=\"middle\" x=\"2172.43\" y=\"-592.1\" font-family=\"Times New Roman,serif\" font-size=\"8.00\">Micha_Hofri</text>\r\n",
       "</g>\r\n",
       "<!-- 123077&#45;&#45;133259 -->\r\n",
       "<g id=\"edge83\" class=\"edge\"><title>123077&#45;&#45;133259</title>\r\n",
       "<path fill=\"none\" stroke=\"black\" d=\"M2148.18,-648.055C2153.21,-637.049 2159.74,-622.764 2164.76,-611.789\"/>\r\n",
       "</g>\r\n",
       "<!-- 205737 -->\r\n",
       "<g id=\"node47\" class=\"node\"><title>205737</title>\r\n",
       "<ellipse fill=\"none\" stroke=\"black\" cx=\"2257.43\" cy=\"-522\" rx=\"43.8539\" ry=\"18\"/>\r\n",
       "<text text-anchor=\"middle\" x=\"2257.43\" y=\"-520.1\" font-family=\"Times New Roman,serif\" font-size=\"8.00\">Philippe_Flajolet</text>\r\n",
       "</g>\r\n",
       "<!-- 123077&#45;&#45;205737 -->\r\n",
       "<g id=\"edge84\" class=\"edge\"><title>123077&#45;&#45;205737</title>\r\n",
       "<path fill=\"none\" stroke=\"black\" d=\"M2168.52,-650.343C2184.22,-641.041 2203.22,-627.791 2216.43,-612 2234.67,-590.212 2246.56,-558.976 2252.62,-539.891\"/>\r\n",
       "</g>\r\n",
       "<!-- 23081 -->\r\n",
       "<g id=\"node31\" class=\"node\"><title>23081</title>\r\n",
       "<ellipse fill=\"none\" stroke=\"black\" cx=\"1922.43\" cy=\"-738\" rx=\"30.1263\" ry=\"18\"/>\r\n",
       "<text text-anchor=\"middle\" x=\"1922.43\" y=\"-736.1\" font-family=\"Times New Roman,serif\" font-size=\"8.00\">Jing_Tang</text>\r\n",
       "</g>\r\n",
       "<!-- 23081&#45;&#45;205757 -->\r\n",
       "<g id=\"edge31\" class=\"edge\"><title>23081&#45;&#45;205757</title>\r\n",
       "<path fill=\"none\" stroke=\"black\" d=\"M1897.46,-727.677C1876.85,-718.96 1847.93,-704.243 1828.43,-684 1764.21,-617.3 1726.26,-509.41 1713.4,-467.963\"/>\r\n",
       "</g>\r\n",
       "<!-- 23081&#45;&#45;123077 -->\r\n",
       "<g id=\"edge30\" class=\"edge\"><title>23081&#45;&#45;123077</title>\r\n",
       "<path fill=\"none\" stroke=\"black\" d=\"M1948.3,-728.695C1986.42,-716.454 2057.94,-693.488 2102.15,-679.292\"/>\r\n",
       "</g>\r\n",
       "<!-- 30779 -->\r\n",
       "<g id=\"node32\" class=\"node\"><title>30779</title>\r\n",
       "<ellipse fill=\"none\" stroke=\"black\" cx=\"687.435\" cy=\"-666\" rx=\"43.219\" ry=\"18\"/>\r\n",
       "<text text-anchor=\"middle\" x=\"687.435\" y=\"-664.1\" font-family=\"Times New Roman,serif\" font-size=\"8.00\">Laurent_Viennot</text>\r\n",
       "</g>\r\n",
       "<!-- 30779&#45;&#45;205757 -->\r\n",
       "<g id=\"edge35\" class=\"edge\"><title>30779&#45;&#45;205757</title>\r\n",
       "<path fill=\"none\" stroke=\"black\" d=\"M730.915,-665.049C858.651,-663.854 1242.15,-650.623 1534.43,-540 1590.6,-518.741 1652.28,-484.334 1685,-465.122\"/>\r\n",
       "</g>\r\n",
       "<!-- 30779&#45;&#45;234463 -->\r\n",
       "<g id=\"edge36\" class=\"edge\"><title>30779&#45;&#45;234463</title>\r\n",
       "<path fill=\"none\" stroke=\"black\" d=\"M654.192,-654.272C592.351,-632.322 468.973,-578.039 504.435,-504 562.482,-382.804 733.255,-330.609 804.572,-313.674\"/>\r\n",
       "</g>\r\n",
       "<!-- 30779&#45;&#45;756022 -->\r\n",
       "<g id=\"edge37\" class=\"edge\"><title>30779&#45;&#45;756022</title>\r\n",
       "<path fill=\"none\" stroke=\"black\" d=\"M727.633,-659.078C763.238,-652.308 815.328,-638.54 853.435,-612 939.781,-551.861 1004.55,-438.627 1026.92,-395.897\"/>\r\n",
       "</g>\r\n",
       "<!-- 30780 -->\r\n",
       "<g id=\"node33\" class=\"node\"><title>30780</title>\r\n",
       "<ellipse fill=\"none\" stroke=\"black\" cx=\"248.435\" cy=\"-594\" rx=\"35.3371\" ry=\"18\"/>\r\n",
       "<text text-anchor=\"middle\" x=\"248.435\" y=\"-592.1\" font-family=\"Times New Roman,serif\" font-size=\"8.00\">Anis_Laouiti</text>\r\n",
       "</g>\r\n",
       "<!-- 30779&#45;&#45;30780 -->\r\n",
       "<g id=\"edge32\" class=\"edge\"><title>30779&#45;&#45;30780</title>\r\n",
       "<path fill=\"none\" stroke=\"black\" d=\"M647.702,-658.665C562.011,-645.001 361.161,-612.975 281.67,-600.3\"/>\r\n",
       "</g>\r\n",
       "<!-- 121419 -->\r\n",
       "<g id=\"node34\" class=\"node\"><title>121419</title>\r\n",
       "<ellipse fill=\"none\" stroke=\"black\" cx=\"796.435\" cy=\"-594\" rx=\"48.4297\" ry=\"18\"/>\r\n",
       "<text text-anchor=\"middle\" x=\"796.435\" y=\"-592.1\" font-family=\"Times New Roman,serif\" font-size=\"8.00\">Khaldoun_Al_Agha</text>\r\n",
       "</g>\r\n",
       "<!-- 30779&#45;&#45;121419 -->\r\n",
       "<g id=\"edge33\" class=\"edge\"><title>30779&#45;&#45;121419</title>\r\n",
       "<path fill=\"none\" stroke=\"black\" d=\"M710.02,-650.496C728.477,-638.642 754.476,-621.946 773.127,-609.968\"/>\r\n",
       "</g>\r\n",
       "<!-- 131716 -->\r\n",
       "<g id=\"node35\" class=\"node\"><title>131716</title>\r\n",
       "<ellipse fill=\"none\" stroke=\"black\" cx=\"552.435\" cy=\"-522\" rx=\"38.6432\" ry=\"18\"/>\r\n",
       "<text text-anchor=\"middle\" x=\"552.435\" y=\"-520.1\" font-family=\"Times New Roman,serif\" font-size=\"8.00\">Pascale_Minet</text>\r\n",
       "</g>\r\n",
       "<!-- 30779&#45;&#45;131716 -->\r\n",
       "<g id=\"edge34\" class=\"edge\"><title>30779&#45;&#45;131716</title>\r\n",
       "<path fill=\"none\" stroke=\"black\" d=\"M672.211,-648.987C646.145,-621.57 593.282,-565.965 567.397,-538.738\"/>\r\n",
       "</g>\r\n",
       "<!-- 30780&#45;&#45;205757 -->\r\n",
       "<g id=\"edge39\" class=\"edge\"><title>30780&#45;&#45;205757</title>\r\n",
       "<path fill=\"none\" stroke=\"black\" d=\"M283.355,-591.458C467.434,-583.31 1317.18,-545.431 1329.43,-540 1350.12,-530.831 1345.25,-514.235 1365.43,-504 1417.56,-477.564 1587.66,-460.758 1667,-454.168\"/>\r\n",
       "</g>\r\n",
       "<!-- 30780&#45;&#45;234114 -->\r\n",
       "<g id=\"edge40\" class=\"edge\"><title>30780&#45;&#45;234114</title>\r\n",
       "<path fill=\"none\" stroke=\"black\" d=\"M255.104,-576.208C270.955,-536.302 310.741,-436.134 326.678,-396.01\"/>\r\n",
       "</g>\r\n",
       "<!-- 30780&#45;&#45;234463 -->\r\n",
       "<g id=\"edge41\" class=\"edge\"><title>30780&#45;&#45;234463</title>\r\n",
       "<path fill=\"none\" stroke=\"black\" d=\"M283.083,-590.518C360.495,-584.538 545.037,-567.739 600.435,-540 655.007,-512.675 781.04,-370.818 822.752,-322.861\"/>\r\n",
       "</g>\r\n",
       "<!-- 30780&#45;&#45;270369 -->\r\n",
       "<g id=\"edge42\" class=\"edge\"><title>30780&#45;&#45;270369</title>\r\n",
       "<path fill=\"none\" stroke=\"black\" d=\"M245.259,-575.82C238.411,-532.923 227.244,-420.246 285.435,-360 343.628,-299.751 399.574,-368.668 470.435,-324 498.424,-306.356 518.596,-272.245 528.821,-251.76\"/>\r\n",
       "</g>\r\n",
       "<!-- 30780&#45;&#45;350046 -->\r\n",
       "<g id=\"edge43\" class=\"edge\"><title>30780&#45;&#45;350046</title>\r\n",
       "<path fill=\"none\" stroke=\"black\" d=\"M243.285,-576.015C231.821,-534.52 208.851,-426.529 257.435,-360 327.675,-263.816 370.473,-253.746 483.435,-216 601.11,-176.679 981.4,-166.228 1116.37,-163.723\"/>\r\n",
       "</g>\r\n",
       "<!-- 30780&#45;&#45;350047 -->\r\n",
       "<g id=\"edge44\" class=\"edge\"><title>30780&#45;&#45;350047</title>\r\n",
       "<path fill=\"none\" stroke=\"black\" d=\"M226.301,-579.781C179.846,-550.167 76.4347,-473.616 76.4347,-379 76.4347,-379 76.4347,-379 76.4347,-305 76.4347,-190.195 174.004,-191.692 278.435,-144 319.465,-125.262 442.765,-106.78 513.008,-97.3824\"/>\r\n",
       "</g>\r\n",
       "<!-- 30780&#45;&#45;610977 -->\r\n",
       "<g id=\"edge45\" class=\"edge\"><title>30780&#45;&#45;610977</title>\r\n",
       "<path fill=\"none\" stroke=\"black\" d=\"M228.449,-579.043C216.702,-569.556 202.92,-555.87 196.435,-540 178.277,-495.567 190.57,-479.64 196.435,-432 200.465,-399.262 201.269,-390.243 214.435,-360 246.181,-287.076 303.831,-210.945 329.503,-178.804\"/>\r\n",
       "</g>\r\n",
       "<!-- 30780&#45;&#45;650532 -->\r\n",
       "<g id=\"edge46\" class=\"edge\"><title>30780&#45;&#45;650532</title>\r\n",
       "<path fill=\"none\" stroke=\"black\" d=\"M214.235,-589.193C158.42,-582.3 51.2629,-566.008 24.4347,-540 -4.98089,-511.484 0.43465,-491.969 0.43465,-451 0.43465,-451 0.43465,-451 0.43465,-377 0.43465,-300.322 11.5441,-273.356 62.4347,-216 128.713,-141.302 247.708,-109.437 309.595,-97.3999\"/>\r\n",
       "</g>\r\n",
       "<!-- 30780&#45;&#45;1052796 -->\r\n",
       "<g id=\"edge47\" class=\"edge\"><title>30780&#45;&#45;1052796</title>\r\n",
       "<path fill=\"none\" stroke=\"black\" d=\"M216.082,-586.762C157.176,-573.321 38.4347,-535.721 38.4347,-451 38.4347,-451 38.4347,-451 38.4347,-377 38.4347,-230.162 45.616,-156.881 165.435,-72 205.322,-43.7431 346.503,-28.257 416.903,-22.1341\"/>\r\n",
       "</g>\r\n",
       "<!-- 30780&#45;&#45;131716 -->\r\n",
       "<g id=\"edge38\" class=\"edge\"><title>30780&#45;&#45;131716</title>\r\n",
       "<path fill=\"none\" stroke=\"black\" d=\"M279.823,-585.772C337.318,-572.533 459.07,-544.498 518.445,-530.827\"/>\r\n",
       "</g>\r\n",
       "<!-- 121419&#45;&#45;205757 -->\r\n",
       "<g id=\"edge79\" class=\"edge\"><title>121419&#45;&#45;205757</title>\r\n",
       "<path fill=\"none\" stroke=\"black\" d=\"M844.154,-590.429C983.079,-582.753 1380.96,-559.33 1436.43,-540 1463.67,-530.508 1464.02,-515.583 1490.43,-504 1549.65,-478.035 1623.73,-463.458 1668.5,-456.418\"/>\r\n",
       "</g>\r\n",
       "<!-- 121419&#45;&#45;214733 -->\r\n",
       "<g id=\"edge80\" class=\"edge\"><title>121419&#45;&#45;214733</title>\r\n",
       "<path fill=\"none\" stroke=\"black\" d=\"M804.831,-576.208C824.784,-536.302 874.867,-436.134 894.929,-396.01\"/>\r\n",
       "</g>\r\n",
       "<!-- 121419&#45;&#45;234463 -->\r\n",
       "<g id=\"edge81\" class=\"edge\"><title>121419&#45;&#45;234463</title>\r\n",
       "<path fill=\"none\" stroke=\"black\" d=\"M794.141,-575.864C789.507,-536.654 781.326,-437.793 804.435,-360 808.414,-346.605 816.603,-333.147 823.701,-323.145\"/>\r\n",
       "</g>\r\n",
       "<!-- 121419&#45;&#45;131716 -->\r\n",
       "<g id=\"edge78\" class=\"edge\"><title>121419&#45;&#45;131716</title>\r\n",
       "<path fill=\"none\" stroke=\"black\" d=\"M759.967,-582.043C753.149,-580.017 746.078,-577.932 739.435,-576 685.162,-560.216 621.855,-542.398 584.57,-531.964\"/>\r\n",
       "</g>\r\n",
       "<!-- 131716&#45;&#45;205757 -->\r\n",
       "<g id=\"edge93\" class=\"edge\"><title>131716&#45;&#45;205757</title>\r\n",
       "<path fill=\"none\" stroke=\"black\" d=\"M590.568,-518.691C764.803,-508.14 1484.51,-464.559 1666.48,-453.54\"/>\r\n",
       "</g>\r\n",
       "<!-- 131716&#45;&#45;234114 -->\r\n",
       "<g id=\"edge94\" class=\"edge\"><title>131716&#45;&#45;234114</title>\r\n",
       "<path fill=\"none\" stroke=\"black\" d=\"M515.219,-516.826C479.011,-511.12 424.097,-497.922 386.435,-468 362.498,-448.982 346.98,-415.975 339.256,-395.945\"/>\r\n",
       "</g>\r\n",
       "<!-- 131716&#45;&#45;234463 -->\r\n",
       "<g id=\"edge95\" class=\"edge\"><title>131716&#45;&#45;234463</title>\r\n",
       "<path fill=\"none\" stroke=\"black\" d=\"M568.282,-505.413C604.719,-469.756 693.966,-383.509 728.435,-360 754.317,-342.347 786.947,-327.185 809.532,-317.656\"/>\r\n",
       "</g>\r\n",
       "<!-- 131716&#45;&#45;270369 -->\r\n",
       "<g id=\"edge96\" class=\"edge\"><title>131716&#45;&#45;270369</title>\r\n",
       "<path fill=\"none\" stroke=\"black\" d=\"M546.795,-504.033C543.665,-493.738 540.08,-480.262 538.435,-468 532.838,-426.303 535.016,-298.547 536.029,-252.105\"/>\r\n",
       "</g>\r\n",
       "<!-- 131716&#45;&#45;350046 -->\r\n",
       "<g id=\"edge97\" class=\"edge\"><title>131716&#45;&#45;350046</title>\r\n",
       "<path fill=\"none\" stroke=\"black\" d=\"M560.269,-504.297C569.432,-485.66 585.75,-455.094 604.435,-432 634.315,-395.068 645.947,-389.18 683.435,-360 729.251,-324.338 740.256,-313.461 792.435,-288 908.162,-231.531 1055.77,-190.31 1125.11,-172.601\"/>\r\n",
       "</g>\r\n",
       "<!-- 131716&#45;&#45;350047 -->\r\n",
       "<g id=\"edge98\" class=\"edge\"><title>131716&#45;&#45;350047</title>\r\n",
       "<path fill=\"none\" stroke=\"black\" d=\"M542.722,-504.284C517.094,-457.989 451.723,-324.378 483.435,-216 496.097,-172.725 528.832,-130.203 548.279,-107.626\"/>\r\n",
       "</g>\r\n",
       "<!-- 131716&#45;&#45;610977 -->\r\n",
       "<g id=\"edge99\" class=\"edge\"><title>131716&#45;&#45;610977</title>\r\n",
       "<path fill=\"none\" stroke=\"black\" d=\"M525.105,-508.96C506.066,-499.659 480.879,-485.443 462.435,-468 434.492,-441.574 380.27,-359.884 366.435,-324 347.22,-274.164 343.296,-210.159 342.558,-180.071\"/>\r\n",
       "</g>\r\n",
       "<!-- 131716&#45;&#45;650532 -->\r\n",
       "<g id=\"edge100\" class=\"edge\"><title>131716&#45;&#45;650532</title>\r\n",
       "<path fill=\"none\" stroke=\"black\" d=\"M515.676,-516.331C432.911,-503.518 233.984,-459.241 167.435,-324 137.167,-262.491 190.778,-184.816 231.435,-144 253.781,-121.565 287.308,-107.766 312.921,-99.895\"/>\r\n",
       "</g>\r\n",
       "<!-- 131716&#45;&#45;1052796 -->\r\n",
       "<g id=\"edge101\" class=\"edge\"><title>131716&#45;&#45;1052796</title>\r\n",
       "<path fill=\"none\" stroke=\"black\" d=\"M561.965,-504.542C585.863,-461.669 646.435,-342.406 646.435,-235 646.435,-235 646.435,-235 646.435,-161 646.435,-120.553 654.691,-101.884 627.435,-72 594.518,-35.911 537.477,-24.1806 498.628,-20.4882\"/>\r\n",
       "</g>\r\n",
       "<!-- 33237 -->\r\n",
       "<g id=\"node36\" class=\"node\"><title>33237</title>\r\n",
       "<ellipse fill=\"none\" stroke=\"black\" cx=\"1272.43\" cy=\"-666\" rx=\"55.6769\" ry=\"18\"/>\r\n",
       "<text text-anchor=\"middle\" x=\"1272.43\" y=\"-664.1\" font-family=\"Times New Roman,serif\" font-size=\"8.00\">Juan_Antonio_Cordero</text>\r\n",
       "</g>\r\n",
       "<!-- 33237&#45;&#45;205757 -->\r\n",
       "<g id=\"edge50\" class=\"edge\"><title>33237&#45;&#45;205757</title>\r\n",
       "<path fill=\"none\" stroke=\"black\" d=\"M1325.32,-660.356C1401.2,-652.94 1536.43,-636.697 1578.43,-612 1638.98,-576.402 1682.87,-501.28 1700.23,-467.761\"/>\r\n",
       "</g>\r\n",
       "<!-- 33238 -->\r\n",
       "<g id=\"node37\" class=\"node\"><title>33238</title>\r\n",
       "<ellipse fill=\"none\" stroke=\"black\" cx=\"1194.43\" cy=\"-594\" rx=\"50.4666\" ry=\"18\"/>\r\n",
       "<text text-anchor=\"middle\" x=\"1194.43\" y=\"-592.1\" font-family=\"Times New Roman,serif\" font-size=\"8.00\">Thomas_H._Clausen</text>\r\n",
       "</g>\r\n",
       "<!-- 33237&#45;&#45;33238 -->\r\n",
       "<g id=\"edge48\" class=\"edge\"><title>33237&#45;&#45;33238</title>\r\n",
       "<path fill=\"none\" stroke=\"black\" d=\"M1254.34,-648.765C1241.65,-637.375 1224.77,-622.222 1212.16,-610.906\"/>\r\n",
       "</g>\r\n",
       "<!-- 33239 -->\r\n",
       "<g id=\"node38\" class=\"node\"><title>33239</title>\r\n",
       "<ellipse fill=\"none\" stroke=\"black\" cx=\"1272.43\" cy=\"-522\" rx=\"48.4297\" ry=\"18\"/>\r\n",
       "<text text-anchor=\"middle\" x=\"1272.43\" y=\"-520.1\" font-family=\"Times New Roman,serif\" font-size=\"8.00\">Emmanuel_Baccelli</text>\r\n",
       "</g>\r\n",
       "<!-- 33237&#45;&#45;33239 -->\r\n",
       "<g id=\"edge49\" class=\"edge\"><title>33237&#45;&#45;33239</title>\r\n",
       "<path fill=\"none\" stroke=\"black\" d=\"M1272.43,-647.871C1272.43,-620.578 1272.43,-567.52 1272.43,-540.189\"/>\r\n",
       "</g>\r\n",
       "<!-- 33238&#45;&#45;205757 -->\r\n",
       "<g id=\"edge52\" class=\"edge\"><title>33238&#45;&#45;205757</title>\r\n",
       "<path fill=\"none\" stroke=\"black\" d=\"M1243.54,-589.673C1303.47,-584.388 1407.09,-571.256 1490.43,-540 1519.55,-529.08 1522.19,-517.021 1550.43,-504 1591.29,-485.162 1640.81,-469.654 1673.39,-460.381\"/>\r\n",
       "</g>\r\n",
       "<!-- 33238&#45;&#45;234463 -->\r\n",
       "<g id=\"edge53\" class=\"edge\"><title>33238&#45;&#45;234463</title>\r\n",
       "<path fill=\"none\" stroke=\"black\" d=\"M1150.97,-584.768C1070.7,-566.891 901.541,-516.048 837.435,-396 825.352,-373.373 828.518,-342.669 832.238,-323.876\"/>\r\n",
       "</g>\r\n",
       "<!-- 33238&#45;&#45;270369 -->\r\n",
       "<g id=\"edge54\" class=\"edge\"><title>33238&#45;&#45;270369</title>\r\n",
       "<path fill=\"none\" stroke=\"black\" d=\"M1145.78,-589.017C1093.75,-583.345 1009.76,-570.065 943.435,-540 771.735,-462.167 603.344,-302.02 552.166,-250.992\"/>\r\n",
       "</g>\r\n",
       "<!-- 33238&#45;&#45;350046 -->\r\n",
       "<g id=\"edge55\" class=\"edge\"><title>33238&#45;&#45;350046</title>\r\n",
       "<path fill=\"none\" stroke=\"black\" d=\"M1193.24,-575.878C1188.42,-506.837 1170.46,-249.301 1165.63,-180.171\"/>\r\n",
       "</g>\r\n",
       "<!-- 33238&#45;&#45;756022 -->\r\n",
       "<g id=\"edge56\" class=\"edge\"><title>33238&#45;&#45;756022</title>\r\n",
       "<path fill=\"none\" stroke=\"black\" d=\"M1150.8,-584.708C1124.08,-577.388 1091.32,-563.991 1071.43,-540 1036.35,-497.657 1033.64,-428.266 1034.48,-396.217\"/>\r\n",
       "</g>\r\n",
       "<!-- 33238&#45;&#45;33239 -->\r\n",
       "<g id=\"edge51\" class=\"edge\"><title>33238&#45;&#45;33239</title>\r\n",
       "<path fill=\"none\" stroke=\"black\" d=\"M1212.13,-577.116C1224.9,-565.66 1242.06,-550.263 1254.81,-538.821\"/>\r\n",
       "</g>\r\n",
       "<!-- 33239&#45;&#45;205757 -->\r\n",
       "<g id=\"edge57\" class=\"edge\"><title>33239&#45;&#45;205757</title>\r\n",
       "<path fill=\"none\" stroke=\"black\" d=\"M1309.73,-510.468C1318.75,-508.136 1328.4,-505.82 1337.43,-504 1456.39,-480.029 1598.92,-462.856 1667.55,-455.298\"/>\r\n",
       "</g>\r\n",
       "<!-- 33239&#45;&#45;222014 -->\r\n",
       "<g id=\"edge58\" class=\"edge\"><title>33239&#45;&#45;222014</title>\r\n",
       "<path fill=\"none\" stroke=\"black\" d=\"M1288.45,-504.987C1315.87,-477.57 1371.47,-421.965 1398.7,-394.738\"/>\r\n",
       "</g>\r\n",
       "<!-- 33239&#45;&#45;234463 -->\r\n",
       "<g id=\"edge59\" class=\"edge\"><title>33239&#45;&#45;234463</title>\r\n",
       "<path fill=\"none\" stroke=\"black\" d=\"M1262.63,-504.281C1242.05,-470.839 1190.91,-395.85 1126.43,-360 1043.68,-313.984 929.086,-306.797 871.886,-306.35\"/>\r\n",
       "</g>\r\n",
       "<!-- 33239&#45;&#45;350046 -->\r\n",
       "<g id=\"edge60\" class=\"edge\"><title>33239&#45;&#45;350046</title>\r\n",
       "<path fill=\"none\" stroke=\"black\" d=\"M1271.31,-503.778C1269.06,-473.989 1262.89,-411.125 1248.43,-360 1228.81,-290.59 1190.69,-213.246 1173.38,-179.854\"/>\r\n",
       "</g>\r\n",
       "<!-- 59680 -->\r\n",
       "<g id=\"node39\" class=\"node\"><title>59680</title>\r\n",
       "<ellipse fill=\"none\" stroke=\"black\" cx=\"1122.43\" cy=\"-522\" rx=\"41.9498\" ry=\"18\"/>\r\n",
       "<text text-anchor=\"middle\" x=\"1122.43\" y=\"-520.1\" font-family=\"Times New Roman,serif\" font-size=\"8.00\">Philippe_Robert</text>\r\n",
       "</g>\r\n",
       "<!-- 59680&#45;&#45;205757 -->\r\n",
       "<g id=\"edge61\" class=\"edge\"><title>59680&#45;&#45;205757</title>\r\n",
       "<path fill=\"none\" stroke=\"black\" d=\"M1159.89,-513.503C1176.81,-510.285 1197.08,-506.661 1215.43,-504 1382.2,-479.827 1582.18,-461.633 1667.08,-454.408\"/>\r\n",
       "</g>\r\n",
       "<!-- 59680&#45;&#45;234463 -->\r\n",
       "<g id=\"edge62\" class=\"edge\"><title>59680&#45;&#45;234463</title>\r\n",
       "<path fill=\"none\" stroke=\"black\" d=\"M1125.95,-504.023C1131.62,-471.442 1138.68,-399.852 1101.43,-360 1070.56,-326.963 935.95,-313.629 871.317,-309.057\"/>\r\n",
       "</g>\r\n",
       "<!-- 70754 -->\r\n",
       "<g id=\"node40\" class=\"node\"><title>70754</title>\r\n",
       "<ellipse fill=\"none\" stroke=\"black\" cx=\"1708.43\" cy=\"-738\" rx=\"43.8539\" ry=\"18\"/>\r\n",
       "<text text-anchor=\"middle\" x=\"1708.43\" y=\"-736.1\" font-family=\"Times New Roman,serif\" font-size=\"8.00\">Dimitris_Milioris</text>\r\n",
       "</g>\r\n",
       "<!-- 70754&#45;&#45;205757 -->\r\n",
       "<g id=\"edge64\" class=\"edge\"><title>70754&#45;&#45;205757</title>\r\n",
       "<path fill=\"none\" stroke=\"black\" d=\"M1708.43,-719.966C1708.43,-669.218 1708.43,-519.407 1708.43,-468.306\"/>\r\n",
       "</g>\r\n",
       "<!-- 70754&#45;&#45;270369 -->\r\n",
       "<g id=\"edge65\" class=\"edge\"><title>70754&#45;&#45;270369</title>\r\n",
       "<path fill=\"none\" stroke=\"black\" d=\"M1664.75,-736.435C1429.14,-732.989 316.462,-711.504 204.435,-612 118.865,-535.996 174.371,-438.736 257.435,-360 327.928,-293.179 440.207,-258.016 498.51,-243.396\"/>\r\n",
       "</g>\r\n",
       "<!-- 70754&#45;&#45;123077 -->\r\n",
       "<g id=\"edge63\" class=\"edge\"><title>70754&#45;&#45;123077</title>\r\n",
       "<path fill=\"none\" stroke=\"black\" d=\"M1748.3,-730.54C1827.78,-717.662 2005.7,-688.832 2091.85,-674.873\"/>\r\n",
       "</g>\r\n",
       "<!-- 80914 -->\r\n",
       "<g id=\"node41\" class=\"node\"><title>80914</title>\r\n",
       "<ellipse fill=\"none\" stroke=\"black\" cx=\"688.435\" cy=\"-594\" rx=\"41.9498\" ry=\"18\"/>\r\n",
       "<text text-anchor=\"middle\" x=\"688.435\" y=\"-592.1\" font-family=\"Times New Roman,serif\" font-size=\"8.00\">Nicolas_Rivierre</text>\r\n",
       "</g>\r\n",
       "<!-- 80914&#45;&#45;205757 -->\r\n",
       "<g id=\"edge67\" class=\"edge\"><title>80914&#45;&#45;205757</title>\r\n",
       "<path fill=\"none\" stroke=\"black\" d=\"M718.829,-581.414C725.529,-579.271 732.652,-577.302 739.435,-576 1013.12,-523.479 1096.36,-612.547 1365.43,-540 1399.59,-530.79 1402.97,-515.493 1436.43,-504 1515.83,-476.728 1613.37,-462.01 1667.43,-455.403\"/>\r\n",
       "</g>\r\n",
       "<!-- 80914&#45;&#45;270369 -->\r\n",
       "<g id=\"edge68\" class=\"edge\"><title>80914&#45;&#45;270369</title>\r\n",
       "<path fill=\"none\" stroke=\"black\" d=\"M681.307,-576.213C655.834,-516.218 569.452,-312.764 543.724,-252.167\"/>\r\n",
       "</g>\r\n",
       "<!-- 80914&#45;&#45;131716 -->\r\n",
       "<g id=\"edge66\" class=\"edge\"><title>80914&#45;&#45;131716</title>\r\n",
       "<path fill=\"none\" stroke=\"black\" d=\"M662.534,-579.669C638.026,-567.054 601.49,-548.249 577.321,-535.809\"/>\r\n",
       "</g>\r\n",
       "<!-- 103386 -->\r\n",
       "<g id=\"node42\" class=\"node\"><title>103386</title>\r\n",
       "<ellipse fill=\"none\" stroke=\"black\" cx=\"2862.43\" cy=\"-666\" rx=\"41.3155\" ry=\"18\"/>\r\n",
       "<text text-anchor=\"middle\" x=\"2862.43\" y=\"-664.1\" font-family=\"Times New Roman,serif\" font-size=\"8.00\">Ricardo_Caferra</text>\r\n",
       "</g>\r\n",
       "<!-- 103386&#45;&#45;205757 -->\r\n",
       "<g id=\"edge71\" class=\"edge\"><title>103386&#45;&#45;205757</title>\r\n",
       "<path fill=\"none\" stroke=\"black\" d=\"M2821.3,-663.903C2686.84,-660.025 2261.34,-645.359 2128.43,-612 2014.2,-583.327 1996.89,-544.892 1886.43,-504 1837.9,-486.032 1780.26,-469.762 1744,-460.123\"/>\r\n",
       "</g>\r\n",
       "<!-- 103386&#45;&#45;656079 -->\r\n",
       "<g id=\"edge72\" class=\"edge\"><title>103386&#45;&#45;656079</title>\r\n",
       "<path fill=\"none\" stroke=\"black\" d=\"M2887.48,-651.574C2920.41,-632.159 2976.12,-592.715 2993.43,-540 3013.26,-479.615 2945.61,-419.714 2909.98,-393.189\"/>\r\n",
       "</g>\r\n",
       "<!-- 103386&#45;&#45;656080 -->\r\n",
       "<g id=\"edge73\" class=\"edge\"><title>103386&#45;&#45;656080</title>\r\n",
       "<path fill=\"none\" stroke=\"black\" d=\"M2841.18,-650.444C2828.89,-640.914 2814.17,-627.397 2805.43,-612 2785.48,-576.82 2786.43,-563.447 2786.43,-523 2786.43,-523 2786.43,-523 2786.43,-449 2786.43,-402.553 2805.64,-350.377 2816.74,-324.093\"/>\r\n",
       "</g>\r\n",
       "<!-- 117575 -->\r\n",
       "<g id=\"node43\" class=\"node\"><title>117575</title>\r\n",
       "<ellipse fill=\"none\" stroke=\"black\" cx=\"2862.43\" cy=\"-594\" rx=\"48.4297\" ry=\"18\"/>\r\n",
       "<text text-anchor=\"middle\" x=\"2862.43\" y=\"-592.1\" font-family=\"Times New Roman,serif\" font-size=\"8.00\">Bertram_Fronhöfer</text>\r\n",
       "</g>\r\n",
       "<!-- 103386&#45;&#45;117575 -->\r\n",
       "<g id=\"edge69\" class=\"edge\"><title>103386&#45;&#45;117575</title>\r\n",
       "<path fill=\"none\" stroke=\"black\" d=\"M2862.43,-647.697C2862.43,-636.846 2862.43,-622.917 2862.43,-612.104\"/>\r\n",
       "</g>\r\n",
       "<!-- 178032 -->\r\n",
       "<g id=\"node44\" class=\"node\"><title>178032</title>\r\n",
       "<ellipse fill=\"none\" stroke=\"black\" cx=\"2937.43\" cy=\"-522\" rx=\"47.16\" ry=\"18\"/>\r\n",
       "<text text-anchor=\"middle\" x=\"2937.43\" y=\"-520.1\" font-family=\"Times New Roman,serif\" font-size=\"8.00\">Marie&#45;Laure_Potet</text>\r\n",
       "</g>\r\n",
       "<!-- 103386&#45;&#45;178032 -->\r\n",
       "<g id=\"edge70\" class=\"edge\"><title>103386&#45;&#45;178032</title>\r\n",
       "<path fill=\"none\" stroke=\"black\" d=\"M2883.74,-650.477C2896.06,-640.96 2910.78,-627.443 2919.43,-612 2932.15,-589.307 2935.95,-558.894 2937.05,-540.14\"/>\r\n",
       "</g>\r\n",
       "<!-- 117575&#45;&#45;205757 -->\r\n",
       "<g id=\"edge75\" class=\"edge\"><title>117575&#45;&#45;205757</title>\r\n",
       "<path fill=\"none\" stroke=\"black\" d=\"M2820.34,-585.149C2728.21,-568.201 2501.64,-527.8 2310.43,-504 2100.64,-477.887 1848.15,-460.046 1750.15,-453.633\"/>\r\n",
       "</g>\r\n",
       "<!-- 117575&#45;&#45;656079 -->\r\n",
       "<g id=\"edge76\" class=\"edge\"><title>117575&#45;&#45;656079</title>\r\n",
       "<path fill=\"none\" stroke=\"black\" d=\"M2864.6,-575.849C2869.65,-535.78 2882.19,-436.383 2887.26,-396.232\"/>\r\n",
       "</g>\r\n",
       "<!-- 117575&#45;&#45;656080 -->\r\n",
       "<g id=\"edge77\" class=\"edge\"><title>117575&#45;&#45;656080</title>\r\n",
       "<path fill=\"none\" stroke=\"black\" d=\"M2860.17,-575.966C2853.43,-525.218 2833.52,-375.407 2826.73,-324.306\"/>\r\n",
       "</g>\r\n",
       "<!-- 117575&#45;&#45;178032 -->\r\n",
       "<g id=\"edge74\" class=\"edge\"><title>117575&#45;&#45;178032</title>\r\n",
       "<path fill=\"none\" stroke=\"black\" d=\"M2879.45,-577.116C2891.73,-565.66 2908.22,-550.263 2920.48,-538.821\"/>\r\n",
       "</g>\r\n",
       "<!-- 178032&#45;&#45;205757 -->\r\n",
       "<g id=\"edge108\" class=\"edge\"><title>178032&#45;&#45;205757</title>\r\n",
       "<path fill=\"none\" stroke=\"black\" d=\"M2891.13,-518.363C2695.41,-507.215 1937.52,-464.048 1750.39,-453.389\"/>\r\n",
       "</g>\r\n",
       "<!-- 178032&#45;&#45;656079 -->\r\n",
       "<g id=\"edge109\" class=\"edge\"><title>178032&#45;&#45;656079</title>\r\n",
       "<path fill=\"none\" stroke=\"black\" d=\"M2931.64,-503.871C2922.42,-476.578 2904.48,-423.52 2895.25,-396.189\"/>\r\n",
       "</g>\r\n",
       "<!-- 178032&#45;&#45;656080 -->\r\n",
       "<g id=\"edge110\" class=\"edge\"><title>178032&#45;&#45;656080</title>\r\n",
       "<path fill=\"none\" stroke=\"black\" d=\"M2942.68,-503.832C2951.15,-472.464 2964.2,-404.983 2935.43,-360 2919.27,-334.722 2887.42,-321.226 2861.96,-314.194\"/>\r\n",
       "</g>\r\n",
       "<!-- 133151&#45;&#45;205757 -->\r\n",
       "<g id=\"edge103\" class=\"edge\"><title>133151&#45;&#45;205757</title>\r\n",
       "<path fill=\"none\" stroke=\"black\" d=\"M2279.65,-579.641C2240.34,-559.885 2162.61,-523.155 2092.43,-504 1970.87,-470.816 1821.69,-457.821 1750.34,-453.234\"/>\r\n",
       "</g>\r\n",
       "<!-- 133151&#45;&#45;864626 -->\r\n",
       "<g id=\"edge104\" class=\"edge\"><title>133151&#45;&#45;864626</title>\r\n",
       "<path fill=\"none\" stroke=\"black\" d=\"M2307.36,-575.849C2311.85,-535.78 2323,-436.383 2327.5,-396.232\"/>\r\n",
       "</g>\r\n",
       "<!-- 133151&#45;&#45;205737 -->\r\n",
       "<g id=\"edge102\" class=\"edge\"><title>133151&#45;&#45;205737</title>\r\n",
       "<path fill=\"none\" stroke=\"black\" d=\"M2294.06,-576.411C2286.41,-565.252 2276.36,-550.604 2268.73,-539.47\"/>\r\n",
       "</g>\r\n",
       "<!-- 133259&#45;&#45;205757 -->\r\n",
       "<g id=\"edge106\" class=\"edge\"><title>133259&#45;&#45;205757</title>\r\n",
       "<path fill=\"none\" stroke=\"black\" d=\"M2156.55,-577.888C2134.14,-557.527 2091.1,-521.792 2047.43,-504 1946.62,-462.923 1816.98,-453.484 1751.05,-451.445\"/>\r\n",
       "</g>\r\n",
       "<!-- 133259&#45;&#45;401021 -->\r\n",
       "<g id=\"edge107\" class=\"edge\"><title>133259&#45;&#45;401021</title>\r\n",
       "<path fill=\"none\" stroke=\"black\" d=\"M2176.6,-575.849C2186.36,-535.68 2210.61,-435.89 2220.32,-395.935\"/>\r\n",
       "</g>\r\n",
       "<!-- 133259&#45;&#45;205737 -->\r\n",
       "<g id=\"edge105\" class=\"edge\"><title>133259&#45;&#45;205737</title>\r\n",
       "<path fill=\"none\" stroke=\"black\" d=\"M2190.46,-578.155C2204.69,-566.436 2224.47,-550.145 2238.85,-538.308\"/>\r\n",
       "</g>\r\n",
       "<!-- 205737&#45;&#45;205757 -->\r\n",
       "<g id=\"edge111\" class=\"edge\"><title>205737&#45;&#45;205757</title>\r\n",
       "<path fill=\"none\" stroke=\"black\" d=\"M2218.75,-513.615C2201.28,-510.418 2180.36,-506.78 2161.43,-504 2010.04,-481.758 1829.07,-462.894 1749.46,-454.983\"/>\r\n",
       "</g>\r\n",
       "<!-- 205737&#45;&#45;393207 -->\r\n",
       "<g id=\"edge112\" class=\"edge\"><title>205737&#45;&#45;393207</title>\r\n",
       "<path fill=\"none\" stroke=\"black\" d=\"M2243.1,-504.711C2218.98,-477.319 2170.61,-422.362 2146.61,-395.099\"/>\r\n",
       "</g>\r\n",
       "<!-- 205737&#45;&#45;401021 -->\r\n",
       "<g id=\"edge113\" class=\"edge\"><title>205737&#45;&#45;401021</title>\r\n",
       "<path fill=\"none\" stroke=\"black\" d=\"M2253.45,-503.871C2247.11,-476.578 2234.78,-423.52 2228.43,-396.189\"/>\r\n",
       "</g>\r\n",
       "<!-- 205737&#45;&#45;864626 -->\r\n",
       "<g id=\"edge114\" class=\"edge\"><title>205737&#45;&#45;864626</title>\r\n",
       "<path fill=\"none\" stroke=\"black\" d=\"M2265.98,-504.153C2279.83,-476.824 2307.05,-423.14 2320.9,-395.825\"/>\r\n",
       "</g>\r\n",
       "</g>\r\n",
       "</svg>\r\n"
      ],
      "text/plain": [
       "<graphviz.dot.Graph at 0x28108862320>"
      ]
     },
     "execution_count": 35,
     "metadata": {},
     "output_type": "execute_result"
    }
   ],
   "source": [
    "g = draw_neighbors(\"Philippe_Jacquet\")\n",
    "g"
   ]
  },
  {
   "cell_type": "markdown",
   "metadata": {},
   "source": [
    "## Question 4\n",
    "\n",
    "Using list comprehensions, compute the list of $t_i$, then $C_l$, $C_g$, and $C_r$ for the DBLP graph.\n",
    "- You can compute the $t_i$ in just one list comprehension (possibly nested).\n",
    "- The computation of $t_i$ should take about 1-10 minutes if you have a clean code\n",
    "    - Check your speed on small scales before launching the full computation.\n",
    "    - Optimize your code!\n",
    "    - you should save the result. Note that a list comprehension returns a Python list, which you may want to turn into a numpy array with *np.array()*."
   ]
  },
  {
   "cell_type": "markdown",
   "metadata": {},
   "source": [
    "**Answer:**"
   ]
  },
  {
   "cell_type": "markdown",
   "metadata": {},
   "source": [
    "## Question 5\n",
    "\n",
    "Discuss the values of $C_r$, $C_l$ and $C_g$. Can you give some explanation?\n",
    "\n",
    "(this a question where you can show your discussion skills, try to say interesting things)"
   ]
  },
  {
   "cell_type": "markdown",
   "metadata": {},
   "source": [
    "**Answer:**"
   ]
  },
  {
   "cell_type": "markdown",
   "metadata": {},
   "source": [
    "## Question 6 (bonus)"
   ]
  },
  {
   "cell_type": "markdown",
   "metadata": {},
   "source": [
    "The DBLP dataset comes from\n",
    "\n",
    "http://konect.uni-koblenz.de/downloads/tsv/dblp_coauthor.tar.bz2\n",
    "\n",
    "The format was not exactly the one used here, so it was converted with the following code."
   ]
  },
  {
   "cell_type": "raw",
   "metadata": {},
   "source": [
    "%pylab inline\n",
    "\n",
    "directory = \"../Datasets/\"\n",
    "dblp_data = directory+\"out.dblp_coauthor\"\n",
    "\n",
    "with open(dblp_data) as f:\n",
    "    edges = zeros([18986618, 2], dtype = int)\n",
    "    n = 0\n",
    "    next(f)\n",
    "    for line in f:\n",
    "        line = [int(s) for s in line.split()]\n",
    "        edges[n, :] = [line[0]-1, line[1]-1]\n",
    "        n += 1\n",
    "edges = edges[edges[:, 1].argsort()]\n",
    "edges = edges[edges[:, 0].argsort(kind='mergesort')]\n",
    "\n",
    "f = open(directory+\"dblp.adja\",'w')\n",
    "\n",
    "c_source, c_dest = edges[0,:]\n",
    "to_write = str(c_dest)\n",
    "\n",
    "for i in range(1, 18986618):\n",
    "    if edges[i,0]>c_source:\n",
    "        f.write(to_write+\"\\n\")\n",
    "        c_source, c_dest = edges[i, :]\n",
    "        to_write = str(c_dest)\n",
    "    elif edges[i,1]>c_dest:\n",
    "        c_dest = edges[i, 1]\n",
    "        to_write += \" \"+str(c_dest)\n",
    "f.write(to_write+\"\\n\")\n",
    "f.close() \n",
    "\n",
    "import codecs\n",
    "df = codecs.open(directory+\"dblp.ids\", \"w\", \"utf-8\")\n",
    "\n",
    "with codecs.open(directory+\"ent.author\", \"r\", \"utf-8\") as f:\n",
    "    for i in range(3):\n",
    "        next(f)\n",
    "    for line in f:\n",
    "        df.write(line.split(\"\\\"\")[1]+\"\\n\") \n",
    "\n",
    "df.close()"
   ]
  },
  {
   "cell_type": "markdown",
   "metadata": {},
   "source": [
    "Sadly, the intern that wrote the code didn't comment it. Can you reverse engineer the code and explain how it works?"
   ]
  },
  {
   "cell_type": "markdown",
   "metadata": {},
   "source": [
    "# 4. Going IMDB (bonus)"
   ]
  },
  {
   "cell_type": "markdown",
   "metadata": {},
   "source": [
    "Try to redo the practical using the IMDB dataset. As it is a bigger dataset, you will have to be cautious.\n",
    "- You can use *Bacon, Kevin*, and *Rochefort, Jean*, *Hallyday, Johnny* as examples.\n",
    "- 2 Go of usable RAM recommended.\n",
    "- Do not compute Question 3.4 for IMDB during the practical!\n",
    "\n"
   ]
  },
  {
   "cell_type": "markdown",
   "metadata": {},
   "source": [
    "**Answer:**"
   ]
  }
 ],
 "metadata": {
  "anaconda-cloud": {},
  "kernelspec": {
   "display_name": "Python [default]",
   "language": "python",
   "name": "python3"
  },
  "language_info": {
   "codemirror_mode": {
    "name": "ipython",
    "version": 3
   },
   "file_extension": ".py",
   "mimetype": "text/x-python",
   "name": "python",
   "nbconvert_exporter": "python",
   "pygments_lexer": "ipython3",
   "version": "3.5.3"
  },
  "nav_menu": {},
  "toc": {
   "colors": {
    "hover_highlight": "#DAA520",
    "running_highlight": "#FF0000",
    "selected_highlight": "#FFD700"
   },
   "moveMenuLeft": true,
   "nav_menu": {
    "height": "398px",
    "width": "252px"
   },
   "navigate_menu": true,
   "number_sections": false,
   "sideBar": true,
   "threshold": 4,
   "toc_cell": false,
   "toc_section_display": "block",
   "toc_window_display": true,
   "widenNotebook": false
  }
 },
 "nbformat": 4,
 "nbformat_minor": 1
}
