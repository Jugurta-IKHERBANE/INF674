{
 "cells": [
  {
   "cell_type": "markdown",
   "metadata": {},
   "source": [
    "# ACN 903 S0: Python in an Eggshell\n",
    "\n",
    "## Céline Comte & Fabien Mathieu"
   ]
  },
  {
   "cell_type": "markdown",
   "metadata": {},
   "source": [
    "In ACN 903, we will often benchmark theoretical results against numerical values. Note that there are two popular, non-compatible, Python branches (2.x and 3.x).  We will use here Python 3. No strong developing skill is required besides defining a function. If you don't know anything about Python, you can use one of the numerous online tutorials. These should bring you up to speed within an hour or less.\n",
    "\n",
    "Just in case, a small survival kit is provided below."
   ]
  },
  {
   "cell_type": "markdown",
   "metadata": {},
   "source": [
    "# 1. IDEs"
   ]
  },
  {
   "cell_type": "markdown",
   "metadata": {},
   "source": [
    "There are multiple IDEs to write code in Python: VI, Emacs, Eclipse...\n",
    "In this course, we will use **Jupyter Notebooks** (formerly known as IPython Notebooks). One of the main advantages of Jupyter over other IDEs is that you can write code in Python and text in Markdown in the same file."
   ]
  },
  {
   "cell_type": "markdown",
   "metadata": {},
   "source": [
    "## 1.1 Jupyter Notebooks"
   ]
  },
  {
   "cell_type": "markdown",
   "metadata": {},
   "source": [
    "*Usage.* In a terminal, go to your working directory and write ``jupyter notebook``. If you are using a computer at Télécom, you may need to specify the path, like ``/cal/softs/anaconda/anaconda3/jupyter notebook``. This command should launch a Jupyter window in your browser, which should display the files of your current directory.\n",
    "\n",
    "You can use Jupyter to edit an existing Notebook (a file with the extension **ipynb**) or create a new one by clicking the button *New* in the upper right corner.\n",
    "\n",
    "To learn how to use Jupyter, use the Help! Just in case, a very few tips:\n",
    "- A notebook is made of cells that contain Python code or comments. More precisely:\n",
    "    - **Markdown** cells allow you to write formatted text (this the format of the current cell). You can write nice LaTeX formulas like $\\int_2^3 x dx =\\frac{5}{2}$.\n",
    "    - **Code** cells should contain the code you wish to evaluate. They are preceded by ``In [X]:`` on the left-hand side of the window. You can use a large range of symbols, such as greek letters. For instance, you can write the letter $\\mu$ by typing ``\\mu`` and then pressing ``Tab`` on the keyboard.\n",
    "    - **Raw** cells are for plain text. They can be very useful to write code without evaluating it, but you won't need them in this course.\n",
    "- Shortcuts are your friends. Go to command mode (**Esc**) and hit **h** to see them.\n",
    "- The advantage of Notebooks is that you can evaluate your code, then change part of it, and evaluate it again... Try in this tutorial!"
   ]
  },
  {
   "cell_type": "markdown",
   "metadata": {},
   "source": [
    "\n",
    "## 1.2 Spyder"
   ]
  },
  {
   "cell_type": "markdown",
   "metadata": {},
   "source": [
    "You are free to use any interface you are comfortable with. If you just begin with Python, Spyder is a nice IDE to start. Spyder has three main ways of evaluating Python expressions.\n",
    "* Use the console (lower right). You can use the console to evaluate simple expressions (**1+1**, **print(\"Toto\")**). Useful to low level debugging (check the value of a variable, the validity of an expression...). Prefer IPython Console.\n",
    "* Evaluate file. Write some Python code in the editor (left side), hit F5 and *voilà*. Recommended for writing fully-automated standalone scripts.\n",
    "* Evaluate cells. Write some Python code in the editor and use **#%%** to delimit some portion of codes, called *cells*. Hitting **Crl+Enter** will evaluate the current cell in the IPython console. Very, very useful to build and evaluate your code interactively in a step-by-step fashion."
   ]
  },
  {
   "cell_type": "markdown",
   "metadata": {},
   "source": [
    "# 2. Basic usage"
   ]
  },
  {
   "cell_type": "markdown",
   "metadata": {},
   "source": [
    "In most languages, the keyword ``end`` is used to tell that a loop/condition/definition ends. In Python, there is no ``end``. Instead, the ranges are defined according to indentation.\n",
    "\n",
    "For example, compare"
   ]
  },
  {
   "cell_type": "code",
   "execution_count": null,
   "metadata": {},
   "outputs": [],
   "source": [
    "x = 0\n",
    "for i in range(5):\n",
    "    x = x + i\n",
    "    print(\"x is \"+str(x))"
   ]
  },
  {
   "cell_type": "markdown",
   "metadata": {},
   "source": [
    "with"
   ]
  },
  {
   "cell_type": "code",
   "execution_count": null,
   "metadata": {},
   "outputs": [],
   "source": [
    "x = 0\n",
    "for i in range(5):\n",
    "    x = x + i\n",
    "print(\"x is \"+str(x))"
   ]
  },
  {
   "cell_type": "markdown",
   "metadata": {},
   "source": [
    "Function definitions start with the keyword ``def``. You can assign default values to parameters, which allows for highly flexible function calls. For example, look at the following:"
   ]
  },
  {
   "cell_type": "code",
   "execution_count": null,
   "metadata": {},
   "outputs": [],
   "source": [
    "def my_division(x = 10, y = 3):\n",
    "    return x/y"
   ]
  },
  {
   "cell_type": "code",
   "execution_count": null,
   "metadata": {},
   "outputs": [],
   "source": [
    "print(my_division(12,4))"
   ]
  },
  {
   "cell_type": "code",
   "execution_count": null,
   "metadata": {},
   "outputs": [],
   "source": [
    "print(my_division())"
   ]
  },
  {
   "cell_type": "code",
   "execution_count": null,
   "metadata": {},
   "outputs": [],
   "source": [
    "print(my_division(12))"
   ]
  },
  {
   "cell_type": "code",
   "execution_count": null,
   "metadata": {},
   "outputs": [],
   "source": [
    "print(my_division(y = 5))"
   ]
  },
  {
   "cell_type": "code",
   "execution_count": null,
   "metadata": {},
   "outputs": [],
   "source": [
    "print(my_division(y = 2, x = 10))"
   ]
  },
  {
   "cell_type": "markdown",
   "metadata": {},
   "source": [
    "Be careful, arguments without a default value must (always!) precede those with a default value in order to avoir ambiguity."
   ]
  },
  {
   "cell_type": "markdown",
   "metadata": {},
   "source": [
    "# 3. Modules"
   ]
  },
  {
   "cell_type": "markdown",
   "metadata": {},
   "source": [
    "One of the strength of Python is the vast amount of available modules.\n",
    "The following modules are highly recommended: ``numpy`` (for a minimum of maths primitives) and ``matplotlib`` (for conveniently displaying the results).\n",
    "A convenient way to load them in Jupyter Notebooks is to use ``%pylab inline``, a *magic command* that loads both modules under the names *np* and *plt* and displays the figures inside the Notebook (otherwise, they may pop-up in a separate window). Once this magic is evaluated, its effect lasts for the whole session.\n",
    "A minimal example:"
   ]
  },
  {
   "cell_type": "code",
   "execution_count": null,
   "metadata": {},
   "outputs": [],
   "source": [
    "%pylab inline"
   ]
  },
  {
   "cell_type": "code",
   "execution_count": null,
   "metadata": {},
   "outputs": [],
   "source": [
    "x = np.arange(0, 5, .1)\n",
    "plt.plot(x, np.sqrt(x), 'r', label = '$\\sqrt{x}$')\n",
    "plt.plot(x, np.log(x+1), 'g', label = '$\\ln (x+1)$')\n",
    "plt.xlabel('$x$')\n",
    "plt.ylabel('$f(x)$')\n",
    "plt.legend(loc = 4)\n",
    "plt.show()"
   ]
  },
  {
   "cell_type": "markdown",
   "metadata": {},
   "source": [
    "*Remark.* The command ``%pylab inline`` also loads ``numpy`` and ``matplotlib`` into the main namespace, so that you don't need to write the prefixes ``np`` and ``plt`` if you want (just try to remember that you are actually calling functions from modules)."
   ]
  },
  {
   "cell_type": "code",
   "execution_count": null,
   "metadata": {},
   "outputs": [],
   "source": [
    "x = arange(0, 5, .1)\n",
    "plot(x, sqrt(x), 'r', label = '$\\sqrt{x}$')\n",
    "plot(x, log(x+1), 'g', label = '$\\ln (x+1)$')\n",
    "xlabel('$x$')\n",
    "ylabel('$f(x)$')\n",
    "legend(loc = 4)\n",
    "show()"
   ]
  },
  {
   "cell_type": "markdown",
   "metadata": {},
   "source": [
    "# 4. A few more tips"
   ]
  },
  {
   "cell_type": "markdown",
   "metadata": {},
   "source": [
    "## 4.1 Import or DIY?"
   ]
  },
  {
   "cell_type": "markdown",
   "metadata": {},
   "source": [
    "Whatever you want to implement, there is probably a module that does all the heavy lifting for you. Must you re-invent the wheel? This is actually a very tricky question. We won't forbid you to use extra modules, but there are things you should ask yourself before making a decision:\n",
    "- Time: Is is faster (for me) to code what I want from scratch or to Google until I find the module (if I am lucky) and then learn how to use it properly.\n",
    "- Bugs: What is the more probable? A bug in my hand-made code or using a module the wrong way (doc badly explained...).\n",
    "- Performance: Will the module be faster than a hand-made code? (short answer: yes if the module brings a lot of pre-compiled stuff in the mix; no if the module brings tons of shinny, totally irrelevant, costly, features to your objects).\n",
    "- Evolution: If I foresee a possible evolution in my code, is the evolved version available in the module? Will it be hard to make my code evolve?\n",
    "- Importance: Are we talking of the main algorithm that will be used to grade you or of some insignificant sub-sub-subfunction totally unrelated to the course?\n",
    "\n",
    "**Additionally, most of the modules you actually need are given in the Notebooks of the practicals, along with explanations.**"
   ]
  },
  {
   "cell_type": "markdown",
   "metadata": {},
   "source": [
    "## 4.2 Avoid loops if you can"
   ]
  },
  {
   "cell_type": "markdown",
   "metadata": {},
   "source": [
    "Python is interpreted, not compiled. As a consequence, ``for`` loops can rapidly become your main bottleneck. Always try to rely on ``numpy`` arrays if it can avoid loops."
   ]
  },
  {
   "cell_type": "code",
   "execution_count": null,
   "metadata": {},
   "outputs": [],
   "source": [
    "import time\n",
    "n = 10000000\n",
    "t = time.time()\n",
    "x = zeros(n)\n",
    "for i in range(n):\n",
    "    x[i] = sqrt(i)\n",
    "print(\"FOR loops: \"+str(time.time()-t)+\" s\")\n",
    "t = time.time()\n",
    "y = sqrt(arange(n))\n",
    "print(\"Numpy: \"+str(time.time()-t)+\" s\")"
   ]
  },
  {
   "cell_type": "markdown",
   "metadata": {},
   "source": [
    "**Remark: if you cannot avoid loop, there are other ways to accelerate your code that will be explained during the courses. Teaser:**"
   ]
  },
  {
   "cell_type": "code",
   "execution_count": null,
   "metadata": {},
   "outputs": [],
   "source": [
    "from numba import jit\n",
    "@jit()\n",
    "def my_loops(n):\n",
    "    x = zeros(n)\n",
    "    for i in range(n):\n",
    "        x[i] = sqrt(i)\n",
    "    return x\n",
    "my_loops(1) # trigger compilation\n",
    "t = time.time()\n",
    "my_loops(n)\n",
    "print(\"FOR loops with jit: \"+str(time.time()-t)+\" s\")\n"
   ]
  },
  {
   "cell_type": "markdown",
   "metadata": {},
   "source": [
    "## 4.3 Reference passing"
   ]
  },
  {
   "cell_type": "markdown",
   "metadata": {},
   "source": [
    "Reference passing can be tricky."
   ]
  },
  {
   "cell_type": "code",
   "execution_count": null,
   "metadata": {},
   "outputs": [],
   "source": [
    "A = [1, 2, 3, 4]\n",
    "B = A\n",
    "A[0] = 0\n",
    "print(A==B)"
   ]
  },
  {
   "cell_type": "code",
   "execution_count": null,
   "metadata": {},
   "outputs": [],
   "source": [
    "A = [1, 2, 3, 4]\n",
    "B = A.copy()\n",
    "A[0] = 0\n",
    "print(A==B)"
   ]
  }
 ],
 "metadata": {
  "language_info": {
   "name": "python",
   "pygments_lexer": "ipython3"
  }
 },
 "nbformat": 4,
 "nbformat_minor": 1
}
